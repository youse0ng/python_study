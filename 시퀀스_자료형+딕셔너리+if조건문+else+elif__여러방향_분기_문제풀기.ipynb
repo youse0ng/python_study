{
  "nbformat": 4,
  "nbformat_minor": 0,
  "metadata": {
    "colab": {
      "private_outputs": true,
      "provenance": [],
      "authorship_tag": "ABX9TyPSfdxz6+6KlPbp/ui78/WR",
      "include_colab_link": true
    },
    "kernelspec": {
      "name": "python3",
      "display_name": "Python 3"
    },
    "language_info": {
      "name": "python"
    }
  },
  "cells": [
    {
      "cell_type": "markdown",
      "metadata": {
        "id": "view-in-github",
        "colab_type": "text"
      },
      "source": [
        "<a href=\"https://colab.research.google.com/github/youse0ng/python_study/blob/main/%EC%8B%9C%ED%80%80%EC%8A%A4_%EC%9E%90%EB%A3%8C%ED%98%95%2B%EB%94%95%EC%85%94%EB%84%88%EB%A6%AC%2Bif%EC%A1%B0%EA%B1%B4%EB%AC%B8%2Belse%2Belif__%EC%97%AC%EB%9F%AC%EB%B0%A9%ED%96%A5_%EB%B6%84%EA%B8%B0_%EB%AC%B8%EC%A0%9C%ED%92%80%EA%B8%B0.ipynb\" target=\"_parent\"><img src=\"https://colab.research.google.com/assets/colab-badge.svg\" alt=\"Open In Colab\"/></a>"
      ]
    },
    {
      "cell_type": "markdown",
      "source": [
        "# 연습문제: 최근 3년간 인구 출력하기\n",
        "\n",
        "리스트 year에 년도, population에 서울시 인구수가 저장되어 있다."
      ],
      "metadata": {
        "id": "hjPt6qIFqMs2"
      }
    },
    {
      "cell_type": "code",
      "source": [
        "year=[2011,2012,2013,2014,2015,2016,2017,2018]\n",
        "population=[10249679,10195318,\n",
        "            10143645,10103233,\n",
        "            10022181,9930616,\n",
        "            9857426,9838892]\n",
        "\n",
        "print(year[5::1])\n",
        "print(year[-3::])\n",
        "print(population[-3:])"
      ],
      "metadata": {
        "id": "br-htiDbsjMP"
      },
      "execution_count": null,
      "outputs": []
    },
    {
      "cell_type": "markdown",
      "source": [
        "# 연습문제: 인덱스가 홀수인 요소 출력하기\n",
        "\n",
        "튜플 n에서 인덱스가 홀수인 요소들이 출력되게 만드세요."
      ],
      "metadata": {
        "id": "S6m0zpritaBv"
      }
    },
    {
      "cell_type": "code",
      "source": [
        "n =-32,75,97,-10,9,32,4,-15,0,76,14,2\n",
        "\n",
        "print(n[1::2])\n",
        "print(n[len(n)-11::2])\n",
        "print(n[1:12:2])"
      ],
      "metadata": {
        "id": "ACgl4I18tkRC"
      },
      "execution_count": null,
      "outputs": []
    },
    {
      "cell_type": "markdown",
      "source": [
        "## 심사문제: 리스트의 마지막 부분 삭제하기\n",
        "\n",
        "리스트의 마지막 요소 5개를 삭제한 뒤 튜플로 출력하기"
      ],
      "metadata": {
        "id": "_Fgrni7wuW_n"
      }
    },
    {
      "cell_type": "code",
      "source": [
        "x=input().split()\n",
        "\n",
        "del x[-5::]\n",
        "print(tuple(x))"
      ],
      "metadata": {
        "id": "8QsWDFReum5u"
      },
      "execution_count": null,
      "outputs": []
    },
    {
      "cell_type": "markdown",
      "source": [
        "# 심사문제: 문자열에서 인덱스가 홀수인 문자와 짝수인 문자 연결하기\n",
        "\n",
        "첫 번째 문자열에서 인덱스가 홀수인 문자와 두 번째 문자열에서 인덱스가 짝수인 문자를 연결하여 출력하는 프로그램을 짜라"
      ],
      "metadata": {
        "id": "PTozQLr7vKMA"
      }
    },
    {
      "cell_type": "code",
      "source": [
        "x=input()\n",
        "y=input()\n",
        "answer=x[1::2]+y[::2]\n",
        "print(answer)"
      ],
      "metadata": {
        "id": "zs0TesFOvajR"
      },
      "execution_count": null,
      "outputs": []
    },
    {
      "cell_type": "markdown",
      "source": [
        "# dict로 딕셔너리 만들기\n",
        "\n",
        "* dict(키=값,키=값)\n",
        "* dict([(키,값),(키,값)])\n",
        "* dict(zip([키,키],[값,값]))\n",
        "* dict({키:값,키:값})"
      ],
      "metadata": {
        "id": "Ew6cDcv3zubR"
      }
    },
    {
      "cell_type": "code",
      "source": [
        "lux=dict(마나=390,체력=530)\n",
        "print(lux)"
      ],
      "metadata": {
        "id": "dVd62nX70Sst"
      },
      "execution_count": null,
      "outputs": []
    },
    {
      "cell_type": "code",
      "source": [
        "lux1=dict([('체력',550),('마나',390)])\n",
        "lux1"
      ],
      "metadata": {
        "id": "YU4VFjJZ0dwo"
      },
      "execution_count": null,
      "outputs": []
    },
    {
      "cell_type": "code",
      "source": [
        "lux2=dict(zip(['체력','마나'],[550,390]))\n",
        "lux2"
      ],
      "metadata": {
        "id": "tOZf4HP80q_e"
      },
      "execution_count": null,
      "outputs": []
    },
    {
      "cell_type": "code",
      "source": [
        "lux3=dict({'체력':550,'마나':390})\n",
        "lux3"
      ],
      "metadata": {
        "id": "uonM2XEA00yV"
      },
      "execution_count": null,
      "outputs": []
    },
    {
      "cell_type": "markdown",
      "source": [
        "# 연습문제: 딕셔너리에 게임 캐릭터 능력치 저장하기\n",
        "\n",
        "게임 캐릭터의 체력과 이동 속도가 출력되게 만드세요."
      ],
      "metadata": {
        "id": "nYArOmYj1u0V"
      }
    },
    {
      "cell_type": "code",
      "source": [
        "camille={\n",
        "    'health':575.6,\n",
        "    'health_gen':1.7,\n",
        "    'mana':338.8,\n",
        "    'mana_regen':1.63,\n",
        "    'melee':125,\n",
        "    'attack_damage':60,\n",
        "    'attack_speed':0.625,\n",
        "    'armor':26,\n",
        "    'magic_resistance':32.1,\n",
        "    'movemnet_speed':340\n",
        "    }\n",
        "print(camille['health'],camille['movemnet_speed'])"
      ],
      "metadata": {
        "id": "A1bDwJoI14PD"
      },
      "execution_count": null,
      "outputs": []
    },
    {
      "cell_type": "markdown",
      "source": [
        "# 심사문제: 딕셔너리에 게임 캐릭터 능력치 저장하기\n",
        "\n",
        "입력된 첫 번째 줄은 키, 두 번째 줄은 값으로 하여 딕셔너리를 생성한 뒤 딕셔너리를 출력"
      ],
      "metadata": {
        "id": "SazlpGxu14OV"
      }
    },
    {
      "cell_type": "code",
      "source": [
        "key_list=input('키 입력하세요.: ').split()\n",
        "value_list=map(float,input('값 입력하세요.: ').split())\n",
        "\n",
        "dictionary=dict(zip(key_list,value_list))\n",
        "dictionary"
      ],
      "metadata": {
        "id": "w9gXwqSW2jEG"
      },
      "execution_count": null,
      "outputs": []
    },
    {
      "cell_type": "markdown",
      "source": [
        "# 연습 문제: if 조건문 사용하기\n",
        "\n",
        "x의 값이 10이 아닐 때 'ok'가 출력되게 하라"
      ],
      "metadata": {
        "id": "R-K2CULD48Nt"
      }
    },
    {
      "cell_type": "code",
      "source": [
        "x=5\n",
        "\n",
        "if x != 10:\n",
        "  print('okay')"
      ],
      "metadata": {
        "id": "l1YQy5wa6pbF"
      },
      "execution_count": null,
      "outputs": []
    },
    {
      "cell_type": "markdown",
      "source": [
        "# 심사문제: 온라인 할인 쿠폰 시스템 만들기\n",
        "\n",
        "가격과 쿠폰 이름이 각 줄에 입력됩니다.\n",
        "\n",
        "Cash3000은 3000원 할인\n",
        "Cash5000은 5000원 할인\n",
        "\n",
        "쿠폰에 따라 할인된 가격을 출력하는 프로그램을 만드세요."
      ],
      "metadata": {
        "id": "GR-AiEdr61PI"
      }
    },
    {
      "cell_type": "code",
      "source": [
        "cash=int(input())\n",
        "coupon=input()\n",
        "\n",
        "if coupon == 'Cash3000':\n",
        "  print(cash-3000)\n",
        "\n",
        "if coupon == 'Cash5000':\n",
        "  print(cash-5000)"
      ],
      "metadata": {
        "id": "Df4K7rIu7FoE"
      },
      "execution_count": null,
      "outputs": []
    },
    {
      "cell_type": "markdown",
      "source": [
        "# 변수 = 값 if 조건문 else"
      ],
      "metadata": {
        "id": "15zFASgf-Ji9"
      }
    },
    {
      "cell_type": "code",
      "source": [
        "x=5\n",
        "y=x if x == 10 else 0\n",
        "print(y)"
      ],
      "metadata": {
        "id": "BFvTs_Mn-v8c"
      },
      "execution_count": null,
      "outputs": []
    },
    {
      "cell_type": "markdown",
      "source": [
        "# if 조건문에 숫자 지정하기\n",
        "\n",
        "정수(2진수, 10진수, 16진수), 실수와 관계없이 0이면 거짓, 0이 아닌 수는 참입니다."
      ],
      "metadata": {
        "id": "Uv_T5VzV_IVh"
      }
    },
    {
      "cell_type": "code",
      "source": [
        "if 0:\n",
        "  print('참')\n",
        "else:\n",
        "  print('거짓')\n",
        "# 거짓\n",
        "if 1:\n",
        "  print('참')\n",
        "else:\n",
        "  print('거짓')\n",
        "# 참\n",
        "if 0x1F:\n",
        "  print('참')\n",
        "else:\n",
        "  print('거짓')\n",
        "\n",
        "if 0b1000:\n",
        "  print('참')\n",
        "else:\n",
        "  print('거짓')\n",
        "\n",
        "if 13.5:\n",
        "  print('참')\n",
        "else:\n",
        "  print('거짓')\n",
        "# 참"
      ],
      "metadata": {
        "id": "wEdtKVbf_LQM"
      },
      "execution_count": null,
      "outputs": []
    },
    {
      "cell_type": "markdown",
      "source": [
        "# 조건식을 여러 개 지정하기 (논리 연산자: and,or,not)"
      ],
      "metadata": {
        "id": "D4hkZF1j_9P0"
      }
    },
    {
      "cell_type": "code",
      "source": [
        "x=10\n",
        "y=20\n",
        "\n",
        "if x==10 and y==20:\n",
        "  print('x와 y가 10과 20입니다.')\n",
        "else:\n",
        "  print('거짓!')"
      ],
      "metadata": {
        "id": "EHO6buJHApyM"
      },
      "execution_count": null,
      "outputs": []
    },
    {
      "cell_type": "markdown",
      "source": [
        "# 중첩 if 조건문과 논리 연산자\n",
        "\n",
        "if문의 논리 연산자는 어디에 사용할까?\n",
        "\n",
        "여러 조건을 판단할 때 if를 계속 나열하여 중첩 if 조건문으로 만드는 경우가 많다"
      ],
      "metadata": {
        "id": "cUoy80VPAzu1"
      }
    },
    {
      "cell_type": "code",
      "source": [
        "x=15"
      ],
      "metadata": {
        "id": "gKD-plUCBomB"
      },
      "execution_count": null,
      "outputs": []
    },
    {
      "cell_type": "code",
      "source": [
        "if x>0: # 0보다 크고\n",
        "  if x<20: # 20보다 작은 수 (1~19)\n",
        "    print('20보다 작은 양수입니다.')"
      ],
      "metadata": {
        "id": "zhsMvJCJBDLj"
      },
      "execution_count": null,
      "outputs": []
    },
    {
      "cell_type": "markdown",
      "source": [
        "이런 중첩 if 조건문은 and 논리 연산자를 사용해서 if하나로 줄일 수 있다."
      ],
      "metadata": {
        "id": "8b4hR3rCBaa7"
      }
    },
    {
      "cell_type": "code",
      "source": [
        "if x > 0 and x < 20:\n",
        "  print('20보다 작은 양수입니다.')"
      ],
      "metadata": {
        "id": "GzSIhFzaBQ6U"
      },
      "execution_count": null,
      "outputs": []
    },
    {
      "cell_type": "markdown",
      "source": [
        "# 연습문제: 합격 여부 판단하기\n",
        "\n",
        "A 기업의 입사 시험은 필기시험 점수가 80점 이상이면서 코딩 시험을 통과해야 합격이라고 정했다.\n",
        "\n",
        "True,False로 합불을 출력해라"
      ],
      "metadata": {
        "id": "NT5KFV_-BrN7"
      }
    },
    {
      "cell_type": "code",
      "source": [
        "written_test=75\n",
        "coding_test=True\n",
        "\n",
        "if written_test >= 80 and coding_test==True:\n",
        "  print('합격')\n",
        "else:\n",
        "  print(\"불합격\")"
      ],
      "metadata": {
        "id": "xTc73GdKCluW"
      },
      "execution_count": null,
      "outputs": []
    },
    {
      "cell_type": "markdown",
      "source": [
        "# 심사문제: 합격 여부 판단하기\n",
        "\n",
        "국어, 영어, 수학, 과학 점수가 입력된다.\n",
        "\n",
        "네 과목의 평균 점수가 80점 이상일 때 합격이라고 정했습니다.\n",
        "\n",
        "평균 점수에 따라 '합격', '불합격'을 출력하는 프로그램을 만드시오.\n",
        "\n",
        "단, 점수는 0점 부터 100점까지만 입력받을 수 있으며 범위를 벗어난다면 '잘못된 점수'를 출력하고 합격 불합격을 출력하라.\n",
        "\n"
      ],
      "metadata": {
        "id": "E35Jmm7IC-D9"
      }
    },
    {
      "cell_type": "code",
      "source": [
        "국어,영어,수학,과학=map(int,input().split())\n",
        "\n",
        "if 국어 > 100 or 국어 < 0:\n",
        "  print('잘못된 점수')\n",
        "if 영어 > 100 or 영어 < 0:\n",
        "  print('잘못된 점수')\n",
        "if 수학 > 100 or 수학 < 0:\n",
        "  print('잘못된 점수')\n",
        "if 과학 > 100 or 과학 < 0:\n",
        "  print('잘못된 점수')\n",
        "\n",
        "average = (국어+영어+수학+과학) // 4\n",
        "\n",
        "if average >= 80:\n",
        "  print('합격')\n",
        "else:\n",
        "  print('불합격')"
      ],
      "metadata": {
        "id": "ot707X5aDbbs"
      },
      "execution_count": null,
      "outputs": []
    },
    {
      "cell_type": "markdown",
      "source": [
        "# if,elif,else 모두 사용하기\n",
        "\n",
        "변수 x가 11과 20 사이면 '11-20', 21과 30 사이면 '21-30', 아무것도 해당하지 않으면 '아무것도 해당하지 않음'이 출력되게 만들어라."
      ],
      "metadata": {
        "id": "4PqF-HB0MKM6"
      }
    },
    {
      "cell_type": "code",
      "source": [
        "x=int(input())\n",
        "\n",
        "if 11<=x<=20:\n",
        "  print('11~20')\n",
        "elif 21<=x<=30:\n",
        "  print('21~30')\n",
        "else:\n",
        "  print('아무 것도 해당하지 않음')"
      ],
      "metadata": {
        "id": "EuZSAuZoN2mS"
      },
      "execution_count": null,
      "outputs": []
    },
    {
      "cell_type": "markdown",
      "source": [
        "# 심사문제: 교통카드 시스템 만들기\n",
        "\n",
        "표준 나이 입력된다(입력 값은 7 이상 입력됨)\n",
        "\n",
        "시내버스 요금은 다음과 같다\n",
        "\n",
        "* 어린이(7세 이상 12세 이하): 650원\n",
        "* 청소년(13세 이상 18세 이하): 1050원\n",
        "* 어른(19세 이상): 1250원\n",
        "\n",
        "나이에 맞게 요금을 차감한 뒤 잔액이 출력되게 해라"
      ],
      "metadata": {
        "id": "PwUiSqTWOa-D"
      }
    },
    {
      "cell_type": "code",
      "source": [
        "age=int(input())\n",
        "balance=9000 # 현재 교통카드 잔액\n",
        "\n",
        "if 7<=age<=12:\n",
        "  print(balance-650)\n",
        "elif 13<=age<=18:\n",
        "  print(balance-1050)\n",
        "elif 19<=age:\n",
        "  print(balance - 1250)\n",
        "else:\n",
        "  print('None')"
      ],
      "metadata": {
        "id": "KfCmg3-sO1yi"
      },
      "execution_count": null,
      "outputs": []
    }
  ]
}