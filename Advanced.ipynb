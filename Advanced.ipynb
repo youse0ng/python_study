{
  "nbformat": 4,
  "nbformat_minor": 0,
  "metadata": {
    "colab": {
      "private_outputs": true,
      "provenance": [],
      "authorship_tag": "ABX9TyN1ZRJu6CWwHdzEtJPpyH0W",
      "include_colab_link": true
    },
    "kernelspec": {
      "name": "python3",
      "display_name": "Python 3"
    },
    "language_info": {
      "name": "python"
    }
  },
  "cells": [
    {
      "cell_type": "markdown",
      "metadata": {
        "id": "view-in-github",
        "colab_type": "text"
      },
      "source": [
        "<a href=\"https://colab.research.google.com/github/youse0ng/python_study/blob/main/Advanced.ipynb\" target=\"_parent\"><img src=\"https://colab.research.google.com/assets/colab-badge.svg\" alt=\"Open In Colab\"/></a>"
      ]
    },
    {
      "cell_type": "markdown",
      "source": [
        "# 클래스 상속 사용하기\n",
        "\n",
        "클래스 상속은 물려받은 기능을 유지한 채로 다른 기능을 추가할 때 사용하는 기능이다.\n",
        "\n",
        "* 기반 클래스(base class): 기능을 물려주는 클래스\n",
        "* 파생 클래스(derived class): 상속을 받아 새롭게 만드는 클래스\n",
        "\n",
        "보통 기반 클래스를 부모 클래스, 슈퍼 클래스\n",
        "\n",
        "파생 클래스를 자식 클래스, 서브 클래스라고 부른다.\n",
        "\n",
        "새로운 기능이 필요할 때마다 계속 클래스를 만든다면 중복되는 부분을 반복해서 만들어야하는 비용의 문제가 발생해서 상속이라는 개념을 도입하여\n",
        "\n",
        "상속을 통해 기존 기능을 재사용할 수 있도록 만든다."
      ],
      "metadata": {
        "id": "0jQuoLHMjf0m"
      }
    },
    {
      "cell_type": "markdown",
      "source": [
        "## 사람 클래스로 학생 클래스를 만들기\n",
        "\n",
        "클래스 상속은 다음과 같이 클래스를 만들 때 ()를 붙이고 안에 기반 클래스의 이름을 넣는다."
      ],
      "metadata": {
        "id": "Jggiq97yl-n6"
      }
    },
    {
      "cell_type": "code",
      "source": [
        "class 기반클래스이름:\n",
        "  '코드'\n",
        "\n",
        "class 파생클래스이름(기반클래스이름):\n",
        "  '코드'"
      ],
      "metadata": {
        "id": "n-l5W9cGmlDX"
      },
      "execution_count": null,
      "outputs": []
    },
    {
      "cell_type": "code",
      "source": [
        "class Person:\n",
        "  def greeting(self):\n",
        "    print('안녕하세요')\n",
        "\n",
        "class Student(Person):\n",
        "  def study(self):\n",
        "    print('공부하기')\n",
        "\n",
        "james=Student()\n",
        "james.study() # 기반 클래스의 Person의 메소드 호출\n",
        "james.greeting() # 파생 클래스의 추가한 study 메소드 호출"
      ],
      "metadata": {
        "id": "Ngi6TJc8mtfW"
      },
      "execution_count": null,
      "outputs": []
    },
    {
      "cell_type": "markdown",
      "source": [
        "클래스 상속은 기반 클래스의 기능을 유지하면서 새로운 기능을 추가할 수 있다.\n",
        "\n",
        "특히 클래스 상속은 연관되면서 동등한 기능일 때 사용한다.\n",
        "\n",
        "즉, 학생은 사람이므로 연관된 개념이고, 학생은 사람에서 역할만 확장되었을 뿐 동등한 개념이다."
      ],
      "metadata": {
        "id": "QZCxbSDqqM9t"
      }
    },
    {
      "cell_type": "markdown",
      "source": [
        "### 상속 관계 확인하기\n",
        "\n",
        "issubclass(파생클래스, 기반클래스)를 통해 클래스의 상속 관계를 확인하고 싶을 때는 issubclass를 사용한다.\n",
        "\n",
        "즉, 클래스가 기반 클래스의 파생 클래스인지 확인한다.\n",
        "\n",
        "* 기반 클래스의 상속 클래스가 맞으면 True\n",
        "* 아니라면 False"
      ],
      "metadata": {
        "id": "TzAPKZmkEjvJ"
      }
    },
    {
      "cell_type": "code",
      "source": [
        "class Person:\n",
        "  pass\n",
        "\n",
        "class Student(Person):\n",
        "  pass\n",
        "\n",
        "print(issubclass(Student,Person))"
      ],
      "metadata": {
        "id": "lyqg4XIZE6Re"
      },
      "execution_count": null,
      "outputs": []
    },
    {
      "cell_type": "markdown",
      "source": [
        "## 상속 관계와 포함 관계 알아보기\n",
        "\n",
        "- 상속 관계\n",
        "  Student는 Person이므로 같은 종류이다.\n",
        "\n",
        "  상속은 명확하게 같은 종류이며 동등한 관계일 때 사용\n",
        "\n",
        "- 포함 관계\n",
        "  학생 클래스가 아니라 사람 목록을 관리하는 클래스를 만든다면 어떻게 해야 하나?\n",
        "  \n",
        "  다음과 같이 리스트 속성에 Person 인스턴스를 넣어서 관리하면된다.\n"
      ],
      "metadata": {
        "id": "gXaIm9FKE7MX"
      }
    },
    {
      "cell_type": "code",
      "source": [
        "class Person:\n",
        "  def greeting(self):\n",
        "    print('안녕하세요')\n",
        "\n",
        "class PersonList:\n",
        "  def __init__(self):\n",
        "    self.person_list=[]\n",
        "\n",
        "  def append_person(self,person):\n",
        "    self.person_list.append(person)"
      ],
      "metadata": {
        "id": "e0-DbOWrE7KW"
      },
      "execution_count": null,
      "outputs": []
    },
    {
      "cell_type": "markdown",
      "source": [
        "여기서는 상속 하지 않고 인스턴스를 넣어서 관리하므로 Personlist가 Person을 포함하고 있다.\n",
        "\n",
        "그러므로 상속 관계(동등한 관계)가아니라 포함 관계이다.\n"
      ],
      "metadata": {
        "id": "iI5RD7KGE7G_"
      }
    },
    {
      "cell_type": "markdown",
      "source": [
        "## 기반 클래스의 속성 사용하기\n",
        "\n",
        "기반 클래스에 들어있는 인스턴스 속성을 사용해보자.\n",
        "\n",
        "Person 클래스에 hello 속성이 있고 Person 클래스를 상속받아 Student 클래스를 만든다.\n",
        "\n",
        "그 다음 student로 인스턴스를 만들고 hello 속성에 접근해보저"
      ],
      "metadata": {
        "id": "KSKzn1DrE7En"
      }
    },
    {
      "cell_type": "code",
      "source": [
        "class Person:\n",
        "  def __init__(self):\n",
        "    print('Person __init__')\n",
        "    self.hello='안녕하세요'\n",
        "\n",
        "class Student(Person):\n",
        "  def __init__(self):\n",
        "    print('Student__init__')\n",
        "    self.school='파이썬 도장 코딩'\n",
        "\n",
        "james=Student()\n",
        "print(james.school)\n",
        "print(james.hello) # 오류가 날 것이다 그 이유는 Person(기반 클래스)의 __init__ 메소드가 호출되지 않았기 때문이다"
      ],
      "metadata": {
        "id": "VU472OfkE7Co"
      },
      "execution_count": null,
      "outputs": []
    },
    {
      "cell_type": "code",
      "source": [
        "james=Person()\n",
        "james.hello"
      ],
      "metadata": {
        "id": "ruO7tsHyE7An"
      },
      "execution_count": null,
      "outputs": []
    },
    {
      "cell_type": "markdown",
      "source": [
        "## super()로 기반 클래스 초기화하기\n",
        "super()를 사용해서 기반 클래스의 `__init__` 메소드를 호출한다.\n",
        "\n",
        "* super().메소드()"
      ],
      "metadata": {
        "id": "nlGzQvqvE6-m"
      }
    },
    {
      "cell_type": "code",
      "source": [
        "class Person:\n",
        "  def __init__(self):\n",
        "    print('Person __init__')\n",
        "    self.hello='안녕하세여'\n",
        "\n",
        "class Student(Person):\n",
        "  def __init__(self):\n",
        "    print('Student__init__')\n",
        "    super().__init__() # 기반 클래스의 __init__ 메소드를 student __init__에 초기화함\n",
        "    self.school='파이썬 도장 코딩'\n",
        "\n",
        "james=Student()\n",
        "print(james.school)\n",
        "print(james.hello) # 기반 클래스의 Person의 속성인 hello가 잘 출력된다."
      ],
      "metadata": {
        "id": "3lsPQuIGE67H"
      },
      "execution_count": null,
      "outputs": []
    },
    {
      "cell_type": "markdown",
      "source": [
        "`super().__init__()`과 같이 기반 클래스 Person의 `__init__` 메소드를 호출해주면 기반 클래스가 초기화되어서 속성이 만들어진다."
      ],
      "metadata": {
        "id": "t2DG91jjE648"
      }
    },
    {
      "cell_type": "markdown",
      "source": [
        "## 기반 클래스를 초기화하지 않아도 되는 경우\n",
        "\n",
        "파생 클래스에서 `__init__` 메소드를 생략한다면 기반 클래스의 `__init__`이 자동으로 호출되므로 super()는 사용하지 않아도 된다."
      ],
      "metadata": {
        "id": "HQPev9T_E624"
      }
    },
    {
      "cell_type": "code",
      "source": [
        "class Person:\n",
        "  def __init__(self):\n",
        "    print(Person.__init__)\n",
        "    self.hello='안녕하세여'\n",
        "\n",
        "class Student(Person):\n",
        "  pass\n",
        "\n",
        "james=Student()\n",
        "print(james.hello)"
      ],
      "metadata": {
        "id": "IFPaIxg5E60-"
      },
      "execution_count": null,
      "outputs": []
    },
    {
      "cell_type": "markdown",
      "source": [
        "파생 클래스에 `__init__`메소드가 없다면 기반 클래스의 `__init__`이 자동으로 호출되므로 기반 클래스의 속성을 사용할 수 있다."
      ],
      "metadata": {
        "id": "xsrb2xfRE6zG"
      }
    },
    {
      "cell_type": "markdown",
      "source": [
        "## 메소드 오버라이딩 하기\n",
        "\n",
        "파새 클래스에서 기반 클래스의 메소드를 새로 정의하는 메소드 오버라이딩에 대해 알아보자"
      ],
      "metadata": {
        "id": "ViZJIUNzE6xP"
      }
    },
    {
      "cell_type": "markdown",
      "source": [
        "기반 클래스에도 greeting 메소드를 입력하고 파생 클래스에도 greeting 메소드를 있는 상태로 만들고 파생클래스를 호출하고 인스턴스.greeting() 을 하면 무슨일이 일어날까??\n",
        "\n",
        "동시에 출력될까요? 아닐까요?"
      ],
      "metadata": {
        "id": "O4FZcBXYMaQb"
      }
    },
    {
      "cell_type": "code",
      "source": [
        "class Person:\n",
        "  def greeting(self):\n",
        "    print('안녕하세여')\n",
        "\n",
        "class Student(Person):\n",
        "  def greeting(self):\n",
        "    print('안녕하세요. 저는 파이썬 코딩 도장 학생입니다.')\n",
        "\n",
        "james=Student()\n",
        "james.greeting() # Student의 메소드를 출력"
      ],
      "metadata": {
        "id": "SqjpjjXWE6ve"
      },
      "execution_count": null,
      "outputs": []
    },
    {
      "cell_type": "markdown",
      "source": [
        "오버라이딩이란 무시하다 우선하다라는 뜻이고\n",
        "\n",
        "파이썬에서 오버라이드란 말 그대로 기반 클래스의 메소드를 무시하고 Student 클래스에서 새로운 greeting 메소드를 만든다는 의미이다."
      ],
      "metadata": {
        "id": "f-RvAWiEE6tW"
      }
    },
    {
      "cell_type": "markdown",
      "source": [
        "왜 메소드 오버라이딩을 사용할까?\n",
        "\n",
        "- 보통 프로그램에서 어떤 기능이 같은 메소드 이름으로 계속 사용되어야 할 때 메소드 오버라이딩을 활용한다.\n"
      ],
      "metadata": {
        "id": "aVXy6db3E6re"
      }
    },
    {
      "cell_type": "markdown",
      "source": [
        "위에서 보면,\n",
        "- Person의 greeting 메소드의 print('안녕하세요')\n",
        "- Student의 greeting 메소드의 print('안녕하세요. 저는 파이썬 코딩 도장 학생입니다.')\n",
        "은 '안녕하세요'가 중복된다.\n",
        "\n",
        "이럴 때는 기반 클래스의 메소드를 재활용하면 중복을 줄일 수 있다.\n",
        "supepr()로 기반 클래스의 메소드를 호출해보자"
      ],
      "metadata": {
        "id": "8m7V6vS4N9Ex"
      }
    },
    {
      "cell_type": "code",
      "source": [
        "class Person:\n",
        "  def greeting(self):\n",
        "    print('안녕하세요')\n",
        "\n",
        "class Student(Person):\n",
        "  def greeting(self):\n",
        "    super().greeting() # 기반 클래스의 메소드 호출하여 중복을 줄임\n",
        "    print('저는 파이썬 코딩 도장 학생입니다.')\n",
        "\n",
        "james=Student()\n",
        "james.greeting()"
      ],
      "metadata": {
        "id": "BiQbaVc3PjE8"
      },
      "execution_count": null,
      "outputs": []
    },
    {
      "cell_type": "markdown",
      "source": [
        "Student의 greeting에서 super().greeting()으로 Person의 greeting을 호출했다.\n",
        "\n",
        "즉, 중복되는 기능은 파생 클래스에서 다시 만들지 않고 기반 클래스의 기능을 사용하면된다."
      ],
      "metadata": {
        "id": "5YstFGVQPjC0"
      }
    },
    {
      "cell_type": "markdown",
      "source": [
        "## 다중 상속 사용하기\n",
        "\n",
        "다중 상속은 여러 기반 클래스로부터 상속받아서 파생 클래스를 만드는 방법이다.\n",
        "\n",
        "클래스를 만들 때 ()안에 클래스 이름을 ,(콤마)로 구분해서 넣는다."
      ],
      "metadata": {
        "id": "fv06fWPXPjAy"
      }
    },
    {
      "cell_type": "code",
      "source": [
        "class 기반클래스이름1:\n",
        "  '코드'\n",
        "class 기반클래스이름2:\n",
        "  '코드'\n",
        "\n",
        "class 파생클래스이름(기반클래스이름1,기반클래스이름2):\n",
        "  pass"
      ],
      "metadata": {
        "id": "DzAIeAHZPi_N"
      },
      "execution_count": null,
      "outputs": []
    },
    {
      "cell_type": "code",
      "source": [
        "class Person:\n",
        "  def greeting(self):\n",
        "    print('안녕')\n",
        "\n",
        "class University:\n",
        "  def manage_credit(self):\n",
        "    print('학점 관리')\n",
        "\n",
        "class Undergraduate(Person,University):\n",
        "  def study(self):\n",
        "    print('공부하기')\n",
        "\n",
        "james=Undergraduate()\n",
        "james.greeting() # 기반클래스 Person의 greeting 메소드 호출\n",
        "james.manage_credit() # 기반 클래스 University의 manage_credit 호출\n",
        "james.study() # 파생 클래스의 study 메소드 호출"
      ],
      "metadata": {
        "id": "pIMUUIquPi8y"
      },
      "execution_count": null,
      "outputs": []
    },
    {
      "cell_type": "markdown",
      "source": [
        "이렇게 class Undergraduate(Person,University):와 같이 괄호 안에 Person과 University를 콤마로 구분해서 넣으면 두 기반 클래스의 기능을 모두 상속받는다."
      ],
      "metadata": {
        "id": "w3IcKEpjPi64"
      }
    },
    {
      "cell_type": "markdown",
      "source": [
        "## 다이아몬드 상속"
      ],
      "metadata": {
        "id": "cwPlxMBMPi4-"
      }
    },
    {
      "cell_type": "code",
      "source": [
        "class A:\n",
        "  def greeting(self):\n",
        "    print('안녕하세요 A입니다.')\n",
        "\n",
        "class B(A):\n",
        "  def greeting(self):\n",
        "    print('안녕하세요 B입니다.')\n",
        "\n",
        "class C(A):\n",
        "  def greeting(self):\n",
        "    print('안녕하세요 C입니다.')\n",
        "\n",
        "class D(B,C):\n",
        "  pass\n",
        "\n",
        "x=D()\n",
        "x.greeting() # 안녕하세요 B입니다."
      ],
      "metadata": {
        "id": "yVtPwFeRPi3J"
      },
      "execution_count": null,
      "outputs": []
    },
    {
      "cell_type": "markdown",
      "source": [
        "그렇다면 어떤 클래스의 greeting을 출력할 것이냐 문제가 된다.\n",
        "다이아몬드 상속은 문제가 많다고해서 죽음의 다이아몬드라고 한다."
      ],
      "metadata": {
        "id": "Y9UcdpOWPi1E"
      }
    },
    {
      "cell_type": "markdown",
      "source": [
        "## 메소드 탐색 순서 확인하기\n",
        "\n",
        "다이아몬드 상속에 대한 해결책을 제시하는데 파이썬에서는 MRO를 따른다.\n",
        "\n",
        "* 클래스.mro()"
      ],
      "metadata": {
        "id": "BLDNPNvwPizN"
      }
    },
    {
      "cell_type": "code",
      "source": [
        "D.mro()"
      ],
      "metadata": {
        "id": "-QImJ-nfPixR"
      },
      "execution_count": null,
      "outputs": []
    },
    {
      "cell_type": "markdown",
      "source": [
        "다음과 같이 클래스 D에 메소드 mro를 사용하면 메소드 탐색 순서가 나오는데, MRO에 따르면 D의 메소드 호출 순서는 자기 자신 다음에 B이다.\n",
        "\n",
        "D로 인스턴스를 만들고 greeting을 호출하면 B의 greeting을 호출한다.(D는 greeting 메소드가 없으므로)\n",
        "\n",
        "파이썬 다중 상속을 한다면, class D(B,C): 의 클래스 목록 중 왼쪽에서 오른쪽 순서로 메소드를 찾는다.\n",
        "\n",
        "그러므로 같은 메소드가 있다면 B가 우선한다.\n",
        "\n",
        "상속관계가 복잡하게 얽혀있다면 mro()를 살펴보는게 편리하다."
      ],
      "metadata": {
        "id": "FjXaG2SDPivV"
      }
    },
    {
      "cell_type": "markdown",
      "source": [
        "## 추상 클래스 사용하기\n",
        "\n",
        "추상 클래스는 메소드의 목록만 가진 클래스이며, 상속 받는 클래스에서 메소드 구현을 강제하기 위해 사용한다.\n",
        "\n",
        "* 추상 클래스를 만드려면 import abc로 모듈을 가져와야한다.\n",
        "\n",
        "* 클래스의 괄호() 안에 metaclass=ABCMeta를 지정\n",
        "\n",
        "* 메소드를 만들때, @absctractmethod를 붙여서 추상 메소드로 지정해야한다."
      ],
      "metadata": {
        "id": "HKsejpmLPitQ"
      }
    },
    {
      "cell_type": "code",
      "source": [
        "from abc import *\n",
        "\n",
        "class 추상클래스이름(metaclass=ABCMeta):\n",
        "  @abstractmethod\n",
        "  def 메소드이름(self):\n",
        "    '코드'"
      ],
      "metadata": {
        "id": "BRWd7krvPirN"
      },
      "execution_count": null,
      "outputs": []
    },
    {
      "cell_type": "code",
      "source": [
        "from abc import *\n",
        "class StudentBase(metaclass=ABCMeta):\n",
        "  @abstractmethod\n",
        "  def study(self):\n",
        "    pass\n",
        "\n",
        "  @abstractmethod\n",
        "  def go_to_school(self):\n",
        "    pass\n",
        "\n",
        "class Student(StudentBase):\n",
        "  def study(self):\n",
        "    print('공부하기')\n",
        "  def go_to_school(self):\n",
        "    print('학교가기')\n",
        "\n",
        "james=Student()\n",
        "james.study()\n",
        "james.go_to_school()\n"
      ],
      "metadata": {
        "id": "8kR02G1NPipa"
      },
      "execution_count": null,
      "outputs": []
    },
    {
      "cell_type": "markdown",
      "source": [
        "StudentBase는 학생이 반드시 해야 하는 일들을 추상 메소드로 만들었다.\n",
        "\n",
        "그리고 Student에는 추상 클래스 StudentBase의 모든 추상 메소드를 구현하여 학생 클래스를 작성했다.\n",
        "\n",
        "이처럼 추상 클래스는 파생 클래스가 반드시 구현해야하는 메소드들을 정해줄 수 있다.\n",
        "\n",
        "참고로 추상 클래스의 추상 메소드를 모두 구현했는지 확인하는 시점은 파생 클래스가 인스턴스를 만들 때이다.\n",
        "\n",
        "따라서 james=Student()에서 확인한다."
      ],
      "metadata": {
        "id": "jfJX0DlhPinx"
      }
    },
    {
      "cell_type": "markdown",
      "source": [
        "## 추상 메소드를 빈 메소드로 만드는 이유"
      ],
      "metadata": {
        "id": "awiVYfDSPilh"
      }
    },
    {
      "cell_type": "markdown",
      "source": [
        "중요한 점은 추상 클래스는 인스턴스로 만들 수가 없다는 점이다."
      ],
      "metadata": {
        "id": "F_V1aev3Pijl"
      }
    },
    {
      "cell_type": "code",
      "source": [
        "james=StudentBase()"
      ],
      "metadata": {
        "id": "pcQxrjxIPihx"
      },
      "execution_count": null,
      "outputs": []
    },
    {
      "cell_type": "markdown",
      "source": [
        "그래서 추상 메소드를 만들 때 pass만 넣어서 빈 메소드로 만드는 것이다.\n",
        "\n",
        "그 이유는 추상 클래스는 인스턴스로 만들 수 없으니 추상 메소드도 호출할 일이 없기 때문"
      ],
      "metadata": {
        "id": "FKNatoGYPif6"
      }
    },
    {
      "cell_type": "markdown",
      "source": [
        "정리하자면, 추상 클래스는 인스턴스로 만들 때는 사용하지 않으며, 오로지 상속에만 사용한다.\n",
        "\n",
        "그리고 파생 클래스에서 반드시 구현해야 할 메소드를 정해 줄 때 사용한다."
      ],
      "metadata": {
        "id": "pv14yEU2Pic5"
      }
    },
    {
      "cell_type": "markdown",
      "source": [
        "# 두점 사이의 거리 구하기"
      ],
      "metadata": {
        "id": "ByN-ahFXPiZx"
      }
    },
    {
      "cell_type": "markdown",
      "source": [
        "## 클래스로 점 구현하기"
      ],
      "metadata": {
        "id": "EZTNG0TCPiEk"
      }
    },
    {
      "cell_type": "code",
      "source": [
        "class Point2D:\n",
        "  def __init__(self,x,y):\n",
        "    self.x=x\n",
        "    self.y=y\n",
        "\n",
        "p1=Point2D(30,20) # 점1\n",
        "p2=Point2D(60,50) # 점2\n",
        "\n",
        "print('p1: {} {}'.format(p1.x,p1.y))\n",
        "print('p2: {} {}'.format(p2.x,p2.y))"
      ],
      "metadata": {
        "id": "D7YYyZNSfjIp"
      },
      "execution_count": null,
      "outputs": []
    },
    {
      "cell_type": "markdown",
      "source": [
        "## 피타고라스의 정리로 두 점의 거리 구하기\n",
        "\n",
        "피타고라스의 정리\n",
        "* 임의의 직각삼각형에서 빗변을 한 변으로 하는 정사각형의 넓이는 다른 두 변을 각각 한 변으로 하는 정사각형의 넓이의 합과 같다.\n",
        "\n",
        "* a^2 + a^2 = c^2"
      ],
      "metadata": {
        "id": "nsKcJfu3gel5"
      }
    },
    {
      "cell_type": "code",
      "source": [
        "a=p2.x - p1.x # 가로 길이\n",
        "b=p2.y - p1.y # 세로 길이"
      ],
      "metadata": {
        "id": "IIhserTUg_PA"
      },
      "execution_count": null,
      "outputs": []
    },
    {
      "cell_type": "markdown",
      "source": [
        "c의길이는 a의 제곱+ b의 제곱의 제곱근을 구해야한다."
      ],
      "metadata": {
        "id": "gxqxOBHvhbJ-"
      }
    },
    {
      "cell_type": "markdown",
      "source": [
        "* math.sqrt(값)\n",
        "\n",
        "제곱근을 반환, 값이 음수이면 에러 발생"
      ],
      "metadata": {
        "id": "rx6huELMhbHc"
      }
    },
    {
      "cell_type": "code",
      "source": [
        "import math\n",
        "\n",
        "class Point2D:\n",
        "  def __init__(self,x,y):\n",
        "    self.x=x\n",
        "    self.y=y\n",
        "\n",
        "p1=Point2D(x=30,y=20)\n",
        "p2=Point2D(x=60,y=50)\n",
        "\n",
        "a= p2.x - p1.x\n",
        "b= p2.y - p1.y\n",
        "\n",
        "c=math.sqrt((a*a)+(b*b)) # (a*a)+(b*b)의 제곱근\n",
        "print(c)"
      ],
      "metadata": {
        "id": "wMbFcMR4hbF4"
      },
      "execution_count": null,
      "outputs": []
    },
    {
      "cell_type": "markdown",
      "source": [
        "# 예외 처리 사용하기\n",
        "\n",
        "예외란 코드를 실행하는 중에 발생한 에러를 뜻한다.\n",
        "\n",
        "예외란 ZeroDivisionError, AttributeError, NameError, TypeError 등 다양한 에러들도 모두 예외이다.\n",
        "\n",
        "예외가 발생하여도 스크립트 실행을 중단하지 않고 계속 실행하게 해주는 예외 처리 방법에 대해 알아보자."
      ],
      "metadata": {
        "id": "ezxJcC39hbAW"
      }
    },
    {
      "cell_type": "markdown",
      "source": [
        "## try except 사용하기\n",
        "\n",
        "예외 처리를 하려면 다음과 같이 try에 실행할 코드를 넣고 except에 예외가 발생했을 때 처리하는 코드를 넣는다."
      ],
      "metadata": {
        "id": "OVxgd5Vtha7w"
      }
    },
    {
      "cell_type": "code",
      "source": [
        "try:\n",
        "  '실행할 코드'\n",
        "except:\n",
        "  '예외가 발생했을 때 처리하는 코드'"
      ],
      "metadata": {
        "id": "yg2tzuN8ha4i"
      },
      "execution_count": null,
      "outputs": []
    },
    {
      "cell_type": "code",
      "source": [
        "try:\n",
        "  x=int(input('나눌 숫자를 입력하시오.'))\n",
        "  y=10/x\n",
        "  print(y)\n",
        "except: # 예외가 발생했을 때 실행됨\n",
        "  print('예외가 발생했습니다.')"
      ],
      "metadata": {
        "id": "FJ5C5WpSha1Y"
      },
      "execution_count": null,
      "outputs": []
    },
    {
      "cell_type": "markdown",
      "source": [
        "## 특정 예외만 처리하기\n",
        "\n",
        "except에 예외 이름을 지정해서 특정 예외가 발생했을 때만 처리 코드를 실행하도록 만들기\n"
      ],
      "metadata": {
        "id": "nlegd1y_haxw"
      }
    },
    {
      "cell_type": "code",
      "source": [
        "try:\n",
        "  '실행할 코드'\n",
        "except 예외이름:\n",
        "  '예외가 발생했을 때 처리하는 코드'"
      ],
      "metadata": {
        "id": "HA3Jhbu9hatI"
      },
      "execution_count": null,
      "outputs": []
    },
    {
      "cell_type": "code",
      "source": [
        "y=[10,20,30]\n",
        "\n",
        "try:\n",
        "  index,x=map(int,input('인덱스와 나눌 숫자를 입력하시오.').split())\n",
        "  print(y[index]/x)\n",
        "except ZeroDivisionError: # 숫자를 0으로 나누었을 때 발생하는 에러\n",
        "  print('숫자를 0으로 나눌 수 없습니다.')\n",
        "except IndexError: # 인덱스 범위를 벗어났을 때 발생되는 에러\n",
        "  print('잘못된 인덱스입니다.')"
      ],
      "metadata": {
        "id": "xAlytjaBvqnZ"
      },
      "execution_count": null,
      "outputs": []
    },
    {
      "cell_type": "markdown",
      "source": [
        "## 예외의 에러 메시지 받아오기\n",
        "\n",
        "except 예외이름 as 변수:\n",
        "\n",
        "except에서 as 뒤에 변수를 지정하면 예외의 에러 메시지를 받아올 수 있다."
      ],
      "metadata": {
        "id": "aShoJbCATv9x"
      }
    },
    {
      "cell_type": "code",
      "source": [
        "y = [10,20,30]\n",
        "\n",
        "try:\n",
        "  index,x = map(int,input(\"인덱스와 나눌 숫자를 입력하시오.: \").split())\n",
        "  print(y[index]/x)\n",
        "except ZeroDivisionError as e:\n",
        "  print('숫자를 0으로 나눌 수 없습니다. ',e)\n",
        "except IndexError as e:\n",
        "  print('범위를 벗어난 인덱스 번호입니다. ',e)"
      ],
      "metadata": {
        "id": "7aFdmVNST1mS"
      },
      "execution_count": null,
      "outputs": []
    },
    {
      "cell_type": "markdown",
      "source": [
        "예외가 여러 개 발생하더라도 먼저 발생한 예외의 처리 코드만 실행된다. (또는, 예외 중에서 높은 계층의 예외부터 처리된다. 기반 클래스 > 파생 클래스 순)\n",
        "\n",
        "모든 예외의 에러 메시지를 출력하고 싶다면, except에 Exception을 지정하고 as 뒤에 변수를 넣으면된다."
      ],
      "metadata": {
        "id": "Q5Xq-ZK4U424"
      }
    },
    {
      "cell_type": "code",
      "source": [
        "except Exception as e: # 모든 예외의 에러 메시지를 출력할 때는 Exception을 사용\n",
        "  print('예외가 발생했습니다.',e)"
      ],
      "metadata": {
        "id": "a2u0JE6TU41K"
      },
      "execution_count": null,
      "outputs": []
    },
    {
      "cell_type": "markdown",
      "source": [
        "예외 처리는 에러가 발생하더라도 스크립트의 실행을 중단하지 않고 계속 실행하고자 할 때 사용한다."
      ],
      "metadata": {
        "id": "0FQJ7ezZU4zA"
      }
    },
    {
      "cell_type": "markdown",
      "source": [
        "## else와 finally 사용하기\n",
        "\n",
        "이번에는 예외가 발생하지 않았을 때 코드를 실행하는 else를 사용해보자.\n",
        "\n",
        "else는 except 바로 다음에 와야하며 except를 생략할 수 없다."
      ],
      "metadata": {
        "id": "8JINWrs3U4w5"
      }
    },
    {
      "cell_type": "code",
      "source": [
        "try:\n",
        "  '실행할 코드'\n",
        "except:\n",
        "  '예외가 발생했을 때 처리하는 코드'\n",
        "else:\n",
        "  '예외가 발생하지 않았을 때 처리하는 코드'"
      ],
      "metadata": {
        "id": "623WXE2AU4u5"
      },
      "execution_count": null,
      "outputs": []
    },
    {
      "cell_type": "code",
      "source": [
        "try:\n",
        "  x = int(input(\"나눌 숫자를 입력하시오.: \"))\n",
        "  y= 10 / x\n",
        "except ZeroDivisionError:\n",
        "  print(\"숫자를 0으로 나눌 수 없습니다.\")\n",
        "else:\n",
        "  print(y)"
      ],
      "metadata": {
        "id": "EzIWrSw6U4sy"
      },
      "execution_count": null,
      "outputs": []
    },
    {
      "cell_type": "markdown",
      "source": [
        "2를 입력했을 때 예외가 발생되지 않으므로 else의 코드가 실행되고 print(y)가 출력된다."
      ],
      "metadata": {
        "id": "VNE2IareU4q6"
      }
    },
    {
      "cell_type": "markdown",
      "source": [
        "## 예외와는 상관없이 항상 코드 실행하기\n",
        "\n",
        "예외 발생 여부와 상관없이 항상 코드를 실행하는 finally를 사용해보자\n",
        "\n",
        "특히 finally는 except와 else를 생략할 수 있다."
      ],
      "metadata": {
        "id": "IjAKKohaU4pS"
      }
    },
    {
      "cell_type": "code",
      "source": [
        "try:\n",
        "  '실행할 코드'\n",
        "except:\n",
        "  '예외가 발생되었을 때 처리하는 코드'\n",
        "else:\n",
        "  '예외가 발생하지 않았을 때 실행할 코드'\n",
        "finally:\n",
        "  '예외 발생 여부와 상관 없이 항상 실행할 코드'"
      ],
      "metadata": {
        "id": "PVwoPu3iU4li"
      },
      "execution_count": null,
      "outputs": []
    },
    {
      "cell_type": "code",
      "source": [
        "try:\n",
        "  x = int(input('나눌 숫자를 입력하시오.: '))\n",
        "  y = 10 / x\n",
        "except:\n",
        "  print(\"숫자를 0으로 나눌 수 없습니다.\")\n",
        "else:\n",
        "  print(y)\n",
        "finally:\n",
        "  print(\"try문의 코드 실행이 끝났습니다.\")"
      ],
      "metadata": {
        "id": "6uyfWIRiU4jW"
      },
      "execution_count": null,
      "outputs": []
    },
    {
      "cell_type": "markdown",
      "source": [
        "## 예외 발생시키기 raise문\n",
        "\n",
        "직접 예외를 발생시켜 보자\n",
        "\n",
        "예외를 발생시킬 때는 raise에 예외를 지정하고 에러메시지를 넣는다.\n",
        "\n",
        "* raise 예외('에러메시지')\n"
      ],
      "metadata": {
        "id": "8ZfWZxbsU4he"
      }
    },
    {
      "cell_type": "code",
      "source": [
        "try:\n",
        "  x=int(input(\"3의 배수를 입력하시오.: \"))\n",
        "  if x % 3 != 0:\n",
        "    raise Exception('3의 배수가 아닙니다.')\n",
        "  print(x)\n",
        "except Exception as e:\n",
        "  print('에러가 발생했습니다. ',e)"
      ],
      "metadata": {
        "id": "RbblfSw4U4fb"
      },
      "execution_count": null,
      "outputs": []
    },
    {
      "cell_type": "markdown",
      "source": [
        "## raise의 처리 과정\n",
        "\n",
        "함수 안에서 raise를 사용하지만 함수 안에는 try except가 없는 상태"
      ],
      "metadata": {
        "id": "YlK1yilOU4dl"
      }
    },
    {
      "cell_type": "code",
      "source": [
        "def three_multiple():\n",
        "  x=int(input('3의 배수를 입력하세요.: '))\n",
        "  if x % 3 != 0:\n",
        "    raise ValueError('3의 배수가 아닙니다.') # 예외가 발생\n",
        "  print(x)\n",
        "\n",
        "try:\n",
        "  three_multiple()\n",
        "except Exception as e:\n",
        "  print('예외가 발생했습니다.', e)"
      ],
      "metadata": {
        "id": "JNV67YTJU4bq"
      },
      "execution_count": null,
      "outputs": []
    },
    {
      "cell_type": "markdown",
      "source": [
        "## 현재 예외를 다시 발생시키기"
      ],
      "metadata": {
        "id": "PO3f6ZJJjR02"
      }
    },
    {
      "cell_type": "markdown",
      "source": [
        "try except에서 처리한 예외를 다시 발생시키는 방법\n",
        "\n",
        "except 안에서 raise를 사용하면 현재 예외를 다시 발생시킨다.\n",
        "\n",
        "* raise"
      ],
      "metadata": {
        "id": "phddhvoHjRzG"
      }
    },
    {
      "cell_type": "code",
      "source": [
        "def three_multiple(): # 하위 코드 블록\n",
        "  try:\n",
        "    x=int(input('3의 배수를 입력하세요.: '))\n",
        "    if x % 3 != 0:\n",
        "      raise ValueError('3의 배수가 아닙니다.') # 예외가 발생\n",
        "    print(x)\n",
        "  except Exception as e: # 함수 안에서 예외처리\n",
        "    print('three_multiple 함수에서 예외가 발생했습니다.',e)\n",
        "    raise # raise로 현재 예외를 다시 발생시켜서 상위 코드 블록으로 넘김\n",
        "\n",
        "try: # 상위 코드 블록\n",
        "  three_multiple()\n",
        "except Exception as e: # 하위 코드에서 예외가 발생해도 실행됨\n",
        "  print('스크립트 파일에서 예외가 발생했습니다.',e)"
      ],
      "metadata": {
        "id": "jf6fx6acjRxH"
      },
      "execution_count": null,
      "outputs": []
    },
    {
      "cell_type": "code",
      "source": [
        "def three_multiple(): # 하위 코드 블록\n",
        "  try:\n",
        "    x=int(input('3의 배수를 입력하세요.: '))\n",
        "    if x % 3 != 0:\n",
        "      raise ValueError('3의 배수가 아닙니다.') # 예외가 발생\n",
        "    print(x)\n",
        "  except Exception as e: # 함수 안에서 예외처리\n",
        "    print('three_multiple 함수에서 예외가 발생했습니다.',e)\n",
        "    raise RuntimeError('three_multiple 함수에서 예외가 발생했습니다.') # raise로 현재 예외를 다시 발생시켜서 상위 코드 블록으로 넘김\n",
        "\n",
        "try: # 상위 코드 블록\n",
        "  three_multiple()\n",
        "except Exception as e: # 하위 코드에서 예외가 발생해도 실행됨\n",
        "  print('스크립트 파일에서 예외가 발생했습니다.',e)"
      ],
      "metadata": {
        "id": "AZF8d6j-jRvN"
      },
      "execution_count": null,
      "outputs": []
    },
    {
      "cell_type": "markdown",
      "source": [
        "* raise 예외(\"에러 메세지\")"
      ],
      "metadata": {
        "id": "oVwutM1YjRru"
      }
    },
    {
      "cell_type": "markdown",
      "source": [
        "### assert로 예외 발생시키기\n",
        "\n",
        "assert는 지정된 조건식이 거짓일 때 AssertionError 예외를 발생시키며 조건식이 참이면 그냥 넘어간다.\n",
        "\n",
        "보통 assert는 나와서는 안되는 조건을 검사할 때 사용한다.\n",
        "\n",
        "* assert 조건식\n",
        "* assert 조건식, 에러메시지"
      ],
      "metadata": {
        "id": "_N-X3BZjU4X1"
      }
    },
    {
      "cell_type": "code",
      "source": [
        "x = int(input(\"3의 배수입력하시오: \"))\n",
        "assert x % 3 == 0, '3의 배수가 아닙니다.'\n",
        "print(x)"
      ],
      "metadata": {
        "id": "r4gB4GTMU4WB"
      },
      "execution_count": null,
      "outputs": []
    },
    {
      "cell_type": "markdown",
      "source": [
        "assert는 지정된 조건식이 거짓일 때, 예외를 발생한다는 점이 중요\n",
        "\n",
        "위에서 보면, 3의 배수만을 출력하고 싶을 땐, 만약 x가 5이면 (x % 3 == 0) 조건식은 거짓이 되므로 AssertionError를 발생시킨다.\n",
        "\n",
        "x % 3 !=0 을 넣으면 안된다. 잘 생각해야 된다 assert를 사용할 때는\n",
        "\n",
        "x % 3 !=0 을 넣으면 x가 5라면 참이 되므로 assert 예외를 발생시키지 않는다."
      ],
      "metadata": {
        "id": "mYUrkU6AU4UB"
      }
    },
    {
      "cell_type": "markdown",
      "source": [
        "## 예외 만들기\n",
        "\n",
        "예외는 두가지 종류가 있다.\n",
        "\n",
        "\n",
        "* 내장된 예외\n",
        "* 사용자 정의 예외\n",
        "\n",
        "프로그래머가 직접 만든 에러를 사용자 정의 예외라고 한다.\n",
        "\n",
        "예외를 만드는 법은 간단하다.\n",
        "\n",
        "Exception을 상속받아서 새로운 클래스를 만들면 된다.\n",
        "\n",
        "그리고 `__inti__` 메소드에서 기반 클래스의 `__init__` 메소드를 호출하면서 에러 메시지를 넣어주면된다"
      ],
      "metadata": {
        "id": "GP4U4lW6oOxe"
      }
    },
    {
      "cell_type": "code",
      "source": [
        "class 예외이름(Exception):\n",
        "  def __init__(self):\n",
        "    super().__init__(\"에러메시지\")"
      ],
      "metadata": {
        "id": "EBcW5n_orhJt"
      },
      "execution_count": null,
      "outputs": []
    },
    {
      "cell_type": "code",
      "source": [
        "class MyError(Exception):\n",
        "  def __init__(self):\n",
        "    super().__init__('3의 배수가 아닙니다.') # 파생클래스에서 기반 클래스의 __init__을 호출하는 방법 super().메소드\n",
        "\n",
        "def three_multiple():\n",
        "  try:\n",
        "    x = int(input(\"3의 배수를 입력하시오.\")) # 실행할 코드\n",
        "    if x % 3 !=0:\n",
        "      raise MyError # 예외를 발생 (사용자 지정 예외 발생)\n",
        "  except Exception as e: # 예외를 발생 시켰으니 예외 처리 코드\n",
        "    print('3의 배수가 아니므로 예외가 발생했습니다.',e)\n",
        "  else:\n",
        "    print(x)\n",
        "three_multiple()"
      ],
      "metadata": {
        "id": "bTAHdU2qoj4W"
      },
      "execution_count": null,
      "outputs": []
    },
    {
      "cell_type": "markdown",
      "source": [
        "### 예외를 만드는 또다른 방법 상속만 받고 아무것도 구현하지않기"
      ],
      "metadata": {
        "id": "DxgWGcQ_qFdG"
      }
    },
    {
      "cell_type": "code",
      "source": [
        "class MyError(Exception): # 기반 클래스의 __init__이 자동 호출되어 기반 클래스의 속성을 사용할 수 있다.  # 파생클래스에 __init__초기화 되어있지 않다면\n",
        "  pass\n",
        "\n",
        "raise MyError('에러메시지') # raise 문에서 에러 메시지를 넣어주면 된다."
      ],
      "metadata": {
        "id": "3Zr7YtKAr523"
      },
      "execution_count": null,
      "outputs": []
    },
    {
      "cell_type": "markdown",
      "source": [
        "예외 처리는 에러가 발생하더라도 스크립트의 실행을 중단하고 싶지 않고 계속 실행하고자 할 때 사용한다."
      ],
      "metadata": {
        "id": "wPfxUiy9sd3t"
      }
    },
    {
      "cell_type": "markdown",
      "source": [
        "# 이터레이터 사용하기\n",
        "\n",
        "이터레이터는 값을 차례대로 꺼낼 수 있는 객체이다.\n",
        "\n",
        "for 반복문을 설명할 때 for i in range(100):는 0~99까지 연속된 숫자를 만들어낸다고 했는데,\n",
        "\n",
        "사실은 숫자를 모두 만들어 내는 것이 아니라 0~99까지 값을 차례대로 꺼낼 수 있는 이터레이터를 하나만 만들어낸거다.\n",
        "\n",
        "만약 연속된 숫자를 미리 만들면 숫자가 적을 때는 상관없지만, 숫자가 아주 많을 떄는 메모리를 많이 사용하게 되므로 성능에 불리하다.\n",
        "\n",
        "그래서 파이썬에서는 이터레이터만 생성하고 값이 필요한 시점이 되었을 때 값을 만드는 방식을 사용한다.\n",
        "\n",
        "즉, 데이터 생성을 뒤로 미루는 것인데 이런 방식을 지연 평가라고 한다.\n",
        "\n",
        "이터레이터는 반복자라고 부르기도 한다."
      ],
      "metadata": {
        "id": "QJlQ9T1v-cPx"
      }
    },
    {
      "cell_type": "markdown",
      "source": [
        "## 반복 가능한 객체 알아보기\n",
        "\n",
        "이터레이터를 만들기 전에 먼저 반복 가능한 객체에 대해 알아보자\n",
        "\n",
        "반복 가능한 객체는 우리가 흔히 사용하는 문자열, 리스트, 딕셔너리, 세트가 반복 가능한 객체이다.\n",
        "\n",
        "즉, 요소가 여러 개가 들어있고, 한 번에 하나씩 꺼낼 수 있는 객체이다.\n",
        "\n",
        "객체가 반복 가능한 객체인지 아는 방법은 객체에 `__iter__`메소드가 있는지 확인하는 것이다.\n",
        "\n",
        "dir 함수를 사용하면 객체의 메소드를 확인할 수 있다."
      ],
      "metadata": {
        "id": "20UDPyEJ_7WK"
      }
    },
    {
      "cell_type": "code",
      "source": [
        "dir([1,2,3])"
      ],
      "metadata": {
        "id": "gHIFwaIqAAKo"
      },
      "execution_count": null,
      "outputs": []
    },
    {
      "cell_type": "code",
      "source": [
        "[1,2,3].__iter__()"
      ],
      "metadata": {
        "id": "yrgdtdHHABE1"
      },
      "execution_count": null,
      "outputs": []
    },
    {
      "cell_type": "markdown",
      "source": [
        "리스트의 이터레이터를 변수에 저장한 뒤 `__next__` 메소드를 호출하면 요소를 차례대로 꺼낼 수 있다."
      ],
      "metadata": {
        "id": "EYhC5I9YABDG"
      }
    },
    {
      "cell_type": "code",
      "source": [
        "it=[1,2,3].__iter__()\n",
        "it.__next__()"
      ],
      "metadata": {
        "id": "vqVEpbaIABBM"
      },
      "execution_count": null,
      "outputs": []
    },
    {
      "cell_type": "code",
      "source": [
        "it = range(3).__iter__()\n",
        "it.__next__()\n",
        "it.__next__()"
      ],
      "metadata": {
        "id": "iPfkxJ71AA_X"
      },
      "execution_count": null,
      "outputs": []
    },
    {
      "cell_type": "markdown",
      "source": [
        "## for와 반복 가능한 객체\n",
        "\n",
        "for에 반복 가능한 객체를 사용했을 때 동작 과정\n",
        "\n",
        "* for에 range(3)를 사용했다면 먼저 range에서 `__iter__`로 이터레이터를 얻는다.\n",
        "\n",
        "* 한 번 반복할 때마다 이터레이터에서 `__next__`로 숫자를 꺼내서 i에 저장하고, 지정된 숫자 3이 되면 StopIteration을 발생시켜서 반복을 끝낸다.\n",
        "\n",
        "반복 가능한 객체는 `__init__` 메소드로 이터레이터를 얻고, 이터레이터의 `__next__` 메소드로 반복한다\n",
        "\n",
        "반복 가능한 객체와 이터레이터가 분리되어 있지만, 클래스에 `__iter__`와 `__next__` 메소드를 모두 구현하면 이터레이터를 만들 수 있다.\n",
        "\n",
        "특히 `__iter__`,`__next__`를 가진 객체를 이터레이터 프로토콜을 지원한다고 말한다.\n",
        "\n",
        "반복 가능한 객체(iterable)과 이터레이터는 별개의 객체이므로 둘은 구분해야한다.\n",
        "\n",
        "즉, 반복 가능한 객체에서 `__iter__`메소드로 이터레이터를 얻는다.\n"
      ],
      "metadata": {
        "id": "8UnNfCiUAA9Z"
      }
    },
    {
      "cell_type": "markdown",
      "source": [
        "## 이터레이터 만들기\n",
        "\n",
        "`__iter__`,`__next__`메소드를 구현해서 이터레이터를 만들어보자."
      ],
      "metadata": {
        "id": "ScSlMSthAA7d"
      }
    },
    {
      "cell_type": "code",
      "source": [
        "class Counter:\n",
        "  def __init__(self,stop):\n",
        "    self.current=0 # 현재 숫자 유지, 0부터 지정된 숫자 직전까지 반복\n",
        "    self.stop=stop # 반복을 끝낼 숫자\n",
        "\n",
        "  def __iter__(self):\n",
        "    return self # 현재 인스턴스를 반환\n",
        "\n",
        "  def __next__(self):\n",
        "    if self.current < self.stop:\n",
        "      r = self.current\n",
        "      self.current+=1\n",
        "      return r\n",
        "    else:\n",
        "      raise StopIteration\n",
        "\n",
        "for i in Counter(3):\n",
        "  print(i,end=' ')"
      ],
      "metadata": {
        "id": "37YDOwgWAA5q"
      },
      "execution_count": null,
      "outputs": []
    },
    {
      "cell_type": "markdown",
      "source": [
        "## 이터레이터 언팩킹\n",
        "\n",
        "이터레이터는 언팩킹이 가능하다.\n",
        "\n",
        "즉, Counter()의 결과를 변수 여러 개에 할당할 수 있다.\n",
        "\n",
        "이터레이터가 반복하는 횟수와 변수의 개수는 같아야한다."
      ],
      "metadata": {
        "id": "mSze2CJPAA35"
      }
    },
    {
      "cell_type": "code",
      "source": [
        "a,b,c=Counter(3)\n",
        "print(a,b,c)"
      ],
      "metadata": {
        "id": "5792Dw1IAA1_"
      },
      "execution_count": null,
      "outputs": []
    },
    {
      "cell_type": "code",
      "source": [
        "a,b,c,d,e = Counter(5)\n",
        "print(a,b,c,d,e)"
      ],
      "metadata": {
        "id": "YIXp2ZnFAA0N"
      },
      "execution_count": null,
      "outputs": []
    },
    {
      "cell_type": "markdown",
      "source": [
        "우리가 자주 사용하는 map 또한 이터레이터이다. 그래서 언팩킹으로 변수 여러개에 할당할 수 있었다."
      ],
      "metadata": {
        "id": "HKqg9KLbAAyF"
      }
    },
    {
      "cell_type": "code",
      "source": [
        "a,b,c=map(int,input(\"숫자를 입력하세요\").split())\n",
        "print(a,b,c)"
      ],
      "metadata": {
        "id": "hlPQ1gtoAAwZ"
      },
      "execution_count": null,
      "outputs": []
    },
    {
      "cell_type": "markdown",
      "source": [
        "## 인덱스로 접근할 수 있는 이터레이터 만들기"
      ],
      "metadata": {
        "id": "yIYBOOYMAAs_"
      }
    },
    {
      "cell_type": "markdown",
      "source": [
        "`__getitem__`메소드를 구현하여 인덱스로 접근할 수 있는 이터레이터를 만들어보자."
      ],
      "metadata": {
        "id": "eA2ZfrmbAArZ"
      }
    },
    {
      "cell_type": "code",
      "source": [
        "class Counter:\n",
        "  def __init__(self,stop):\n",
        "    self.stop=stop # 반복을 끝낼 숫자\n",
        "\n",
        "  def __getitem__(self,index):\n",
        "    if index < self.stop: # 인덱스가 반복을 끝낼 숫자보다 낮다면 index를 반환\n",
        "      return index\n",
        "    else:\n",
        "      raise IndexError # 인덱스가 반복을 끝낼 숫자보다 크면 Index범위를 벗어났으므로 에러를 발생\n",
        "\n",
        "print(Counter(3)[0],Counter(3)[1],Counter(3)[2])\n",
        "\n",
        "for i in Counter(3):\n",
        "  print(i , end= ' ')"
      ],
      "metadata": {
        "id": "dEJbSaqWAApU"
      },
      "execution_count": null,
      "outputs": []
    },
    {
      "cell_type": "markdown",
      "source": [
        "소스코드를 잘 보면 `__init__`과 `__getitem__` 메소드 밖에 정의하지 않았는데, 동작이 잘되는걸 볼 수 있다.\n",
        "\n",
        "그 이유는 `__getitem__` 메소드만으로도 이터레이터가 구현이 되며 `__iter__`와 `__next__`메소드를 생략해도 된다."
      ],
      "metadata": {
        "id": "Mu1dhUnnAAnc"
      }
    },
    {
      "cell_type": "markdown",
      "source": [
        "## iter,next함수 활용하기\n",
        "\n",
        "파이썬 내장함수 iter와 next에 대해 알아보자.\n",
        "\n",
        "iter는 객체의 `__iter__` 메소드를 호출해주고\n",
        "\n",
        "next는 객체의 `__next__` 메소드를 호출한다.\n"
      ],
      "metadata": {
        "id": "y_tngPd5AAlY"
      }
    },
    {
      "cell_type": "code",
      "source": [
        "it=iter(range(10)) # it = range(10).__init__()\n",
        "next(it)"
      ],
      "metadata": {
        "id": "xR_DDggGAAjg"
      },
      "execution_count": null,
      "outputs": []
    },
    {
      "cell_type": "code",
      "source": [
        "it = range(10).__iter__()\n",
        "next(it)"
      ],
      "metadata": {
        "id": "bdPfyiffAAgR"
      },
      "execution_count": null,
      "outputs": []
    },
    {
      "cell_type": "markdown",
      "source": [
        "반복 가능한 객체에서 `__iter__`를 호출하고 이터레이터에서 `__next__`메소드를 호출한 것과 똑같다.\n",
        "\n",
        "즉, iter는 반복 가능한 객체에서 이터레이터를 반환하고 next는 이터레이터에서 값을 차례대로 꺼냅니다.\n",
        "\n",
        "iter와 next는 이런 기능 이외에도 다양한 방식으로 사용할 수 있다."
      ],
      "metadata": {
        "id": "SepmbZMgNSE3"
      }
    },
    {
      "cell_type": "markdown",
      "source": [
        "### iter\n",
        "\n",
        "iter는 반복을 끝낼 값을 지정하면 특정 값이 나올 때 반복을 끝낸다.\n",
        "\n",
        "이 경우에는 반복 가능한 객체 대신 호출 가능한 객체(callable)를 넣어준다.\n",
        "\n",
        "참고로 반복을 끝낼 값을 sentinel이라고 부르는데 감시병이라는 뜻이다.\n",
        "\n",
        "즉, 반복을 감시하다가 특정 값이 나오면 반복을 끝낸다고 해서 sentinel이라고 한다.\n",
        "\n",
        "* iter(호출가능한객체,반복을끝낼값)"
      ],
      "metadata": {
        "id": "FM6HYjJHN7VI"
      }
    },
    {
      "cell_type": "markdown",
      "source": [
        "예를 들어, random.randint(0,5)와 같이 0부터 5까지 무작위로 숫자를 생성할 때 2가 나오면 반복을 끝내도록 만들 수 있다.\n",
        "\n",
        "이때, 호출가능한 객체를 넣어야하니 매개변수가 없는 함수 또는 람다 표현식으로 만들어준다."
      ],
      "metadata": {
        "id": "OOnexja3Oudh"
      }
    },
    {
      "cell_type": "code",
      "source": [
        "import random\n",
        "it=iter(lambda: random.randint(0,5),2)\n",
        "\n",
        "next(it)"
      ],
      "metadata": {
        "id": "qk_1NC6JPT24"
      },
      "execution_count": null,
      "outputs": []
    },
    {
      "cell_type": "code",
      "source": [
        "for i in iter(lambda: random.randint(0,5),2):\n",
        "  print(i)"
      ],
      "metadata": {
        "id": "FGPspayxPwPY"
      },
      "execution_count": null,
      "outputs": []
    },
    {
      "cell_type": "markdown",
      "source": [
        "### next\n",
        "\n",
        "next는 기본값을 지정할 수 있다.\n",
        "즉, 반복할 수 있을 때는 해당값을 출력하다가, 반복이 끝났을 때는 기본값을 출력한다."
      ],
      "metadata": {
        "id": "aFfXIsGdPwLg"
      }
    },
    {
      "cell_type": "code",
      "source": [
        "it = iter(range(3))\n",
        "print(next(it,10))\n",
        "print(next(it,10))\n",
        "print(next(it,10)) # 반복이 끝나기전에는 해당값을 출력한다.\n",
        "print(next(it,10)) # 반복이 끝났을때 기본값을 출력한다.\n",
        "print(next(it,10))"
      ],
      "metadata": {
        "id": "a8B_fXm7PwIH"
      },
      "execution_count": null,
      "outputs": []
    },
    {
      "cell_type": "markdown",
      "source": [
        "우리가 이터레이터를 만들때는 `__iter__`와 `__next__` 메소드 또는 `__getitem__` 메소드를 구현해야한다는 점을 기억하자"
      ],
      "metadata": {
        "id": "Yc_tgvZ4Qjeo"
      }
    },
    {
      "cell_type": "markdown",
      "source": [
        "# 제너레이터 사용하기\n",
        "\n",
        "제너레이터는 이터레이터를 생성하는 함수입니다.\n",
        "\n",
        "이터레이터는 클래스에 `__iter__`,`__next__` 또는 `__getitem__` 메소드를 구현해야 하지만 제너레이터는 함수 안에서 yield라는 키워드만 사용하면 끝이다.\n",
        "\n",
        "제너레이터는 발생자라고 부릅니다."
      ],
      "metadata": {
        "id": "GkJwnzqv5uAM"
      }
    },
    {
      "cell_type": "markdown",
      "source": [
        "## 제너레이터와 yield 알아보기\n",
        "\n",
        "* yield 값\n",
        "\n",
        "함수 안에서 yield를 사용하면 함수는 제너레이터가 되며 yield에는 값을 지정합니다."
      ],
      "metadata": {
        "id": "tl-G88mz7Hs4"
      }
    },
    {
      "cell_type": "code",
      "source": [
        "def number_generator():\n",
        "  yield 0\n",
        "  yield 1\n",
        "  yield 2\n",
        "\n",
        "for i in number_generator():\n",
        "  print(i)"
      ],
      "metadata": {
        "id": "Pf-RovO07fFE"
      },
      "execution_count": null,
      "outputs": []
    },
    {
      "cell_type": "markdown",
      "source": [
        "### 제너레이터 객체가 이터레이터인지 확인하기\n",
        "\n",
        "number_generator() 함수로 만든 객체가 정말 이터레이터인지 확인해보자\n",
        "\n",
        "dir함수로 메소드 목록을 확인해보자."
      ],
      "metadata": {
        "id": "Ev13v_8Z7gWY"
      }
    },
    {
      "cell_type": "code",
      "source": [
        "g=number_generator()\n",
        "print(g)\n",
        "dir(g)"
      ],
      "metadata": {
        "id": "y-sFcbCT7gUi"
      },
      "execution_count": null,
      "outputs": []
    },
    {
      "cell_type": "markdown",
      "source": [
        "number_generator 함수를 호출하면 제너레이터 객체가 반환된다.\n",
        "\n",
        "이 객체를 dir 함수로 살펴보면 `__iter__`,`__next__` 메소드가 들어있다.\n",
        "\n",
        "`__next__`를 호출하면 0,1,2 나오다가 StopIteration 예외가 발생합니다."
      ],
      "metadata": {
        "id": "0Had-xY87gSY"
      }
    },
    {
      "cell_type": "code",
      "source": [
        "a=g.__next__()\n",
        "print(a)"
      ],
      "metadata": {
        "id": "x-UfYuhy7gQk"
      },
      "execution_count": null,
      "outputs": []
    },
    {
      "cell_type": "markdown",
      "source": [
        "yield만 사용해서 iterator를 간단하게 구현할 수 있다.\n",
        "\n",
        "단, 이터레이터는 `__next__`메소드 안에서 직접 return으로 값을 반환했지만 제너레이터는 yield에 지정한 값이 `__next__` 메소드의 반환값으로 나온다.\n",
        "\n",
        "또한 이터레이터는 raise로 StopIteration을 예외를 직접 발생시켰지만, 제너레이터는 함수의 끝까지 도달하면 StopIteration이 자동으로 발생한다.\n",
        "\n"
      ],
      "metadata": {
        "id": "21SgFHgp7gOW"
      }
    },
    {
      "cell_type": "markdown",
      "source": [
        "### for와 제너레이터\n",
        "\n",
        "for 반복문은 반복할 때마다 `__next__`를 호출하므로 yield에서 발생시킨 값을 가져온다."
      ],
      "metadata": {
        "id": "wx9iAPLQ7gMM"
      }
    },
    {
      "cell_type": "markdown",
      "source": [
        "제너레이터 객체에서 `__iter__`를 호출하면 self를 반환하므로 (`__iter__(self) return self`) 같은 객체가 나온다.\n",
        "\n",
        "제너레이터 함수 호출 -> 제너레이터 객체 -> `__iter__`는 self를 반환 -> 제너레이터 객체"
      ],
      "metadata": {
        "id": "ZPB5gYAv7gKK"
      }
    },
    {
      "cell_type": "markdown",
      "source": [
        "yield를 사용하면 값을 함수 바깥으로 전달하면서 코드 실행을 함수 바깥에 양보합니다.\n",
        "\n",
        "따라서 yield는 현재 함수를 잠시 중단하고 함수 바깥의 코드가 실행되도록 만든다.\n"
      ],
      "metadata": {
        "id": "p1XjYWKW7gIr"
      }
    },
    {
      "cell_type": "markdown",
      "source": [
        "### yield의 동작 과정 알아보기\n",
        "\n",
        "514p를 참고하지만, 가장 중요하다고 생각하는건\n",
        "\n",
        "다른 함수들은 일반적으로 return으로 함수값을 객체에 전달하면 그 즉시 함수는 끝나게 되지만 yield를 사용하면 yield로 만들어진 값을 바깥 코드에 실행해준다.\n",
        "\n",
        "즉, 함수내부의 yield 값을 바깥코드에 전달하며, 바깥 코드의 실행을 양보하면서 함수가 진행된다."
      ],
      "metadata": {
        "id": "bBqa6MYW7gGO"
      }
    },
    {
      "cell_type": "markdown",
      "source": [
        "## 제너레이터 만들기\n",
        "\n",
        "range()처럼 작동하는 제너레이터 만들기"
      ],
      "metadata": {
        "id": "m3dav2EC7fRp"
      }
    },
    {
      "cell_type": "code",
      "source": [
        "def number_generator(stop):\n",
        "  n=0\n",
        "  while True:\n",
        "    if n >= stop:\n",
        "      break\n",
        "    yield n\n",
        "    n+=1\n",
        "\n",
        "for i in number_generator(3):\n",
        "  print(i)"
      ],
      "metadata": {
        "id": "SfDcLMHD7fOC"
      },
      "execution_count": null,
      "outputs": []
    },
    {
      "cell_type": "markdown",
      "source": [
        "### yield에서 함수 호출하기\n",
        "\n",
        "리스트에 있는 문자열을 대문자로 변환하여 함수 바깥으로 전달하기"
      ],
      "metadata": {
        "id": "9OP_Tow8KRRS"
      }
    },
    {
      "cell_type": "code",
      "source": [
        "def upper_generator(x):\n",
        "  for i in x:\n",
        "    yield i.upper()\n",
        "\n",
        "fruits=['apple','banana','pear','pineapple','orange','grape']\n",
        "for k in upper_generator(fruits):\n",
        "  print(k)"
      ],
      "metadata": {
        "id": "kVoOnNPvKRMm"
      },
      "execution_count": null,
      "outputs": []
    },
    {
      "cell_type": "markdown",
      "source": [
        "yield i.upper()와 같이 yield에서 메소드를 호출하면 해당 함수의 반환값이 바깥으로 전달한다.\n",
        "\n",
        "upper는 호출했을 때 대문자로 문자열을 반환하므로 yield는 이 문자열을 바깥으로 전달한다.\n",
        "\n",
        "즉, yield에 무엇을 지정하든 결과값만 바깥으로 전달한다.\n",
        "\n"
      ],
      "metadata": {
        "id": "wHTX9rE8LNwf"
      }
    },
    {
      "cell_type": "markdown",
      "source": [
        "## yield from으로 값을 여러 번 바깥으로 전달하기\n",
        "\n",
        " yield로 값을 한 번씩 바깥으로 전달했다.\n",
        "\n",
        " 그래서 이번에는 값을 여러 번 바깥으로 전달할 때는 for 또는 while문으로 반복하면서 yield를 사용하였다.\n",
        "\n",
        "리스트의 1,2,3을 바깥으로 전달한다."
      ],
      "metadata": {
        "id": "e5Q239bpLpmU"
      }
    },
    {
      "cell_type": "code",
      "source": [
        "def number_generator():\n",
        "  x=[1,2,3]\n",
        "  for i in x:\n",
        "    yield i\n",
        "\n",
        "for i in number_generator():\n",
        "  print(i)"
      ],
      "metadata": {
        "id": "Fas3mbT5LpjS"
      },
      "execution_count": null,
      "outputs": []
    },
    {
      "cell_type": "markdown",
      "source": [
        "이런 경우에는 반복문을 사용하지 않고, yield from을 사용하면 된다.\n",
        "\n",
        "* yield from 반복가능한객체\n",
        "* yield from 이터레이터\n",
        "* yield from 제너레이터객체"
      ],
      "metadata": {
        "id": "i12fluQYMZcW"
      }
    },
    {
      "cell_type": "code",
      "source": [
        "def number_generator():\n",
        "  x=[1,2,3]\n",
        "  yield from x\n",
        "\n",
        "for i in number_generator():\n",
        "  print(i)"
      ],
      "metadata": {
        "id": "amAJ3fKVMmRQ"
      },
      "execution_count": null,
      "outputs": []
    },
    {
      "cell_type": "markdown",
      "source": [
        "### yield from에 제너레이터 객체 지정"
      ],
      "metadata": {
        "id": "3CvmC0yOM6vu"
      }
    },
    {
      "cell_type": "code",
      "source": [
        "def number_generator(stop):\n",
        "  n=0\n",
        "  while n < stop:\n",
        "    yield n\n",
        "    n+=1\n",
        "\n",
        "def three_generator():\n",
        "  yield from number_generator(3)\n",
        "\n",
        "for i in three_generator():\n",
        "  print(i)"
      ],
      "metadata": {
        "id": "Qo7OKdf6NATR"
      },
      "execution_count": null,
      "outputs": []
    },
    {
      "cell_type": "markdown",
      "source": [
        "제너레이터는 개인적으로 너무어렵당.."
      ],
      "metadata": {
        "id": "mi88Hko4NT6-"
      }
    }
  ]
}