{
  "nbformat": 4,
  "nbformat_minor": 0,
  "metadata": {
    "colab": {
      "private_outputs": true,
      "provenance": [],
      "authorship_tag": "ABX9TyM7Skn8lr26urD+kHNhfSc8",
      "include_colab_link": true
    },
    "kernelspec": {
      "name": "python3",
      "display_name": "Python 3"
    },
    "language_info": {
      "name": "python"
    }
  },
  "cells": [
    {
      "cell_type": "markdown",
      "metadata": {
        "id": "view-in-github",
        "colab_type": "text"
      },
      "source": [
        "<a href=\"https://colab.research.google.com/github/youse0ng/python_study/blob/main/Advanced.ipynb\" target=\"_parent\"><img src=\"https://colab.research.google.com/assets/colab-badge.svg\" alt=\"Open In Colab\"/></a>"
      ]
    },
    {
      "cell_type": "markdown",
      "source": [
        "# 클래스 상속 사용하기\n",
        "\n",
        "클래스 상속은 물려받은 기능을 유지한 채로 다른 기능을 추가할 때 사용하는 기능이다.\n",
        "\n",
        "* 기반 클래스(base class): 기능을 물려주는 클래스\n",
        "* 파생 클래스(derived class): 상속을 받아 새롭게 만드는 클래스\n",
        "\n",
        "보통 기반 클래스를 부모 클래스, 슈퍼 클래스\n",
        "\n",
        "파생 클래스를 자식 클래스, 서브 클래스라고 부른다.\n",
        "\n",
        "새로운 기능이 필요할 때마다 계속 클래스를 만든다면 중복되는 부분을 반복해서 만들어야하는 비용의 문제가 발생해서 상속이라는 개념을 도입하여\n",
        "\n",
        "상속을 통해 기존 기능을 재사용할 수 있도록 만든다."
      ],
      "metadata": {
        "id": "0jQuoLHMjf0m"
      }
    },
    {
      "cell_type": "markdown",
      "source": [
        "## 사람 클래스로 학생 클래스를 만들기\n",
        "\n",
        "클래스 상속은 다음과 같이 클래스를 만들 때 ()를 붙이고 안에 기반 클래스의 이름을 넣는다."
      ],
      "metadata": {
        "id": "Jggiq97yl-n6"
      }
    },
    {
      "cell_type": "code",
      "source": [
        "class 기반클래스이름:\n",
        "  '코드'\n",
        "\n",
        "class 파생클래스이름(기반클래스이름):\n",
        "  '코드'"
      ],
      "metadata": {
        "id": "n-l5W9cGmlDX"
      },
      "execution_count": null,
      "outputs": []
    },
    {
      "cell_type": "code",
      "source": [
        "class Person:\n",
        "  def greeting(self):\n",
        "    print('안녕하세요')\n",
        "\n",
        "class Student(Person):\n",
        "  def study(self):\n",
        "    print('공부하기')\n",
        "\n",
        "james=Student()\n",
        "james.study() # 기반 클래스의 Person의 메소드 호출\n",
        "james.greeting() # 파생 클래스의 추가한 study 메소드 호출"
      ],
      "metadata": {
        "id": "Ngi6TJc8mtfW"
      },
      "execution_count": null,
      "outputs": []
    },
    {
      "cell_type": "markdown",
      "source": [
        "클래스 상속은 기반 클래스의 기능을 유지하면서 새로운 기능을 추가할 수 있다.\n",
        "\n",
        "특히 클래스 상속은 연관되면서 동등한 기능일 때 사용한다.\n",
        "\n",
        "즉, 학생은 사람이므로 연관된 개념이고, 학생은 사람에서 역할만 확장되었을 뿐 동등한 개념이다."
      ],
      "metadata": {
        "id": "QZCxbSDqqM9t"
      }
    },
    {
      "cell_type": "markdown",
      "source": [
        "### 상속 관계 확인하기\n",
        "\n",
        "issubclass(파생클래스, 기반클래스)를 통해 클래스의 상속 관계를 확인하고 싶을 때는 issubclass를 사용한다.\n",
        "\n",
        "즉, 클래스가 기반 클래스의 파생 클래스인지 확인한다.\n",
        "\n",
        "* 기반 클래스의 상속 클래스가 맞으면 True\n",
        "* 아니라면 False"
      ],
      "metadata": {
        "id": "TzAPKZmkEjvJ"
      }
    },
    {
      "cell_type": "code",
      "source": [
        "class Person:\n",
        "  pass\n",
        "\n",
        "class Student(Person):\n",
        "  pass\n",
        "\n",
        "print(issubclass(Student,Person))"
      ],
      "metadata": {
        "id": "lyqg4XIZE6Re"
      },
      "execution_count": null,
      "outputs": []
    },
    {
      "cell_type": "markdown",
      "source": [
        "## 상속 관계와 포함 관계 알아보기\n",
        "\n",
        "- 상속 관계\n",
        "  Student는 Person이므로 같은 종류이다.\n",
        "\n",
        "  상속은 명확하게 같은 종류이며 동등한 관계일 때 사용\n",
        "\n",
        "- 포함 관계\n",
        "  학생 클래스가 아니라 사람 목록을 관리하는 클래스를 만든다면 어떻게 해야 하나?\n",
        "  \n",
        "  다음과 같이 리스트 속성에 Person 인스턴스를 넣어서 관리하면된다.\n"
      ],
      "metadata": {
        "id": "gXaIm9FKE7MX"
      }
    },
    {
      "cell_type": "code",
      "source": [
        "class Person:\n",
        "  def greeting(self):\n",
        "    print('안녕하세요')\n",
        "\n",
        "class PersonList:\n",
        "  def __init__(self):\n",
        "    self.person_list=[]\n",
        "\n",
        "  def append_person(self,person):\n",
        "    self.person_list.append(person)"
      ],
      "metadata": {
        "id": "e0-DbOWrE7KW"
      },
      "execution_count": null,
      "outputs": []
    },
    {
      "cell_type": "markdown",
      "source": [
        "여기서는 상속 하지 않고 인스턴스를 넣어서 관리하므로 Personlist가 Person을 포함하고 있다.\n",
        "\n",
        "그러므로 상속 관계(동등한 관계)가아니라 포함 관계이다.\n"
      ],
      "metadata": {
        "id": "iI5RD7KGE7G_"
      }
    },
    {
      "cell_type": "markdown",
      "source": [
        "## 기반 클래스의 속성 사용하기\n",
        "\n",
        "기반 클래스에 들어있는 인스턴스 속성을 사용해보자.\n",
        "\n",
        "Person 클래스에 hello 속성이 있고 Person 클래스를 상속받아 Student 클래스를 만든다.\n",
        "\n",
        "그 다음 student로 인스턴스를 만들고 hello 속성에 접근해보저"
      ],
      "metadata": {
        "id": "KSKzn1DrE7En"
      }
    },
    {
      "cell_type": "code",
      "source": [
        "class Person:\n",
        "  def __init__(self):\n",
        "    print('Person __init__')\n",
        "    self.hello='안녕하세요'\n",
        "\n",
        "class Student(Person):\n",
        "  def __init__(self):\n",
        "    print('Student__init__')\n",
        "    self.school='파이썬 도장 코딩'\n",
        "\n",
        "james=Student()\n",
        "print(james.school)\n",
        "print(james.hello) # 오류가 날 것이다 그 이유는 Person(기반 클래스)의 __init__ 메소드가 호출되지 않았기 때문이다"
      ],
      "metadata": {
        "id": "VU472OfkE7Co"
      },
      "execution_count": null,
      "outputs": []
    },
    {
      "cell_type": "code",
      "source": [
        "james=Person()\n",
        "james.hello"
      ],
      "metadata": {
        "id": "ruO7tsHyE7An"
      },
      "execution_count": null,
      "outputs": []
    },
    {
      "cell_type": "markdown",
      "source": [
        "## super()로 기반 클래스 초기화하기\n",
        "super()를 사용해서 기반 클래스의 `__init__` 메소드를 호출한다.\n",
        "\n",
        "* super().메소드()"
      ],
      "metadata": {
        "id": "nlGzQvqvE6-m"
      }
    },
    {
      "cell_type": "code",
      "source": [
        "class Person:\n",
        "  def __init__(self):\n",
        "    print('Person __init__')\n",
        "    self.hello='안녕하세여'\n",
        "\n",
        "class Student(Person):\n",
        "  def __init__(self):\n",
        "    print('Student__init__')\n",
        "    super().__init__() # 기반 클래스의 __init__ 메소드를 student __init__에 초기화함\n",
        "    self.school='파이썬 도장 코딩'\n",
        "\n",
        "james=Student()\n",
        "print(james.school)\n",
        "print(james.hello) # 기반 클래스의 Person의 속성인 hello가 잘 출력된다."
      ],
      "metadata": {
        "id": "3lsPQuIGE67H"
      },
      "execution_count": null,
      "outputs": []
    },
    {
      "cell_type": "markdown",
      "source": [
        "`super().__init__()`과 같이 기반 클래스 Person의 `__init__` 메소드를 호출해주면 기반 클래스가 초기화되어서 속성이 만들어진다."
      ],
      "metadata": {
        "id": "t2DG91jjE648"
      }
    },
    {
      "cell_type": "markdown",
      "source": [
        "## 기반 클래스를 초기화하지 않아도 되는 경우\n",
        "\n",
        "파생 클래스에서 `__init__` 메소드를 생략한다면 기반 클래스의 `__init__`이 자동으로 호출되므로 super()는 사용하지 않아도 된다."
      ],
      "metadata": {
        "id": "HQPev9T_E624"
      }
    },
    {
      "cell_type": "code",
      "source": [
        "class Person:\n",
        "  def __init__(self):\n",
        "    print(Person.__init__)\n",
        "    self.hello='안녕하세여'\n",
        "\n",
        "class Student(Person):\n",
        "  pass\n",
        "\n",
        "james=Student()\n",
        "print(james.hello)"
      ],
      "metadata": {
        "id": "IFPaIxg5E60-"
      },
      "execution_count": null,
      "outputs": []
    },
    {
      "cell_type": "markdown",
      "source": [
        "파생 클래스에 `__init__`메소드가 없다면 기반 클래스의 `__init__`이 자동으로 호출되므로 기반 클래스의 속성을 사용할 수 있다."
      ],
      "metadata": {
        "id": "xsrb2xfRE6zG"
      }
    },
    {
      "cell_type": "markdown",
      "source": [
        "## 메소드 오버라이딩 하기\n",
        "\n",
        "파새 클래스에서 기반 클래스의 메소드를 새로 정의하는 메소드 오버라이딩에 대해 알아보자"
      ],
      "metadata": {
        "id": "ViZJIUNzE6xP"
      }
    },
    {
      "cell_type": "markdown",
      "source": [
        "기반 클래스에도 greeting 메소드를 입력하고 파생 클래스에도 greeting 메소드를 있는 상태로 만들고 파생클래스를 호출하고 인스턴스.greeting() 을 하면 무슨일이 일어날까??\n",
        "\n",
        "동시에 출력될까요? 아닐까요?"
      ],
      "metadata": {
        "id": "O4FZcBXYMaQb"
      }
    },
    {
      "cell_type": "code",
      "source": [
        "class Person:\n",
        "  def greeting(self):\n",
        "    print('안녕하세여')\n",
        "\n",
        "class Student(Person):\n",
        "  def greeting(self):\n",
        "    print('안녕하세요. 저는 파이썬 코딩 도장 학생입니다.')\n",
        "\n",
        "james=Student()\n",
        "james.greeting() # Student의 메소드를 출력"
      ],
      "metadata": {
        "id": "SqjpjjXWE6ve"
      },
      "execution_count": null,
      "outputs": []
    },
    {
      "cell_type": "markdown",
      "source": [
        "오버라이딩이란 무시하다 우선하다라는 뜻이고\n",
        "\n",
        "파이썬에서 오버라이드란 말 그대로 기반 클래스의 메소드를 무시하고 Student 클래스에서 새로운 greeting 메소드를 만든다는 의미이다."
      ],
      "metadata": {
        "id": "f-RvAWiEE6tW"
      }
    },
    {
      "cell_type": "markdown",
      "source": [
        "왜 메소드 오버라이딩을 사용할까?\n",
        "\n",
        "- 보통 프로그램에서 어떤 기능이 같은 메소드 이름으로 계속 사용되어야 할 때 메소드 오버라이딩을 활용한다.\n"
      ],
      "metadata": {
        "id": "aVXy6db3E6re"
      }
    },
    {
      "cell_type": "markdown",
      "source": [
        "위에서 보면,\n",
        "- Person의 greeting 메소드의 print('안녕하세요')\n",
        "- Student의 greeting 메소드의 print('안녕하세요. 저는 파이썬 코딩 도장 학생입니다.')\n",
        "은 '안녕하세요'가 중복된다.\n",
        "\n",
        "이럴 때는 기반 클래스의 메소드를 재활용하면 중복을 줄일 수 있다.\n",
        "supepr()로 기반 클래스의 메소드를 호출해보자"
      ],
      "metadata": {
        "id": "8m7V6vS4N9Ex"
      }
    },
    {
      "cell_type": "code",
      "source": [
        "class Person:\n",
        "  def greeting(self):\n",
        "    print('안녕하세요')\n",
        "\n",
        "class Student(Person):\n",
        "  def greeting(self):\n",
        "    super().greeting() # 기반 클래스의 메소드 호출하여 중복을 줄임\n",
        "    print('저는 파이썬 코딩 도장 학생입니다.')\n",
        "\n",
        "james=Student()\n",
        "james.greeting()"
      ],
      "metadata": {
        "id": "BiQbaVc3PjE8"
      },
      "execution_count": null,
      "outputs": []
    },
    {
      "cell_type": "markdown",
      "source": [
        "Student의 greeting에서 super().greeting()으로 Person의 greeting을 호출했다.\n",
        "\n",
        "즉, 중복되는 기능은 파생 클래스에서 다시 만들지 않고 기반 클래스의 기능을 사용하면된다."
      ],
      "metadata": {
        "id": "5YstFGVQPjC0"
      }
    },
    {
      "cell_type": "markdown",
      "source": [
        "## 다중 상속 사용하기\n",
        "\n",
        "다중 상속은 여러 기반 클래스로부터 상속받아서 파생 클래스를 만드는 방법이다.\n",
        "\n",
        "클래스를 만들 때 ()안에 클래스 이름을 ,(콤마)로 구분해서 넣는다."
      ],
      "metadata": {
        "id": "fv06fWPXPjAy"
      }
    },
    {
      "cell_type": "code",
      "source": [
        "class 기반클래스이름1:\n",
        "  '코드'\n",
        "class 기반클래스이름2:\n",
        "  '코드'\n",
        "\n",
        "class 파생클래스이름(기반클래스이름1,기반클래스이름2):\n",
        "  pass"
      ],
      "metadata": {
        "id": "DzAIeAHZPi_N"
      },
      "execution_count": null,
      "outputs": []
    },
    {
      "cell_type": "code",
      "source": [
        "class Person:\n",
        "  def greeting(self):\n",
        "    print('안녕')\n",
        "\n",
        "class University:\n",
        "  def manage_credit(self):\n",
        "    print('학점 관리')\n",
        "\n",
        "class Undergraduate(Person,University):\n",
        "  def study(self):\n",
        "    print('공부하기')\n",
        "\n",
        "james=Undergraduate()\n",
        "james.greeting() # 기반클래스 Person의 greeting 메소드 호출\n",
        "james.manage_credit() # 기반 클래스 University의 manage_credit 호출\n",
        "james.study() # 파생 클래스의 study 메소드 호출"
      ],
      "metadata": {
        "id": "pIMUUIquPi8y"
      },
      "execution_count": null,
      "outputs": []
    },
    {
      "cell_type": "markdown",
      "source": [
        "이렇게 class Undergraduate(Person,University):와 같이 괄호 안에 Person과 University를 콤마로 구분해서 넣으면 두 기반 클래스의 기능을 모두 상속받는다."
      ],
      "metadata": {
        "id": "w3IcKEpjPi64"
      }
    },
    {
      "cell_type": "markdown",
      "source": [
        "## 다이아몬드 상속"
      ],
      "metadata": {
        "id": "cwPlxMBMPi4-"
      }
    },
    {
      "cell_type": "code",
      "source": [
        "class A:\n",
        "  def greeting(self):\n",
        "    print('안녕하세요 A입니다.')\n",
        "\n",
        "class B(A):\n",
        "  def greeting(self):\n",
        "    print('안녕하세요 B입니다.')\n",
        "\n",
        "class C(A):\n",
        "  def greeting(self):\n",
        "    print('안녕하세요 C입니다.')\n",
        "\n",
        "class D(B,C):\n",
        "  pass\n",
        "\n",
        "x=D()\n",
        "x.greeting() # 안녕하세요 B입니다."
      ],
      "metadata": {
        "id": "yVtPwFeRPi3J"
      },
      "execution_count": null,
      "outputs": []
    },
    {
      "cell_type": "markdown",
      "source": [
        "그렇다면 어떤 클래스의 greeting을 출력할 것이냐 문제가 된다.\n",
        "다이아몬드 상속은 문제가 많다고해서 죽음의 다이아몬드라고 한다."
      ],
      "metadata": {
        "id": "Y9UcdpOWPi1E"
      }
    },
    {
      "cell_type": "markdown",
      "source": [
        "## 메소드 탐색 순서 확인하기\n",
        "\n",
        "다이아몬드 상속에 대한 해결책을 제시하는데 파이썬에서는 MRO를 따른다.\n",
        "\n",
        "* 클래스.mro()"
      ],
      "metadata": {
        "id": "BLDNPNvwPizN"
      }
    },
    {
      "cell_type": "code",
      "source": [
        "D.mro()"
      ],
      "metadata": {
        "id": "-QImJ-nfPixR"
      },
      "execution_count": null,
      "outputs": []
    },
    {
      "cell_type": "markdown",
      "source": [
        "다음과 같이 클래스 D에 메소드 mro를 사용하면 메소드 탐색 순서가 나오는데, MRO에 따르면 D의 메소드 호출 순서는 자기 자신 다음에 B이다.\n",
        "\n",
        "D로 인스턴스를 만들고 greeting을 호출하면 B의 greeting을 호출한다.(D는 greeting 메소드가 없으므로)\n",
        "\n",
        "파이썬 다중 상속을 한다면, class D(B,C): 의 클래스 목록 중 왼쪽에서 오른쪽 순서로 메소드를 찾는다.\n",
        "\n",
        "그러므로 같은 메소드가 있다면 B가 우선한다.\n",
        "\n",
        "상속관계가 복잡하게 얽혀있다면 mro()를 살펴보는게 편리하다."
      ],
      "metadata": {
        "id": "FjXaG2SDPivV"
      }
    },
    {
      "cell_type": "markdown",
      "source": [
        "## 추상 클래스 사용하기\n",
        "\n",
        "추상 클래스는 메소드의 목록만 가진 클래스이며, 상속 받는 클래스에서 메소드 구현을 강제하기 위해 사용한다.\n",
        "\n",
        "* 추상 클래스를 만드려면 import abc로 모듈을 가져와야한다.\n",
        "\n",
        "* 클래스의 괄호() 안에 metaclass=ABCMeta를 지정\n",
        "\n",
        "* 메소드를 만들때, @absctractmethod를 붙여서 추상 메소드로 지정해야한다."
      ],
      "metadata": {
        "id": "HKsejpmLPitQ"
      }
    },
    {
      "cell_type": "code",
      "source": [
        "from abc import *\n",
        "\n",
        "class 추상클래스이름(metaclass=ABCMeta):\n",
        "  @abstractmethod\n",
        "  def 메소드이름(self):\n",
        "    '코드'"
      ],
      "metadata": {
        "id": "BRWd7krvPirN"
      },
      "execution_count": null,
      "outputs": []
    },
    {
      "cell_type": "code",
      "source": [
        "from abc import *\n",
        "class StudentBase(metaclass=ABCMeta):\n",
        "  @abstractmethod\n",
        "  def study(self):\n",
        "    pass\n",
        "\n",
        "  @abstractmethod\n",
        "  def go_to_school(self):\n",
        "    pass\n",
        "\n",
        "class Student(StudentBase):\n",
        "  def study(self):\n",
        "    print('공부하기')\n",
        "  def go_to_school(self):\n",
        "    print('학교가기')\n",
        "\n",
        "james=Student()\n",
        "james.study()\n",
        "james.go_to_school()\n"
      ],
      "metadata": {
        "id": "8kR02G1NPipa"
      },
      "execution_count": null,
      "outputs": []
    },
    {
      "cell_type": "markdown",
      "source": [
        "StudentBase는 학생이 반드시 해야 하는 일들을 추상 메소드로 만들었다.\n",
        "\n",
        "그리고 Student에는 추상 클래스 StudentBase의 모든 추상 메소드를 구현하여 학생 클래스를 작성했다.\n",
        "\n",
        "이처럼 추상 클래스는 파생 클래스가 반드시 구현해야하는 메소드들을 정해줄 수 있다.\n",
        "\n",
        "참고로 추상 클래스의 추상 메소드를 모두 구현했는지 확인하는 시점은 파생 클래스가 인스턴스를 만들 때이다.\n",
        "\n",
        "따라서 james=Student()에서 확인한다."
      ],
      "metadata": {
        "id": "jfJX0DlhPinx"
      }
    },
    {
      "cell_type": "markdown",
      "source": [
        "## 추상 메소드를 빈 메소드로 만드는 이유"
      ],
      "metadata": {
        "id": "awiVYfDSPilh"
      }
    },
    {
      "cell_type": "markdown",
      "source": [
        "중요한 점은 추상 클래스는 인스턴스로 만들 수가 없다는 점이다."
      ],
      "metadata": {
        "id": "F_V1aev3Pijl"
      }
    },
    {
      "cell_type": "code",
      "source": [
        "james=StudentBase()"
      ],
      "metadata": {
        "id": "pcQxrjxIPihx"
      },
      "execution_count": null,
      "outputs": []
    },
    {
      "cell_type": "markdown",
      "source": [
        "그래서 추상 메소드를 만들 때 pass만 넣어서 빈 메소드로 만드는 것이다.\n",
        "\n",
        "그 이유는 추상 클래스는 인스턴스로 만들 수 없으니 추상 메소드도 호출할 일이 없기 때문"
      ],
      "metadata": {
        "id": "FKNatoGYPif6"
      }
    },
    {
      "cell_type": "markdown",
      "source": [
        "정리하자면, 추상 클래스는 인스턴스로 만들 때는 사용하지 않으며, 오로지 상속에만 사용한다.\n",
        "\n",
        "그리고 파생 클래스에서 반드시 구현해야 할 메소드를 정해 줄 때 사용한다."
      ],
      "metadata": {
        "id": "pv14yEU2Pic5"
      }
    },
    {
      "cell_type": "markdown",
      "source": [
        "# 두점 사이의 거리 구하기"
      ],
      "metadata": {
        "id": "ByN-ahFXPiZx"
      }
    },
    {
      "cell_type": "markdown",
      "source": [
        "## 클래스로 점 구현하기"
      ],
      "metadata": {
        "id": "EZTNG0TCPiEk"
      }
    },
    {
      "cell_type": "code",
      "source": [
        "class Point2D:\n",
        "  def __init__(self,x,y):\n",
        "    self.x=x\n",
        "    self.y=y\n",
        "\n",
        "p1=Point2D(30,20) # 점1\n",
        "p2=Point2D(60,50) # 점2\n",
        "\n",
        "print('p1: {} {}'.format(p1.x,p1.y))\n",
        "print('p2: {} {}'.format(p2.x,p2.y))"
      ],
      "metadata": {
        "id": "D7YYyZNSfjIp"
      },
      "execution_count": null,
      "outputs": []
    },
    {
      "cell_type": "markdown",
      "source": [
        "## 피타고라스의 정리로 두 점의 거리 구하기\n",
        "\n",
        "피타고라스의 정리\n",
        "* 임의의 직각삼각형에서 빗변을 한 변으로 하는 정사각형의 넓이는 다른 두 변을 각각 한 변으로 하는 정사각형의 넓이의 합과 같다.\n",
        "\n",
        "* a^2 + a^2 = c^2"
      ],
      "metadata": {
        "id": "nsKcJfu3gel5"
      }
    },
    {
      "cell_type": "code",
      "source": [
        "a=p2.x - p1.x # 가로 길이\n",
        "b=p2.y - p1.y # 세로 길이"
      ],
      "metadata": {
        "id": "IIhserTUg_PA"
      },
      "execution_count": null,
      "outputs": []
    },
    {
      "cell_type": "markdown",
      "source": [
        "c의길이는 a의 제곱+ b의 제곱의 제곱근을 구해야한다."
      ],
      "metadata": {
        "id": "gxqxOBHvhbJ-"
      }
    },
    {
      "cell_type": "markdown",
      "source": [
        "* math.sqrt(값)\n",
        "\n",
        "제곱근을 반환, 값이 음수이면 에러 발생"
      ],
      "metadata": {
        "id": "rx6huELMhbHc"
      }
    },
    {
      "cell_type": "code",
      "source": [
        "import math\n",
        "\n",
        "class Point2D:\n",
        "  def __init__(self,x,y):\n",
        "    self.x=x\n",
        "    self.y=y\n",
        "\n",
        "p1=Point2D(x=30,y=20)\n",
        "p2=Point2D(x=60,y=50)\n",
        "\n",
        "a= p2.x - p1.x\n",
        "b= p2.y - p1.y\n",
        "\n",
        "c=math.sqrt((a*a)+(b*b)) # (a*a)+(b*b)의 제곱근\n",
        "print(c)"
      ],
      "metadata": {
        "id": "wMbFcMR4hbF4"
      },
      "execution_count": null,
      "outputs": []
    },
    {
      "cell_type": "code",
      "source": [],
      "metadata": {
        "id": "ezxJcC39hbAW"
      },
      "execution_count": null,
      "outputs": []
    },
    {
      "cell_type": "code",
      "source": [],
      "metadata": {
        "id": "OVxgd5Vtha7w"
      },
      "execution_count": null,
      "outputs": []
    },
    {
      "cell_type": "code",
      "source": [],
      "metadata": {
        "id": "yg2tzuN8ha4i"
      },
      "execution_count": null,
      "outputs": []
    },
    {
      "cell_type": "code",
      "source": [],
      "metadata": {
        "id": "FJ5C5WpSha1Y"
      },
      "execution_count": null,
      "outputs": []
    },
    {
      "cell_type": "code",
      "source": [],
      "metadata": {
        "id": "nlegd1y_haxw"
      },
      "execution_count": null,
      "outputs": []
    },
    {
      "cell_type": "code",
      "source": [],
      "metadata": {
        "id": "HA3Jhbu9hatI"
      },
      "execution_count": null,
      "outputs": []
    }
  ]
}