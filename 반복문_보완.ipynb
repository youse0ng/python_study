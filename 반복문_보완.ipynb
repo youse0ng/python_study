{
  "nbformat": 4,
  "nbformat_minor": 0,
  "metadata": {
    "colab": {
      "private_outputs": true,
      "provenance": [],
      "toc_visible": true,
      "authorship_tag": "ABX9TyNYiiL7sW7LabdXf4vw9tEh",
      "include_colab_link": true
    },
    "kernelspec": {
      "name": "python3",
      "display_name": "Python 3"
    },
    "language_info": {
      "name": "python"
    }
  },
  "cells": [
    {
      "cell_type": "markdown",
      "metadata": {
        "id": "view-in-github",
        "colab_type": "text"
      },
      "source": [
        "<a href=\"https://colab.research.google.com/github/youse0ng/python_study/blob/main/%EB%B0%98%EB%B3%B5%EB%AC%B8_%EB%B3%B4%EC%99%84.ipynb\" target=\"_parent\"><img src=\"https://colab.research.google.com/assets/colab-badge.svg\" alt=\"Open In Colab\"/></a>"
      ]
    },
    {
      "cell_type": "markdown",
      "source": [
        "정렬 알고리즘을 공부하는데, 이중 포문에 대해 이해가 즉각적으로 되지 않아서 for문에 대해 한번 더 공부해야함을 느꼈습니다."
      ],
      "metadata": {
        "id": "x_qRArxwsSX1"
      }
    },
    {
      "cell_type": "markdown",
      "source": [
        "for문을 쓰는 이유는 반복되는 작업에 대해 간단하게 처리를 하기 위해서\n",
        "\n",
        "예를 들어, print(100)을 100번 처리하려고 print(100)을 100번 입력하기보단 반복문을 통해\n",
        "\n",
        "간단한 작업을 반복시킴으로써 간단하게 처리한다."
      ],
      "metadata": {
        "id": "GOdmeXnysllf"
      }
    },
    {
      "cell_type": "markdown",
      "source": [
        "for 반복문은 반복 횟수가 정해져 있을 때 주로 사용한다."
      ],
      "metadata": {
        "id": "ttdgmhfqs_ke"
      }
    },
    {
      "cell_type": "markdown",
      "source": [
        "# for문"
      ],
      "metadata": {
        "id": "YuqCQkUjvp_X"
      }
    },
    {
      "cell_type": "markdown",
      "source": [
        "## 시작하는 숫자와 끝나는 숫자 지정\n",
        "\n",
        "* for 변수 in range(시작하는 숫자, 끝나는 숫자):\n"
      ],
      "metadata": {
        "id": "X6EkvGW8tYS1"
      }
    },
    {
      "cell_type": "code",
      "source": [
        "for i in range(5,10): # 5부터 9까지 출력\n",
        "    print(i)\n"
      ],
      "metadata": {
        "id": "YPtkVnCVtzf-"
      },
      "execution_count": null,
      "outputs": []
    },
    {
      "cell_type": "markdown",
      "source": [
        "## 증가폭 사용하기\n",
        "\n",
        "* for 변수 in range(시작, 끝 ,증가폭):\n"
      ],
      "metadata": {
        "id": "QZn3OrHquImu"
      }
    },
    {
      "cell_type": "code",
      "source": [
        "for i in range(0,10,2):\n",
        "  print(i) # 0,2,4,6,8"
      ],
      "metadata": {
        "id": "6Tjs18NkuOE2"
      },
      "execution_count": null,
      "outputs": []
    },
    {
      "cell_type": "markdown",
      "source": [
        "## 숫자를 감소시키기\n",
        "\n",
        "* for 변수 in range(시작,끝,음수):"
      ],
      "metadata": {
        "id": "81Zp8lY_uVcd"
      }
    },
    {
      "cell_type": "code",
      "source": [
        "for i in range(10,0,-1): # 10에서 1까지 -1씩 감소\n",
        "    print(i)"
      ],
      "metadata": {
        "id": "yc0VKVbRuYZX"
      },
      "execution_count": null,
      "outputs": []
    },
    {
      "cell_type": "markdown",
      "source": [
        "특히 감소하는 range의 끝나는 숫자 0은 생성되는 숫자에 포함시키지 않으므로 1까지만 감소한다.\n",
        "\n",
        "그냥 끝나는 숫자는 생성되는 숫자에 포함안된다고 알면 된다."
      ],
      "metadata": {
        "id": "aO2rXRICuu7e"
      }
    },
    {
      "cell_type": "markdown",
      "source": [
        "증가폭을 음수말고 지정하는 방법이 있다.\n",
        "\n",
        "* for 변수 in reversed(range(횟수))\n",
        "* for 변수 in reversed(range(시작,끝))\n",
        "* for 변수 in reversed(range(시작,끝,증가폭))"
      ],
      "metadata": {
        "id": "jHzHt0G-vBHn"
      }
    },
    {
      "cell_type": "markdown",
      "source": [
        "# while문\n",
        "\n",
        "while 반복문은 조건식으로만 동작하며 반복할 코드 안에 조건식에 영향을 주는 변화식이 들어간다.\n",
        "\n",
        "while 반복문은 반복 횟수가 정해지지 않았을 때 주로 사용합니다."
      ],
      "metadata": {
        "id": "9d2Q90wGvNB2"
      }
    },
    {
      "cell_type": "code",
      "source": [
        "i = 0 # 초기식\n",
        "while i<100: # while 조건식\n",
        "    print('hello,world',i) # 반복할 코드\n",
        "    i+=1 # 변화식"
      ],
      "metadata": {
        "id": "IDq9Evngvts-"
      },
      "execution_count": null,
      "outputs": []
    },
    {
      "cell_type": "markdown",
      "source": [
        "먼저 초기식부터 시작해서 조건식을 판별한다.\n",
        "\n",
        "이때 조건식이 True면 반복할 코드와 변화식을 함께 수행하고,\n",
        "\n",
        "조건식이 False면 반복문을 끝낸 뒤 다음 코드를 실행한다."
      ],
      "metadata": {
        "id": "TI7fTUSRwFiu"
      }
    },
    {
      "cell_type": "markdown",
      "source": [
        "# 중첩 루프"
      ],
      "metadata": {
        "id": "LDcFp-kXwXkP"
      }
    },
    {
      "cell_type": "markdown",
      "source": [
        "## 사각형 별 출력하기"
      ],
      "metadata": {
        "id": "y4OB0u8dY-Q0"
      }
    },
    {
      "cell_type": "code",
      "source": [
        "for i in range(5):\n",
        "  for j in range(5):\n",
        "    print('*',end='')\n",
        "  print()"
      ],
      "metadata": {
        "id": "QdsO9IHBZFHG"
      },
      "execution_count": null,
      "outputs": []
    },
    {
      "cell_type": "markdown",
      "source": [
        "## 계단식으로 별 출력하기"
      ],
      "metadata": {
        "id": "cp8H836mZTz6"
      }
    },
    {
      "cell_type": "code",
      "source": [
        "for i in range(5):\n",
        "  for j in range(i+1):\n",
        "    print('*',end='')\n",
        "  print()"
      ],
      "metadata": {
        "id": "dI2jfPy0ZwHr"
      },
      "execution_count": null,
      "outputs": []
    },
    {
      "cell_type": "markdown",
      "source": [
        "## 대각선으로 별 출력하기"
      ],
      "metadata": {
        "id": "APiaYt1Ye25-"
      }
    },
    {
      "cell_type": "code",
      "source": [
        "for i in range(5):\n",
        "  for j in range(0,i+1):\n",
        "    if j<i:\n",
        "      print(\" \",end='')\n",
        "    if j==i:\n",
        "      print(\"*\",end='')\n",
        "  print()"
      ],
      "metadata": {
        "id": "ancH8J-6e5Eh"
      },
      "execution_count": null,
      "outputs": []
    },
    {
      "cell_type": "code",
      "source": [],
      "metadata": {
        "id": "ljxbmpDGflMu"
      },
      "execution_count": null,
      "outputs": []
    }
  ]
}