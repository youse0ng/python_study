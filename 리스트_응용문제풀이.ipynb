{
  "nbformat": 4,
  "nbformat_minor": 0,
  "metadata": {
    "colab": {
      "private_outputs": true,
      "provenance": [],
      "authorship_tag": "ABX9TyPkUw15kvqlVDUrU+9erOQ3",
      "include_colab_link": true
    },
    "kernelspec": {
      "name": "python3",
      "display_name": "Python 3"
    },
    "language_info": {
      "name": "python"
    }
  },
  "cells": [
    {
      "cell_type": "markdown",
      "metadata": {
        "id": "view-in-github",
        "colab_type": "text"
      },
      "source": [
        "<a href=\"https://colab.research.google.com/github/youse0ng/python_study/blob/main/%EB%A6%AC%EC%8A%A4%ED%8A%B8_%EC%9D%91%EC%9A%A9%EB%AC%B8%EC%A0%9C%ED%92%80%EC%9D%B4.ipynb\" target=\"_parent\"><img src=\"https://colab.research.google.com/assets/colab-badge.svg\" alt=\"Open In Colab\"/></a>"
      ]
    },
    {
      "cell_type": "markdown",
      "source": [
        "# 연습문제: 리스트에서 특정 요소만 뽑아내기 (리스트 표현식)\n",
        "\n",
        "문자열 중에서 길이가 5인것들만 리스트 형태로 출력하기"
      ],
      "metadata": {
        "id": "E1K9PbJp3vTj"
      }
    },
    {
      "cell_type": "code",
      "source": [
        "a = ['alpha','bravo','charlie','delta','echo','faxtrot','golf','hotel','india']\n",
        "\n",
        "b = [i for i in a if len(i)==5]\n",
        "\n",
        "print(b)"
      ],
      "metadata": {
        "id": "ad-7zbag69H5"
      },
      "execution_count": null,
      "outputs": []
    },
    {
      "cell_type": "code",
      "source": [
        "b = [i for i in a if 'o' and 'e' in i] # 문자열에 e와 o가 동시에 들어있는 리스트\n",
        "print(b)"
      ],
      "metadata": {
        "id": "PQg_qMa77SRS"
      },
      "execution_count": null,
      "outputs": []
    },
    {
      "cell_type": "markdown",
      "source": [
        "# 심사문제: 2의 거듭제곱 리스트 생성하기\n",
        "\n",
        "첫 번째 정수부터 두 번째 정수까지를 지수로 하는 2의 거듭제곱 리스트를 출력하는 프로그램을 만드시오. 단 (2번째 인덱스와 마지막에서 두번째 인덱스는 제거하시오)"
      ],
      "metadata": {
        "id": "X8CZ4ZtU7xVT"
      }
    },
    {
      "cell_type": "code",
      "source": [
        "while True:\n",
        "  x=int(input(\"첫 번째 입력 값을 입력하시오.: \"))\n",
        "  y=int(input(\"두 번째 입력 값을 입력하시오.: \"))\n",
        "  if 1<=x<=20 and 10<=y<=30:\n",
        "    print(\"옳은 범위의 수를 입력했습니다.\")\n",
        "    break\n",
        "  else:\n",
        "    print(\"다시 입력하시오.\")\n",
        "\n",
        "squared_value=[2**i for i in range(x,y+1)]\n",
        "del squared_value[1]\n",
        "del squared_value[-2]\n",
        "print(squared_value)"
      ],
      "metadata": {
        "id": "TFOQ4QU47xRp"
      },
      "execution_count": null,
      "outputs": []
    },
    {
      "cell_type": "markdown",
      "source": [
        "# 연습문제: 3차원 리스트 만들기\n",
        "높이 2 세로크기 4 가로 크기 3인 3차원 리스트 만들기"
      ],
      "metadata": {
        "id": "LETwuHIk_cE6"
      }
    },
    {
      "cell_type": "code",
      "source": [
        "a=[[[0 for j in range(3)]for i in range(4)] for k in range(2)]\n",
        "a"
      ],
      "metadata": {
        "id": "HHh04pMT7xPp"
      },
      "execution_count": null,
      "outputs": []
    },
    {
      "cell_type": "markdown",
      "source": [
        "# 심사문제: 지뢰찾기"
      ],
      "metadata": {
        "id": "tcfRKS0h7xMM"
      }
    },
    {
      "cell_type": "code",
      "source": [
        "col,row=map(int,input().split())\n",
        "matrix=[]\n",
        "for i in range(row):\n",
        "  matrix.append(list(input()))\n",
        "count=0\n",
        "for i in range(col):\n",
        "  for j in range(row):\n",
        "    if matrix[i][j] == '.':\n",
        "      if i != 0\n"
      ],
      "metadata": {
        "id": "tAsAXKn17xKK"
      },
      "execution_count": null,
      "outputs": []
    },
    {
      "cell_type": "code",
      "source": [],
      "metadata": {
        "id": "oYoFLw-D7xIQ"
      },
      "execution_count": null,
      "outputs": []
    },
    {
      "cell_type": "code",
      "source": [],
      "metadata": {
        "id": "55Chs-B77xGR"
      },
      "execution_count": null,
      "outputs": []
    }
  ]
}