{
  "nbformat": 4,
  "nbformat_minor": 0,
  "metadata": {
    "colab": {
      "private_outputs": true,
      "provenance": [],
      "authorship_tag": "ABX9TyPQEcNXw0fUY90ytkHqlE74",
      "include_colab_link": true
    },
    "kernelspec": {
      "name": "python3",
      "display_name": "Python 3"
    },
    "language_info": {
      "name": "python"
    }
  },
  "cells": [
    {
      "cell_type": "markdown",
      "metadata": {
        "id": "view-in-github",
        "colab_type": "text"
      },
      "source": [
        "<a href=\"https://colab.research.google.com/github/youse0ng/python_study/blob/main/%ED%95%A8%EC%88%98%EA%B8%B0%EC%B4%88%2B%EC%9C%84%EC%B9%98%EC%9D%B8%EC%88%98_%ED%82%A4%EC%9B%8C%EB%93%9C%EC%9D%B8%EC%88%98%2B%EB%9E%8C%EB%8B%A4%ED%91%9C%ED%98%84%EC%8B%9D.ipynb\" target=\"_parent\"><img src=\"https://colab.research.google.com/assets/colab-badge.svg\" alt=\"Open In Colab\"/></a>"
      ]
    },
    {
      "cell_type": "markdown",
      "source": [
        "# 연습 문제: 몫과 나머지를 구하는 함수 만들기\n",
        "x를 y로 나누었을 때의 몫과 나머지 출력"
      ],
      "metadata": {
        "id": "xON9cgDQzXNu"
      }
    },
    {
      "cell_type": "code",
      "source": [
        "x=10\n",
        "y=3\n",
        "\n",
        "def get_quotient_remainder(x,y):\n",
        "  return x/y,x%y\n",
        "\n",
        "quotient,remainder=get_quotient_remainder(x,y)\n",
        "print(f'몫:{quotient}, 나머지: {remainder}')"
      ],
      "metadata": {
        "id": "ukER5AtA3IEh"
      },
      "execution_count": null,
      "outputs": []
    },
    {
      "cell_type": "markdown",
      "source": [
        "# 심사문제: 사칙 연산 함수 만들기\n",
        "\n",
        "두 숫자의 덧셈 뺄셈 곱셈 나눗셈 결과가 출력되게 만들어라."
      ],
      "metadata": {
        "id": "OimXw-PU3jlK"
      }
    },
    {
      "cell_type": "code",
      "source": [
        "x,y=map(int,input().split())\n",
        "\n",
        "def calc(x,y):\n",
        "  return x+y, x-y, x*y, x/y\n",
        "\n",
        "a,s,m,d =calc(x,y)\n",
        "print(f\"덧셈: {a}, 뺄셈: {s}, 곱셈: {m}, 나눗셈: {d}\")"
      ],
      "metadata": {
        "id": "IxyhIU8j4DGv"
      },
      "execution_count": null,
      "outputs": []
    },
    {
      "cell_type": "markdown",
      "source": [
        "# 함수와 *(애스터리스크)"
      ],
      "metadata": {
        "id": "fLK2oPY64DEo"
      }
    },
    {
      "cell_type": "code",
      "source": [
        "def print_number(a,b,c):\n",
        "  print(a)\n",
        "  print(b)\n",
        "  print(c)\n",
        "\n",
        "x=[10,20,30]\n",
        "print_number(*x)"
      ],
      "metadata": {
        "id": "ho4Ifr9N4C_A"
      },
      "execution_count": null,
      "outputs": []
    },
    {
      "cell_type": "markdown",
      "source": [
        "리스트나 튜플 앞에 *(애스터리스크)를 붙이면 언패킹이 된다.\n",
        "\n",
        "그래서 a,b,c 파라미터에 10,20,30 인수가 들어간다."
      ],
      "metadata": {
        "id": "kMeqhMyg5Q5I"
      }
    },
    {
      "cell_type": "markdown",
      "source": [
        "# 가변 인수 함수 만들기\n",
        "\n",
        "위치 인수와 리스트 언패킹은 어디에 사용할까?\n",
        "\n",
        "인수의 개수가 정해지지 않은 가변 인수에 사용\n",
        "\n",
        "즉, 같은 함수에 인수 한 개를 넣을 수 있고, 열 개를 넣을 수도 있다. 또는 인수를 넣지 않을 수도 있다.\n",
        "\n",
        "가변 인수 함수\n",
        "* def 함수이름(*매개변수):\n"
      ],
      "metadata": {
        "id": "-UwW_-ZS5ofn"
      }
    },
    {
      "cell_type": "code",
      "source": [
        "def print_numbers(*args):\n",
        "  for arg in args:\n",
        "    print(arg)\n",
        "\n",
        "print_numbers(*[10,20,30])\n",
        "print_numbers(10,20,30)\n",
        "x=[40,50,60]\n",
        "print_numbers(*x)"
      ],
      "metadata": {
        "id": "hw1KKh916KY3"
      },
      "execution_count": null,
      "outputs": []
    },
    {
      "cell_type": "markdown",
      "source": [
        "# 키워드 인수와 딕셔너리 언패킹\n",
        "\n",
        "* 함수(**딕셔너리)\n",
        "\n",
        "매개변수 이름과 딕셔너리의 키 이름이 같아야한다."
      ],
      "metadata": {
        "id": "V65ChSnP7rFw"
      }
    },
    {
      "cell_type": "code",
      "source": [
        "def personal_info(name,age,address):\n",
        "  print('이름: ',name)\n",
        "  print('나이: ',age)\n",
        "  print('주소: ',address)\n",
        "\n",
        "x={'name':'홍길동','age':30,'address':'서울시 용산구'}\n",
        "personal_info(**x)"
      ],
      "metadata": {
        "id": "JjjIDi2G8bHn"
      },
      "execution_count": null,
      "outputs": []
    },
    {
      "cell_type": "markdown",
      "source": [
        "# 키워드 인수를 사용하는 가변 인수 함수 만들기\n",
        "\n",
        "* def 함수이름(**매개변수):\n",
        "\n",
        "* `**kwargs`와 같이 매개변수 앞에 **를 붙입니다"
      ],
      "metadata": {
        "id": "z-54kvHW9AU3"
      }
    },
    {
      "cell_type": "code",
      "source": [
        "def personal_info(**kwargs):\n",
        "  for kw,arg in kwargs.items():\n",
        "    print(kw,':',arg,sep='')\n",
        "\n",
        "personal_info(name='황유성',age=25, address='수원시 영통구')\n",
        "personal_info(**{'name':'황유성','age':25,'address':'수원시 영통구'})"
      ],
      "metadata": {
        "id": "hiTgsoq__1Sn"
      },
      "execution_count": null,
      "outputs": []
    },
    {
      "cell_type": "markdown",
      "source": [
        "# 연습문제: 가장 높은 점수를 구하는 함수를 만들기"
      ],
      "metadata": {
        "id": "oLt7cNgUBVWn"
      }
    },
    {
      "cell_type": "code",
      "source": [
        "korean,english,mathematics,science =100,86,81,91\n",
        "def get_max_score(*args):\n",
        "  max=0\n",
        "  for score in args:\n",
        "    if max < score:\n",
        "      max=score\n",
        "  return max\n",
        "max_score=get_max_score(korean,english,mathematics,science)\n",
        "print(max_score)\n",
        "max_score=get_max_score(english,science)\n",
        "print(max_score)"
      ],
      "metadata": {
        "id": "idAPeevMGe6D"
      },
      "execution_count": null,
      "outputs": []
    },
    {
      "cell_type": "code",
      "source": [
        "korean,english,mathematics,science =100,86,81,91\n",
        "def get_max_score(*args):\n",
        "  return max(args)\n",
        "max_score=get_max_score(korean,english,mathematics,science)\n",
        "print(max_score)\n",
        "max_score=get_max_score(english,science)\n",
        "print(max_score)"
      ],
      "metadata": {
        "id": "gnnDyE3bH5x2"
      },
      "execution_count": null,
      "outputs": []
    },
    {
      "cell_type": "markdown",
      "source": [
        "# 심사 문제: 가장 낮은 점수, 높은 점수와 평균 점수를 구하는 함수\n",
        "\n"
      ],
      "metadata": {
        "id": "1_bwIyZAIQgm"
      }
    },
    {
      "cell_type": "code",
      "source": [
        "korean,english,mathematics,science=map(int,input().split())\n",
        "\n",
        "def get_min_max_score(*args):\n",
        "  return min(args),max(args)\n",
        "def get_average(**kwargs):\n",
        "  sum=0\n",
        "  for kw,arg in kwargs.items():\n",
        "    sum+=arg\n",
        "  return sum / len(kwargs)\n",
        "\n",
        "min_score,max_score=get_min_max_score(korean,english,mathematics,science)\n",
        "average_score=get_average(korean=korean,english=english,\n",
        "                          mathematics=mathematics,science=science)\n",
        "\n",
        "print(f'최저 점수: {min_score:.2f}, 최고 점수: {max_score:.2f}, 평균: {average_score:.2f}')\n",
        "\n",
        "min_score,max_score=get_min_max_score(english,science)\n",
        "average_score=get_average(english=english,\n",
        "                          science=science)\n",
        "print(f'최저 점수: {min_score:.2f}, 최고 점수: {max_score:.2f}, 평균: {average_score:.2f}')"
      ],
      "metadata": {
        "id": "kN0vhfILIscF"
      },
      "execution_count": null,
      "outputs": []
    },
    {
      "cell_type": "markdown",
      "source": [
        "# 연습문제: 이미지 파일만 가져오기\n",
        "\n",
        "리스트 요소 중 확장자가 .png 혹은 .jpg인 이미지 파일만 출력되게하라."
      ],
      "metadata": {
        "id": "MlPyLXSDLb8v"
      }
    },
    {
      "cell_type": "code",
      "source": [
        "files = ['fonts','1.png','10.jpg','11.gif','2.jpg','3.png','table.xslx','spec.docx']\n",
        "\n",
        "print(list(filter(lambda x : '.png' in x or '.jpg' in x, files)))\n",
        "# True 값에 해당하는 요소만 필터에 담아져 list화된다.\n",
        "print(list(filter(lambda x: x.find('.png') != -1 or x.find('.jpg') != -1,files)))\n",
        "# find 함수는 문자열 메소드인데, find('찾을 문자열')이 없다면 -1을 반환한다.\n",
        "# 그래서 ('.jpg','.png')을 품은 문자열은 -1이 아니므로 조건식에서 참이 되므로 필터에 담겨짐."
      ],
      "metadata": {
        "id": "I5ZjAviAOzwf"
      },
      "execution_count": null,
      "outputs": []
    },
    {
      "cell_type": "markdown",
      "source": [
        "# 심사문제: 파일 이름을 한꺼번에 바꾸기"
      ],
      "metadata": {
        "id": "1X9yHSaNSX69"
      }
    },
    {
      "cell_type": "code",
      "source": [
        "files = input().split()\n",
        "\n",
        "print(list(map(lambda x: '{0:0>3}'.format(x.split('.')[0])+'.'+x.split('.')[1],files)))\n",
        "\n",
        "# map을 통해 files의 내부 원소에 하나씩 접근\n",
        "# format함수는 내부에 숫자가 들어와야하므로 x.split('.')을 이용하여 .(점)을 기점으로 앞부분은 정수이므로 x.split('.')[0]으로 정수를 반환)\n",
        "# {0:0>3}.format()을 통해 0을 왼쪽을 넣어줌 단, 길이는 3미만 일때, 그러면 출력값은 '008' 이렇게 나옴\n",
        "# + 연산자로 문자를 더해서 출력하였다."
      ],
      "metadata": {
        "id": "Ngrs_FCkTKcM"
      },
      "execution_count": null,
      "outputs": []
    }
  ]
}