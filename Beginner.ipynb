{
 "cells": [
  {
   "cell_type": "markdown",
   "metadata": {},
   "source": [
    "# 1. 문자열 관련 split() 함수, map() 함수\n",
    "입력 값을 변수 2개에 저장하기"
   ]
  },
  {
   "cell_type": "code",
   "execution_count": 5,
   "metadata": {},
   "outputs": [
    {
     "data": {
      "text/plain": [
       "('바보', '연야')"
      ]
     },
     "execution_count": 5,
     "metadata": {},
     "output_type": "execute_result"
    }
   ],
   "source": [
    "# 문자열 2개 입력을 나누기\n",
    "a,b=input(\"문자열 2개를 입력하시오. \").split()"
   ]
  },
  {
   "cell_type": "code",
   "execution_count": 9,
   "metadata": {},
   "outputs": [
    {
     "name": "stdout",
     "output_type": "stream",
     "text": [
      "12\n"
     ]
    }
   ],
   "source": [
    "# 두 숫자의 합구하기\n",
    "a,b=input('숫자 2개를 입력하시오. ').split()\n",
    "a=int(a)\n",
    "b=int(b)\n",
    "print(a+b)"
   ]
  },
  {
   "cell_type": "code",
   "execution_count": 13,
   "metadata": {},
   "outputs": [
    {
     "name": "stdout",
     "output_type": "stream",
     "text": [
      "12\n"
     ]
    }
   ],
   "source": [
    "# map함수를 이용해서 정수로 변환하기\n",
    "a,b=map(int, input(\"숫자 2개를 입력하시오: \").split())\n",
    "print(a+b)\n",
    "map()"
   ]
  },
  {
   "cell_type": "code",
   "execution_count": 27,
   "metadata": {},
   "outputs": [
    {
     "data": {
      "text/plain": [
       "3"
      ]
     },
     "execution_count": 27,
     "metadata": {},
     "output_type": "execute_result"
    }
   ],
   "source": [
    "def sum(a,b):\n",
    "    return a+b\n",
    "a,b=map(int,input(\"숫자 2개를 입력하시오. \").split(','))\n",
    "sum(a,b)"
   ]
  },
  {
   "cell_type": "markdown",
   "metadata": {},
   "source": [
    "split(\"기준 문자열\") 혹은 split()으로 입력된 문자열을 기준문자열로 또는 공백으로 나눌 수 있다.\n",
    "\n",
    "map(함수, iterable)로 iterable 자료형의 원소를 지정된 함수로 매핑하여 내보냄."
   ]
  },
  {
   "cell_type": "code",
   "execution_count": 1,
   "metadata": {},
   "outputs": [
    {
     "name": "stdout",
     "output_type": "stream",
     "text": [
      "[1, 2, 3, 4, 4]\n"
     ]
    }
   ],
   "source": [
    "print(list(map(int,['1','2','3',4.5,4.1])))"
   ]
  },
  {
   "cell_type": "markdown",
   "metadata": {},
   "source": [
    "# 2. 출력 방법 \n",
    "\n",
    "2.1 sep로 값 사이에 문자 넣기 (Seperator 구분자)"
   ]
  },
  {
   "cell_type": "code",
   "execution_count": 6,
   "metadata": {},
   "outputs": [
    {
     "name": "stdout",
     "output_type": "stream",
     "text": [
      "1,2,3\n",
      "1, 2, 3\n",
      "1 2 3\n",
      "1xx2xx3\n",
      "HELLO PYTHON\n",
      "HELLO, PYTHON\n"
     ]
    }
   ],
   "source": [
    "print(1,2,3,sep=',')\n",
    "print(1,2,3,sep=', ')\n",
    "print(1,2,3,sep=' ')\n",
    "print(1,2,3,sep='xx')\n",
    "print('HELLO','PYTHON',sep=' ')\n",
    "print('HELLO','PYTHON',sep=', ')"
   ]
  },
  {
   "cell_type": "markdown",
   "metadata": {},
   "source": [
    "2.2 줄바꿈 활용하기"
   ]
  },
  {
   "cell_type": "code",
   "execution_count": 7,
   "metadata": {},
   "outputs": [
    {
     "name": "stdout",
     "output_type": "stream",
     "text": [
      "1\n",
      "2\n",
      "3\n"
     ]
    }
   ],
   "source": [
    "print(1,2,3,sep='\\n') # 줄바꿈\n"
   ]
  },
  {
   "cell_type": "markdown",
   "metadata": {},
   "source": [
    "end 사용하기\n",
    "print(1,2,3) 처럼 한 줄에 여러 개의 값을 출력하는 방법"
   ]
  },
  {
   "cell_type": "code",
   "execution_count": 10,
   "metadata": {},
   "outputs": [
    {
     "name": "stdout",
     "output_type": "stream",
     "text": [
      "1 2 3\n",
      "1 2 3\n"
     ]
    }
   ],
   "source": [
    "print(1,2,3)\n",
    "\n",
    "# end에 빈 문자열을 지정하면 다음번 출력이 바로 뒤에 오게 된다.\n",
    "print(1,end=' ')\n",
    "print(2,end=' ')\n",
    "print(3)"
   ]
  },
  {
   "cell_type": "markdown",
   "metadata": {},
   "source": [
    "3. 불과 비교, 논리 연산자\n",
    "\n",
    "참 거짓을 나타내는 boolean(불)\n",
    "\n",
    "두 값의 관계를 판단하는 비교 연산자와 두 값의 논리값을 판단하는 논리 연산자도 다시 공부해보자.\n",
    "\n",
    "값 비교\n",
    "== (equal)\n",
    "!= (not equal)\n",
    "\n",
    "객체(object) 비교\n",
    "is not \n",
    "is "
   ]
  },
  {
   "cell_type": "markdown",
   "metadata": {},
   "source": [
    "비교 연산자"
   ]
  },
  {
   "cell_type": "code",
   "execution_count": 6,
   "metadata": {},
   "outputs": [
    {
     "name": "stderr",
     "output_type": "stream",
     "text": [
      "<>:3: SyntaxWarning: \"is\" with a literal. Did you mean \"==\"?\n",
      "<>:4: SyntaxWarning: \"is not\" with a literal. Did you mean \"!=\"?\n",
      "<>:3: SyntaxWarning: \"is\" with a literal. Did you mean \"==\"?\n",
      "<>:4: SyntaxWarning: \"is not\" with a literal. Did you mean \"!=\"?\n",
      "C:\\Users\\hyssk\\AppData\\Local\\Temp\\ipykernel_29984\\2293940575.py:3: SyntaxWarning: \"is\" with a literal. Did you mean \"==\"?\n",
      "  1.0 is 1 # False\n",
      "C:\\Users\\hyssk\\AppData\\Local\\Temp\\ipykernel_29984\\2293940575.py:4: SyntaxWarning: \"is not\" with a literal. Did you mean \"!=\"?\n",
      "  1.0 is not 1\n"
     ]
    },
    {
     "data": {
      "text/plain": [
       "True"
      ]
     },
     "execution_count": 6,
     "metadata": {},
     "output_type": "execute_result"
    }
   ],
   "source": [
    "# 객체가 같은지 다른지 비교\n",
    "1.0==1 # True\n",
    "1.0 is 1 # False \n",
    "1.0 is not 1 # True\n"
   ]
  },
  {
   "cell_type": "markdown",
   "metadata": {},
   "source": [
    "1.0 == 1 은 값의 비교를 하기 때문에 True 이지만,\n",
    "1.0 is 1 은 False가 나왔다 그 이유는 1.0은 실수 객체를 참조하고 1은 정수 객체를 참조하기 때문에 False가 나온것이다."
   ]
  },
  {
   "cell_type": "markdown",
   "metadata": {},
   "source": [
    "정수 객체와 실수 객체가 서로 다른지 확인하는 법 \n",
    "id() 함수"
   ]
  },
  {
   "cell_type": "code",
   "execution_count": 9,
   "metadata": {},
   "outputs": [
    {
     "data": {
      "text/plain": [
       "(140730097373992, 2046652357776, 140730097374024)"
      ]
     },
     "execution_count": 9,
     "metadata": {},
     "output_type": "execute_result"
    }
   ],
   "source": [
    "id(1), id(1.0), id(2)"
   ]
  },
  {
   "cell_type": "markdown",
   "metadata": {},
   "source": [
    "논리 연산자\n",
    "(and, or, not)\n"
   ]
  },
  {
   "cell_type": "code",
   "execution_count": 16,
   "metadata": {},
   "outputs": [
    {
     "data": {
      "text/plain": [
       "True"
      ]
     },
     "execution_count": 16,
     "metadata": {},
     "output_type": "execute_result"
    }
   ],
   "source": [
    "True and True # True\n",
    "True and False # False\n",
    "False and True # False\n",
    "False and False # False\n",
    "\n",
    "True or True # True\n",
    "True or False # True\n",
    "False or True # True\n",
    "False or False # False\n",
    "\n",
    "not False # True\n",
    "not True # False\n",
    "\n",
    "not True and False or not False # True \n",
    "# and or not 논리 연산자가 식 하나에 다 들어있으면, not and or 순으로 판단\n",
    "# 1. False and False or True\n",
    "# 2. False or True\n",
    "# 3. True 출력\n",
    "\n",
    "# 순서가 헷갈리니 ()로 표현하는 것이 좋음\n",
    "((not True) and False) or (not False)\n"
   ]
  },
  {
   "cell_type": "markdown",
   "metadata": {},
   "source": [
    "논리 연산자와 비교 연산자를 함께 사용하기"
   ]
  },
  {
   "cell_type": "code",
   "execution_count": 17,
   "metadata": {},
   "outputs": [
    {
     "name": "stderr",
     "output_type": "stream",
     "text": [
      "<>:7: SyntaxWarning: \"is not\" with a literal. Did you mean \"!=\"?\n",
      "<>:7: SyntaxWarning: \"is not\" with a literal. Did you mean \"!=\"?\n",
      "C:\\Users\\hyssk\\AppData\\Local\\Temp\\ipykernel_29984\\4156321837.py:7: SyntaxWarning: \"is not\" with a literal. Did you mean \"!=\"?\n",
      "  not 1 is 1.0 # not False -> True\n"
     ]
    },
    {
     "data": {
      "text/plain": [
       "True"
      ]
     },
     "execution_count": 17,
     "metadata": {},
     "output_type": "execute_result"
    }
   ],
   "source": [
    "10==10 and 10 != 5 # True and True -> True\n",
    "\n",
    "10>5 or 10<3 # True or False -> True\n",
    "\n",
    "not 10>5 # not True -> False\n",
    "\n",
    "not 1 is 1.0 # not False -> True"
   ]
  },
  {
   "cell_type": "markdown",
   "metadata": {},
   "source": [
    "정수 0, 실수 0.0 이외의 모든 숫자는 True이고 빈 문자열을 제외한 모든 문자열은 True 값을 지닌다"
   ]
  },
  {
   "cell_type": "code",
   "execution_count": 22,
   "metadata": {},
   "outputs": [
    {
     "name": "stdout",
     "output_type": "stream",
     "text": [
      "True\n",
      "False\n",
      "True\n",
      "False\n"
     ]
    }
   ],
   "source": [
    "print(bool(1))\n",
    "print(bool(0))\n",
    "print(bool('False'))\n",
    "print(bool(''))"
   ]
  },
  {
   "cell_type": "code",
   "execution_count": null,
   "metadata": {},
   "outputs": [],
   "source": []
  }
 ],
 "metadata": {
  "kernelspec": {
   "display_name": "base",
   "language": "python",
   "name": "python3"
  },
  "language_info": {
   "codemirror_mode": {
    "name": "ipython",
    "version": 3
   },
   "file_extension": ".py",
   "mimetype": "text/x-python",
   "name": "python",
   "nbconvert_exporter": "python",
   "pygments_lexer": "ipython3",
   "version": "3.11.5"
  }
 },
 "nbformat": 4,
 "nbformat_minor": 2
}
