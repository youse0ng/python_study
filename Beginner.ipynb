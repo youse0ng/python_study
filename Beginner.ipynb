{
 "cells": [
  {
   "cell_type": "markdown",
   "metadata": {},
   "source": [
    "# 1. split() 함수 공부, map() 함수\n",
    "입력 값을 변수 2개에 저장하기"
   ]
  },
  {
   "cell_type": "code",
   "execution_count": 5,
   "metadata": {},
   "outputs": [
    {
     "data": {
      "text/plain": [
       "('바보', '연야')"
      ]
     },
     "execution_count": 5,
     "metadata": {},
     "output_type": "execute_result"
    }
   ],
   "source": [
    "# 문자열 2개 입력을 나누기\n",
    "a,b=input(\"문자열 2개를 입력하시오. \").split()"
   ]
  },
  {
   "cell_type": "code",
   "execution_count": 9,
   "metadata": {},
   "outputs": [
    {
     "name": "stdout",
     "output_type": "stream",
     "text": [
      "12\n"
     ]
    }
   ],
   "source": [
    "# 두 숫자의 합구하기\n",
    "a,b=input('숫자 2개를 입력하시오. ').split()\n",
    "a=int(a)\n",
    "b=int(b)\n",
    "print(a+b)"
   ]
  },
  {
   "cell_type": "code",
   "execution_count": 13,
   "metadata": {},
   "outputs": [
    {
     "name": "stdout",
     "output_type": "stream",
     "text": [
      "12\n"
     ]
    }
   ],
   "source": [
    "# map함수를 이용해서 정수로 변환하기\n",
    "a,b=map(int, input(\"숫자 2개를 입력하시오: \").split())\n",
    "print(a+b)\n",
    "map()"
   ]
  },
  {
   "cell_type": "code",
   "execution_count": 27,
   "metadata": {},
   "outputs": [
    {
     "data": {
      "text/plain": [
       "3"
      ]
     },
     "execution_count": 27,
     "metadata": {},
     "output_type": "execute_result"
    }
   ],
   "source": [
    "def sum(a,b):\n",
    "    return a+b\n",
    "a,b=map(int,input(\"숫자 2개를 입력하시오. \").split(','))\n",
    "sum(a,b)"
   ]
  },
  {
   "cell_type": "markdown",
   "metadata": {},
   "source": [
    "split(\"기준 문자열\") 혹은 split()으로 입력된 문자열을 기준문자열로 또는 공백으로 나눌 수 있다.\n",
    "\n",
    "map(함수, iterable)로 iterable 자료형의 원소를 지정된 함수로 매핑하여 내보냄."
   ]
  },
  {
   "cell_type": "code",
   "execution_count": 1,
   "metadata": {},
   "outputs": [
    {
     "name": "stdout",
     "output_type": "stream",
     "text": [
      "[1, 2, 3, 4, 4]\n"
     ]
    }
   ],
   "source": [
    "print(list(map(int,['1','2','3',4.5,4.1])))"
   ]
  },
  {
   "cell_type": "markdown",
   "metadata": {},
   "source": [
    "# 2. 출력 방법 \n",
    "\n",
    "2.1 sep로 값 사이에 문자 넣기 (Seperator 구분자)"
   ]
  },
  {
   "cell_type": "code",
   "execution_count": 6,
   "metadata": {},
   "outputs": [
    {
     "name": "stdout",
     "output_type": "stream",
     "text": [
      "1,2,3\n",
      "1, 2, 3\n",
      "1 2 3\n",
      "1xx2xx3\n",
      "HELLO PYTHON\n",
      "HELLO, PYTHON\n"
     ]
    }
   ],
   "source": [
    "print(1,2,3,sep=',')\n",
    "print(1,2,3,sep=', ')\n",
    "print(1,2,3,sep=' ')\n",
    "print(1,2,3,sep='xx')\n",
    "print('HELLO','PYTHON',sep=' ')\n",
    "print('HELLO','PYTHON',sep=', ')"
   ]
  },
  {
   "cell_type": "markdown",
   "metadata": {},
   "source": [
    "2.2 줄바꿈 활용하기"
   ]
  },
  {
   "cell_type": "code",
   "execution_count": 7,
   "metadata": {},
   "outputs": [
    {
     "name": "stdout",
     "output_type": "stream",
     "text": [
      "1\n",
      "2\n",
      "3\n"
     ]
    }
   ],
   "source": [
    "print(1,2,3,sep='\\n') # 줄바꿈\n"
   ]
  },
  {
   "cell_type": "markdown",
   "metadata": {},
   "source": [
    "end 사용하기\n",
    "print(1,2,3) 처럼 한 줄에 여러 개의 값을 출력하는 방법"
   ]
  },
  {
   "cell_type": "code",
   "execution_count": 10,
   "metadata": {},
   "outputs": [
    {
     "name": "stdout",
     "output_type": "stream",
     "text": [
      "1 2 3\n",
      "1 2 3\n"
     ]
    }
   ],
   "source": [
    "print(1,2,3)\n",
    "\n",
    "# end에 빈 문자열을 지정하면 다음번 출력이 바로 뒤에 오게 된다.\n",
    "print(1,end=' ')\n",
    "print(2,end=' ')\n",
    "print(3)"
   ]
  }
 ],
 "metadata": {
  "kernelspec": {
   "display_name": "base",
   "language": "python",
   "name": "python3"
  },
  "language_info": {
   "codemirror_mode": {
    "name": "ipython",
    "version": 3
   },
   "file_extension": ".py",
   "mimetype": "text/x-python",
   "name": "python",
   "nbconvert_exporter": "python",
   "pygments_lexer": "ipython3",
   "version": "3.11.5"
  }
 },
 "nbformat": 4,
 "nbformat_minor": 2
}
