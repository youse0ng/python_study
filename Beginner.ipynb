{
 "cells": [
  {
   "cell_type": "markdown",
   "metadata": {},
   "source": [
    "# 1. 문자열 관련 split() 함수, map() 함수\n",
    "입력 값을 변수 2개에 저장하기"
   ]
  },
  {
   "cell_type": "code",
   "execution_count": 5,
   "metadata": {},
   "outputs": [
    {
     "data": {
      "text/plain": [
       "('바보', '연야')"
      ]
     },
     "execution_count": 5,
     "metadata": {},
     "output_type": "execute_result"
    }
   ],
   "source": [
    "# 문자열 2개 입력을 나누기\n",
    "a,b=input(\"문자열 2개를 입력하시오. \").split()"
   ]
  },
  {
   "cell_type": "code",
   "execution_count": 9,
   "metadata": {},
   "outputs": [
    {
     "name": "stdout",
     "output_type": "stream",
     "text": [
      "12\n"
     ]
    }
   ],
   "source": [
    "# 두 숫자의 합구하기\n",
    "a,b=input('숫자 2개를 입력하시오. ').split()\n",
    "a=int(a)\n",
    "b=int(b)\n",
    "print(a+b)"
   ]
  },
  {
   "cell_type": "code",
   "execution_count": 13,
   "metadata": {},
   "outputs": [
    {
     "name": "stdout",
     "output_type": "stream",
     "text": [
      "12\n"
     ]
    }
   ],
   "source": [
    "# map함수를 이용해서 정수로 변환하기\n",
    "a,b=map(int, input(\"숫자 2개를 입력하시오: \").split())\n",
    "print(a+b)\n",
    "map()"
   ]
  },
  {
   "cell_type": "code",
   "execution_count": 27,
   "metadata": {},
   "outputs": [
    {
     "data": {
      "text/plain": [
       "3"
      ]
     },
     "execution_count": 27,
     "metadata": {},
     "output_type": "execute_result"
    }
   ],
   "source": [
    "def sum(a,b):\n",
    "    return a+b\n",
    "a,b=map(int,input(\"숫자 2개를 입력하시오. \").split(','))\n",
    "sum(a,b)"
   ]
  },
  {
   "cell_type": "markdown",
   "metadata": {},
   "source": [
    "split(\"기준 문자열\") 혹은 split()으로 입력된 문자열을 기준문자열로 또는 공백으로 나눌 수 있다.\n",
    "\n",
    "map(함수, iterable)로 iterable 자료형의 원소를 지정된 함수로 매핑하여 내보냄."
   ]
  },
  {
   "cell_type": "code",
   "execution_count": 1,
   "metadata": {},
   "outputs": [
    {
     "name": "stdout",
     "output_type": "stream",
     "text": [
      "[1, 2, 3, 4, 4]\n"
     ]
    }
   ],
   "source": [
    "print(list(map(int,['1','2','3',4.5,4.1])))"
   ]
  },
  {
   "cell_type": "markdown",
   "metadata": {},
   "source": [
    "# 2. 출력 방법 \n",
    "\n",
    "2.1 sep로 값 사이에 문자 넣기 (Seperator 구분자)"
   ]
  },
  {
   "cell_type": "code",
   "execution_count": 6,
   "metadata": {},
   "outputs": [
    {
     "name": "stdout",
     "output_type": "stream",
     "text": [
      "1,2,3\n",
      "1, 2, 3\n",
      "1 2 3\n",
      "1xx2xx3\n",
      "HELLO PYTHON\n",
      "HELLO, PYTHON\n"
     ]
    }
   ],
   "source": [
    "print(1,2,3,sep=',')\n",
    "print(1,2,3,sep=', ')\n",
    "print(1,2,3,sep=' ')\n",
    "print(1,2,3,sep='xx')\n",
    "print('HELLO','PYTHON',sep=' ')\n",
    "print('HELLO','PYTHON',sep=', ')"
   ]
  },
  {
   "cell_type": "markdown",
   "metadata": {},
   "source": [
    "2.2 줄바꿈 활용하기"
   ]
  },
  {
   "cell_type": "code",
   "execution_count": 7,
   "metadata": {},
   "outputs": [
    {
     "name": "stdout",
     "output_type": "stream",
     "text": [
      "1\n",
      "2\n",
      "3\n"
     ]
    }
   ],
   "source": [
    "print(1,2,3,sep='\\n') # 줄바꿈\n"
   ]
  },
  {
   "cell_type": "markdown",
   "metadata": {},
   "source": [
    "end 사용하기\n",
    "print(1,2,3) 처럼 한 줄에 여러 개의 값을 출력하는 방법"
   ]
  },
  {
   "cell_type": "code",
   "execution_count": 10,
   "metadata": {},
   "outputs": [
    {
     "name": "stdout",
     "output_type": "stream",
     "text": [
      "1 2 3\n",
      "1 2 3\n"
     ]
    }
   ],
   "source": [
    "print(1,2,3)\n",
    "\n",
    "# end에 빈 문자열을 지정하면 다음번 출력이 바로 뒤에 오게 된다.\n",
    "print(1,end=' ')\n",
    "print(2,end=' ')\n",
    "print(3)"
   ]
  },
  {
   "cell_type": "markdown",
   "metadata": {},
   "source": [
    "3. 불과 비교, 논리 연산자\n",
    "\n",
    "참 거짓을 나타내는 boolean(불)\n",
    "\n",
    "두 값의 관계를 판단하는 비교 연산자와 두 값의 논리값을 판단하는 논리 연산자도 다시 공부해보자.\n",
    "\n",
    "값 비교\n",
    "== (equal)\n",
    "!= (not equal)\n",
    "\n",
    "객체(object) 비교\n",
    "is not \n",
    "is "
   ]
  },
  {
   "cell_type": "markdown",
   "metadata": {},
   "source": [
    "비교 연산자"
   ]
  },
  {
   "cell_type": "code",
   "execution_count": 6,
   "metadata": {},
   "outputs": [
    {
     "name": "stderr",
     "output_type": "stream",
     "text": [
      "<>:3: SyntaxWarning: \"is\" with a literal. Did you mean \"==\"?\n",
      "<>:4: SyntaxWarning: \"is not\" with a literal. Did you mean \"!=\"?\n",
      "<>:3: SyntaxWarning: \"is\" with a literal. Did you mean \"==\"?\n",
      "<>:4: SyntaxWarning: \"is not\" with a literal. Did you mean \"!=\"?\n",
      "C:\\Users\\hyssk\\AppData\\Local\\Temp\\ipykernel_29984\\2293940575.py:3: SyntaxWarning: \"is\" with a literal. Did you mean \"==\"?\n",
      "  1.0 is 1 # False\n",
      "C:\\Users\\hyssk\\AppData\\Local\\Temp\\ipykernel_29984\\2293940575.py:4: SyntaxWarning: \"is not\" with a literal. Did you mean \"!=\"?\n",
      "  1.0 is not 1\n"
     ]
    },
    {
     "data": {
      "text/plain": [
       "True"
      ]
     },
     "execution_count": 6,
     "metadata": {},
     "output_type": "execute_result"
    }
   ],
   "source": [
    "# 객체가 같은지 다른지 비교\n",
    "1.0==1 # True\n",
    "1.0 is 1 # False \n",
    "1.0 is not 1 # True\n"
   ]
  },
  {
   "cell_type": "markdown",
   "metadata": {},
   "source": [
    "1.0 == 1 은 값의 비교를 하기 때문에 True 이지만,\n",
    "1.0 is 1 은 False가 나왔다 그 이유는 1.0은 실수 객체를 참조하고 1은 정수 객체를 참조하기 때문에 False가 나온것이다."
   ]
  },
  {
   "cell_type": "markdown",
   "metadata": {},
   "source": [
    "정수 객체와 실수 객체가 서로 다른지 확인하는 법 \n",
    "id() 함수"
   ]
  },
  {
   "cell_type": "code",
   "execution_count": 9,
   "metadata": {},
   "outputs": [
    {
     "data": {
      "text/plain": [
       "(140730097373992, 2046652357776, 140730097374024)"
      ]
     },
     "execution_count": 9,
     "metadata": {},
     "output_type": "execute_result"
    }
   ],
   "source": [
    "id(1), id(1.0), id(2)"
   ]
  },
  {
   "cell_type": "markdown",
   "metadata": {},
   "source": [
    "논리 연산자\n",
    "(and, or, not)\n"
   ]
  },
  {
   "cell_type": "code",
   "execution_count": 16,
   "metadata": {},
   "outputs": [
    {
     "data": {
      "text/plain": [
       "True"
      ]
     },
     "execution_count": 16,
     "metadata": {},
     "output_type": "execute_result"
    }
   ],
   "source": [
    "True and True # True\n",
    "True and False # False\n",
    "False and True # False\n",
    "False and False # False\n",
    "\n",
    "True or True # True\n",
    "True or False # True\n",
    "False or True # True\n",
    "False or False # False\n",
    "\n",
    "not False # True\n",
    "not True # False\n",
    "\n",
    "not True and False or not False # True \n",
    "# and or not 논리 연산자가 식 하나에 다 들어있으면, not and or 순으로 판단\n",
    "# 1. False and False or True\n",
    "# 2. False or True\n",
    "# 3. True 출력\n",
    "\n",
    "# 순서가 헷갈리니 ()로 표현하는 것이 좋음\n",
    "((not True) and False) or (not False)\n"
   ]
  },
  {
   "cell_type": "markdown",
   "metadata": {},
   "source": [
    "논리 연산자와 비교 연산자를 함께 사용하기"
   ]
  },
  {
   "cell_type": "code",
   "execution_count": 17,
   "metadata": {},
   "outputs": [
    {
     "name": "stderr",
     "output_type": "stream",
     "text": [
      "<>:7: SyntaxWarning: \"is not\" with a literal. Did you mean \"!=\"?\n",
      "<>:7: SyntaxWarning: \"is not\" with a literal. Did you mean \"!=\"?\n",
      "C:\\Users\\hyssk\\AppData\\Local\\Temp\\ipykernel_29984\\4156321837.py:7: SyntaxWarning: \"is not\" with a literal. Did you mean \"!=\"?\n",
      "  not 1 is 1.0 # not False -> True\n"
     ]
    },
    {
     "data": {
      "text/plain": [
       "True"
      ]
     },
     "execution_count": 17,
     "metadata": {},
     "output_type": "execute_result"
    }
   ],
   "source": [
    "10==10 and 10 != 5 # True and True -> True\n",
    "\n",
    "10>5 or 10<3 # True or False -> True\n",
    "\n",
    "not 10>5 # not True -> False\n",
    "\n",
    "not 1 is 1.0 # not False -> True"
   ]
  },
  {
   "cell_type": "markdown",
   "metadata": {},
   "source": [
    "정수 0, 실수 0.0 이외의 모든 숫자는 True이고 빈 문자열을 제외한 모든 문자열은 True 값을 지닌다"
   ]
  },
  {
   "cell_type": "code",
   "execution_count": 22,
   "metadata": {},
   "outputs": [
    {
     "name": "stdout",
     "output_type": "stream",
     "text": [
      "True\n",
      "False\n",
      "True\n",
      "False\n"
     ]
    }
   ],
   "source": [
    "print(bool(1))\n",
    "print(bool(0))\n",
    "print(bool('False'))\n",
    "print(bool(''))"
   ]
  },
  {
   "cell_type": "markdown",
   "metadata": {},
   "source": [
    "4. 시퀀스 자료형 활용하기\n",
    "\n",
    "리스트 튜플 range 문자열의 공통정은 모두 값이 연속적으로 이어져 있다는 점이다.\n",
    "\n",
    "이러한 자료형을 시퀀스 자료형이라고 부른다.\n",
    "\n",
    "시퀀스 자료형의 가장 큰 특징은 공통 동작과 기능을 제공한다는 점이다."
   ]
  },
  {
   "cell_type": "markdown",
   "metadata": {},
   "source": [
    "특정 값이 있는지 확인하기\n",
    "\n",
    "값 in 시퀀스객체 -> Bool 값으로 반환해줌"
   ]
  },
  {
   "cell_type": "code",
   "execution_count": 2,
   "metadata": {},
   "outputs": [
    {
     "data": {
      "text/plain": [
       "False"
      ]
     },
     "execution_count": 2,
     "metadata": {},
     "output_type": "execute_result"
    }
   ],
   "source": [
    "a=[10,20,30,40,50,60,70,80,90]\n",
    "30 in a # True\n",
    "100 in a # False"
   ]
  },
  {
   "cell_type": "markdown",
   "metadata": {},
   "source": [
    "특정 값이 없는지 확인하기\n",
    "\n",
    "값 not in 시퀀스 객체 -> Bool 값으로 반환"
   ]
  },
  {
   "cell_type": "code",
   "execution_count": 5,
   "metadata": {},
   "outputs": [
    {
     "data": {
      "text/plain": [
       "True"
      ]
     },
     "execution_count": 5,
     "metadata": {},
     "output_type": "execute_result"
    }
   ],
   "source": [
    "a=[0,10,20,30,40,50,60,70,80,90]\n",
    "100 not in a # True 100이 a에 없으니까 True값을 반환\n",
    "10 not in a # False 10이 a에 있으니까 False 값 반환\n",
    "43 in (38,76,43,62,19) # True\n",
    "1 in range(10) # True\n",
    "'P' in 'hello, Python' # True"
   ]
  },
  {
   "cell_type": "markdown",
   "metadata": {},
   "source": [
    "시퀀스객체 반복하기\n",
    "\n",
    "1. 시퀀스객체 * 정수\n",
    "2. 정수 * 시퀀스객체\n",
    "\n",
    "유일하게 range() 객체는 + 연산자 또는 * 연산자로 더하고 반복할 수 없다."
   ]
  },
  {
   "cell_type": "code",
   "execution_count": 11,
   "metadata": {},
   "outputs": [
    {
     "name": "stdout",
     "output_type": "stream",
     "text": [
      "[0, 10, 20, 30, 0, 10, 20, 30, 0, 10, 20, 30]\n",
      "(10, 20, 30, 40, 50, 10, 20, 30, 40, 50, 10, 20, 30, 40, 50)\n",
      "[0, 10, 20, 30, 40, 50, 60, 0, 10, 20, 30, 40, 50, 60, 0, 10, 20, 30, 40, 50, 60]\n",
      "Hello, Hello, Hello, \n"
     ]
    },
    {
     "ename": "TypeError",
     "evalue": "unsupported operand type(s) for *: 'range' and 'int'",
     "output_type": "error",
     "traceback": [
      "\u001b[1;31m---------------------------------------------------------------------------\u001b[0m",
      "\u001b[1;31mTypeError\u001b[0m                                 Traceback (most recent call last)",
      "\u001b[1;32mc:\\Users\\hyssk\\youse0ng\\my_weakness_Python\\python_study\\Beginner.ipynb Cell 32\u001b[0m line \u001b[0;36m5\n\u001b[0;32m      <a href='vscode-notebook-cell:/c%3A/Users/hyssk/youse0ng/my_weakness_Python/python_study/Beginner.ipynb#X43sZmlsZQ%3D%3D?line=2'>3</a>\u001b[0m \u001b[39mprint\u001b[39m(\u001b[39m3\u001b[39m\u001b[39m*\u001b[39m[\u001b[39m0\u001b[39m,\u001b[39m10\u001b[39m,\u001b[39m20\u001b[39m,\u001b[39m30\u001b[39m,\u001b[39m40\u001b[39m,\u001b[39m50\u001b[39m,\u001b[39m60\u001b[39m])\n\u001b[0;32m      <a href='vscode-notebook-cell:/c%3A/Users/hyssk/youse0ng/my_weakness_Python/python_study/Beginner.ipynb#X43sZmlsZQ%3D%3D?line=3'>4</a>\u001b[0m \u001b[39mprint\u001b[39m(\u001b[39m3\u001b[39m\u001b[39m*\u001b[39m\u001b[39m'\u001b[39m\u001b[39mHello, \u001b[39m\u001b[39m'\u001b[39m)\n\u001b[1;32m----> <a href='vscode-notebook-cell:/c%3A/Users/hyssk/youse0ng/my_weakness_Python/python_study/Beginner.ipynb#X43sZmlsZQ%3D%3D?line=4'>5</a>\u001b[0m \u001b[39mprint\u001b[39m(\u001b[39mrange\u001b[39m(\u001b[39m0\u001b[39m,\u001b[39m5\u001b[39m,\u001b[39m2\u001b[39m)\u001b[39m*\u001b[39m\u001b[39m3\u001b[39m)\n",
      "\u001b[1;31mTypeError\u001b[0m: unsupported operand type(s) for *: 'range' and 'int'"
     ]
    }
   ],
   "source": [
    "print([0,10,20,30]*3)\n",
    "print((10,20,30,40,50)*3)\n",
    "print(3*[0,10,20,30,40,50,60])\n",
    "print(3*'Hello, ')\n",
    "print(range(0,5,2)*3)"
   ]
  },
  {
   "cell_type": "markdown",
   "metadata": {},
   "source": [
    "시퀀스 자료형 중에서 튜플, range, 문자열은 읽기 전용이다.\n",
    "\n",
    "item assignment (값 할당)을 지원하지 않는다.\n",
    "\n",
    "1. tuple 객체는 값 할당을 지원하지 않는다.\n",
    "2. range() 객체는 값 할당을 지원하지 않는다.\n",
    "3. 문자열 객체는 값 할당을 지원하지 않는다."
   ]
  },
  {
   "cell_type": "code",
   "execution_count": 15,
   "metadata": {},
   "outputs": [
    {
     "ename": "TypeError",
     "evalue": "'range' object does not support item assignment",
     "output_type": "error",
     "traceback": [
      "\u001b[1;31m---------------------------------------------------------------------------\u001b[0m",
      "\u001b[1;31mTypeError\u001b[0m                                 Traceback (most recent call last)",
      "\u001b[1;32mc:\\Users\\hyssk\\youse0ng\\my_weakness_Python\\python_study\\Beginner.ipynb Cell 34\u001b[0m line \u001b[0;36m2\n\u001b[0;32m      <a href='vscode-notebook-cell:/c%3A/Users/hyssk/youse0ng/my_weakness_Python/python_study/Beginner.ipynb#X44sZmlsZQ%3D%3D?line=0'>1</a>\u001b[0m a\u001b[39m=\u001b[39m\u001b[39mrange\u001b[39m(\u001b[39m10\u001b[39m)\n\u001b[1;32m----> <a href='vscode-notebook-cell:/c%3A/Users/hyssk/youse0ng/my_weakness_Python/python_study/Beginner.ipynb#X44sZmlsZQ%3D%3D?line=1'>2</a>\u001b[0m a[\u001b[39m1\u001b[39m]\u001b[39m=\u001b[39m\u001b[39m3\u001b[39m\n",
      "\u001b[1;31mTypeError\u001b[0m: 'range' object does not support item assignment"
     ]
    }
   ],
   "source": [
    "a=range(10)\n",
    "a[1]=3 \n",
    "# 값 할당이 안되는 모습이 보인다.\n"
   ]
  },
  {
   "cell_type": "code",
   "execution_count": 16,
   "metadata": {},
   "outputs": [
    {
     "ename": "TypeError",
     "evalue": "'str' object does not support item assignment",
     "output_type": "error",
     "traceback": [
      "\u001b[1;31m---------------------------------------------------------------------------\u001b[0m",
      "\u001b[1;31mTypeError\u001b[0m                                 Traceback (most recent call last)",
      "\u001b[1;32mc:\\Users\\hyssk\\youse0ng\\my_weakness_Python\\python_study\\Beginner.ipynb Cell 35\u001b[0m line \u001b[0;36m2\n\u001b[0;32m      <a href='vscode-notebook-cell:/c%3A/Users/hyssk/youse0ng/my_weakness_Python/python_study/Beginner.ipynb#X50sZmlsZQ%3D%3D?line=0'>1</a>\u001b[0m a\u001b[39m=\u001b[39m\u001b[39m'\u001b[39m\u001b[39mHello, \u001b[39m\u001b[39m'\u001b[39m\n\u001b[1;32m----> <a href='vscode-notebook-cell:/c%3A/Users/hyssk/youse0ng/my_weakness_Python/python_study/Beginner.ipynb#X50sZmlsZQ%3D%3D?line=1'>2</a>\u001b[0m a[\u001b[39m0\u001b[39m]\u001b[39m=\u001b[39m\u001b[39m'\u001b[39m\u001b[39mL\u001b[39m\u001b[39m'\u001b[39m\n",
      "\u001b[1;31mTypeError\u001b[0m: 'str' object does not support item assignment"
     ]
    }
   ],
   "source": [
    "a='Hello, '\n",
    "a[0]='L'\n"
   ]
  },
  {
   "cell_type": "markdown",
   "metadata": {},
   "source": [
    "리스트와 튜플을 배우고 있는 중입니다.\n",
    "\n",
    "del로 요소 삭제하기\n",
    "\n",
    "del 시퀀스객체[인덱스]"
   ]
  },
  {
   "cell_type": "code",
   "execution_count": 2,
   "metadata": {},
   "outputs": [
    {
     "data": {
      "text/plain": [
       "[10, 20, 100, 23]"
      ]
     },
     "execution_count": 2,
     "metadata": {},
     "output_type": "execute_result"
    }
   ],
   "source": [
    "a=[10,30,20,100,23]\n",
    "del a[1]\n",
    "a # a[1]인 30이 사라졌다.\n"
   ]
  },
  {
   "cell_type": "markdown",
   "metadata": {},
   "source": [
    "슬라이스 사용하기 개인적으로 이 부분은 많은 이해가 필요하다고 생각된다.\n",
    "\n",
    "슬라이스 : 시퀀스객체의 일부를 잘라낸다."
   ]
  },
  {
   "cell_type": "markdown",
   "metadata": {},
   "source": [
    "시퀀스객체[시작인덱스:끝인덱스]\n",
    "시작 인덱스부터 끝 인덱스 -1 까지 가져온다."
   ]
  },
  {
   "cell_type": "code",
   "execution_count": 3,
   "metadata": {},
   "outputs": [
    {
     "data": {
      "text/plain": [
       "[0, 10, 20, 30]"
      ]
     },
     "execution_count": 3,
     "metadata": {},
     "output_type": "execute_result"
    }
   ],
   "source": [
    "a=[0,10,20,30,40,50,60,70,80,90]\n",
    "a[0:4]\n"
   ]
  },
  {
   "cell_type": "markdown",
   "metadata": {},
   "source": [
    "리스트의 중간 부분 가져오기 (슬라이싱)"
   ]
  },
  {
   "cell_type": "code",
   "execution_count": null,
   "metadata": {},
   "outputs": [],
   "source": [
    "a=[0,10,20,30,40,50,60,70,80,90]\n",
    "a[4:7]\n",
    "# [40,50,60] index=[4,5,6]번이 출력됨\n",
    "a[4:-1]\n",
    "# [40,50,60,70,80]"
   ]
  },
  {
   "cell_type": "markdown",
   "metadata": {},
   "source": [
    "인덱스 증가폭 사용하기 (슬라이싱)\n",
    "\n",
    "시퀀스객체[시작인덱스:끝인덱스:인덱스증가폭]"
   ]
  },
  {
   "cell_type": "code",
   "execution_count": 5,
   "metadata": {},
   "outputs": [
    {
     "data": {
      "text/plain": [
       "[10, 30, 50, 70, 90]"
      ]
     },
     "execution_count": 5,
     "metadata": {},
     "output_type": "execute_result"
    }
   ],
   "source": [
    "a=[0,10,20,30,40,50,60,70,80,90]\n",
    "a[1:len(a):2]"
   ]
  },
  {
   "cell_type": "markdown",
   "metadata": {},
   "source": [
    "인덱스 생략하기\n",
    "\n",
    "슬라이스를 사용할 때 시작인덱스와 끝인덱스를 생략할 수 있다.\n",
    "\n",
    "인덱스를 생략하는 방법은 시퀀스 객체의 길이를 몰라도 되기 때문에 자주 쓰이는 방식이다.\n",
    "\n",
    "a[:7]과 같이 시작인덱스를 생략하면 리스트의 처음부터 끝 인덱스 -1(인덱스 6)까지 가져올 수 있다.\n",
    "a[3:]과 같이 끝인덱스를 생략하면 리스트의 시작인덱스부터 원소 끝까지 가져올 수 있다.\n",
    "a[:] 리스트의 전체를 가져옴\n",
    "\n",
    "시퀀스객체[:끝인덱스]\n",
    "\n",
    "시퀀스객체[시작인덱스:]\n",
    "\n",
    "시퀀스객체[:]"
   ]
  },
  {
   "cell_type": "code",
   "execution_count": 8,
   "metadata": {},
   "outputs": [
    {
     "data": {
      "text/plain": [
       "[40, 50, 60, 70, 80, 90]"
      ]
     },
     "execution_count": 8,
     "metadata": {},
     "output_type": "execute_result"
    }
   ],
   "source": [
    "a=[0,10,20,30,40,50,60,70,80,90]\n",
    "a[:4]\n",
    "a[4:]"
   ]
  },
  {
   "cell_type": "markdown",
   "metadata": {},
   "source": [
    "인덱스를 생략하면서 증가폭 사용하기\n",
    "\n",
    "시작 인덱스 또는 끝 인덱스를 생략하면서 인덱스 증가폭을 지정해보자\n",
    "\n",
    "1. 시퀀스객체[:끝인덱스:인덱스증가폭]\n",
    "\n",
    "a[:7:2]과 같이, 시작 인덱스를 생략한다면, 리스트의 처음부터 인덱스 6(7-1)번까지 2씩 띄어서 가져옴\n",
    "\n",
    "2. 시퀀스객체[시작인덱스::인덱스증가폭]\n",
    "\n",
    "a[7::2]과 같이, 끝 인덱스를 생략하면, 리스트의 7번째 인덱스부터 리스트의 마지막 요소까지 2씩 증가하면서 가져온다.\n",
    "\n",
    "3. 시퀀스객체[::인덱스증가폭]\n",
    "a[::2]와 같이, 시작과 끝인덱스를 생략하면, 처음부터 끝까지 인덱스 증가폭만큼 리스트를 반환해냄\n",
    "\n",
    "4. 시퀀스객체[시작인덱스:끝인덱스:-음수인덱스증가폭]\n",
    "인덱스 증가폭을 음수로 지정하면 뒤에서부터 가져올 수 있다. 단, 시작인덱스가 끝 인덱스보다 커야한다.\n",
    "a[5:1:-1]와 같이 지정하면, 5부터 2까지 인덱스를 -1하면서 뒤에서부터 출력해냄\n"
   ]
  },
  {
   "cell_type": "code",
   "execution_count": 12,
   "metadata": {},
   "outputs": [
    {
     "data": {
      "text/plain": [
       "[50, 40, 30, 20]"
      ]
     },
     "execution_count": 12,
     "metadata": {},
     "output_type": "execute_result"
    }
   ],
   "source": [
    "a[5:1:-1]"
   ]
  },
  {
   "cell_type": "markdown",
   "metadata": {},
   "source": [
    "슬라이스에 요소 할당하기\n",
    "\n",
    "리스트의 인덱스에 접근하여 요소에 값을 할당할 수 있었다.\n",
    "\n",
    "마찬가지로 슬라이스로 범위를 지정하고, 여러 요소에 값을 할당할 수 있다.\n",
    "\n",
    "시퀀스객체[시작인덱스:끝인덱스]=시퀀스객체"
   ]
  },
  {
   "cell_type": "code",
   "execution_count": 13,
   "metadata": {},
   "outputs": [
    {
     "data": {
      "text/plain": [
       "[10, 20, 'a', 'b', 'c', 60, 70, 80, 90]"
      ]
     },
     "execution_count": 13,
     "metadata": {},
     "output_type": "execute_result"
    }
   ],
   "source": [
    "a=[10,20,30,40,50,60,70,80,90]\n",
    "a[2:5]=['a','b','c']\n",
    "a"
   ]
  },
  {
   "cell_type": "markdown",
   "metadata": {},
   "source": [
    "del로 슬라이스 삭제하기\n",
    "\n",
    "del 시퀀스객체[시작인덱스:끝인덱스]"
   ]
  },
  {
   "cell_type": "code",
   "execution_count": 15,
   "metadata": {},
   "outputs": [
    {
     "data": {
      "text/plain": [
       "[0, 10, 50, 60, 70, 80, 90]"
      ]
     },
     "execution_count": 15,
     "metadata": {},
     "output_type": "execute_result"
    }
   ],
   "source": [
    "a=[0,10,20,30,40,50,60,70,80,90]\n",
    "del a[2:5]\n",
    "a"
   ]
  },
  {
   "cell_type": "markdown",
   "metadata": {},
   "source": [
    "5. 딕셔너리 사용하기\n",
    "\n",
    "키에 자료형은 리스트와 딕셔너리를 제외한 문자열,정수,실수,불 자료형을 사용할 수 있다.\n",
    "\n",
    "값에 자료형은 리스트, 딕셔너리 등을 포함한 모든 자료형을 사용할 수 있다.\n",
    "\n",
    "딕셔너리={키:값} \n",
    "딕셔너리={} \n",
    "딕셔너리=dict()\n"
   ]
  },
  {
   "cell_type": "markdown",
   "metadata": {},
   "source": [
    "dict로 딕셔너리 만들기\n",
    "\n",
    "1. 딕셔너리 = dict(키1=값1,키2=값2)\n",
    "2. 딕셔너리 = dict([(키1, 값1),(키2, 값2)])\n",
    "3. 딕셔너리 = dict(zip([키1,키2],[값1, 값2]))\n",
    "4. 딕셔너리 = dict({키1:값1, 키2:값2})"
   ]
  },
  {
   "cell_type": "code",
   "execution_count": 4,
   "metadata": {},
   "outputs": [
    {
     "data": {
      "text/plain": [
       "{'health': 490, 'mana': 334, 'melee': 550, 'armor': 18.72}"
      ]
     },
     "execution_count": 4,
     "metadata": {},
     "output_type": "execute_result"
    }
   ],
   "source": [
    "# 1.\n",
    "lux1= dict(health=490, mana=334, melee=550, armor=18.72)\n",
    "lux1"
   ]
  },
  {
   "cell_type": "code",
   "execution_count": 5,
   "metadata": {},
   "outputs": [
    {
     "data": {
      "text/plain": [
       "{'health': 490, 'mana': 334, 'melee': 550, 'armor': 18.72}"
      ]
     },
     "execution_count": 5,
     "metadata": {},
     "output_type": "execute_result"
    }
   ],
   "source": [
    "# 2. \n",
    "lux2 = dict([('health',490),('mana',334),('melee',550),('armor',18.72)])\n",
    "lux2"
   ]
  },
  {
   "cell_type": "code",
   "execution_count": 12,
   "metadata": {},
   "outputs": [
    {
     "name": "stdout",
     "output_type": "stream",
     "text": [
      "[('health', 490), ('mana', 334), ('melee', 550), ('armor', 18.72)]\n"
     ]
    },
    {
     "data": {
      "text/plain": [
       "{'health': 490, 'mana': 334, 'melee': 550, 'armor': 18.72}"
      ]
     },
     "execution_count": 12,
     "metadata": {},
     "output_type": "execute_result"
    }
   ],
   "source": [
    "# 3.\n",
    "lux3 = dict(zip(['health','mana','melee','armor'],[490,334,550,18.72]))\n",
    "print(list(zip(['health','mana','melee','armor'],[490,334,550,18.72])))\n",
    "lux3\n"
   ]
  },
  {
   "cell_type": "code",
   "execution_count": 8,
   "metadata": {},
   "outputs": [
    {
     "data": {
      "text/plain": [
       "{'health': 490, 'mana': 334, 'melee': 550, 'armor': 18.72}"
      ]
     },
     "execution_count": 8,
     "metadata": {},
     "output_type": "execute_result"
    }
   ],
   "source": [
    "# 4. \n",
    "lux4 = dict({'health': 490,'mana':334,'melee':550,'armor':18.72})\n",
    "lux4"
   ]
  },
  {
   "cell_type": "markdown",
   "metadata": {},
   "source": [
    "딕셔너리에 키가 있는지 없는지 확인하기\n",
    "\n",
    "키 in 딕셔너리 : 키가 딕셔너리에 있는가?\n",
    "\n",
    "키 not in 딕셔너리: 키가 딕셔너리에 없는가?"
   ]
  },
  {
   "cell_type": "code",
   "execution_count": 14,
   "metadata": {},
   "outputs": [
    {
     "data": {
      "text/plain": [
       "False"
      ]
     },
     "execution_count": 14,
     "metadata": {},
     "output_type": "execute_result"
    }
   ],
   "source": [
    "lux={'health':490,'mana':334,'melee':550,'armor':18.72}\n",
    "'health' in lux # True\n",
    "'health' not in lux # False"
   ]
  },
  {
   "cell_type": "markdown",
   "metadata": {},
   "source": [
    "딕셔너리의 키 개수 구하기\n",
    "\n",
    "len(딕셔너리)"
   ]
  },
  {
   "cell_type": "code",
   "execution_count": 15,
   "metadata": {},
   "outputs": [
    {
     "data": {
      "text/plain": [
       "4"
      ]
     },
     "execution_count": 15,
     "metadata": {},
     "output_type": "execute_result"
    }
   ],
   "source": [
    "len(lux)"
   ]
  }
 ],
 "metadata": {
  "kernelspec": {
   "display_name": "base",
   "language": "python",
   "name": "python3"
  },
  "language_info": {
   "codemirror_mode": {
    "name": "ipython",
    "version": 3
   },
   "file_extension": ".py",
   "mimetype": "text/x-python",
   "name": "python",
   "nbconvert_exporter": "python",
   "pygments_lexer": "ipython3",
   "version": "3.11.5"
  }
 },
 "nbformat": 4,
 "nbformat_minor": 2
}
