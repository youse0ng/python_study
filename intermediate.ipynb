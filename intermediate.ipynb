{
  "nbformat": 4,
  "nbformat_minor": 0,
  "metadata": {
    "colab": {
      "private_outputs": true,
      "provenance": [],
      "authorship_tag": "ABX9TyMgNdBFDBN7ClmNFBbVkZy3",
      "include_colab_link": true
    },
    "kernelspec": {
      "name": "python3",
      "display_name": "Python 3"
    },
    "language_info": {
      "name": "python"
    }
  },
  "cells": [
    {
      "cell_type": "markdown",
      "metadata": {
        "id": "view-in-github",
        "colab_type": "text"
      },
      "source": [
        "<a href=\"https://colab.research.google.com/github/youse0ng/python_study/blob/main/intermediate.ipynb\" target=\"_parent\"><img src=\"https://colab.research.google.com/assets/colab-badge.svg\" alt=\"Open In Colab\"/></a>"
      ]
    },
    {
      "cell_type": "markdown",
      "source": [
        "List와 튜플 응용하기  \n",
        "\n",
        "리스트에 요소 추가하기\n",
        "\n",
        "1. append: 요소 하나를 리스트의 마지막 인덱스에 추가\n",
        "\n",
        "2. extend: 리스트를 연결하여 확장 즉, extend() 메소드는 iterable 객체를 인자로 넣어주면 리스트의 마지막에 iterable 객체가 언패킹되면서 넣어준다.\n",
        "\n",
        "3. insert: 원하는 인덱스에 포함하고자 하는 x를 추가"
      ],
      "metadata": {
        "id": "eaHB5DnL-hj_"
      }
    },
    {
      "cell_type": "markdown",
      "source": [
        "리스트에 요소 추가하기"
      ],
      "metadata": {
        "id": "ZK7P3uD0_CLN"
      }
    },
    {
      "cell_type": "code",
      "source": [
        "# 리스트에 요소 추가하기\n",
        "a=[10,20,30]\n",
        "a.append(3)\n",
        "a\n",
        "\n",
        "# 리스트에 리스트 추가하기\n",
        "a.append([10,30])\n",
        "a # [10,20,30,3,[10,30]]"
      ],
      "metadata": {
        "id": "ZbsJtOjoyP6c"
      },
      "execution_count": null,
      "outputs": []
    },
    {
      "cell_type": "markdown",
      "source": [
        "리스트 확장하기"
      ],
      "metadata": {
        "id": "uZnDnjRN_D98"
      }
    },
    {
      "cell_type": "code",
      "source": [
        "a=[10,20,30]\n",
        "a.extend([10,20])\n",
        "a # [10,20,30,[10,20]] 으로 추가되는 것이 아니라, [10,20] 리스트를 언팩킹해서 [10,20,30,10,20]으로 확장시켜서 넣어준다."
      ],
      "metadata": {
        "id": "vyrw3ytP-Zns"
      },
      "execution_count": null,
      "outputs": []
    },
    {
      "cell_type": "markdown",
      "source": [
        "리스트의 특정 인덱스에 요소 추가하기(insert(index, x))"
      ],
      "metadata": {
        "id": "bPAg2SS0_fg-"
      }
    },
    {
      "cell_type": "code",
      "source": [
        "a=[10,20,30]\n",
        "a.insert(2,1) # 인덱스 2번에 요소를 추가\n",
        "a.insert(0,4) # 리스트의 맨처음에 요소를 추가\n",
        "a.insert(len(a),13) # 리스트의 맨 끝에 요소를 추가\n",
        "a"
      ],
      "metadata": {
        "id": "0nQm7Yh8_m0k"
      },
      "execution_count": null,
      "outputs": []
    },
    {
      "cell_type": "markdown",
      "source": [
        "리스트의 중간에 리스트 요소를 추가하고 싶을 때\n",
        "\n",
        "1. insert 함수를 사용\n",
        "\n",
        "2. 슬라이싱을 이용하여 사용"
      ],
      "metadata": {
        "id": "DOPKrx9rAKrU"
      }
    },
    {
      "cell_type": "code",
      "source": [
        "# 1.\n",
        "a=[10,20,30]\n",
        "a.insert(1,[20,30,40])\n",
        "a"
      ],
      "metadata": {
        "id": "ilcBcknuBXqW"
      },
      "execution_count": null,
      "outputs": []
    },
    {
      "cell_type": "code",
      "source": [
        "# 2.  슬라이싱의 시작 인덱스와 끝 인덱스를 같게 지정하면 해당 인덱스의 요소를 덮어쓰지 않으면서 요소 여러 개를 중간에 추가할 수 있다.\n",
        "\n",
        "a=[10,20,30]\n",
        "a[1:1]=[[10,20,30]]\n",
        "a"
      ],
      "metadata": {
        "id": "uNrRVdmwAP6E"
      },
      "execution_count": null,
      "outputs": []
    },
    {
      "cell_type": "markdown",
      "source": [
        "리스트의 요소 삭제하기\n",
        "\n",
        "1. 인덱스로 요소 삭제\n",
        "\n",
        "pop(): 마지막 요소 또는 특정 인덱스의 요소를 삭제\n",
        "del 시퀀스객체[인덱스]\n",
        "\n",
        "\n",
        "2. 특정 값을 넣어서 요소 삭제\n",
        "\n",
        "remove():특정 값을 찾아서 삭제"
      ],
      "metadata": {
        "id": "apTbDvIzCVH1"
      }
    },
    {
      "cell_type": "code",
      "source": [
        "a=[10,20,30]\n",
        "a.pop() # 마지막 요소 삭제\n",
        "a"
      ],
      "metadata": {
        "id": "lASRv_RbCXWM"
      },
      "execution_count": null,
      "outputs": []
    },
    {
      "cell_type": "code",
      "source": [
        "a=[10,20,30]\n",
        "a.pop(1) # 특정 인덱스인 1번 인덱스 삭제\n",
        "a"
      ],
      "metadata": {
        "id": "Dz01xDvUHJqE"
      },
      "execution_count": null,
      "outputs": []
    },
    {
      "cell_type": "code",
      "source": [
        "a=[10,20,30]\n",
        "del a[1]\n",
        "a\n",
        "# pop 대신 del을 사용해도 상관없다."
      ],
      "metadata": {
        "id": "UzQHgEgBHba0"
      },
      "execution_count": null,
      "outputs": []
    },
    {
      "cell_type": "markdown",
      "source": [
        "pop이나 del은 인덱스로 요소를 삭제할 수 있다"
      ],
      "metadata": {
        "id": "KhS49kIIHsP7"
      }
    },
    {
      "cell_type": "code",
      "source": [
        "a=[10,20,30]\n",
        "a.remove(10)\n",
        "a"
      ],
      "metadata": {
        "id": "Y3psx09rIGN1"
      },
      "execution_count": null,
      "outputs": []
    },
    {
      "cell_type": "markdown",
      "source": [
        "리스트에서 특정 값의 인덱스 구하기 index(값)\n",
        "\n",
        "index(값)은 리스트에서 특정 값의 인덱스를 구합니다.\n",
        "\n"
      ],
      "metadata": {
        "id": "iY2syijyIQzV"
      }
    },
    {
      "cell_type": "code",
      "source": [
        "a=[10,20,30,40,50,60,12,44,32]\n",
        "a.index(40)"
      ],
      "metadata": {
        "id": "N6RAi0ogJG_J"
      },
      "execution_count": null,
      "outputs": []
    },
    {
      "cell_type": "markdown",
      "source": [
        "특정 값의 개수 구하기 count(값)\n"
      ],
      "metadata": {
        "id": "k8_ppfwAJnLP"
      }
    },
    {
      "cell_type": "code",
      "source": [
        "a=[10,20,20,30,10,40,20,30]\n",
        "a.count(10) # 2개\n",
        "a.count(20) # 3개"
      ],
      "metadata": {
        "id": "sGrjPVoUJsZj"
      },
      "execution_count": null,
      "outputs": []
    },
    {
      "cell_type": "markdown",
      "source": [
        "리스트의 순서 뒤집기 reversed() 와 reverse()\n",
        "\n"
      ],
      "metadata": {
        "id": "CvDSGwcpKI1S"
      }
    },
    {
      "cell_type": "code",
      "source": [
        "a=[10,20,30,40,50,60]\n",
        "a.reverse()\n",
        "a"
      ],
      "metadata": {
        "id": "cJ7QLqAyJ1Fx"
      },
      "execution_count": null,
      "outputs": []
    },
    {
      "cell_type": "markdown",
      "source": [
        "리스트의 요소 정렬하기 sort() 오름차순 정렬, sort(reverse=True) 내림차순 정렬\n"
      ],
      "metadata": {
        "id": "6b3dXZ75KSJL"
      }
    },
    {
      "cell_type": "markdown",
      "source": [
        "sort()와 sorted() 차이점은\n",
        "\n",
        "sort는 메서드를 사용한 리스트를 변경하지만 sorted는 정렬된 새 리스트를 생성한다."
      ],
      "metadata": {
        "id": "EC7mJim6Kncf"
      }
    },
    {
      "cell_type": "markdown",
      "source": [
        "모든 요소 삭제하기 clear()"
      ],
      "metadata": {
        "id": "mKXDKEQgK4Jc"
      }
    },
    {
      "cell_type": "code",
      "source": [
        "a=[10,20,30,40,50]\n",
        "a.clear()\n",
        "a"
      ],
      "metadata": {
        "id": "I-PA4hrJLgu0"
      },
      "execution_count": null,
      "outputs": []
    },
    {
      "cell_type": "markdown",
      "source": [
        "반복문으로 인덱스와 요소를 함께 출력하기 enumerate()"
      ],
      "metadata": {
        "id": "yAwhwKP_LlCs"
      }
    },
    {
      "cell_type": "code",
      "source": [
        "a=[10,20,30,40,50]\n",
        "for i, x in enumerate(a):\n",
        "  print(i,x)\n",
        "\n",
        "# 인덱스를 0이 아닌 1부터 시작하고 싶을 때는 2가지 방법이 있다.\n",
        "print()\n",
        "\n",
        "for i,x in enumerate(a):\n",
        "  print(i+1,x)\n",
        "\n"
      ],
      "metadata": {
        "id": "9UBbhAoaNuOr"
      },
      "execution_count": null,
      "outputs": []
    },
    {
      "cell_type": "markdown",
      "source": [
        "리스트 컴프리헨션(List comprehension) 혹은 리스트 표현식\n",
        "\n",
        "- [식 for 변수 in 리스트]\n",
        "\n",
        "- list(식 for 변수 in 리스트)"
      ],
      "metadata": {
        "id": "sgUNfiaQOpSk"
      }
    },
    {
      "cell_type": "code",
      "source": [
        "# 0부터 9까지 숫자를 생성하여 리스트 생성하기\n",
        "a=[x for x in range(0,10)]\n",
        "a"
      ],
      "metadata": {
        "id": "geGcCA_FOuVm"
      },
      "execution_count": null,
      "outputs": []
    },
    {
      "cell_type": "code",
      "source": [
        "b=list(x for x in range(0,10))\n",
        "b"
      ],
      "metadata": {
        "id": "394qmOqXOuTd"
      },
      "execution_count": null,
      "outputs": []
    },
    {
      "cell_type": "markdown",
      "source": [
        "리스트 컴프리헨션에서 if문 사용하기\n",
        "\n",
        "- [식 for 변수 in 리스트 if 조건식]\n",
        "\n",
        "- list(식 for 변수 in 리스트 if 조건식)\n"
      ],
      "metadata": {
        "id": "eJOHrfHqOuRk"
      }
    },
    {
      "cell_type": "code",
      "source": [
        "# 나는 1~100까지 짝수인 것만 리스트에 담고싶어\n",
        "\n",
        "a=[x for x in range(1,101) if x % 2 ==0]\n",
        "a"
      ],
      "metadata": {
        "id": "QISaNRO6OuJb"
      },
      "execution_count": null,
      "outputs": []
    },
    {
      "cell_type": "code",
      "source": [
        "# 구구단을 나타내는 리스트 자료\n",
        "a=[f'{i} * {j} = {i * j}' for i in range(1,10) for j in range(1,10)]\n",
        "a"
      ],
      "metadata": {
        "id": "Bkkjx29soPvl"
      },
      "execution_count": null,
      "outputs": []
    },
    {
      "cell_type": "code",
      "source": [
        "# 공군 항공기 임무명과 넘버를 입력받고 임무명과 넘버명을 뒤집어서 리스트에 넣어줌\n",
        "# (A: 공격기, B: 폭격기 C: 수송기 E: 전자전기 F: 전투기 H:헬리콥터) - 뒤에 명은 넘버로 구성되어있음\n",
        "a= True\n",
        "mission=[None] * 10\n",
        "number=[None] * 10\n",
        "for i,x in enumerate(mission):\n",
        "  a=input('하시겠습니까?)')\n",
        "  if a=='y':\n",
        "    mission[i]=(input(\"항공기 코드를 입력하시오: \").split('-'))\n",
        "  elif a=='n':\n",
        "    print('종료되었습니다.')\n",
        "    break\n",
        "print(mission)"
      ],
      "metadata": {
        "id": "i6JAX2Enzm4v"
      },
      "execution_count": null,
      "outputs": []
    },
    {
      "cell_type": "markdown",
      "source": [
        "리스트에 map 사용하기\n",
        "\n",
        "- list(map(함수,리스트))\n",
        "- tuple(map(함수,리스트))\n",
        "\n",
        "map은 원본 리스트를 변경하지 않고 새 리스트를 생성합니다.\n",
        "\n",
        "사실 map은 리스트 뿐만 아니라 모든 반복 가능한 객체를 넣을 수 있다.\n",
        "\n",
        "\n",
        "\n"
      ],
      "metadata": {
        "id": "woDoSQUDEA9T"
      }
    },
    {
      "cell_type": "code",
      "source": [
        "# 리스트 내의 실수형 원소들을 정수형으로 변환\n",
        "a=[1.2,3.2,35.1,7.1]\n",
        "a=list(map(int,a))\n",
        "a"
      ],
      "metadata": {
        "id": "wO43QQq-EukT"
      },
      "execution_count": null,
      "outputs": []
    },
    {
      "cell_type": "code",
      "source": [
        "# 반복 가능한 객체를 넣어서 이용하여 list를 만들어보기\n",
        "a=list(map(str,range(10)))\n",
        "a"
      ],
      "metadata": {
        "id": "VDe-w1m2FMGk"
      },
      "execution_count": null,
      "outputs": []
    },
    {
      "cell_type": "markdown",
      "source": [
        "input().split()과 map 함수\n",
        "\n",
        "input().split의 반환 값은 list로 출력되기 때문에, map함수를 사용할 수 있게된다.\n",
        "\n",
        "map함수가 반환하는 map 객체는 이터레이터라서 변수 여러 개에 저장하는 언패킹이 가능하다."
      ],
      "metadata": {
        "id": "UWnHy-imFMBE"
      }
    },
    {
      "cell_type": "code",
      "source": [
        "a=list(map(int,input().split()))\n",
        "a"
      ],
      "metadata": {
        "id": "y9mCcaC5Gz10"
      },
      "execution_count": null,
      "outputs": []
    },
    {
      "cell_type": "code",
      "source": [
        "a=(38,21,53,62,19,53)\n",
        "a.index(53) # 2\n",
        "a.count(53) # 2"
      ],
      "metadata": {
        "id": "KS9wiI5lHQhJ"
      },
      "execution_count": null,
      "outputs": []
    },
    {
      "cell_type": "markdown",
      "source": [
        "튜플 표현식 사용하기\n",
        "tuple(식 for 변수 리스트 if 조건식)\n",
        "\n",
        "ex) tuple(i for i in range(10) if i % 2 == 0)"
      ],
      "metadata": {
        "id": "DkIZ6JvTHy8j"
      }
    },
    {
      "cell_type": "code",
      "source": [
        "a=(i for i in range(10) if i % 2 ==0)\n",
        "tuple(a)"
      ],
      "metadata": {
        "id": "rugzLWHLIPlU"
      },
      "execution_count": null,
      "outputs": []
    },
    {
      "cell_type": "markdown",
      "source": [
        "2차원 리스트 사용하기\n",
        "\n",
        "- 리스트 = [[값,값],[값,값],[값,값]]"
      ],
      "metadata": {
        "id": "0eKeCaK2JbXU"
      }
    },
    {
      "cell_type": "code",
      "source": [
        "a=[[10,20],[30,40],[50,60]]\n",
        "a"
      ],
      "metadata": {
        "id": "Q3gvL-WWJeob"
      },
      "execution_count": null,
      "outputs": []
    },
    {
      "cell_type": "markdown",
      "source": [
        "사람이 알아보기 쉽게 출력하는 2차원 리스트\n",
        "\n",
        "from pprint import pprint"
      ],
      "metadata": {
        "id": "--6GLgcfJ0nE"
      }
    },
    {
      "cell_type": "code",
      "source": [
        "from pprint import pprint\n",
        "a=[[10,20],[30,40],[50,60]]\n",
        "pprint(a,indent=4,width=20)"
      ],
      "metadata": {
        "id": "5DqJpPutKfW3"
      },
      "execution_count": null,
      "outputs": []
    },
    {
      "cell_type": "code",
      "source": [
        "# 반복문을 2차원 리스트의 요소를 모두 출력하기\n",
        "a=[[10,20],[30,40],[50,60]]\n",
        "for x,y in a:\n",
        "  print(x,y)"
      ],
      "metadata": {
        "id": "897YvixHK69V"
      },
      "execution_count": null,
      "outputs": []
    },
    {
      "cell_type": "markdown",
      "source": [
        "for 반복문으로 2차원 리스트 만들기"
      ],
      "metadata": {
        "id": "S-3DKoz5LM90"
      }
    },
    {
      "cell_type": "code",
      "source": [
        "a=[]\n",
        "\n",
        "for i in range(3):\n",
        "  line=[]\n",
        "  for j in range(2):\n",
        "    line.append(0)\n",
        "  a.append(line)\n",
        "\n",
        "print(a)"
      ],
      "metadata": {
        "id": "2SlaIimVMzrr"
      },
      "execution_count": null,
      "outputs": []
    },
    {
      "cell_type": "markdown",
      "source": [
        "리스트 표현식으로 2차원 리스트 만들기"
      ],
      "metadata": {
        "id": "0Qo0dMtzNGPz"
      }
    },
    {
      "cell_type": "code",
      "source": [
        "a = [[0 for j in range(2)] for i in range(3)]\n",
        "a"
      ],
      "metadata": {
        "id": "2jJHchiZNJEL"
      },
      "execution_count": null,
      "outputs": []
    },
    {
      "cell_type": "markdown",
      "source": [
        "문자열의 응용하기\n",
        "\n",
        "문자열을 조작하거나 정보를 얻는 다양한 메소드에 대한 공부"
      ],
      "metadata": {
        "id": "dDWHHQlDFaJl"
      }
    },
    {
      "cell_type": "markdown",
      "source": [
        "문자열 바꾸기\n",
        "\n",
        "replace('바꿀문자열','새문자열')은 문자열 안의 문자열을 다른 문자열로 바꾼다.\n",
        "\n",
        "예시로, 'hello, world'에서 world를 Python으로 바꾼 뒤 결과를 반환하는 것을 보자ㅡ\n"
      ],
      "metadata": {
        "id": "rcfsmAk-Q9h-"
      }
    },
    {
      "cell_type": "code",
      "source": [
        "'hello, world'.replace('world','python')"
      ],
      "metadata": {
        "id": "cPNOtW-CRW0_"
      },
      "execution_count": null,
      "outputs": []
    },
    {
      "cell_type": "code",
      "source": [
        "s= 'Hello, world!'\n",
        "s=s.replace('world','Python')\n",
        "s"
      ],
      "metadata": {
        "id": "UVv58HVrGQID"
      },
      "execution_count": null,
      "outputs": []
    },
    {
      "cell_type": "markdown",
      "source": [
        "문자 바꾸기\n",
        "\n",
        "문자열을 바꿨는데, 문자를 바꾸는 방법도 존재한다.\n",
        "\n",
        "translate는 문자열 안의 문자를 다른 문자로 바꾼다.\n",
        "\n",
        "먼저 str,maketrans('바꿀문자','새문자')로 변환 태이블을 만든다.\n",
        "\n",
        "그 다음에 translate(테이블)을 사용하면 문자를 바꾼뒤 결과를 반환합니다.\n",
        "\n",
        "'apple'에서 'a' 를 1, 'e'를 2, 'i'를 3 'o'를 4 'u'를 5로 바꿉니다."
      ],
      "metadata": {
        "id": "KQIon-FEGvHw"
      }
    },
    {
      "cell_type": "code",
      "source": [
        "table=str.maketrans('aeiou','12345')\n",
        "'apple'.translate(table)"
      ],
      "metadata": {
        "id": "CiS82mFaHflh"
      },
      "execution_count": null,
      "outputs": []
    },
    {
      "cell_type": "markdown",
      "source": [
        "문자열 분리하기\n",
        "\n",
        "split()은 공백을 기준으로 문자열을 분리하여 리스트로 변환\n",
        "\n",
        "split('기준문자열') 기준 문자열로 문자열 분리"
      ],
      "metadata": {
        "id": "fDJA6BtfHfiP"
      }
    },
    {
      "cell_type": "code",
      "source": [
        "'apple trash pp yasuo laguvh laftogram'.split()"
      ],
      "metadata": {
        "id": "Z8eXT9B0Hffn"
      },
      "execution_count": null,
      "outputs": []
    },
    {
      "cell_type": "code",
      "source": [
        "'apap,sadpa,dmm,yaaa,toto'.split(',')"
      ],
      "metadata": {
        "id": "OXzH9LkkHfdu"
      },
      "execution_count": null,
      "outputs": []
    },
    {
      "cell_type": "markdown",
      "source": [
        "구분자 문자열과 문자열 리스트 연결하기\n",
        "\n",
        "문자열을 분리해서 리스트로 만들었으니 반대로 다시 연결하는 방법이 존재한다.\n",
        "\n",
        "구분자 문자열.join(리스트)"
      ],
      "metadata": {
        "id": "9g477S7aHfal"
      }
    },
    {
      "cell_type": "code",
      "source": [
        "''.join(['dda', 'yaoho', 'ppypyp', 'amskal'])"
      ],
      "metadata": {
        "id": "SNgvHzZtHfX5"
      },
      "execution_count": null,
      "outputs": []
    },
    {
      "cell_type": "code",
      "source": [
        "' '.join(['dda', 'yaoho', 'ppypyp', 'amskal'])"
      ],
      "metadata": {
        "id": "yjrSK46SHfUr"
      },
      "execution_count": null,
      "outputs": []
    },
    {
      "cell_type": "code",
      "source": [
        "'-'.join(['dda', 'yaoho', 'ppypyp', 'amskal'])"
      ],
      "metadata": {
        "id": "64mkFx87HfRg"
      },
      "execution_count": null,
      "outputs": []
    },
    {
      "cell_type": "markdown",
      "source": [
        "소문자를 대문자로 만들기\n",
        "upper()\n",
        "\n",
        "대문자를 소문자로 만들기\n",
        "lower()\n",
        "\n",
        "왼쪽 공백 삭제하기\n",
        "lstrip()\n",
        "\n",
        "오른쪽 공백 삭제하기\n",
        "rstrip()\n",
        "\n",
        "양쪽 공백 삭제하기\n",
        "strip()"
      ],
      "metadata": {
        "id": "xlgd5cHhHfOJ"
      }
    },
    {
      "cell_type": "code",
      "source": [
        "'python'.upper()"
      ],
      "metadata": {
        "id": "CNnzV1hjLX0z"
      },
      "execution_count": null,
      "outputs": []
    },
    {
      "cell_type": "code",
      "source": [
        "'PYTHON'.lower()"
      ],
      "metadata": {
        "id": "CxRr-N8MLXvm"
      },
      "execution_count": null,
      "outputs": []
    },
    {
      "cell_type": "code",
      "source": [
        "'    python'.lstrip()"
      ],
      "metadata": {
        "id": "h1Q69pCtLXpw"
      },
      "execution_count": null,
      "outputs": []
    },
    {
      "cell_type": "code",
      "source": [
        "'python         '.rstrip()"
      ],
      "metadata": {
        "id": "dY91dJGbLXiw"
      },
      "execution_count": null,
      "outputs": []
    },
    {
      "cell_type": "code",
      "source": [
        "'         python       '.strip()"
      ],
      "metadata": {
        "id": "flBxRxnkLXbn"
      },
      "execution_count": null,
      "outputs": []
    },
    {
      "cell_type": "code",
      "source": [
        "'     python    '.lstrip()"
      ],
      "metadata": {
        "id": "JhXAuHTULXUb"
      },
      "execution_count": null,
      "outputs": []
    },
    {
      "cell_type": "markdown",
      "source": [
        "왼쪽의 특정문자를 삭제하기\n",
        "lstrip('삭제할 문자들')"
      ],
      "metadata": {
        "id": "ic87JjUNLXQO"
      }
    },
    {
      "cell_type": "code",
      "source": [
        "'m.132a.da  mdsad,'.lstrip('m.132')"
      ],
      "metadata": {
        "id": "98BKtKklLXMA"
      },
      "execution_count": null,
      "outputs": []
    },
    {
      "cell_type": "markdown",
      "source": [
        "구두점을 간단하게 삭제하기\n",
        "\n",
        "string 모듈의 punctuation에는 모든 구두점이 들어있다.\n",
        "\n",
        "~!@#$%^&*(){}:\">?<.,?\"}/'][; 과 같은 것들이 구두점이고 string.punctuation에 들어있음\n"
      ],
      "metadata": {
        "id": "qFG9HovuLXH2"
      }
    },
    {
      "cell_type": "code",
      "source": [
        "import string\n",
        "\n",
        "',    python.{}'.strip(string.punctuation)\n",
        "# 구두점이 간단하게 제거됨\n",
        "\n",
        "',{}{>:\"?  python.  []%^&*(@)#}'.strip(string.punctuation+ ' ')\n",
        "# 구두점 삭제와 공백도 삭제하게 만들어줌"
      ],
      "metadata": {
        "id": "X_oci1lkLXDu"
      },
      "execution_count": null,
      "outputs": []
    },
    {
      "cell_type": "markdown",
      "source": [
        "문자열을 왼쪽 정렬하기\n",
        "ljust(길이)\n",
        "\n",
        "문자열을 오른쪽 정렬하기\n",
        "rjust(길이)\n",
        "\n",
        "문자열을 가운데 정렬하기\n",
        "center(길이)"
      ],
      "metadata": {
        "id": "HslSaVamLW-i"
      }
    },
    {
      "cell_type": "code",
      "source": [
        "'python'.ljust(10)"
      ],
      "metadata": {
        "id": "7MwayeuULW6Q"
      },
      "execution_count": null,
      "outputs": []
    },
    {
      "cell_type": "code",
      "source": [
        "'python'.rjust(10)"
      ],
      "metadata": {
        "id": "gDEPVwRHLW1d"
      },
      "execution_count": null,
      "outputs": []
    },
    {
      "cell_type": "code",
      "source": [
        "'python'.center(10)"
      ],
      "metadata": {
        "id": "dFBF4tn6LWt0"
      },
      "execution_count": null,
      "outputs": []
    },
    {
      "cell_type": "markdown",
      "source": [
        "문자열 위치 찾기\n",
        "\n",
        "find('찾을 문자열') -> 문자열에서 특정 문자열을 찾아서 인덱스를 반환하고, 문자열이 없으면 -1을 반환합니다.\n",
        "find는 왼쪽에서부터 문자열을 찾는다. 같은 문자열이 여러 개일 경우 처음 찾은 문자열의 인덱스를 반환합니다."
      ],
      "metadata": {
        "id": "dWXUVZWkU2ML"
      }
    },
    {
      "cell_type": "code",
      "source": [
        "'apple pineapple'.find('pl')"
      ],
      "metadata": {
        "id": "RFrtwDPtVK5i"
      },
      "execution_count": null,
      "outputs": []
    },
    {
      "cell_type": "code",
      "source": [
        "'apple pineapple'.find('xy')"
      ],
      "metadata": {
        "id": "PlYQ-SuLVK1f"
      },
      "execution_count": null,
      "outputs": []
    },
    {
      "cell_type": "code",
      "source": [
        "'apple pineapple'.rfind('pl')\n",
        "# 오른쪽에서 부터 찾기\n"
      ],
      "metadata": {
        "id": "UuJ9seFhVKv8"
      },
      "execution_count": null,
      "outputs": []
    },
    {
      "cell_type": "markdown",
      "source": [
        "index('찾을 문자열') 로도 문자열의 위치를 찾을 수 있다.\n",
        "\n",
        "차이점은 index('찾을 문자열')은 해당 문자열이 없으면 -1이 아닌 에러를 발생시킨다."
      ],
      "metadata": {
        "id": "X6qiHuSOVKnp"
      }
    },
    {
      "cell_type": "code",
      "source": [
        "'apple pineapple'.rindex('pl')"
      ],
      "metadata": {
        "id": "lkPwgCkYVKYt"
      },
      "execution_count": null,
      "outputs": []
    },
    {
      "cell_type": "code",
      "source": [
        "'apple pineapple'.index('pl')"
      ],
      "metadata": {
        "id": "KnaJcMOHVKVG"
      },
      "execution_count": null,
      "outputs": []
    },
    {
      "cell_type": "code",
      "source": [
        "'apple pineapple'.count('p')"
      ],
      "metadata": {
        "id": "uHiS3dDrVKR-"
      },
      "execution_count": null,
      "outputs": []
    },
    {
      "cell_type": "code",
      "source": [
        "path='C:\\\\users\\\\dojang\\\\AppData\\\\Local\\\\Programs\\\\Python\\\\Python36-32\\\\python.exe'\n",
        "print(path)"
      ],
      "metadata": {
        "id": "0Adl9tsXVKOW"
      },
      "execution_count": null,
      "outputs": []
    },
    {
      "cell_type": "code",
      "source": [
        "path.split('\\\\')[-1]"
      ],
      "metadata": {
        "id": "1VJOYxCxVKKu"
      },
      "execution_count": null,
      "outputs": []
    },
    {
      "cell_type": "code",
      "source": [
        "path[path.rfind('\\\\')+1:]"
      ],
      "metadata": {
        "id": "avbwdCI1dMDl"
      },
      "execution_count": null,
      "outputs": []
    },
    {
      "cell_type": "markdown",
      "source": [
        "딕셔너리 응용하기"
      ],
      "metadata": {
        "id": "0QpFhrlOiCod"
      }
    },
    {
      "cell_type": "markdown",
      "source": [
        "딕셔너리에 키-값 쌍 추가하기\n",
        "\n",
        "- setdefault: 키-값 쌍 추가\n",
        "- update: 키의 값 수정, 키가 없으면 키-값 쌍 추가"
      ],
      "metadata": {
        "id": "_pTpgSMsiF9Q"
      }
    },
    {
      "cell_type": "code",
      "source": [
        "# setdefault(키)\n",
        "x={'a':10,'b':20,'c':30,'d':40}\n",
        "x.setdefault('e')\n",
        "x"
      ],
      "metadata": {
        "id": "s_chsP-siNpM"
      },
      "execution_count": null,
      "outputs": []
    },
    {
      "cell_type": "code",
      "source": [
        "x={'a':10,'b':20,'c':30,'d':40}\n",
        "x.setdefault('e',100)\n",
        "x"
      ],
      "metadata": {
        "id": "aDQCaGNBiNnA"
      },
      "execution_count": null,
      "outputs": []
    },
    {
      "cell_type": "markdown",
      "source": [
        "딕셔너리에서 키의 값 수정하기"
      ],
      "metadata": {
        "id": "hJJkgbrnnIal"
      }
    },
    {
      "cell_type": "code",
      "source": [
        "x={'a':10,'b':20,'c':30,'d':40}\n",
        "x.update(a=90)\n",
        "x"
      ],
      "metadata": {
        "id": "A8efTaTsiNlM"
      },
      "execution_count": null,
      "outputs": []
    },
    {
      "cell_type": "markdown",
      "source": [
        "만약 딕셔너리에 키가 없으면 키-값 쌍을 추가할 수 있다. update()함수로 키-값 추가와 값 수정을 할 수 있다.\n"
      ],
      "metadata": {
        "id": "W0WexfPPiNjk"
      }
    },
    {
      "cell_type": "code",
      "source": [
        "x={'a':10,'b':20,'c':30,'d':40} # 키 값 추가\n",
        "x.update(e=500)\n",
        "x"
      ],
      "metadata": {
        "id": "MRnNqoySiNhw"
      },
      "execution_count": null,
      "outputs": []
    },
    {
      "cell_type": "code",
      "source": [
        "x.update(a=102) # 값 수정\n",
        "x"
      ],
      "metadata": {
        "id": "qoFqHlzUiNgF"
      },
      "execution_count": null,
      "outputs": []
    },
    {
      "cell_type": "code",
      "source": [
        "x.update(b=333,carry='Ruler') # 값 수정 및 키-값 추가\n",
        "x"
      ],
      "metadata": {
        "id": "7-uhzYwCiNbG"
      },
      "execution_count": null,
      "outputs": []
    },
    {
      "cell_type": "code",
      "source": [
        "x.update(a=900,f=60)\n",
        "x"
      ],
      "metadata": {
        "id": "6ViqFKjriNZa"
      },
      "execution_count": null,
      "outputs": []
    },
    {
      "cell_type": "markdown",
      "source": [
        "update(키=값)은 키가 문자열일 때만 사용할 수 있다.\n",
        "\n",
        "만약 키가 숫자일 경우 update(딕셔너리)처럼 딕셔너리를 넣어서 값을 수정할 수 있다."
      ],
      "metadata": {
        "id": "nBwM5-c-36ag"
      }
    },
    {
      "cell_type": "code",
      "source": [
        "y={1:\"one\",2:'two'}\n",
        "y.update({1:'ONE',3:'THREE'})\n",
        "y"
      ],
      "metadata": {
        "id": "MyzsBDSQiNX2"
      },
      "execution_count": null,
      "outputs": []
    },
    {
      "cell_type": "code",
      "source": [
        "y.update([[2,'one'],[3,'three'],[4,'Four']])\n",
        "y"
      ],
      "metadata": {
        "id": "-H0XMLaJiNWN"
      },
      "execution_count": null,
      "outputs": []
    },
    {
      "cell_type": "code",
      "source": [
        "y.update(zip([1,2],['one','two']))\n",
        "y"
      ],
      "metadata": {
        "id": "HZQb7IVriNUr"
      },
      "execution_count": null,
      "outputs": []
    },
    {
      "cell_type": "markdown",
      "source": [
        "딕셔너리에서 키-값 쌍 삭제하기\n",
        "\n",
        "pop(키)는 딕셔너리에서 특정 키-값 쌍을 삭제한 뒤 삭제한 값을 반환합니다."
      ],
      "metadata": {
        "id": "PCNOJGaDiNTB"
      }
    },
    {
      "cell_type": "code",
      "source": [
        "x={'a':10,'b':20,'c':30,'d':40}\n",
        "x.pop('a')\n",
        "x"
      ],
      "metadata": {
        "id": "jjwf-0rFiNPb"
      },
      "execution_count": null,
      "outputs": []
    },
    {
      "cell_type": "markdown",
      "source": [
        "del로 특정 키-값 쌍을 삭제할 수 있다."
      ],
      "metadata": {
        "id": "cPwItaCB5Rdm"
      }
    },
    {
      "cell_type": "code",
      "source": [
        "x={'a':10,'b':20,'c':30,'d':40}\n",
        "del x['a']\n",
        "x"
      ],
      "metadata": {
        "id": "5tWhJU60iNNm"
      },
      "execution_count": null,
      "outputs": []
    },
    {
      "cell_type": "markdown",
      "source": [
        "딕셔너리에서 임의의 키-값 쌍 삭제하기\n",
        "\n",
        "popitem()은 딕셔너리에서 임의의 키-값 쌍을 삭제한 뒤 삭제한 키-값 쌍을 튜플로 반환합니다."
      ],
      "metadata": {
        "id": "h_hyU-ijiNLo"
      }
    },
    {
      "cell_type": "code",
      "source": [
        "x={'a':10,'b':20,'c':30,'d':40}\n",
        "x.popitem() # ('d',40)을 반환\n",
        "x"
      ],
      "metadata": {
        "id": "TMKo35DuiNJr"
      },
      "execution_count": null,
      "outputs": []
    },
    {
      "cell_type": "markdown",
      "source": [
        "딕셔너리에서 키의 값을 가져오기\n",
        "\n",
        "get(키)는 딕셔너리에서 특정 키의 값을 가져옵니다.\n",
        "\n",
        "딕셔너리 x에서 키 'a'의 값을 가져온다.\n",
        "\n",
        "get(키,반환값)처럼 기본값을 지정하면 딕셔너리에 키가 있을 경우 해당 키의 값을 반환하지만, 그렇지 않은 경우에는, 기본값을 반환합니다."
      ],
      "metadata": {
        "id": "XAbZOGnJiNH1"
      }
    },
    {
      "cell_type": "code",
      "source": [
        "x={'a':10,'b':20,'c':30,'d':40}\n",
        "x.get('a') # 10출력\n",
        "x.get('z',0) # z 키 값이 없으므로 0을 반환한다."
      ],
      "metadata": {
        "id": "0HMt7RSfiNFx"
      },
      "execution_count": null,
      "outputs": []
    },
    {
      "cell_type": "markdown",
      "source": [
        "딕셔너리에서 키-값 쌍을 모두 가져오기\n",
        "\n",
        "items: 키-값 쌍을 모두 가져옴\n",
        "\n",
        "keys: 키를 모두 가져옴\n",
        "\n",
        "values: 값을 모두 가져옴\n"
      ],
      "metadata": {
        "id": "beU3S4pYiNDU"
      }
    },
    {
      "cell_type": "code",
      "source": [
        "x={'a':10,'b':20,'c':30,'d':40}\n",
        "x.items()"
      ],
      "metadata": {
        "id": "yxU8AgeviM9E"
      },
      "execution_count": null,
      "outputs": []
    },
    {
      "cell_type": "code",
      "source": [
        "x.keys()"
      ],
      "metadata": {
        "id": "Dyvs_YS-66hx"
      },
      "execution_count": null,
      "outputs": []
    },
    {
      "cell_type": "code",
      "source": [
        "x.values()"
      ],
      "metadata": {
        "id": "zWorFhL466gA"
      },
      "execution_count": null,
      "outputs": []
    },
    {
      "cell_type": "markdown",
      "source": [
        "리스트와 튜플로 딕서너리 만들기\n",
        "\n",
        "키가 들어있는 리스트를 준비합니다.\n",
        "\n",
        "dict.fromkeys에 키가 들어있는 리스트를 넣으면 딕셔너리를 생성합니다.\n"
      ],
      "metadata": {
        "id": "m8mQs4Ct_FSX"
      }
    },
    {
      "cell_type": "code",
      "source": [
        "keys=['a','b','c','d']\n",
        "x=dict.fromkeys(keys)\n",
        "x"
      ],
      "metadata": {
        "id": "PbEhoydR66dn"
      },
      "execution_count": null,
      "outputs": []
    },
    {
      "cell_type": "code",
      "source": [
        "y=dict.fromkeys(keys,100)\n",
        "y"
      ],
      "metadata": {
        "id": "c12eAntn66bL"
      },
      "execution_count": null,
      "outputs": []
    },
    {
      "cell_type": "code",
      "source": [
        "x={'a':10,'b':20,'c':30,'d':40}\n",
        "for i in x:\n",
        "  print(i,end=' ')\n",
        "\n",
        "# 값은 출력되지 않고, 키만 출력됩니다."
      ],
      "metadata": {
        "id": "wi8Umnww66Yr"
      },
      "execution_count": null,
      "outputs": []
    },
    {
      "cell_type": "markdown",
      "source": [
        "딕셔너리의 키,값 출력하기\n",
        "\n",
        "for 키,값 in 딕셔너리.items():"
      ],
      "metadata": {
        "id": "6bbkPm2A66WU"
      }
    },
    {
      "cell_type": "code",
      "source": [
        "x={'a':10,'b':20,'c':30,'d':40}\n",
        "for key, value in x.items():\n",
        "  print(key,value)"
      ],
      "metadata": {
        "id": "t5y3ggDQ66T1"
      },
      "execution_count": null,
      "outputs": []
    },
    {
      "cell_type": "markdown",
      "source": [
        "딕셔너리의 키만 출력하기\n",
        "\n",
        "for key in 딕셔너리.keys():"
      ],
      "metadata": {
        "id": "UKAOuYg866RZ"
      }
    },
    {
      "cell_type": "code",
      "source": [
        "x={'a':10,'b':20,'c':30,'d':40}\n",
        "for key in x.keys():\n",
        "  print(key)\n"
      ],
      "metadata": {
        "id": "1vosMyNA66PU"
      },
      "execution_count": null,
      "outputs": []
    },
    {
      "cell_type": "markdown",
      "source": [
        "딕셔너리의 값만 출력하기\n",
        "\n",
        "for value in 딕셔너리.values()"
      ],
      "metadata": {
        "id": "xaHkC1QEA18e"
      }
    },
    {
      "cell_type": "code",
      "source": [
        "x={'a':10,'b':20,'c':30,'d':40}\n",
        "for value in x.values():\n",
        "  print(value)"
      ],
      "metadata": {
        "id": "Cj5BlRQh66M_"
      },
      "execution_count": null,
      "outputs": []
    },
    {
      "cell_type": "markdown",
      "source": [
        "딕셔너리 표현식 사용하기\n",
        "\n",
        "- {키:값 for 키,값 in 딕셔너리}\n",
        "- dict({키:값 for 키,값 in 딕셔너리})"
      ],
      "metadata": {
        "id": "Q8hwi4l966Kt"
      }
    },
    {
      "cell_type": "code",
      "source": [
        "keys=['a','b','c','d']\n",
        "\n",
        "x={key:value for key,value in dict.fromkeys(keys).items()}\n",
        "x"
      ],
      "metadata": {
        "id": "SJ3lg6s566IR"
      },
      "execution_count": null,
      "outputs": []
    },
    {
      "cell_type": "markdown",
      "source": [
        "keys로만 키만 가져온 뒤 특정 값을 넣거나, values로 값을 가져온 뒤 값을 키로 사용할 수 있다."
      ],
      "metadata": {
        "id": "V5dz2xGX66GD"
      }
    },
    {
      "cell_type": "code",
      "source": [
        "{key:0 for key in dict.fromkeys(keys).keys()} # 키 값만 가져와서 각각 0을 할당함"
      ],
      "metadata": {
        "id": "9gwOzx_5Bvyl"
      },
      "execution_count": null,
      "outputs": []
    },
    {
      "cell_type": "code",
      "source": [
        "{value:0 for value in {'a':10,'b':20,'c':30,'d':40}.values()}"
      ],
      "metadata": {
        "id": "XluvaFdmBvw6"
      },
      "execution_count": null,
      "outputs": []
    },
    {
      "cell_type": "markdown",
      "source": [
        "또는, 키-값 자리를 바꿈"
      ],
      "metadata": {
        "id": "dJGzL4UZBvvY"
      }
    },
    {
      "cell_type": "code",
      "source": [
        "x={'a':10,'b':20,'c':30,'d':40}\n",
        "{value : key for key,value in x.items()}"
      ],
      "metadata": {
        "id": "lmazoSCVBvtz"
      },
      "execution_count": null,
      "outputs": []
    },
    {
      "cell_type": "markdown",
      "source": [
        "딕셔너리 표현식에서 if 조건문 사용하기\n",
        "\n",
        "딕셔너리 표현식은 딕셔너리에서 특정 값을 찾아서 삭제할 때 유용하다.\n",
        "\n",
        "딕셔너리는 특정 키를 삭제하는 pop 메서드만 제공할 뿐, 특정 값을 삭제하는 메소드는 제공하지않는다.\n",
        "\n",
        "그러면 특정값을 찾아서 키-값 쌍을 삭제하려면 어떻게 해야할까요?"
      ],
      "metadata": {
        "id": "7acEqmp0BvrW"
      }
    },
    {
      "cell_type": "code",
      "source": [
        "x={'a':10,'b':20,'c':30,'d':40}\n",
        "for key,value in x.items():\n",
        "  if value==20:\n",
        "    del x[key]\n",
        "# value가 20인 key-value 쌍 삭제\n",
        "\n",
        "# 이렇게 하면 반복 도중에 딕셔너리의 사이즈가 변했다고 뜹니다."
      ],
      "metadata": {
        "id": "OIYlDFWy66DW"
      },
      "execution_count": null,
      "outputs": []
    },
    {
      "cell_type": "markdown",
      "source": [
        "그래서 딕셔너리 표현식을 사용하여 특정 값을 삭제한다."
      ],
      "metadata": {
        "id": "7i2Z5HGA66Ap"
      }
    },
    {
      "cell_type": "code",
      "source": [
        "# 값 20인 키-값 삭제\n",
        "\n",
        "x={'a':10,'b':20,'c':30,'d':40}\n",
        "x={key:value for key, value in x.items() if value!=20}\n",
        "x"
      ],
      "metadata": {
        "id": "zr9Lawa8659u"
      },
      "execution_count": null,
      "outputs": []
    },
    {
      "cell_type": "code",
      "source": [
        "x={'a':10,'b':20,'c':30,'d':40}\n",
        "y={'a':10,'b':20,'c':30,'d':40}\n",
        "\n",
        "print(id(x))\n",
        "print(id(y))\n",
        "print(x is y)\n",
        "print(x == y)\n",
        "x=y # 딕셔너리가 2개일것 같지만 딕셔너리는 1개이다.\n",
        "\n",
        "print(id(x))\n",
        "print(id(y))\n",
        "print(x is y)\n",
        "print(x == y)"
      ],
      "metadata": {
        "id": "OeO6nrdk657V"
      },
      "execution_count": null,
      "outputs": []
    },
    {
      "cell_type": "markdown",
      "source": [
        "파일 사용하기 (파일 처리)\n",
        "\n",
        "파일에서 문자열을 읽고 쓰는 방법과 파이썬 객체를 파일에 읽고 쓰는 방법"
      ],
      "metadata": {
        "id": "_rRwpGoc654w"
      }
    },
    {
      "cell_type": "markdown",
      "source": [
        "파일에 문자열 쓰기\n",
        "\n",
        "파일에 문자열을 쓸 때는 open함수로 파일을 열어서 파일 객체를 얻은 뒤에 write 메서드를 사용해야한다"
      ],
      "metadata": {
        "id": "jtVr4d4a652F"
      }
    },
    {
      "cell_type": "markdown",
      "source": [
        "- 파일객체 = open(파일이름,파일모드)\n",
        "- 파일객체.write('문자열')\n",
        "- 파일객체.close()"
      ],
      "metadata": {
        "id": "JqU6sNmY65zO"
      }
    },
    {
      "cell_type": "code",
      "source": [
        "file = open('hello.txt','w')\n",
        "file.write('Hello, World!')\n",
        "file.close()"
      ],
      "metadata": {
        "id": "Enp0m8Cs65wb"
      },
      "execution_count": null,
      "outputs": []
    },
    {
      "cell_type": "markdown",
      "source": [
        "파일에서 문자열 읽기"
      ],
      "metadata": {
        "id": "cUmQyv2R65tq"
      }
    },
    {
      "cell_type": "code",
      "source": [
        "file = open('hello.txt','r')\n",
        "s=file.read()\n",
        "print(s)\n",
        "file.close()"
      ],
      "metadata": {
        "id": "3SoD8euz65rA"
      },
      "execution_count": null,
      "outputs": []
    },
    {
      "cell_type": "markdown",
      "source": [
        "자동으로 파일 객체 닫기\n",
        "\n",
        "with as를 사용하여 파일을 사용한 뒤 자동으로 파일 객체를 닫아줍니다.\n",
        "\n",
        "`with open(파일이름,파일모드) as 파일객체:`\n"
      ],
      "metadata": {
        "id": "dE_MgIEn65oi"
      }
    },
    {
      "cell_type": "code",
      "source": [
        "with open('hello.txt','r') as file:\n",
        "  s=file.read()\n",
        "  print(s)"
      ],
      "metadata": {
        "id": "AFCLZogL65mM"
      },
      "execution_count": null,
      "outputs": []
    },
    {
      "cell_type": "markdown",
      "source": [
        "문자열 여러 줄을 파일에 쓰기,읽기"
      ],
      "metadata": {
        "id": "cELQadZu65jk"
      }
    },
    {
      "cell_type": "code",
      "source": [
        "# 반복문으로 문자열 여러 줄을 파일에 쓰기\n",
        "with open('hello.txt','w') as file:\n",
        "  for i in range(3):\n",
        "    file.write('Hello, world! {0}\\n'.format(i))\n"
      ],
      "metadata": {
        "id": "ZO9XaDNV65hA"
      },
      "execution_count": null,
      "outputs": []
    },
    {
      "cell_type": "markdown",
      "source": [
        " 리스트에 들어있는 문자열을 파일에 쓰기"
      ],
      "metadata": {
        "id": "8y7Cb0QY65eX"
      }
    },
    {
      "cell_type": "markdown",
      "source": [
        "- 파일객체.writelines(문자열리스트)"
      ],
      "metadata": {
        "id": "IYqeJl0j65bh"
      }
    },
    {
      "cell_type": "code",
      "source": [
        "# 리스트에 들어있는 문자열을 파일에 쓰기\n",
        "lines=['안녕하세요\\n','파이썬\\n','코딩 도장입니다.\\n']\n",
        "\n",
        "with open('hello.txt','w') as file:\n",
        "  file.writelines(lines)"
      ],
      "metadata": {
        "id": "YfQvPM7o65Yx"
      },
      "execution_count": null,
      "outputs": []
    },
    {
      "cell_type": "markdown",
      "source": [
        "파일 내용을 한 줄씩 읽기\n",
        "\n",
        "- 변수 = 파일객체.readline()\n",
        "\n",
        "readline()으로 파일을 읽을 때는 while 반복문을 활용해야한다.\n",
        "\n",
        "왜냐하면 파일에 문자열이 몇 줄이나 있는지 모르기 때문이다."
      ],
      "metadata": {
        "id": "U7JjN0rr65WC"
      }
    },
    {
      "cell_type": "code",
      "source": [
        "with open('hello.txt','r') as file:\n",
        "  line=None\n",
        "  while line != '':\n",
        "    line = file.readline()\n",
        "    print(line.strip('\\n'))"
      ],
      "metadata": {
        "id": "8qoLcrTO65TK"
      },
      "execution_count": null,
      "outputs": []
    },
    {
      "cell_type": "markdown",
      "source": [
        "for 반복문으로 파일의 내용을 줄 단위로 읽기\n"
      ],
      "metadata": {
        "id": "u08jBukm65QQ"
      }
    },
    {
      "cell_type": "code",
      "source": [
        "with open('hello.txt','r') as file:\n",
        "  for line in file: # for에 파일 객체를 지정하면 파일의 내용을 한줄씩 읽어서 변수에 저장함\n",
        "    print(line.strip('\\n')) # \\n 삭제"
      ],
      "metadata": {
        "id": "w_Mi3Sps65Nc"
      },
      "execution_count": null,
      "outputs": []
    },
    {
      "cell_type": "markdown",
      "source": [
        "파이썬 객체를 파일에 저장하기, 가져오기\n",
        "\n",
        "- pickle 모듈: 파이썬 객체를 파일에 저장하는 모듈\n",
        "\n",
        "파이썬 객체를 파일에 저장하는 과정을 피클링\n",
        "\n",
        "파일에서 객체를 읽어오는 과정을 언피클링"
      ],
      "metadata": {
        "id": "RqH9R-HC65Ks"
      }
    },
    {
      "cell_type": "markdown",
      "source": [
        "파이썬 객체를 파일에 저장하기"
      ],
      "metadata": {
        "id": "JVbNuHjp649c"
      }
    },
    {
      "cell_type": "code",
      "source": [
        "import pickle\n",
        "\n",
        "name='James'\n",
        "age=17\n",
        "address='서울시 서초구 반포동'\n",
        "scores={'korean':90,'english':95,'mathematics':85,'science':82}\n",
        "\n",
        "with open('james.p','wb') as file: # p -> pickle의 p이다. 'wb'는 바이너리 쓰기\n",
        "  pickle.dump(name,file) # 객체(값)를 저장할 때는 pickle.dump로 객체(값)을 조절할 때는 open('james.p','wb') 해야한다.\n",
        "  pickle.dump(age,file)\n",
        "  pickle.dump(address,file)\n",
        "  pickle.dump(scores,file)\n"
      ],
      "metadata": {
        "id": "mdN_6DLL644s"
      },
      "execution_count": null,
      "outputs": []
    },
    {
      "cell_type": "markdown",
      "source": [
        "파일에서 파이썬 객체읽기"
      ],
      "metadata": {
        "id": "TCC5B12T64s5"
      }
    },
    {
      "cell_type": "code",
      "source": [
        "import pickle\n",
        "with open('/content/james.p','rb') as file:\n",
        "  name=pickle.load(file)\n",
        "  age=pickle.load(file)\n",
        "  address=pickle.load(file)\n",
        "  scores=pickle.load(file)\n",
        "  print(name)\n",
        "  print(age)"
      ],
      "metadata": {
        "id": "o5xTj4QsIcuX"
      },
      "execution_count": null,
      "outputs": []
    },
    {
      "cell_type": "markdown",
      "source": [
        "# 함수에서 위치 인수와 키워드 인수 사용하기\n"
      ],
      "metadata": {
        "id": "-KqaXgLMIcrz"
      }
    },
    {
      "cell_type": "markdown",
      "source": [
        "## 위치인수와 리스트 언패킹 사용하기"
      ],
      "metadata": {
        "id": "M_D6t_4UIco3"
      }
    },
    {
      "cell_type": "markdown",
      "source": [
        "함수에 인수(argument)를 순서대로 넣는 방식이 위치 인수라고한다."
      ],
      "metadata": {
        "id": "rJFwUz5mIcmq"
      }
    },
    {
      "cell_type": "code",
      "source": [
        "print(10,20,30)"
      ],
      "metadata": {
        "id": "5qFuwmunIckQ"
      },
      "execution_count": null,
      "outputs": []
    },
    {
      "cell_type": "code",
      "source": [
        "def print_number(a,b,c):\n",
        "  print(a)\n",
        "  print(b)\n",
        "  print(c)\n",
        "\n",
        "print_number(10,20,30)"
      ],
      "metadata": {
        "id": "DjnLIS3LIchw"
      },
      "execution_count": null,
      "outputs": []
    },
    {
      "cell_type": "markdown",
      "source": [
        "## 언패킹 사용하기\n",
        "\n",
        "- 함수(*리스트)\n",
        "- 함수(*튜플)\n",
        "\n",
        "*는 애스터리스크라고 한다. 인수를 순서대로 놓고 싶을때는 리스트와 퓨트를 이용할 때도 있다.\n",
        "\n"
      ],
      "metadata": {
        "id": "gLXhGaDTIa0B"
      }
    },
    {
      "cell_type": "code",
      "source": [
        "print_number(*[10,20,30])"
      ],
      "metadata": {
        "id": "vEl1NPFgcCna"
      },
      "execution_count": null,
      "outputs": []
    },
    {
      "cell_type": "code",
      "source": [
        "print_number([10,20,30])\n",
        "\n",
        "# 오출력, 그이유는 b,c에 대한 인수가 주어지지 않아서"
      ],
      "metadata": {
        "id": "T9bX7eUNcClv"
      },
      "execution_count": null,
      "outputs": []
    },
    {
      "cell_type": "markdown",
      "source": [
        "리스트나 튜플앞에 *를 붙이면 unpacking을 의미한다.\n",
        "리스트의 포장을 푼다.라고 이해하자"
      ],
      "metadata": {
        "id": "bnk14njEcCjm"
      }
    },
    {
      "cell_type": "code",
      "source": [
        "x=[10,20,30]\n",
        "print_number(*x)"
      ],
      "metadata": {
        "id": "_7uqL_encCho"
      },
      "execution_count": null,
      "outputs": []
    },
    {
      "cell_type": "markdown",
      "source": [
        "## 가변 인수 함수 만들기\n",
        "\n",
        "위치 인수와 리스트 언패킹은 어디에 사용될까?\n",
        "\n",
        "이 기능들은 인수의 개수가 정해지지 않은 가변 인수에 사용합니다\n",
        "\n",
        "즉, 같은 함수에 인수 1개 넣을 수도 있고, 열개를 넣을 수도 있다. 또는 넣지 않을 수 있다.\n",
        "\n",
        "가변인수를 만드는 방법은 아래와 같다."
      ],
      "metadata": {
        "id": "M0sByUYUcCf-"
      }
    },
    {
      "cell_type": "code",
      "source": [
        "def 함수이름(*매개변수):\n",
        "  pass"
      ],
      "metadata": {
        "id": "a9zyghv7cCeN"
      },
      "execution_count": null,
      "outputs": []
    },
    {
      "cell_type": "code",
      "source": [
        "def print_numbers(*args):\n",
        "  for arg in args:\n",
        "    print(arg)"
      ],
      "metadata": {
        "id": "sWt8YECocCcV"
      },
      "execution_count": null,
      "outputs": []
    },
    {
      "cell_type": "code",
      "source": [
        "print_numbers(10)\n",
        "print()\n",
        "print_numbers(10,20,30,40)\n",
        "print()\n",
        "print_numbers([10,20,30])"
      ],
      "metadata": {
        "id": "Q2OtOhnccCaE"
      },
      "execution_count": null,
      "outputs": []
    },
    {
      "cell_type": "code",
      "source": [
        "print_numbers(*[10,20,30])"
      ],
      "metadata": {
        "id": "mfpQ370IcCYP"
      },
      "execution_count": null,
      "outputs": []
    },
    {
      "cell_type": "markdown",
      "source": [
        "가변인수를 담은 함수를 호출할 때는 인수를 각각 넣어주거나 리스트나 튜플을 언패킹을 사용하면된다."
      ],
      "metadata": {
        "id": "l4Xyr8LmcCWh"
      }
    },
    {
      "cell_type": "code",
      "source": [
        "print(1,2,3,4)\n",
        "print(*[10,20,405,1])"
      ],
      "metadata": {
        "id": "dLVdUVPMcCUP"
      },
      "execution_count": null,
      "outputs": []
    },
    {
      "cell_type": "markdown",
      "source": [
        "## 고정 인수와 가변 인수를 함께 사용하기"
      ],
      "metadata": {
        "id": "2gl_1onhcCQd"
      }
    },
    {
      "cell_type": "markdown",
      "source": [
        "## 키워드 인수와 딕셔너리 언팩킹 사용하기\n",
        "\n",
        "* 함수(**딕셔너리)"
      ],
      "metadata": {
        "id": "R4GhFftvcCOr"
      }
    },
    {
      "cell_type": "code",
      "source": [
        "def personal_info(name,age,address):\n",
        "  print('이름',name)\n",
        "  print('나이',age)\n",
        "  print('주소',address)\n",
        "\n",
        "x={'name':'홍길동','age':29,'address':'서울시 용산구 이촌동'}\n",
        "personal_info(**x)"
      ],
      "metadata": {
        "id": "ayV34b23cCM7"
      },
      "execution_count": null,
      "outputs": []
    },
    {
      "cell_type": "markdown",
      "source": [
        "딕셔너리 언패킹을 사용할 때는 함수의 매개변수 이름과 키 이름이 같아아한다.\n",
        "\n",
        "또한 매개변수의 갯수와 딕셔너리의 키 개수가 같아야한다."
      ],
      "metadata": {
        "id": "ebe2aX8KcCK6"
      }
    },
    {
      "cell_type": "code",
      "source": [
        "x={'name':'홍길동','age':29,'address':'서울시 용산구 이촌동'}\n",
        "personal_info(*x)\n",
        "print()\n",
        "personal_info(**x)"
      ],
      "metadata": {
        "id": "W42eC_hGcCIv"
      },
      "execution_count": null,
      "outputs": []
    },
    {
      "cell_type": "markdown",
      "source": [
        "`*딕셔너리`는 딕셔너리의 키가 뽑히고,\n",
        "`**딕셔너리`는 딕셔너리의 value값이 뽑힘"
      ],
      "metadata": {
        "id": "wuy8WpkicCGh"
      }
    },
    {
      "cell_type": "markdown",
      "source": [
        "## 키워드 인수를 사용하는 가변인수 함수 만들기\n",
        "\n",
        "def 함수이름(**매개변수):"
      ],
      "metadata": {
        "id": "XZ1vSKZMcCEh"
      }
    },
    {
      "cell_type": "code",
      "source": [
        "def personal_info(**kwargs):\n",
        "  for kw,arg in kwargs.items():\n",
        "    print(kw,':',arg,sep='')"
      ],
      "metadata": {
        "id": "Xurfbji1kkB8"
      },
      "execution_count": null,
      "outputs": []
    },
    {
      "cell_type": "code",
      "source": [
        "# 키워드 인수를 활용하여 직접 넣어도된다.\n",
        "\n",
        "personal_info(name='홍길동')\n",
        "print()\n",
        "personal_info(name='황유성',\n",
        "              value=26,\n",
        "              성별='남성')"
      ],
      "metadata": {
        "id": "5U5Fv3IwkrxD"
      },
      "execution_count": null,
      "outputs": []
    },
    {
      "cell_type": "code",
      "source": [
        "# 딕셔너리 언패킹하여 직접 넣기\n",
        "\n",
        "personal_info(**{'name':'유성','나이':26,'성별':'남성'})"
      ],
      "metadata": {
        "id": "MRoDSXxEkrta"
      },
      "execution_count": null,
      "outputs": []
    },
    {
      "cell_type": "markdown",
      "source": [
        "매개변수에 `**`을 붙여 키워드 인수를 사용하는 가변 인수 함수를 만들 수 있다.\n",
        "\n",
        "이런 함수를 호출할 때는 키워드와 인수를 각각 넣거나 딕셔너리 언패킹을 사용하면 된다."
      ],
      "metadata": {
        "id": "xaY4o8cikrfL"
      }
    },
    {
      "cell_type": "markdown",
      "source": [
        "# 람다 표현식\n",
        "\n",
        "익명 함수를 만드는 방법\n",
        "\n",
        "lambda expression은 함수를 간단하게 작성할 수 있어서 다른 함수의 인수로 넣을 때 주로 사용됨\n",
        "\n"
      ],
      "metadata": {
        "id": "f3hvWlJQkrXg"
      }
    },
    {
      "cell_type": "code",
      "source": [
        "def plus_ten(x):\n",
        "  return x+10\n",
        "\n",
        "plus_ten(1)"
      ],
      "metadata": {
        "id": "U8T3-tD3krTS"
      },
      "execution_count": null,
      "outputs": []
    },
    {
      "cell_type": "markdown",
      "source": [
        "`lambda 매개변수들: 식`"
      ],
      "metadata": {
        "id": "Z2NxIvGtkrJz"
      }
    },
    {
      "cell_type": "code",
      "source": [
        "lambda x: x + 10\n",
        "\n",
        "# 함수 객체가 나오는데 이 상태에선 함수를 호출할 수 없다."
      ],
      "metadata": {
        "id": "B56Un6VTkrFt"
      },
      "execution_count": null,
      "outputs": []
    },
    {
      "cell_type": "markdown",
      "source": [
        "익명 함수인 람다 함수를 호출하려면 람다 표현식을 변수에 할당해주면 된다."
      ],
      "metadata": {
        "id": "C1s-3NsEkrCk"
      }
    },
    {
      "cell_type": "code",
      "source": [
        "k=lambda x: x + 10\n",
        "\n",
        "k(10)"
      ],
      "metadata": {
        "id": "dmuJGwPMkq_B"
      },
      "execution_count": null,
      "outputs": []
    },
    {
      "cell_type": "markdown",
      "source": [
        "## 람다 표현식 자체를 호출하기\n",
        "\n",
        "람다 표현식 변수에 할당하지 않고 람다 표현식 자체를 바로 호출할 수 있다.\n",
        "\n",
        "람다 표현식을 ()로 묶은뒤 인수를 ()에 다시 또 묶어서 호출하면된다.\n",
        "\n",
        "* (lambda x : x + 10) (1)"
      ],
      "metadata": {
        "id": "8OXm87kRkq7p"
      }
    },
    {
      "cell_type": "code",
      "source": [
        "(lambda x : x+10)(1)"
      ],
      "metadata": {
        "id": "neiU4x6vkq5M"
      },
      "execution_count": null,
      "outputs": []
    },
    {
      "cell_type": "markdown",
      "source": [
        "## 람다 표현식을 인수로 사용하기\n",
        "\n",
        "람다 표현식을 사용하는 이유는 함수의 인수 부분에서 간단하게 만들기 하기 위함이다.\n",
        "\n",
        "이런 방식으로 사용하는 대표적인 예시가 map함수이다.\n",
        "\n",
        "map(함수,iterable 객체)"
      ],
      "metadata": {
        "id": "MKnuBDaNkq1W"
      }
    },
    {
      "cell_type": "code",
      "source": [
        "def plus_ten(x):\n",
        "  return x+10\n",
        "\n",
        "list(map(plus_ten,[1,2,3]))"
      ],
      "metadata": {
        "id": "Kz3NwOQykqyC"
      },
      "execution_count": null,
      "outputs": []
    },
    {
      "cell_type": "code",
      "source": [
        "list(map(lambda x:x+10,[10,20,30]))"
      ],
      "metadata": {
        "id": "SFZfzaMkkqo7"
      },
      "execution_count": null,
      "outputs": []
    },
    {
      "cell_type": "markdown",
      "source": [
        "## 람다 표현식과 map,filter,reduce 함수 활용하기\n",
        "\n",
        "* 람다 표현식에 조건부 표현식 사용하기 lambda 매개변수들: 식1 if 조건식 else 식2"
      ],
      "metadata": {
        "id": "kBoGH35okqgU"
      }
    },
    {
      "cell_type": "code",
      "source": [
        "a=[1,2,3,4,5,6,7,8,9,10]\n",
        "list(map(lambda x: str(x) if x % 3 == 0 else x,a))"
      ],
      "metadata": {
        "id": "hsCplMnzkqdW"
      },
      "execution_count": null,
      "outputs": []
    },
    {
      "cell_type": "code",
      "source": [
        "a=[1,2,3,4,5,6,7,8,9,10]\n",
        "list(map(lambda x: print(x) if x % 2 == 0 else x,a))"
      ],
      "metadata": {
        "id": "jN5LMGhDkqaN"
      },
      "execution_count": null,
      "outputs": []
    },
    {
      "cell_type": "markdown",
      "source": [
        "람다 표현식 안에서 조건부 표현식 if,else 를 사용할 때는 :(콜론)을 사용하지 않는다.\n",
        "\n",
        "조건부 표현식은 `식1 if 조건식 else 식2` 형식으로 사용하며 식1은 조건이 참일때, 식2는 조건식이 거짓일 때 사용할 식이다.\n",
        "\n",
        "특히 람다 표현식에서 if를 사용했다면 반드시 else를 사용해야한다.\n",
        "\n",
        "그리고 람다 표현식 안에서는 elif를 사용할 수 없다.\n",
        "\n",
        "또한 if를 연속으로 사용해야할 때, `식1 if조건식1 else 식2 if 조건식2 else 식3` 이 형식을 사용해야한다.\n",
        "\n",
        "예를 들어, 리스트의 1은 문자열로 변환, 리스트의 2는 실수로 변환하고 3이상은 10을 더하는 식을 다음과 같이 만들 수 있다."
      ],
      "metadata": {
        "id": "eJrmlLnnkqWx"
      }
    },
    {
      "cell_type": "markdown",
      "source": [
        "* lambda 매개변수들: 식 if 조건식1 else 식2 if 조건식2 else 식3"
      ],
      "metadata": {
        "id": "l8oiDvxXkqUT"
      }
    },
    {
      "cell_type": "code",
      "source": [
        "list(map(lambda x: str(x) if x==1 else float(x) if x == 2 else x+10,a))\n"
      ],
      "metadata": {
        "id": "syksGiQHkqP5"
      },
      "execution_count": null,
      "outputs": []
    },
    {
      "cell_type": "markdown",
      "source": [
        "이런 경우에는 별로 복잡한 조건이 아님에도 이해하기가 힘들다 이럴때는 def함수를 사용해서 만드는 것을 권장한다."
      ],
      "metadata": {
        "id": "5WT8XSm-kqMt"
      }
    },
    {
      "cell_type": "code",
      "source": [
        "def f(x):\n",
        "  if x == 1:\n",
        "    return str(x)\n",
        "  elif x ==2:\n",
        "    return float(x)\n",
        "  else:\n",
        "    return x+10\n",
        "\n",
        "a=[1,2,3,4,5,6,7,8,9,10]\n",
        "list(map(f,a))"
      ],
      "metadata": {
        "id": "1OulHTRskqIb"
      },
      "execution_count": null,
      "outputs": []
    },
    {
      "cell_type": "markdown",
      "source": [
        "## map에 객체를 여러 개 넣기"
      ],
      "metadata": {
        "id": "2djgPTgxwIXo"
      }
    },
    {
      "cell_type": "code",
      "source": [
        "a=[1,2,3,4,5]\n",
        "b=[2,3,4,5,6]\n",
        "\n",
        "list(map(lambda x,y: x*y ,a,b))"
      ],
      "metadata": {
        "id": "FmQvrzQlwIVW"
      },
      "execution_count": null,
      "outputs": []
    },
    {
      "cell_type": "markdown",
      "source": [
        "## filter 사용하기\n",
        "\n",
        "filter는 반복 가능한 객체에서 특정 조건에 맞는 요소만 가져오는데 filter에 지정한 함수의 반환값이 True일 때만 해당 요소를 가져옵니다.\n",
        "\n",
        "filter(함수,반복가능객체)"
      ],
      "metadata": {
        "id": "CgxEacD7wITV"
      }
    },
    {
      "cell_type": "code",
      "source": [
        "def f(x):\n",
        "  return x > 5 and x <10"
      ],
      "metadata": {
        "id": "gYILAXbhwIP4"
      },
      "execution_count": null,
      "outputs": []
    },
    {
      "cell_type": "code",
      "source": [
        "a=[8,11,3,2,10,15,7,0,11,19,6]\n",
        "list(filter(f,a))"
      ],
      "metadata": {
        "id": "zi6yqHCNwIN9"
      },
      "execution_count": null,
      "outputs": []
    },
    {
      "cell_type": "markdown",
      "source": [
        "lambda를 사용하여 filter 만들기"
      ],
      "metadata": {
        "id": "4etKlC3vwIL7"
      }
    },
    {
      "cell_type": "code",
      "source": [
        "a=[8,11,3,2,10,15,7,0,11,19,6]\n",
        "list(filter(lambda x : x>5 and x<10 ,a))"
      ],
      "metadata": {
        "id": "QKBGPIZ_wIJ1"
      },
      "execution_count": null,
      "outputs": []
    },
    {
      "cell_type": "markdown",
      "source": [
        "## reduce 사용하기\n",
        "\n",
        "reduce는 반복 가능한 객체의 각 요소를 지정된 함수로 처리한 뒤 이전 결과와 누적해서 반환하는 함수입니다.\n",
        "\n",
        "reduce는 내장함수가 아니므로 functools 모듈에서 reduce함수를 가져와야합니다.\n",
        "\n",
        "* from functools import reduce\n",
        "\n",
        "* reduce(함수,반복가능한 객체)"
      ],
      "metadata": {
        "id": "ak0vjbX9wIHm"
      }
    },
    {
      "cell_type": "code",
      "source": [
        "from functools import reduce\n",
        "\n",
        "def f(x,y):\n",
        "  return x+y\n",
        "\n",
        "a=[1,2,3,4,5]\n",
        "from functools import reduce\n",
        "reduce(f,a)"
      ],
      "metadata": {
        "id": "l3byrEtzwIFw"
      },
      "execution_count": null,
      "outputs": []
    },
    {
      "cell_type": "code",
      "source": [
        "a=[1,2,3,4,5,7,10,11,9,8]\n",
        "reduce(lambda x,y: x+y,a)"
      ],
      "metadata": {
        "id": "i035BE4-wICO"
      },
      "execution_count": null,
      "outputs": []
    },
    {
      "cell_type": "code",
      "source": [
        "[i for i in a if i > 5 and i < 10]"
      ],
      "metadata": {
        "id": "bIPV2ecUwIAK"
      },
      "execution_count": null,
      "outputs": []
    },
    {
      "cell_type": "markdown",
      "source": [
        "# 클래스 사용하기\n",
        "\n",
        "클래스는 객체를 표현하기 위한 문법이다.\n",
        "\n",
        "예시로, 게임의 기사 캐릭터를 클래스로 표현한다고 하면 무엇이 필요할까요?\n",
        "\n",
        "게임 캐릭터는 체력,마나, 물리공격력, 주문력등이 필요합니다.\n",
        "\n",
        "기사 캐릭터는 칼로 베기, 찌르기 등의 스킬등이 있어야할 겁니다.\n",
        "\n",
        "여기서 체력,마나, 물리 공격력, 주문력 등의 데이터는 클래스의 속성(attribute)라 부르고 베기,찌르기 등과 같은 기능을 메소드(method)라고 부릅니다."
      ],
      "metadata": {
        "id": "ASwJZg_CwH9h"
      }
    },
    {
      "cell_type": "markdown",
      "source": [
        "이렇게 프로그래밍 방법을 객체 지향 프로그래밍이라고 합니다.\n",
        "\n",
        "복잡한 문제를 잘게 나누어서 객체로 만들고, 객체를 조합해서 문제를 해결합니다.\n",
        "\n",
        "숫자,문자,리스트,딕셔너리 등을 조합해서 프로그램을 만들었는데 사실 파이썬에서는 이 모든 것이 객체입니다.\n",
        "\n",
        "이번에는 클래스를 사용해서 객체를 표현하고 만드는 방법을 알아보자.\n",
        "\n"
      ],
      "metadata": {
        "id": "34Zycrt-wH7N"
      }
    },
    {
      "cell_type": "markdown",
      "source": [
        "## 클래스와 메소드 만들기\n",
        "\n",
        "class에 클래스 이름을 지정하고 :을 붙인 뒤 다음 줄부터 def로 메소드를 작성하면 된다.\n",
        "\n",
        "클래스 이름을 짓는 방법은 변수와 같다.\n",
        "보통 파이썬에서는 클래스의 이름은 대문자로 시작한다.\n",
        "\n",
        "특히 메소드의 첫 번째 매개변수는 반드시 self를 지정해야한다."
      ],
      "metadata": {
        "id": "GMqybohNwH5l"
      }
    },
    {
      "cell_type": "code",
      "source": [
        "class 클래스이름:\n",
        "  def 메소드(self):\n",
        "    \"코드\"\n",
        "    pass"
      ],
      "metadata": {
        "id": "Af27nDGrwH3v"
      },
      "execution_count": null,
      "outputs": []
    },
    {
      "cell_type": "code",
      "source": [
        "class Person:\n",
        "  def greeting(self):\n",
        "    print('Hello')"
      ],
      "metadata": {
        "id": "CLQ-Dx_VwH17"
      },
      "execution_count": null,
      "outputs": []
    },
    {
      "cell_type": "markdown",
      "source": [
        "클래스를 만들었다면 클래스를 사용보자\n",
        "* 인스턴스 = 클래스()"
      ],
      "metadata": {
        "id": "l2VbLxCJwHzz"
      }
    },
    {
      "cell_type": "code",
      "source": [
        "james=Person()"
      ],
      "metadata": {
        "id": "g28DbxS4wHx_"
      },
      "execution_count": null,
      "outputs": []
    },
    {
      "cell_type": "markdown",
      "source": [
        "## 메소드 호출하기\n",
        "\n",
        "메소드는 클래스가 아니라 인스턴스를 통해 호출해야한다.\n",
        "인스턴스 뒤에 .을 붙이고 메소드를 호출하면된다.\n",
        "\n",
        "* 인스턴스.메소드()"
      ],
      "metadata": {
        "id": "19fqYsKA595e"
      }
    },
    {
      "cell_type": "code",
      "source": [
        "james.greeting()"
      ],
      "metadata": {
        "id": "-FqVhtXl593v"
      },
      "execution_count": null,
      "outputs": []
    },
    {
      "cell_type": "markdown",
      "source": [
        "이렇게 인스턴스를 통해 호출하는 메소드를 인스턴스 메소드라고 부른다."
      ],
      "metadata": {
        "id": "Bbg13718591u"
      }
    },
    {
      "cell_type": "markdown",
      "source": [
        "## 파이썬에서 흔히 볼 수 있는 클래스\n",
        "\n",
        "int, list ,dict 등도 사실은 클래스이다.\n",
        "\n",
        "우리는 이 클래스로 인스턴스를 만들고 메소드를 사용했다.\n"
      ],
      "metadata": {
        "id": "fU2TsI6q590C"
      }
    },
    {
      "cell_type": "code",
      "source": [
        "a = int(10)\n",
        "\n",
        "b = list(range(10))\n",
        "\n",
        "c=dict(x=10,y=10)\n",
        "\n",
        "b.reverse()\n",
        "b"
      ],
      "metadata": {
        "id": "gu1V-EqT59yC"
      },
      "execution_count": null,
      "outputs": []
    },
    {
      "cell_type": "code",
      "source": [
        "a=list(range(10))\n",
        "b=list(range(20))\n",
        "print(isinstance(a,list))\n",
        "# 이때 a와b는 list 클래스의 인스턴스이다."
      ],
      "metadata": {
        "id": "ittOTpLl59wQ"
      },
      "execution_count": null,
      "outputs": []
    },
    {
      "cell_type": "markdown",
      "source": [
        "### 메소드 안에서 메소드 호출하기\n",
        "\n",
        "메소드 안에서 메소드를 호출할 때는 다음과 같이 self.메소드() 형식으로 호출해야한다.\n",
        "\n",
        "self 없이 메소드 이름만 사용하면 클래스 바깥 쪽에 있는 함수를 호출한다는 뜻이 되므로 주의해야한다."
      ],
      "metadata": {
        "id": "iHV4KgPx-R6d"
      }
    },
    {
      "cell_type": "code",
      "source": [
        "class Person:\n",
        "  def greeting(self):\n",
        "    print('hello')\n",
        "\n",
        "  def hello(self):\n",
        "    self.greeting()\n",
        "\n",
        "james=Person()\n",
        "james.hello()"
      ],
      "metadata": {
        "id": "NEw1Vri159uX"
      },
      "execution_count": null,
      "outputs": []
    },
    {
      "cell_type": "markdown",
      "source": [
        "### 특정 클래스의 인스턴스인지 확인하기\n",
        "\n",
        "현재 인스턴스가 특정 클래스의 인스턴스인지 확인할 때는 isinstance 함수를 사용합니다.\n",
        "\n",
        "특정 클래스의 인스턴스가 맞으면 True, 아니면 False를 반환한다.\n",
        "\n",
        "* isinstance(인스턴스,클래스)"
      ],
      "metadata": {
        "id": "FmL8u4Ol-QT2"
      }
    },
    {
      "cell_type": "code",
      "source": [
        "class Person:\n",
        "  pass\n",
        "\n",
        "james=Person()\n",
        "\n",
        "print(isinstance(james,Person))"
      ],
      "metadata": {
        "id": "SJec-q_6_oZ3"
      },
      "execution_count": null,
      "outputs": []
    },
    {
      "cell_type": "markdown",
      "source": [
        "## 속성 사용하기\n",
        "\n",
        "속성을 만들 때에는 `__init__` 메소드 안에서 self.속성에 값을 할당한다."
      ],
      "metadata": {
        "id": "1p3f2_0p-QP1"
      }
    },
    {
      "cell_type": "code",
      "source": [
        "class 클래스이름:\n",
        "  def __init__(self):\n",
        "    self.속성 = 값"
      ],
      "metadata": {
        "id": "a-UItzmF-Pae"
      },
      "execution_count": null,
      "outputs": []
    },
    {
      "cell_type": "code",
      "source": [
        "class Person:\n",
        "  def __init__(self):\n",
        "    self.hello = '안녕하세요.'\n",
        "\n",
        "  def greeting(self):\n",
        "    print(self.hello)\n",
        "\n",
        "james=Person()\n",
        "james.greeting()"
      ],
      "metadata": {
        "id": "XoNxItXp59sl"
      },
      "execution_count": null,
      "outputs": []
    },
    {
      "cell_type": "code",
      "source": [
        "class Library:\n",
        "  def __init__(self):\n",
        "    self.자연과학 = '400'\n",
        "\n",
        "  def print_number(self):\n",
        "    print(self.자연과학)\n",
        "\n",
        "library=Library()\n",
        "library.print_number()\n",
        "\n"
      ],
      "metadata": {
        "id": "w0ytiz-CDyOQ"
      },
      "execution_count": null,
      "outputs": []
    },
    {
      "cell_type": "markdown",
      "source": [
        "`__init__` 메소드는 james=Person()처럼 클래스에 ()괄호를 붙여서 인스턴스를 만들 때 호출되는 특별한 메소드입니다.\n",
        "\n",
        "즉, `__init__`이라는 이름 그대로 인스턴스(객체)를 초기화합니다.\n",
        "\n",
        "특히, 이렇게 앞뒤로 __ 밑줄 두개가 붙은 메소드는 파이썬이 자동으로 호출해주는 메소드인데 스페셜 메소드 또는 매직 메소드 라고 부른다.\n",
        "\n",
        "속성은 `__init__` 메소드에서 만든다는 점과 self에 .(점)을 붙인 뒤 값을 할당한다는 점이 중요합니다.\n",
        "\n",
        "클래스 안에서 속성을 사용할 때도 self.hello처럼 self에 점을 붙여서 사용하면 됩니다."
      ],
      "metadata": {
        "id": "4H83A4ai59qr"
      }
    },
    {
      "cell_type": "code",
      "source": [
        "class Person:\n",
        "  def __init__(self):\n",
        "    self.hello = '안녕하세요.'\n",
        "\n",
        "  def greeting(self):\n",
        "    print(self.hello)\n",
        "\n",
        "james=Person()\n",
        "james.greeting()"
      ],
      "metadata": {
        "id": "v7qTFg_rHgOZ"
      },
      "execution_count": null,
      "outputs": []
    },
    {
      "cell_type": "code",
      "source": [
        "james=Person()"
      ],
      "metadata": {
        "id": "nBiazxa2kjKD"
      },
      "execution_count": null,
      "outputs": []
    },
    {
      "cell_type": "markdown",
      "source": [
        "## self의 의미\n",
        "\n",
        "self는 뭘까...?\n",
        "\n",
        "self는 인스턴스 자기 자신을 의미한다.\n",
        "\n",
        "우리는 인스턴스가 생성될 때 self.hello = '안녕하세요.' 처럼 자기 자신에 속성을 추가했습니다.\n",
        "\n",
        "여기서 `__init__`의 매개변수 self에 들어가는 값은 Person()이라 할 수 있다.\n",
        "\n",
        "그리고 self가 완성한 뒤 james에 할당됩니다.\n",
        "\n",
        "이후 메소드를 호출하면 현재 인스턴스가 자동으로 매개변수 self에 들어옵니다.\n",
        "\n",
        "그래서 greeting 메소드에서 print(self.hello)처럼 속성을 출력할 수 있었던 것이다."
      ],
      "metadata": {
        "id": "RMhOONtX59o4"
      }
    },
    {
      "cell_type": "code",
      "source": [
        "james=Person()\n",
        "james.hello"
      ],
      "metadata": {
        "id": "IEm0k-Ue59mW"
      },
      "execution_count": null,
      "outputs": []
    },
    {
      "cell_type": "markdown",
      "source": [
        "## 인스턴스를 만들 때 값 받기\n",
        "\n",
        "`__init__` 메소드에서 self 다음에 값을 받을 매개변수를 지정한다.\n",
        "그리고 매개변수를 self.속성에 넣어준다.\n",
        "\n"
      ],
      "metadata": {
        "id": "WPm9XLeU59kG"
      }
    },
    {
      "cell_type": "code",
      "source": [
        "class 클래스이름:\n",
        "  def __init__(self,매개변수1,매개변수2):\n",
        "    self.속성1=매개변수1\n",
        "    self.속성2=매개변수2"
      ],
      "metadata": {
        "id": "lw-9dzkH59iG"
      },
      "execution_count": null,
      "outputs": []
    },
    {
      "cell_type": "code",
      "source": [
        "class Person:\n",
        "  def __init__(self,name,age,address):\n",
        "    self.hello = '안녕하세요'\n",
        "    self.name = name\n",
        "    self.age = age\n",
        "    self.address = address\n",
        "\n",
        "  def greeting(self):\n",
        "    print('{0} 저는 {1}입니다.'.format(self.hello,self.name))\n",
        "\n",
        "maria=Person('마리아',26,'서울시 서초구 반포동')\n",
        "maria.greeting()\n",
        "\n",
        "print('이름: ',maria.name)\n",
        "print('나이: ',maria.age)\n",
        "print('주소: ',maria.address)"
      ],
      "metadata": {
        "id": "d86wq49K59gZ"
      },
      "execution_count": null,
      "outputs": []
    },
    {
      "cell_type": "markdown",
      "source": [
        "* 클래스 안에서 속성에 접근할 때는 self.속성 형식이었다.\n",
        "* 클래스 바깥에서 속성을 접근할 때는 인스턴스.속성 형식으로 접근합니다."
      ],
      "metadata": {
        "id": "S3g2H9r959ee"
      }
    },
    {
      "cell_type": "code",
      "source": [
        "maria.address\n",
        "maria.greeting()"
      ],
      "metadata": {
        "id": "op3j1kN-59cr"
      },
      "execution_count": null,
      "outputs": []
    },
    {
      "cell_type": "markdown",
      "source": [
        "### 클래스의 위치 변수,키워드 인수\n",
        "\n",
        "클래스로 인스턴스를 만들 때 위치 인수와 키워드 인수를 사용할 수 있다.\n",
        "\n",
        "위치 인수와 리스트 언패킹을 사용하려면 다음과 같이 *args를 사용하면 된다.\n",
        "\n",
        "매개변수에서 값을 가져오려면 args[0]처럼 사용해야한다."
      ],
      "metadata": {
        "id": "3Eex32oZ59ao"
      }
    },
    {
      "cell_type": "code",
      "source": [
        "class Person:\n",
        "  def __init__(self, *args):\n",
        "    self.name=args[0]\n",
        "    self.age=args[1]\n",
        "    self.address =args[2]\n",
        "\n",
        "james=Person(*['유성',26,'수원시'])\n",
        "print(james.name)\n",
        "print(james.age)\n",
        "print(james.address)"
      ],
      "metadata": {
        "id": "sUtdgzcBwHwP"
      },
      "execution_count": null,
      "outputs": []
    },
    {
      "cell_type": "markdown",
      "source": [
        "### 키워드 인수와 딕셔너리 언패킹을 사용"
      ],
      "metadata": {
        "id": "nOQM7eKEwHuR"
      }
    },
    {
      "cell_type": "code",
      "source": [
        "class Person:\n",
        "  def __init__(self,**kwargs):\n",
        "    self.name=kwargs['name']\n",
        "    self.age=kwargs['age']\n",
        "    self.address=kwargs['address']\n",
        "\n",
        "maria1=Person(name='마리아',age=26,address='수원시')\n",
        "maria2=Person(**{'name':'마리아','age':26,'address':'수원시'})\n",
        "\n",
        "print(maria2.name)"
      ],
      "metadata": {
        "id": "wpIZPFkgqD-5"
      },
      "execution_count": null,
      "outputs": []
    },
    {
      "cell_type": "markdown",
      "source": [
        "### 인스턴스를 생성한 뒤에 속성 추가하기, 특정 속성만 추가하기\n",
        "\n",
        "우리는 클래스의 인스턴스 속성을 `__init__`메소드 안에서 추가한뒤 사용했다.\n",
        "\n",
        "하지만 클래스로 인스턴스를 만든 뒤에도 `인스턴스.속성=값` 형식으로 속성을 계속 추가할 수 있다.\n",
        "\n",
        "Person을 빈 클래스로 만들고 name이란 속성을 추가해보자"
      ],
      "metadata": {
        "id": "4kRcpUEWwHsF"
      }
    },
    {
      "cell_type": "code",
      "source": [
        "class Person:\n",
        "  pass\n",
        "\n",
        "james=Person()\n",
        "james.name='유성'\n",
        "\n",
        "james.name"
      ],
      "metadata": {
        "id": "0FhcMZrTwHmc"
      },
      "execution_count": null,
      "outputs": []
    },
    {
      "cell_type": "markdown",
      "source": [
        "이렇게 추가한 속성은 해당 인스턴스 안에서만 사용할 수 있고 다른 인스턴스에서 Person()을 할당하면 name이란 속성은 없다."
      ],
      "metadata": {
        "id": "-qMfJsW8wHkz"
      }
    },
    {
      "cell_type": "markdown",
      "source": [
        "인스턴스는 생성한 뒤에 속성을 추가할 수 있으므로 `__init__` 메소드가 아닌 다른 메소드에서도 속성을 추가할 수 있다. 이때는 메소드를 호출해야 그때 속성을 사용할 수 있다"
      ],
      "metadata": {
        "id": "n_Hg_6MXwHjA"
      }
    },
    {
      "cell_type": "code",
      "source": [
        "class Person:\n",
        "  def greeting(self):\n",
        "    self.hello='안녕하세요'"
      ],
      "metadata": {
        "id": "9zaaEdKfwHgy"
      },
      "execution_count": null,
      "outputs": []
    },
    {
      "cell_type": "code",
      "source": [
        "james=Person()\n",
        "james.hello # 오류가 난다. hello라는 속성이 없기때문"
      ],
      "metadata": {
        "id": "KYkjzrjVwHep"
      },
      "execution_count": null,
      "outputs": []
    },
    {
      "cell_type": "code",
      "source": [
        "james.greeting()\n",
        "james.hello"
      ],
      "metadata": {
        "id": "69FhtQ2qynKd"
      },
      "execution_count": null,
      "outputs": []
    },
    {
      "cell_type": "markdown",
      "source": [
        "인스턴스는 자유롭게 속성을 추가할 수 있지만, 특정 속성만 허용하고 다른속성은 제한하고 싶을 때는 `__slot__`에 허용할 속성이름을 리스트로 넣어주면 된다.\n",
        "\n",
        "`__slots__==['속성이름','속성이름2']`"
      ],
      "metadata": {
        "id": "iG_I0cupysBq"
      }
    },
    {
      "cell_type": "code",
      "source": [
        "class Person:\n",
        "  __slots__ = ['name','age']\n",
        "\n",
        "maria=Person()\n",
        "maria.name='마리아' # 허용된 속성\n",
        "maria.age=26 # 허용된 속성\n",
        "\n",
        "maria.address='서울시 서초구' # 허용되지 않은 속성 address"
      ],
      "metadata": {
        "id": "AVbUOdk_3L06"
      },
      "execution_count": null,
      "outputs": []
    },
    {
      "cell_type": "markdown",
      "source": [
        "## 비공개 속성 사용하기\n",
        "\n",
        "속성들은 메소드에서 self로 접근할 수 있고, 인스턴스.속성 형식으로 클래스 바깥에서도 접근할 수 있었다.\n",
        "\n",
        "이번에는 클래스 바깥에서는 접근할 수 없고, 클래스 안에서만 사용할 수 있는 비공개 속성을 사용해보자\n",
        "\n",
        "비공개 속성은 `__`속성과 같이 이름이 `__`(밑줄두개)로 시작해야한다.\n",
        "\n",
        "주의해야되는건 `__속성__`처럼 밑줄 두개가 양옆에 있을땐 비공개 속성이 아님에 주의해야한다."
      ],
      "metadata": {
        "id": "p4wXpn0r32n8"
      }
    },
    {
      "cell_type": "code",
      "source": [
        "class Person:\n",
        "  def __init__(self,name,age,address,wallet):\n",
        "    self.name=name\n",
        "    self.age=age\n",
        "    self.address=address\n",
        "    self.__wallet=wallet\n",
        "\n",
        "maria=Person('마리아',26,'수원시 망포동',10000)\n",
        "maria.__wallet -=10000\n",
        "\n",
        "# 클래스 바깥에서 인스턴스에서 __wallet을 접근하려고 하니 에러가 뜬다."
      ],
      "metadata": {
        "id": "X8sndKwL6bcO"
      },
      "execution_count": null,
      "outputs": []
    },
    {
      "cell_type": "code",
      "source": [
        "class Person:\n",
        "  def __init__(self,name,age,address,wallet):\n",
        "    self.name=name\n",
        "    self.age=age\n",
        "    self.address=address\n",
        "    self.__wallet = wallet\n",
        "\n",
        "  def pay(self,amount):\n",
        "    self.__wallet -= amount\n",
        "    print('이제 {0}원 남았습니다.'.format(self.__wallet))\n",
        "\n",
        "Maria=Person('Maria',26,'수원시 망포동',26000)\n",
        "Maria.pay(10000)"
      ],
      "metadata": {
        "id": "LNScfkDl6bf4"
      },
      "execution_count": null,
      "outputs": []
    },
    {
      "cell_type": "code",
      "source": [
        "class Person:\n",
        "  def __init__(self,name,age,address,wallet):\n",
        "    self.name=name\n",
        "    self.age=age\n",
        "    self.address=address\n",
        "    self.__wallet = wallet\n",
        "\n",
        "  def pay(self,amount):\n",
        "    if self.__wallet < amount:\n",
        "      print('돈이 모자르네..')\n",
        "      return\n",
        "    self.__wallet -= amount\n",
        "Maria=Person('Maria',26,'수원시 망포동',26000)"
      ],
      "metadata": {
        "id": "cfc8Q3fI-CnE"
      },
      "execution_count": null,
      "outputs": []
    },
    {
      "cell_type": "markdown",
      "source": [
        "# 클래스 속성과 정적, 클래스 메소드 사용하기\n",
        "\n",
        "이번엔 클래스에 속해 있는 클래스 속성에 대해 알아보기\n",
        "\n",
        "그리고 인스턴스를 만들지 않고 클래스로 호출하는 정적 메소드와 클래스 메소드도 사용해보기.\n",
        "\n",
        "클래스 속성과 인스턴스 속성 알아보기\n",
        "\n",
        "사실 속성에는 2가지가 있다.\n",
        "\n",
        "클래스 속성과 인스턴스 속성인데 `__init__` 메소드에서 만들었던 속성은 인스턴스 속성이다."
      ],
      "metadata": {
        "id": "w1THt91m45tg"
      }
    },
    {
      "cell_type": "markdown",
      "source": [
        "## 클래스 속성 사용하기\n",
        "\n",
        "이번에는 클래스 속성을 사용하기 클래스 속성은 다음과 같이 클래스에 바로 속성을 만든다.\n"
      ],
      "metadata": {
        "id": "LGWYn8QH7Fu7"
      }
    },
    {
      "cell_type": "code",
      "source": [
        "class 클래스이름:\n",
        "  속성=값"
      ],
      "metadata": {
        "id": "Aoy3Bq1N7bDG"
      },
      "execution_count": null,
      "outputs": []
    },
    {
      "cell_type": "code",
      "source": [
        "class Person:\n",
        "  bag=[]\n",
        "\n",
        "  def put_bag(self,stuff):\n",
        "    self.bag.append(stuff)\n",
        "\n",
        "james=Person()\n",
        "james.put_bag('책')\n",
        "\n",
        "maria=Person()\n",
        "maria.put_bag('열쇠')\n",
        "\n",
        "print(james.bag)\n",
        "print(maria.bag)"
      ],
      "metadata": {
        "id": "dHMeKJim7bBB"
      },
      "execution_count": null,
      "outputs": []
    },
    {
      "cell_type": "markdown",
      "source": [
        "james와 maria 인스턴스를 만들고 각자 put_bag 메소드로 물건을 넣었는데 출력해보면 물건이 합쳐져서 나온다.\n",
        "\n",
        "즉, 클래스 속성은 클래스에 속해 있으며 모든 인스턴스에서 공유된다.\n",
        "\n",
        "그리고 put_bag 메소드에서 클래스 속성 bag에 접근할 때 self를 사용했다. 근데 self는 현재 인스턴스를 뜻하므로 클래스 속성을 참조하기에는 조금 모호하다..\n",
        "\n",
        "그래서 클래스 속성에 접근할 때는 다음과 같이 클래스 이름으로 접근하면 코드가 명확해진다.\n",
        "\n",
        "* 클래스.속성"
      ],
      "metadata": {
        "id": "_dPfFLrL7a-_"
      }
    },
    {
      "cell_type": "code",
      "source": [
        "class Person:\n",
        "  bag=[]\n",
        "\n",
        "  def put_bag(self,stuff):\n",
        "    Person.bag.append(stuff) # 클래스 이름으로 클래스 속성에 접근"
      ],
      "metadata": {
        "id": "uHr1aGTJ7a9P"
      },
      "execution_count": null,
      "outputs": []
    },
    {
      "cell_type": "markdown",
      "source": [
        "마찬가지로 클래스 바깥에서도 다음과 같이 클래스 이름으로 클래스 속성에 접근하면된다."
      ],
      "metadata": {
        "id": "kvGl7Xe67a66"
      }
    },
    {
      "cell_type": "markdown",
      "source": [
        "### 속성,메소드 이름을 찾는 순서\n",
        "\n",
        "속성, 메소드 이름을 찾을 때 인스턴스, 클래스 순으로 찾는다.\n",
        "\n",
        "인스턴스 속성이 없으면 클래스 속성을 찾게되므로\n",
        "\n",
        "james.bag, maria.bag도 문제없이 동작한다.\n",
        "\n",
        "인스턴스와 클래스에서 `__dict__` 속성을 출력해보면 현재 인스턴스와 클래스의 속성을 딕셔너리로 확인할 수 있다.\n",
        "\n",
        "* `인스턴스.__dict__`\n",
        "* `클래스.__dict__`"
      ],
      "metadata": {
        "id": "TksriMMQ7a5N"
      }
    },
    {
      "cell_type": "code",
      "source": [
        "print(james.__dict__)\n",
        "print(Person.__dict__)"
      ],
      "metadata": {
        "id": "RlxxHpRF7a3X"
      },
      "execution_count": null,
      "outputs": []
    },
    {
      "cell_type": "markdown",
      "source": [
        "## 인스턴스 속성 사용하기\n",
        "\n",
        "가방을 여러 사람이 공유하지 않으려면 어떻게 해야할까?\n",
        "\n",
        "bag를 인스턴스 속성으로 만들면된다.\n",
        "\n",
        "인스턴스 속성은 인스턴스별로 독립되어 있으며 서로 영향을 주지 않는다."
      ],
      "metadata": {
        "id": "7kcNDXuZ7ase"
      }
    },
    {
      "cell_type": "code",
      "source": [
        "class Person:\n",
        "  def __init__(self):\n",
        "    self.bag=[]\n",
        "\n",
        "  def put_bag(self,stuff):\n",
        "    self.bag.append(stuff)\n",
        "\n",
        "james=Person()\n",
        "james.put_bag('책')\n",
        "\n",
        "maria=Person()\n",
        "maria.put_bag('열쇠')\n",
        "\n",
        "print(james.bag)\n",
        "print(maria.bag)"
      ],
      "metadata": {
        "id": "HkuqoSd97aqb"
      },
      "execution_count": null,
      "outputs": []
    },
    {
      "cell_type": "markdown",
      "source": [
        "* 클래스 속성: 모든 인스턴스가 공유. 인스턴스 전체가 사용해야 하는 값을 저장할 때 사용\n",
        "* 인스턴스 속성: 인스턴스별로 독립되어 있다. 각 인스턴스가 값을 따로 저장해야 할 때 사용"
      ],
      "metadata": {
        "id": "nSv35C6f7ah2"
      }
    },
    {
      "cell_type": "markdown",
      "source": [
        "## 비공개 클래스 속성 사용하기\n",
        "\n",
        "클래스 속성도 비공개 속성을 만들 수 있다. `__속성`과 같이 밑줄 두개로 시작하면 비공개 속성이 된다. 따라사 클래스 안에서만 접근할 수 있고, 클래스 바깥에서는 접근할 수 없다.\n",
        "\n",
        "즉, 클래스에서 공개하고 싶지 않은 속성이 있다면 비공개 클래스를 사용해야 한다.\n",
        "\n",
        "예를 들어, 기사 게임 캐릭터는 아이템을 최대 10개까지만 보유할 수 있다고 하자."
      ],
      "metadata": {
        "id": "isU9mtY77agD"
      }
    },
    {
      "cell_type": "code",
      "source": [
        "class Knight:\n",
        "  __item_limit=10 # 비공개 클래스 속성\n",
        "\n",
        "  def print_item_limit(self):\n",
        "    print(Knight.__item_limit)\n",
        "\n",
        "x=Knight()\n",
        "x.print_item_limit()\n",
        "\n",
        "print(Knight.__item_limit) # 클래스 바깥에서는 접근할 수 없음"
      ],
      "metadata": {
        "id": "IlpmpD5nK5ec"
      },
      "execution_count": null,
      "outputs": []
    },
    {
      "cell_type": "markdown",
      "source": [
        "## 정적 메소드 사용하기\n",
        "\n",
        "클래스의 메소드를 사용할 때 인스턴스를 통해서 호출했다.\n",
        "\n",
        "이번에는 인스턴스를 통하지 않고 클래스에서 바로 호출할 수 있는 정적 메소드와 클래스 메소드에 대해 알아보자\n",
        "\n",
        "먼저 정적 메소드는 다음과 같이 메소드 위에 @staticmethod 붙입니다.\n",
        "\n",
        "이때 정적 메소드는 매개 변수에 self를 지정하지 않는다."
      ],
      "metadata": {
        "id": "GsO67Gvl7adK"
      }
    },
    {
      "cell_type": "code",
      "source": [
        "class 클래스이름:\n",
        "  @staticmethod\n",
        "  def 메소드(매개변수1,매개변수2):\n",
        "    '코드'"
      ],
      "metadata": {
        "id": "zpiz1xoh7aW7"
      },
      "execution_count": null,
      "outputs": []
    },
    {
      "cell_type": "code",
      "source": [
        "class Calc:\n",
        "  @staticmethod\n",
        "  def add(a,b):\n",
        "    print(a+b)\n",
        "\n",
        "  @staticmethod\n",
        "  def mul(a,b):\n",
        "    print(a*b)\n",
        "\n",
        "\n",
        "Calc.add(10,20) # 클래스에서 바로 메소드 호출\n",
        "Calc.mul(10,20) # 클래스에서 바로 메소드 호출"
      ],
      "metadata": {
        "id": "2x-zqUBT7aTy"
      },
      "execution_count": null,
      "outputs": []
    },
    {
      "cell_type": "markdown",
      "source": [
        "@staticmethod 처럼 앞에 @이 붙은 것을 데코레이터라고 하며 메소드에 추가 기능을 구현할 때 사용합니다.\n",
        "\n",
        "Calc클래스에서 @staticmethod를 붙여서 add 메소드와 mul 메소드를 만들었습니다.\n",
        "\n",
        "정적 메소드를 호출할 때는 다음과 같이 클래스에서 바로 메소드를 호출하면 된다.\n",
        "\n",
        "* 클래스.메소드()"
      ],
      "metadata": {
        "id": "J7cw3oKRPata"
      }
    },
    {
      "cell_type": "markdown",
      "source": [
        "무엇을 정적메소드로 만들어야 할지 고민입니다..\n",
        "\n",
        "정적 메소드는 메소드의 실행이 외부 상태에 영향을 끼치지않는 순수 함수를 만들때 사용합니다.\n",
        "\n",
        "즉, 정적 메소드는 인스터늣의 상태를 변화시키지 않는 메소드를 만들 때 사용합니다."
      ],
      "metadata": {
        "id": "proW6Oz67aNt"
      }
    },
    {
      "cell_type": "markdown",
      "source": [
        "### 클래스 메소드 사용하기\n",
        "\n",
        "클래스 메소드는 다음과 같이 메소드 위에 @classmethod를 붙입니다.\n",
        "\n",
        "이때, 클래스 메소드의 첫 매개변수는 cls로 지정해야한다 self가 아니라"
      ],
      "metadata": {
        "id": "9jai38LkTB6Q"
      }
    },
    {
      "cell_type": "code",
      "source": [
        "class 클래스이름:\n",
        "  @classmethod\n",
        "  def 메소드(cls, 매개변수1, 매개변수2):\n",
        "    \"코드\""
      ],
      "metadata": {
        "id": "dc6sf0mtUXBs"
      },
      "execution_count": null,
      "outputs": []
    },
    {
      "cell_type": "markdown",
      "source": [
        "사람 클래스 Person을 만들고 인스턴스가 몇 개 만들어졌는지 출력하는 메소드를 만들어보자."
      ],
      "metadata": {
        "id": "E_Ubj9WJUc9Q"
      }
    },
    {
      "cell_type": "code",
      "source": [
        "class Person:\n",
        "  count=0 # 클래스 속성\n",
        "\n",
        "  def __init__(self):\n",
        "    Person.count+=1 # 인스턴스가 만들어질 때 클래스 속성 count에 1을 더함\n",
        "\n",
        "  @classmethod\n",
        "  def print_count(cls):\n",
        "    print('{0}명 생성되었습니다.'.format(cls.count)) # cls로 클래스 속성(count)에 접근\n",
        "\n",
        "james=Person()\n",
        "maria=Person()\n",
        "\n",
        "Person.print_count()"
      ],
      "metadata": {
        "id": "nAXj3ns9UzPS"
      },
      "execution_count": null,
      "outputs": []
    },
    {
      "cell_type": "markdown",
      "source": [
        "# break, continue로 반복문 제어하기\n",
        "\n",
        "break는 for와 while 문법에서 제어 흐름을 벗어나기 위해 사용한다.\n",
        "\n",
        "즉, 루프를 완전히 중단하기 위해 사용\n",
        "\n",
        "continue는 break와 비슷하지만 다른점이 있다.\n",
        "\n",
        "break는 제어 흐름을 중단하고 빠져나오지만,\n",
        "\n",
        "continue는 제어 흐름을 유지한 상태에서 해당 코드의 실행만 건너 뛰는 역할을 한다\n",
        "\n",
        "* continue: 제어 흐름 유지, 코드 실행만 건너 뜀\n",
        "* break: 제어 흐름 중단"
      ],
      "metadata": {
        "id": "UG4i18u0WBKp"
      }
    },
    {
      "cell_type": "markdown",
      "source": [
        "## break로 반복문 끝내기"
      ],
      "metadata": {
        "id": "j6dK0aPoWBI1"
      }
    },
    {
      "cell_type": "markdown",
      "source": [
        "### while에서 break로 반복문 끝내기"
      ],
      "metadata": {
        "id": "5jWZ3xUlWBFC"
      }
    },
    {
      "cell_type": "code",
      "source": [
        "i=0\n",
        "while True:\n",
        "  print(i)\n",
        "  i += 1\n",
        "  if i == 100:\n",
        "    break"
      ],
      "metadata": {
        "id": "E7QUmjTOOr5s"
      },
      "execution_count": null,
      "outputs": []
    },
    {
      "cell_type": "code",
      "source": [
        "for i in range(100):\n",
        "  print(i)\n",
        "  if i == 50:\n",
        "    break"
      ],
      "metadata": {
        "id": "aR9qscAZOr3z"
      },
      "execution_count": null,
      "outputs": []
    },
    {
      "cell_type": "markdown",
      "source": [
        "## continue로 코드 실행 건너 뛰기"
      ],
      "metadata": {
        "id": "haAGYe-LOr14"
      }
    },
    {
      "cell_type": "markdown",
      "source": [
        "### for에서 continue로 코드 실행 건너뛰기"
      ],
      "metadata": {
        "id": "zTAr9pCOOrz9"
      }
    },
    {
      "cell_type": "code",
      "source": [
        "for i in range(100):\n",
        "  if i % 2 == 0:\n",
        "    continue\n",
        "  print(i)"
      ],
      "metadata": {
        "id": "tkcVAyjSOryM"
      },
      "execution_count": null,
      "outputs": []
    },
    {
      "cell_type": "markdown",
      "source": [
        "### while 반복문에서 continue로 코드 실행 건너 뛰기"
      ],
      "metadata": {
        "id": "vLA9m-lrOrwQ"
      }
    },
    {
      "cell_type": "code",
      "source": [
        "i = 0\n",
        "while i < 100:\n",
        "  i += 1\n",
        "  if i % 2 == 0:\n",
        "    continue\n",
        "  print(i)"
      ],
      "metadata": {
        "id": "DCfVd5UtOruY"
      },
      "execution_count": null,
      "outputs": []
    },
    {
      "cell_type": "markdown",
      "source": [
        "## 입력한 횟수대로 반복하기"
      ],
      "metadata": {
        "id": "9POolEBaOrsM"
      }
    },
    {
      "cell_type": "code",
      "source": [
        "count = int(input('반복할 횟수를 입력하시오. '))\n",
        "\n",
        "i = 0\n",
        "while True:\n",
        "  print(i)\n",
        "  i  += 1\n",
        "  if count == i:\n",
        "    break"
      ],
      "metadata": {
        "id": "E1ZXi-p-OrqV"
      },
      "execution_count": null,
      "outputs": []
    },
    {
      "cell_type": "markdown",
      "source": [
        "## 입력한 숫자까지 홀수 출력하기\n",
        "\n",
        "입력한 숫자까지 해당하는 홀수를 출력하기"
      ],
      "metadata": {
        "id": "PoZdV31UOroh"
      }
    },
    {
      "cell_type": "code",
      "source": [
        "count = int(input(\"반복할 횟수를 사용하시오.: \"))\n",
        "\n",
        "for i in range(count+1):\n",
        "  if i % 2 == 0:\n",
        "    continue\n",
        "  print(i)"
      ],
      "metadata": {
        "id": "M6LpY_rlOrma"
      },
      "execution_count": null,
      "outputs": []
    },
    {
      "cell_type": "code",
      "source": [],
      "metadata": {
        "id": "z1lmpwN6Orki"
      },
      "execution_count": null,
      "outputs": []
    },
    {
      "cell_type": "code",
      "source": [],
      "metadata": {
        "id": "vx2A02rpOriu"
      },
      "execution_count": null,
      "outputs": []
    },
    {
      "cell_type": "code",
      "source": [],
      "metadata": {
        "id": "4LyacBdqOrgo"
      },
      "execution_count": null,
      "outputs": []
    },
    {
      "cell_type": "code",
      "source": [],
      "metadata": {
        "id": "1QrcPqy1Ordx"
      },
      "execution_count": null,
      "outputs": []
    },
    {
      "cell_type": "code",
      "source": [],
      "metadata": {
        "id": "muZGom8yOrbk"
      },
      "execution_count": null,
      "outputs": []
    }
  ]
}