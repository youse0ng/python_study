{
  "nbformat": 4,
  "nbformat_minor": 0,
  "metadata": {
    "colab": {
      "private_outputs": true,
      "provenance": [],
      "authorship_tag": "ABX9TyNy8m1i6ZmlmQBmlg4yKDsL",
      "include_colab_link": true
    },
    "kernelspec": {
      "name": "python3",
      "display_name": "Python 3"
    },
    "language_info": {
      "name": "python"
    }
  },
  "cells": [
    {
      "cell_type": "markdown",
      "metadata": {
        "id": "view-in-github",
        "colab_type": "text"
      },
      "source": [
        "<a href=\"https://colab.research.google.com/github/youse0ng/python_study/blob/main/intermediate.ipynb\" target=\"_parent\"><img src=\"https://colab.research.google.com/assets/colab-badge.svg\" alt=\"Open In Colab\"/></a>"
      ]
    },
    {
      "cell_type": "markdown",
      "source": [
        "List와 튜플 응용하기  \n",
        "\n",
        "리스트에 요소 추가하기\n",
        "\n",
        "1. append: 요소 하나를 리스트의 마지막 인덱스에 추가\n",
        "\n",
        "2. extend: 리스트를 연결하여 확장 즉, extend() 메소드는 iterable 객체를 인자로 넣어주면 리스트의 마지막에 iterable 객체가 언패킹되면서 넣어준다.\n",
        "\n",
        "3. insert: 원하는 인덱스에 포함하고자 하는 x를 추가"
      ],
      "metadata": {
        "id": "eaHB5DnL-hj_"
      }
    },
    {
      "cell_type": "markdown",
      "source": [
        "리스트에 요소 추가하기"
      ],
      "metadata": {
        "id": "ZK7P3uD0_CLN"
      }
    },
    {
      "cell_type": "code",
      "source": [
        "# 리스트에 요소 추가하기\n",
        "a=[10,20,30]\n",
        "a.append(3)\n",
        "a\n",
        "\n",
        "# 리스트에 리스트 추가하기\n",
        "a.append([10,30])\n",
        "a # [10,20,30,3,[10,30]]"
      ],
      "metadata": {
        "id": "ZbsJtOjoyP6c"
      },
      "execution_count": null,
      "outputs": []
    },
    {
      "cell_type": "markdown",
      "source": [
        "리스트 확장하기"
      ],
      "metadata": {
        "id": "uZnDnjRN_D98"
      }
    },
    {
      "cell_type": "code",
      "source": [
        "a=[10,20,30]\n",
        "a.extend([10,20])\n",
        "a # [10,20,30,[10,20]] 으로 추가되는 것이 아니라, [10,20] 리스트를 언팩킹해서 [10,20,30,10,20]으로 확장시켜서 넣어준다."
      ],
      "metadata": {
        "id": "vyrw3ytP-Zns"
      },
      "execution_count": null,
      "outputs": []
    },
    {
      "cell_type": "markdown",
      "source": [
        "리스트의 특정 인덱스에 요소 추가하기(insert(index, x))"
      ],
      "metadata": {
        "id": "bPAg2SS0_fg-"
      }
    },
    {
      "cell_type": "code",
      "source": [
        "a=[10,20,30]\n",
        "a.insert(2,1) # 인덱스 2번에 요소를 추가\n",
        "a.insert(0,4) # 리스트의 맨처음에 요소를 추가\n",
        "a.insert(len(a),13) # 리스트의 맨 끝에 요소를 추가\n",
        "a"
      ],
      "metadata": {
        "id": "0nQm7Yh8_m0k"
      },
      "execution_count": null,
      "outputs": []
    },
    {
      "cell_type": "markdown",
      "source": [
        "리스트의 중간에 리스트 요소를 추가하고 싶을 때\n",
        "\n",
        "1. insert 함수를 사용\n",
        "\n",
        "2. 슬라이싱을 이용하여 사용"
      ],
      "metadata": {
        "id": "DOPKrx9rAKrU"
      }
    },
    {
      "cell_type": "code",
      "source": [
        "# 1.\n",
        "a=[10,20,30]\n",
        "a.insert(1,[20,30,40])\n",
        "a"
      ],
      "metadata": {
        "id": "ilcBcknuBXqW"
      },
      "execution_count": null,
      "outputs": []
    },
    {
      "cell_type": "code",
      "source": [
        "# 2.  슬라이싱의 시작 인덱스와 끝 인덱스를 같게 지정하면 해당 인덱스의 요소를 덮어쓰지 않으면서 요소 여러 개를 중간에 추가할 수 있다.\n",
        "\n",
        "a=[10,20,30]\n",
        "a[1:1]=[[10,20,30]]\n",
        "a"
      ],
      "metadata": {
        "id": "uNrRVdmwAP6E"
      },
      "execution_count": null,
      "outputs": []
    },
    {
      "cell_type": "markdown",
      "source": [
        "리스트의 요소 삭제하기\n",
        "\n",
        "1. 인덱스로 요소 삭제\n",
        "\n",
        "pop(): 마지막 요소 또는 특정 인덱스의 요소를 삭제\n",
        "del 시퀀스객체[인덱스]\n",
        "\n",
        "\n",
        "2. 특정 값을 넣어서 요소 삭제\n",
        "\n",
        "remove():특정 값을 찾아서 삭제"
      ],
      "metadata": {
        "id": "apTbDvIzCVH1"
      }
    },
    {
      "cell_type": "code",
      "source": [
        "a=[10,20,30]\n",
        "a.pop() # 마지막 요소 삭제\n",
        "a"
      ],
      "metadata": {
        "id": "lASRv_RbCXWM"
      },
      "execution_count": null,
      "outputs": []
    },
    {
      "cell_type": "code",
      "source": [
        "a=[10,20,30]\n",
        "a.pop(1) # 특정 인덱스인 1번 인덱스 삭제\n",
        "a"
      ],
      "metadata": {
        "id": "Dz01xDvUHJqE"
      },
      "execution_count": null,
      "outputs": []
    },
    {
      "cell_type": "code",
      "source": [
        "a=[10,20,30]\n",
        "del a[1]\n",
        "a\n",
        "# pop 대신 del을 사용해도 상관없다."
      ],
      "metadata": {
        "id": "UzQHgEgBHba0"
      },
      "execution_count": null,
      "outputs": []
    },
    {
      "cell_type": "markdown",
      "source": [
        "pop이나 del은 인덱스로 요소를 삭제할 수 있다"
      ],
      "metadata": {
        "id": "KhS49kIIHsP7"
      }
    },
    {
      "cell_type": "code",
      "source": [
        "a=[10,20,30]\n",
        "a.remove(10)\n",
        "a"
      ],
      "metadata": {
        "id": "Y3psx09rIGN1"
      },
      "execution_count": null,
      "outputs": []
    },
    {
      "cell_type": "markdown",
      "source": [
        "리스트에서 특정 값의 인덱스 구하기 index(값)\n",
        "\n",
        "index(값)은 리스트에서 특정 값의 인덱스를 구합니다.\n",
        "\n"
      ],
      "metadata": {
        "id": "iY2syijyIQzV"
      }
    },
    {
      "cell_type": "code",
      "source": [
        "a=[10,20,30,40,50,60,12,44,32]\n",
        "a.index(40)"
      ],
      "metadata": {
        "id": "N6RAi0ogJG_J"
      },
      "execution_count": null,
      "outputs": []
    },
    {
      "cell_type": "markdown",
      "source": [
        "특정 값의 개수 구하기 count(값)\n"
      ],
      "metadata": {
        "id": "k8_ppfwAJnLP"
      }
    },
    {
      "cell_type": "code",
      "source": [
        "a=[10,20,20,30,10,40,20,30]\n",
        "a.count(10) # 2개\n",
        "a.count(20) # 3개"
      ],
      "metadata": {
        "id": "sGrjPVoUJsZj"
      },
      "execution_count": null,
      "outputs": []
    },
    {
      "cell_type": "markdown",
      "source": [
        "리스트의 순서 뒤집기 reversed() 와 reverse()\n",
        "\n"
      ],
      "metadata": {
        "id": "CvDSGwcpKI1S"
      }
    },
    {
      "cell_type": "code",
      "source": [
        "a=[10,20,30,40,50,60]\n",
        "a.reverse()\n",
        "a"
      ],
      "metadata": {
        "id": "cJ7QLqAyJ1Fx"
      },
      "execution_count": null,
      "outputs": []
    },
    {
      "cell_type": "markdown",
      "source": [
        "리스트의 요소 정렬하기 sort() 오름차순 정렬, sort(reverse=True) 내림차순 정렬\n"
      ],
      "metadata": {
        "id": "6b3dXZ75KSJL"
      }
    },
    {
      "cell_type": "markdown",
      "source": [
        "sort()와 sorted() 차이점은\n",
        "\n",
        "sort는 메서드를 사용한 리스트를 변경하지만 sorted는 정렬된 새 리스트를 생성한다."
      ],
      "metadata": {
        "id": "EC7mJim6Kncf"
      }
    },
    {
      "cell_type": "markdown",
      "source": [
        "모든 요소 삭제하기 clear()"
      ],
      "metadata": {
        "id": "mKXDKEQgK4Jc"
      }
    },
    {
      "cell_type": "code",
      "source": [
        "a=[10,20,30,40,50]\n",
        "a.clear()\n",
        "a"
      ],
      "metadata": {
        "id": "I-PA4hrJLgu0"
      },
      "execution_count": null,
      "outputs": []
    },
    {
      "cell_type": "markdown",
      "source": [
        "반복문으로 인덱스와 요소를 함께 출력하기 enumerate()"
      ],
      "metadata": {
        "id": "yAwhwKP_LlCs"
      }
    },
    {
      "cell_type": "code",
      "source": [
        "a=[10,20,30,40,50]\n",
        "for i, x in enumerate(a):\n",
        "  print(i,x)\n",
        "\n",
        "# 인덱스를 0이 아닌 1부터 시작하고 싶을 때는 2가지 방법이 있다.\n",
        "print()\n",
        "\n",
        "for i,x in enumerate(a):\n",
        "  print(i+1,x)\n",
        "\n"
      ],
      "metadata": {
        "id": "9UBbhAoaNuOr"
      },
      "execution_count": null,
      "outputs": []
    },
    {
      "cell_type": "markdown",
      "source": [
        "리스트 컴프리헨션(List comprehension) 혹은 리스트 표현식\n",
        "\n",
        "- [식 for 변수 in 리스트]\n",
        "\n",
        "- list(식 for 변수 in 리스트)"
      ],
      "metadata": {
        "id": "sgUNfiaQOpSk"
      }
    },
    {
      "cell_type": "code",
      "source": [
        "# 0부터 9까지 숫자를 생성하여 리스트 생성하기\n",
        "a=[x for x in range(0,10)]\n",
        "a"
      ],
      "metadata": {
        "id": "geGcCA_FOuVm"
      },
      "execution_count": null,
      "outputs": []
    },
    {
      "cell_type": "code",
      "source": [
        "b=list(x for x in range(0,10))\n",
        "b"
      ],
      "metadata": {
        "id": "394qmOqXOuTd"
      },
      "execution_count": null,
      "outputs": []
    },
    {
      "cell_type": "markdown",
      "source": [
        "리스트 컴프리헨션에서 if문 사용하기\n",
        "\n",
        "- [식 for 변수 in 리스트 if 조건식]\n",
        "\n",
        "- list(식 for 변수 in 리스트 if 조건식)\n"
      ],
      "metadata": {
        "id": "eJOHrfHqOuRk"
      }
    },
    {
      "cell_type": "code",
      "source": [
        "# 나는 1~100까지 짝수인 것만 리스트에 담고싶어\n",
        "\n",
        "a=[x for x in range(1,101) if x % 2 ==0]\n",
        "a"
      ],
      "metadata": {
        "id": "QISaNRO6OuJb"
      },
      "execution_count": null,
      "outputs": []
    },
    {
      "cell_type": "code",
      "source": [
        "# 구구단을 나타내는 리스트 자료\n",
        "a=[f'{i} * {j} = {i * j}' for i in range(1,10) for j in range(1,10)]\n",
        "a"
      ],
      "metadata": {
        "id": "Bkkjx29soPvl"
      },
      "execution_count": null,
      "outputs": []
    },
    {
      "cell_type": "code",
      "source": [
        "# 공군 항공기 임무명과 넘버를 입력받고 임무명과 넘버명을 뒤집어서 리스트에 넣어줌\n",
        "# (A: 공격기, B: 폭격기 C: 수송기 E: 전자전기 F: 전투기 H:헬리콥터) - 뒤에 명은 넘버로 구성되어있음\n",
        "a= True\n",
        "mission=[None] * 10\n",
        "number=[None] * 10\n",
        "for i,x in enumerate(mission):\n",
        "  a=input('하시겠습니까?)')\n",
        "  if a=='y':\n",
        "    mission[i]=(input(\"항공기 코드를 입력하시오: \").split('-'))\n",
        "  elif a=='n':\n",
        "    print('종료되었습니다.')\n",
        "    break\n",
        "print(mission)"
      ],
      "metadata": {
        "id": "i6JAX2Enzm4v"
      },
      "execution_count": null,
      "outputs": []
    },
    {
      "cell_type": "markdown",
      "source": [
        "리스트에 map 사용하기\n",
        "\n",
        "- list(map(함수,리스트))\n",
        "- tuple(map(함수,리스트))\n",
        "\n",
        "map은 원본 리스트를 변경하지 않고 새 리스트를 생성합니다.\n",
        "\n",
        "사실 map은 리스트 뿐만 아니라 모든 반복 가능한 객체를 넣을 수 있다.\n",
        "\n",
        "\n",
        "\n"
      ],
      "metadata": {
        "id": "woDoSQUDEA9T"
      }
    },
    {
      "cell_type": "code",
      "source": [
        "# 리스트 내의 실수형 원소들을 정수형으로 변환\n",
        "a=[1.2,3.2,35.1,7.1]\n",
        "a=list(map(int,a))\n",
        "a"
      ],
      "metadata": {
        "id": "wO43QQq-EukT"
      },
      "execution_count": null,
      "outputs": []
    },
    {
      "cell_type": "code",
      "source": [
        "# 반복 가능한 객체를 넣어서 이용하여 list를 만들어보기\n",
        "a=list(map(str,range(10)))\n",
        "a"
      ],
      "metadata": {
        "id": "VDe-w1m2FMGk"
      },
      "execution_count": null,
      "outputs": []
    },
    {
      "cell_type": "markdown",
      "source": [
        "input().split()과 map 함수\n",
        "\n",
        "input().split의 반환 값은 list로 출력되기 때문에, map함수를 사용할 수 있게된다.\n",
        "\n",
        "map함수가 반환하는 map 객체는 이터레이터라서 변수 여러 개에 저장하는 언패킹이 가능하다."
      ],
      "metadata": {
        "id": "UWnHy-imFMBE"
      }
    },
    {
      "cell_type": "code",
      "source": [
        "a=list(map(int,input().split()))\n",
        "a"
      ],
      "metadata": {
        "id": "y9mCcaC5Gz10"
      },
      "execution_count": null,
      "outputs": []
    },
    {
      "cell_type": "code",
      "source": [
        "a=(38,21,53,62,19,53)\n",
        "a.index(53) # 2\n",
        "a.count(53) # 2"
      ],
      "metadata": {
        "id": "KS9wiI5lHQhJ"
      },
      "execution_count": null,
      "outputs": []
    },
    {
      "cell_type": "markdown",
      "source": [
        "튜플 표현식 사용하기\n",
        "tuple(식 for 변수 리스트 if 조건식)\n",
        "\n",
        "ex) tuple(i for i in range(10) if i % 2 == 0)"
      ],
      "metadata": {
        "id": "DkIZ6JvTHy8j"
      }
    },
    {
      "cell_type": "code",
      "source": [
        "a=(i for i in range(10) if i % 2 ==0)\n",
        "tuple(a)"
      ],
      "metadata": {
        "id": "rugzLWHLIPlU"
      },
      "execution_count": null,
      "outputs": []
    },
    {
      "cell_type": "markdown",
      "source": [
        "2차원 리스트 사용하기\n",
        "\n",
        "- 리스트 = [[값,값],[값,값],[값,값]]"
      ],
      "metadata": {
        "id": "0eKeCaK2JbXU"
      }
    },
    {
      "cell_type": "code",
      "source": [
        "a=[[10,20],[30,40],[50,60]]\n",
        "a"
      ],
      "metadata": {
        "id": "Q3gvL-WWJeob"
      },
      "execution_count": null,
      "outputs": []
    },
    {
      "cell_type": "markdown",
      "source": [
        "사람이 알아보기 쉽게 출력하는 2차원 리스트\n",
        "\n",
        "from pprint import pprint"
      ],
      "metadata": {
        "id": "--6GLgcfJ0nE"
      }
    },
    {
      "cell_type": "code",
      "source": [
        "from pprint import pprint\n",
        "a=[[10,20],[30,40],[50,60]]\n",
        "pprint(a,indent=4,width=20)"
      ],
      "metadata": {
        "id": "5DqJpPutKfW3"
      },
      "execution_count": null,
      "outputs": []
    },
    {
      "cell_type": "code",
      "source": [
        "# 반복문을 2차원 리스트의 요소를 모두 출력하기\n",
        "a=[[10,20],[30,40],[50,60]]\n",
        "for x,y in a:\n",
        "  print(x,y)"
      ],
      "metadata": {
        "id": "897YvixHK69V"
      },
      "execution_count": null,
      "outputs": []
    },
    {
      "cell_type": "markdown",
      "source": [
        "for 반복문으로 2차원 리스트 만들기"
      ],
      "metadata": {
        "id": "S-3DKoz5LM90"
      }
    },
    {
      "cell_type": "code",
      "source": [
        "a=[]\n",
        "\n",
        "for i in range(3):\n",
        "  line=[]\n",
        "  for j in range(2):\n",
        "    line.append(0)\n",
        "  a.append(line)\n",
        "\n",
        "print(a)"
      ],
      "metadata": {
        "id": "2SlaIimVMzrr"
      },
      "execution_count": null,
      "outputs": []
    },
    {
      "cell_type": "markdown",
      "source": [
        "리스트 표현식으로 2차원 리스트 만들기"
      ],
      "metadata": {
        "id": "0Qo0dMtzNGPz"
      }
    },
    {
      "cell_type": "code",
      "source": [
        "a = [[0 for j in range(2)] for i in range(3)]\n",
        "a"
      ],
      "metadata": {
        "id": "2jJHchiZNJEL"
      },
      "execution_count": null,
      "outputs": []
    },
    {
      "cell_type": "markdown",
      "source": [
        "문자열의 응용하기\n",
        "\n",
        "문자열을 조작하거나 정보를 얻는 다양한 메소드에 대한 공부"
      ],
      "metadata": {
        "id": "dDWHHQlDFaJl"
      }
    },
    {
      "cell_type": "markdown",
      "source": [
        "문자열 바꾸기\n",
        "\n",
        "replace('바꿀문자열','새문자열')은 문자열 안의 문자열을 다른 문자열로 바꾼다.\n",
        "\n",
        "예시로, 'hello, world'에서 world를 Python으로 바꾼 뒤 결과를 반환하는 것을 보자ㅡ\n"
      ],
      "metadata": {
        "id": "rcfsmAk-Q9h-"
      }
    },
    {
      "cell_type": "code",
      "source": [
        "'hello, world'.replace('world','python')"
      ],
      "metadata": {
        "id": "cPNOtW-CRW0_"
      },
      "execution_count": null,
      "outputs": []
    },
    {
      "cell_type": "code",
      "source": [
        "s= 'Hello, world!'\n",
        "s=s.replace('world','Python')\n",
        "s"
      ],
      "metadata": {
        "id": "UVv58HVrGQID"
      },
      "execution_count": null,
      "outputs": []
    },
    {
      "cell_type": "markdown",
      "source": [
        "문자 바꾸기\n",
        "\n",
        "문자열을 바꿨는데, 문자를 바꾸는 방법도 존재한다.\n",
        "\n",
        "translate는 문자열 안의 문자를 다른 문자로 바꾼다.\n",
        "\n",
        "먼저 str,maketrans('바꿀문자','새문자')로 변환 태이블을 만든다.\n",
        "\n",
        "그 다음에 translate(테이블)을 사용하면 문자를 바꾼뒤 결과를 반환합니다.\n",
        "\n",
        "'apple'에서 'a' 를 1, 'e'를 2, 'i'를 3 'o'를 4 'u'를 5로 바꿉니다."
      ],
      "metadata": {
        "id": "KQIon-FEGvHw"
      }
    },
    {
      "cell_type": "code",
      "source": [
        "table=str.maketrans('aeiou','12345')\n",
        "'apple'.translate(table)"
      ],
      "metadata": {
        "id": "CiS82mFaHflh"
      },
      "execution_count": null,
      "outputs": []
    },
    {
      "cell_type": "markdown",
      "source": [
        "문자열 분리하기\n",
        "\n",
        "split()은 공백을 기준으로 문자열을 분리하여 리스트로 변환\n",
        "\n",
        "split('기준문자열') 기준 문자열로 문자열 분리"
      ],
      "metadata": {
        "id": "fDJA6BtfHfiP"
      }
    },
    {
      "cell_type": "code",
      "source": [
        "'apple trash pp yasuo laguvh laftogram'.split()"
      ],
      "metadata": {
        "id": "Z8eXT9B0Hffn"
      },
      "execution_count": null,
      "outputs": []
    },
    {
      "cell_type": "code",
      "source": [
        "'apap,sadpa,dmm,yaaa,toto'.split(',')"
      ],
      "metadata": {
        "id": "OXzH9LkkHfdu"
      },
      "execution_count": null,
      "outputs": []
    },
    {
      "cell_type": "markdown",
      "source": [
        "구분자 문자열과 문자열 리스트 연결하기\n",
        "\n",
        "문자열을 분리해서 리스트로 만들었으니 반대로 다시 연결하는 방법이 존재한다.\n",
        "\n",
        "구분자 문자열.join(리스트)"
      ],
      "metadata": {
        "id": "9g477S7aHfal"
      }
    },
    {
      "cell_type": "code",
      "source": [
        "''.join(['dda', 'yaoho', 'ppypyp', 'amskal'])"
      ],
      "metadata": {
        "id": "SNgvHzZtHfX5"
      },
      "execution_count": null,
      "outputs": []
    },
    {
      "cell_type": "code",
      "source": [
        "' '.join(['dda', 'yaoho', 'ppypyp', 'amskal'])"
      ],
      "metadata": {
        "id": "yjrSK46SHfUr"
      },
      "execution_count": null,
      "outputs": []
    },
    {
      "cell_type": "code",
      "source": [
        "'-'.join(['dda', 'yaoho', 'ppypyp', 'amskal'])"
      ],
      "metadata": {
        "id": "64mkFx87HfRg"
      },
      "execution_count": null,
      "outputs": []
    },
    {
      "cell_type": "markdown",
      "source": [
        "소문자를 대문자로 만들기\n",
        "upper()\n",
        "\n",
        "대문자를 소문자로 만들기\n",
        "lower()\n",
        "\n",
        "왼쪽 공백 삭제하기\n",
        "lstrip()\n",
        "\n",
        "오른쪽 공백 삭제하기\n",
        "rstrip()\n",
        "\n",
        "양쪽 공백 삭제하기\n",
        "strip()"
      ],
      "metadata": {
        "id": "xlgd5cHhHfOJ"
      }
    },
    {
      "cell_type": "code",
      "source": [
        "'python'.upper()"
      ],
      "metadata": {
        "id": "CNnzV1hjLX0z"
      },
      "execution_count": null,
      "outputs": []
    },
    {
      "cell_type": "code",
      "source": [
        "'PYTHON'.lower()"
      ],
      "metadata": {
        "id": "CxRr-N8MLXvm"
      },
      "execution_count": null,
      "outputs": []
    },
    {
      "cell_type": "code",
      "source": [
        "'    python'.lstrip()"
      ],
      "metadata": {
        "id": "h1Q69pCtLXpw"
      },
      "execution_count": null,
      "outputs": []
    },
    {
      "cell_type": "code",
      "source": [
        "'python         '.rstrip()"
      ],
      "metadata": {
        "id": "dY91dJGbLXiw"
      },
      "execution_count": null,
      "outputs": []
    },
    {
      "cell_type": "code",
      "source": [
        "'         python       '.strip()"
      ],
      "metadata": {
        "id": "flBxRxnkLXbn"
      },
      "execution_count": null,
      "outputs": []
    },
    {
      "cell_type": "code",
      "source": [
        "'     python    '.lstrip()"
      ],
      "metadata": {
        "id": "JhXAuHTULXUb"
      },
      "execution_count": null,
      "outputs": []
    },
    {
      "cell_type": "markdown",
      "source": [
        "왼쪽의 특정문자를 삭제하기\n",
        "lstrip('삭제할 문자들')"
      ],
      "metadata": {
        "id": "ic87JjUNLXQO"
      }
    },
    {
      "cell_type": "code",
      "source": [
        "'m.132a.da  mdsad,'.lstrip('m.132')"
      ],
      "metadata": {
        "id": "98BKtKklLXMA"
      },
      "execution_count": null,
      "outputs": []
    },
    {
      "cell_type": "markdown",
      "source": [
        "구두점을 간단하게 삭제하기\n",
        "\n",
        "string 모듈의 punctuation에는 모든 구두점이 들어있다.\n",
        "\n",
        "~!@#$%^&*(){}:\">?<.,?\"}/'][; 과 같은 것들이 구두점이고 string.punctuation에 들어있음\n"
      ],
      "metadata": {
        "id": "qFG9HovuLXH2"
      }
    },
    {
      "cell_type": "code",
      "source": [
        "import string\n",
        "\n",
        "',    python.{}'.strip(string.punctuation)\n",
        "# 구두점이 간단하게 제거됨\n",
        "\n",
        "',{}{>:\"?  python.  []%^&*(@)#}'.strip(string.punctuation+ ' ')\n",
        "# 구두점 삭제와 공백도 삭제하게 만들어줌"
      ],
      "metadata": {
        "id": "X_oci1lkLXDu"
      },
      "execution_count": null,
      "outputs": []
    },
    {
      "cell_type": "markdown",
      "source": [
        "문자열을 왼쪽 정렬하기\n",
        "ljust(길이)\n",
        "\n",
        "문자열을 오른쪽 정렬하기\n",
        "rjust(길이)\n",
        "\n",
        "문자열을 가운데 정렬하기\n",
        "center(길이)"
      ],
      "metadata": {
        "id": "HslSaVamLW-i"
      }
    },
    {
      "cell_type": "code",
      "source": [
        "'python'.ljust(10)"
      ],
      "metadata": {
        "id": "7MwayeuULW6Q"
      },
      "execution_count": null,
      "outputs": []
    },
    {
      "cell_type": "code",
      "source": [
        "'python'.rjust(10)"
      ],
      "metadata": {
        "id": "gDEPVwRHLW1d"
      },
      "execution_count": null,
      "outputs": []
    },
    {
      "cell_type": "code",
      "source": [
        "'python'.center(10)"
      ],
      "metadata": {
        "id": "dFBF4tn6LWt0"
      },
      "execution_count": null,
      "outputs": []
    },
    {
      "cell_type": "markdown",
      "source": [
        "문자열 위치 찾기\n",
        "\n",
        "find('찾을 문자열') -> 문자열에서 특정 문자열을 찾아서 인덱스를 반환하고, 문자열이 없으면 -1을 반환합니다.\n",
        "find는 왼쪽에서부터 문자열을 찾는다. 같은 문자열이 여러 개일 경우 처음 찾은 문자열의 인덱스를 반환합니다."
      ],
      "metadata": {
        "id": "dWXUVZWkU2ML"
      }
    },
    {
      "cell_type": "code",
      "source": [
        "'apple pineapple'.find('pl')"
      ],
      "metadata": {
        "id": "RFrtwDPtVK5i"
      },
      "execution_count": null,
      "outputs": []
    },
    {
      "cell_type": "code",
      "source": [
        "'apple pineapple'.find('xy')"
      ],
      "metadata": {
        "id": "PlYQ-SuLVK1f"
      },
      "execution_count": null,
      "outputs": []
    },
    {
      "cell_type": "code",
      "source": [
        "'apple pineapple'.rfind('pl')\n",
        "# 오른쪽에서 부터 찾기\n"
      ],
      "metadata": {
        "id": "UuJ9seFhVKv8"
      },
      "execution_count": null,
      "outputs": []
    },
    {
      "cell_type": "markdown",
      "source": [
        "index('찾을 문자열') 로도 문자열의 위치를 찾을 수 있다.\n",
        "\n",
        "차이점은 index('찾을 문자열')은 해당 문자열이 없으면 -1이 아닌 에러를 발생시킨다."
      ],
      "metadata": {
        "id": "X6qiHuSOVKnp"
      }
    },
    {
      "cell_type": "code",
      "source": [
        "'apple pineapple'.rindex('pl')"
      ],
      "metadata": {
        "id": "lkPwgCkYVKYt"
      },
      "execution_count": null,
      "outputs": []
    },
    {
      "cell_type": "code",
      "source": [
        "'apple pineapple'.index('pl')"
      ],
      "metadata": {
        "id": "KnaJcMOHVKVG"
      },
      "execution_count": null,
      "outputs": []
    },
    {
      "cell_type": "code",
      "source": [
        "'apple pineapple'.count('p')"
      ],
      "metadata": {
        "id": "uHiS3dDrVKR-"
      },
      "execution_count": null,
      "outputs": []
    },
    {
      "cell_type": "code",
      "source": [
        "path='C:\\\\users\\\\dojang\\\\AppData\\\\Local\\\\Programs\\\\Python\\\\Python36-32\\\\python.exe'\n",
        "print(path)"
      ],
      "metadata": {
        "id": "0Adl9tsXVKOW"
      },
      "execution_count": null,
      "outputs": []
    },
    {
      "cell_type": "code",
      "source": [
        "path.split('\\\\')[-1]"
      ],
      "metadata": {
        "id": "1VJOYxCxVKKu"
      },
      "execution_count": null,
      "outputs": []
    },
    {
      "cell_type": "code",
      "source": [
        "path[path.rfind('\\\\')+1:]"
      ],
      "metadata": {
        "id": "avbwdCI1dMDl"
      },
      "execution_count": null,
      "outputs": []
    },
    {
      "cell_type": "markdown",
      "source": [
        "딕셔너리 응용하기"
      ],
      "metadata": {
        "id": "0QpFhrlOiCod"
      }
    },
    {
      "cell_type": "markdown",
      "source": [
        "딕셔너리에 키-값 쌍 추가하기\n",
        "\n",
        "- setdefault: 키-값 쌍 추가\n",
        "- update: 키의 값 수정, 키가 없으면 키-값 쌍 추가"
      ],
      "metadata": {
        "id": "_pTpgSMsiF9Q"
      }
    },
    {
      "cell_type": "code",
      "source": [
        "# setdefault(키)\n",
        "x={'a':10,'b':20,'c':30,'d':40}\n",
        "x.setdefault('e')\n",
        "x"
      ],
      "metadata": {
        "id": "s_chsP-siNpM"
      },
      "execution_count": null,
      "outputs": []
    },
    {
      "cell_type": "code",
      "source": [
        "x={'a':10,'b':20,'c':30,'d':40}\n",
        "x.setdefault('e',100)\n",
        "x"
      ],
      "metadata": {
        "id": "aDQCaGNBiNnA"
      },
      "execution_count": null,
      "outputs": []
    },
    {
      "cell_type": "markdown",
      "source": [
        "딕셔너리에서 키의 값 수정하기"
      ],
      "metadata": {
        "id": "hJJkgbrnnIal"
      }
    },
    {
      "cell_type": "code",
      "source": [
        "x={'a':10,'b':20,'c':30,'d':40}\n",
        "x.update(a=90)\n",
        "x"
      ],
      "metadata": {
        "id": "A8efTaTsiNlM"
      },
      "execution_count": null,
      "outputs": []
    },
    {
      "cell_type": "markdown",
      "source": [
        "만약 딕셔너리에 키가 없으면 키-값 쌍을 추가할 수 있다. update()함수로 키-값 추가와 값 수정을 할 수 있다.\n"
      ],
      "metadata": {
        "id": "W0WexfPPiNjk"
      }
    },
    {
      "cell_type": "code",
      "source": [
        "x={'a':10,'b':20,'c':30,'d':40} # 키 값 추가\n",
        "x.update(e=500)\n",
        "x"
      ],
      "metadata": {
        "id": "MRnNqoySiNhw"
      },
      "execution_count": null,
      "outputs": []
    },
    {
      "cell_type": "code",
      "source": [
        "x.update(a=102) # 값 수정\n",
        "x"
      ],
      "metadata": {
        "id": "qoFqHlzUiNgF"
      },
      "execution_count": null,
      "outputs": []
    },
    {
      "cell_type": "code",
      "source": [
        "x.update(b=333,carry='Ruler') # 값 수정 및 키-값 추가\n",
        "x"
      ],
      "metadata": {
        "id": "7-uhzYwCiNbG"
      },
      "execution_count": null,
      "outputs": []
    },
    {
      "cell_type": "code",
      "source": [
        "x.update(a=900,f=60)\n",
        "x"
      ],
      "metadata": {
        "id": "6ViqFKjriNZa"
      },
      "execution_count": null,
      "outputs": []
    },
    {
      "cell_type": "markdown",
      "source": [
        "update(키=값)은 키가 문자열일 때만 사용할 수 있다.\n",
        "\n",
        "만약 키가 숫자일 경우 update(딕셔너리)처럼 딕셔너리를 넣어서 값을 수정할 수 있다."
      ],
      "metadata": {
        "id": "nBwM5-c-36ag"
      }
    },
    {
      "cell_type": "code",
      "source": [
        "y={1:\"one\",2:'two'}\n",
        "y.update({1:'ONE',3:'THREE'})\n",
        "y"
      ],
      "metadata": {
        "id": "MyzsBDSQiNX2"
      },
      "execution_count": null,
      "outputs": []
    },
    {
      "cell_type": "code",
      "source": [
        "y.update([[2,'one'],[3,'three'],[4,'Four']])\n",
        "y"
      ],
      "metadata": {
        "id": "-H0XMLaJiNWN"
      },
      "execution_count": null,
      "outputs": []
    },
    {
      "cell_type": "code",
      "source": [
        "y.update(zip([1,2],['one','two']))\n",
        "y"
      ],
      "metadata": {
        "id": "HZQb7IVriNUr"
      },
      "execution_count": null,
      "outputs": []
    },
    {
      "cell_type": "markdown",
      "source": [
        "딕셔너리에서 키-값 쌍 삭제하기\n",
        "\n",
        "pop(키)는 딕셔너리에서 특정 키-값 쌍을 삭제한 뒤 삭제한 값을 반환합니다."
      ],
      "metadata": {
        "id": "PCNOJGaDiNTB"
      }
    },
    {
      "cell_type": "code",
      "source": [
        "x={'a':10,'b':20,'c':30,'d':40}\n",
        "x.pop('a')\n",
        "x"
      ],
      "metadata": {
        "id": "jjwf-0rFiNPb"
      },
      "execution_count": null,
      "outputs": []
    },
    {
      "cell_type": "markdown",
      "source": [
        "del로 특정 키-값 쌍을 삭제할 수 있다."
      ],
      "metadata": {
        "id": "cPwItaCB5Rdm"
      }
    },
    {
      "cell_type": "code",
      "source": [
        "x={'a':10,'b':20,'c':30,'d':40}\n",
        "del x['a']\n",
        "x"
      ],
      "metadata": {
        "id": "5tWhJU60iNNm"
      },
      "execution_count": null,
      "outputs": []
    },
    {
      "cell_type": "markdown",
      "source": [
        "딕셔너리에서 임의의 키-값 쌍 삭제하기\n",
        "\n",
        "popitem()은 딕셔너리에서 임의의 키-값 쌍을 삭제한 뒤 삭제한 키-값 쌍을 튜플로 반환합니다."
      ],
      "metadata": {
        "id": "h_hyU-ijiNLo"
      }
    },
    {
      "cell_type": "code",
      "source": [
        "x={'a':10,'b':20,'c':30,'d':40}\n",
        "x.popitem() # ('d',40)을 반환\n",
        "x"
      ],
      "metadata": {
        "id": "TMKo35DuiNJr"
      },
      "execution_count": null,
      "outputs": []
    },
    {
      "cell_type": "markdown",
      "source": [
        "딕셔너리에서 키의 값을 가져오기\n",
        "\n",
        "get(키)는 딕셔너리에서 특정 키의 값을 가져옵니다.\n",
        "\n",
        "딕셔너리 x에서 키 'a'의 값을 가져온다.\n",
        "\n",
        "get(키,반환값)처럼 기본값을 지정하면 딕셔너리에 키가 있을 경우 해당 키의 값을 반환하지만, 그렇지 않은 경우에는, 기본값을 반환합니다."
      ],
      "metadata": {
        "id": "XAbZOGnJiNH1"
      }
    },
    {
      "cell_type": "code",
      "source": [
        "x={'a':10,'b':20,'c':30,'d':40}\n",
        "x.get('a') # 10출력\n",
        "x.get('z',0) # z 키 값이 없으므로 0을 반환한다."
      ],
      "metadata": {
        "id": "0HMt7RSfiNFx"
      },
      "execution_count": null,
      "outputs": []
    },
    {
      "cell_type": "markdown",
      "source": [
        "딕셔너리에서 키-값 쌍을 모두 가져오기\n",
        "\n",
        "items: 키-값 쌍을 모두 가져옴\n",
        "\n",
        "keys: 키를 모두 가져옴\n",
        "\n",
        "values: 값을 모두 가져옴\n"
      ],
      "metadata": {
        "id": "beU3S4pYiNDU"
      }
    },
    {
      "cell_type": "code",
      "source": [
        "x={'a':10,'b':20,'c':30,'d':40}\n",
        "x.items()"
      ],
      "metadata": {
        "id": "yxU8AgeviM9E"
      },
      "execution_count": null,
      "outputs": []
    },
    {
      "cell_type": "code",
      "source": [
        "x.keys()"
      ],
      "metadata": {
        "id": "Dyvs_YS-66hx"
      },
      "execution_count": null,
      "outputs": []
    },
    {
      "cell_type": "code",
      "source": [
        "x.values()"
      ],
      "metadata": {
        "id": "zWorFhL466gA"
      },
      "execution_count": null,
      "outputs": []
    },
    {
      "cell_type": "markdown",
      "source": [
        "리스트와 튜플로 딕서너리 만들기\n",
        "\n",
        "키가 들어있는 리스트를 준비합니다.\n",
        "\n",
        "dict.fromkeys에 키가 들어있는 리스트를 넣으면 딕셔너리를 생성합니다.\n"
      ],
      "metadata": {
        "id": "m8mQs4Ct_FSX"
      }
    },
    {
      "cell_type": "code",
      "source": [
        "keys=['a','b','c','d']\n",
        "x=dict.fromkeys(keys)\n",
        "x"
      ],
      "metadata": {
        "id": "PbEhoydR66dn"
      },
      "execution_count": null,
      "outputs": []
    },
    {
      "cell_type": "code",
      "source": [
        "y=dict.fromkeys(keys,100)\n",
        "y"
      ],
      "metadata": {
        "id": "c12eAntn66bL"
      },
      "execution_count": null,
      "outputs": []
    },
    {
      "cell_type": "code",
      "source": [
        "x={'a':10,'b':20,'c':30,'d':40}\n",
        "for i in x:\n",
        "  print(i,end=' ')\n",
        "\n",
        "# 값은 출력되지 않고, 키만 출력됩니다."
      ],
      "metadata": {
        "id": "wi8Umnww66Yr"
      },
      "execution_count": null,
      "outputs": []
    },
    {
      "cell_type": "markdown",
      "source": [
        "딕셔너리의 키,값 출력하기\n",
        "\n",
        "for 키,값 in 딕셔너리.items():"
      ],
      "metadata": {
        "id": "6bbkPm2A66WU"
      }
    },
    {
      "cell_type": "code",
      "source": [
        "x={'a':10,'b':20,'c':30,'d':40}\n",
        "for key, value in x.items():\n",
        "  print(key,value)"
      ],
      "metadata": {
        "id": "t5y3ggDQ66T1"
      },
      "execution_count": null,
      "outputs": []
    },
    {
      "cell_type": "markdown",
      "source": [
        "딕셔너리의 키만 출력하기\n",
        "\n",
        "for key in 딕셔너리.keys():"
      ],
      "metadata": {
        "id": "UKAOuYg866RZ"
      }
    },
    {
      "cell_type": "code",
      "source": [
        "x={'a':10,'b':20,'c':30,'d':40}\n",
        "for key in x.keys():\n",
        "  print(key)\n"
      ],
      "metadata": {
        "id": "1vosMyNA66PU"
      },
      "execution_count": null,
      "outputs": []
    },
    {
      "cell_type": "markdown",
      "source": [
        "딕셔너리의 값만 출력하기\n",
        "\n",
        "for value in 딕셔너리.values()"
      ],
      "metadata": {
        "id": "xaHkC1QEA18e"
      }
    },
    {
      "cell_type": "code",
      "source": [
        "x={'a':10,'b':20,'c':30,'d':40}\n",
        "for value in x.values():\n",
        "  print(value)"
      ],
      "metadata": {
        "id": "Cj5BlRQh66M_"
      },
      "execution_count": null,
      "outputs": []
    },
    {
      "cell_type": "markdown",
      "source": [
        "딕셔너리 표현식 사용하기\n",
        "\n",
        "- {키:값 for 키,값 in 딕셔너리}\n",
        "- dict({키:값 for 키,값 in 딕셔너리})"
      ],
      "metadata": {
        "id": "Q8hwi4l966Kt"
      }
    },
    {
      "cell_type": "code",
      "source": [
        "keys=['a','b','c','d']\n",
        "\n",
        "x={key:value for key,value in dict.fromkeys(keys).items()}\n",
        "x"
      ],
      "metadata": {
        "id": "SJ3lg6s566IR"
      },
      "execution_count": null,
      "outputs": []
    },
    {
      "cell_type": "markdown",
      "source": [
        "keys로만 키만 가져온 뒤 특정 값을 넣거나, values로 값을 가져온 뒤 값을 키로 사용할 수 있다."
      ],
      "metadata": {
        "id": "V5dz2xGX66GD"
      }
    },
    {
      "cell_type": "code",
      "source": [
        "{key:0 for key in dict.fromkeys(keys).keys()} # 키 값만 가져와서 각각 0을 할당함"
      ],
      "metadata": {
        "id": "9gwOzx_5Bvyl"
      },
      "execution_count": null,
      "outputs": []
    },
    {
      "cell_type": "code",
      "source": [
        "{value:0 for value in {'a':10,'b':20,'c':30,'d':40}.values()}"
      ],
      "metadata": {
        "id": "XluvaFdmBvw6"
      },
      "execution_count": null,
      "outputs": []
    },
    {
      "cell_type": "markdown",
      "source": [
        "또는, 키-값 자리를 바꿈"
      ],
      "metadata": {
        "id": "dJGzL4UZBvvY"
      }
    },
    {
      "cell_type": "code",
      "source": [
        "x={'a':10,'b':20,'c':30,'d':40}\n",
        "{value : key for key,value in x.items()}"
      ],
      "metadata": {
        "id": "lmazoSCVBvtz"
      },
      "execution_count": null,
      "outputs": []
    },
    {
      "cell_type": "markdown",
      "source": [
        "딕셔너리 표현식에서 if 조건문 사용하기\n",
        "\n",
        "딕셔너리 표현식은 딕셔너리에서 특정 값을 찾아서 삭제할 때 유용하다.\n",
        "\n",
        "딕셔너리는 특정 키를 삭제하는 pop 메서드만 제공할 뿐, 특정 값을 삭제하는 메소드는 제공하지않는다.\n",
        "\n",
        "그러면 특정값을 찾아서 키-값 쌍을 삭제하려면 어떻게 해야할까요?"
      ],
      "metadata": {
        "id": "7acEqmp0BvrW"
      }
    },
    {
      "cell_type": "code",
      "source": [
        "x={'a':10,'b':20,'c':30,'d':40}\n",
        "for key,value in x.items():\n",
        "  if value==20:\n",
        "    del x[key]\n",
        "# value가 20인 key-value 쌍 삭제\n",
        "\n",
        "# 이렇게 하면 반복 도중에 딕셔너리의 사이즈가 변했다고 뜹니다."
      ],
      "metadata": {
        "id": "OIYlDFWy66DW"
      },
      "execution_count": null,
      "outputs": []
    },
    {
      "cell_type": "markdown",
      "source": [
        "그래서 딕셔너리 표현식을 사용하여 특정 값을 삭제한다."
      ],
      "metadata": {
        "id": "7i2Z5HGA66Ap"
      }
    },
    {
      "cell_type": "code",
      "source": [
        "# 값 20인 키-값 삭제\n",
        "\n",
        "x={'a':10,'b':20,'c':30,'d':40}\n",
        "x={key:value for key, value in x.items() if value!=20}\n",
        "x"
      ],
      "metadata": {
        "id": "zr9Lawa8659u"
      },
      "execution_count": null,
      "outputs": []
    },
    {
      "cell_type": "code",
      "source": [
        "x={'a':10,'b':20,'c':30,'d':40}\n",
        "y={'a':10,'b':20,'c':30,'d':40}\n",
        "\n",
        "print(id(x))\n",
        "print(id(y))\n",
        "print(x is y)\n",
        "print(x == y)\n",
        "x=y # 딕셔너리가 2개일것 같지만 딕셔너리는 1개이다.\n",
        "\n",
        "print(id(x))\n",
        "print(id(y))\n",
        "print(x is y)\n",
        "print(x == y)"
      ],
      "metadata": {
        "id": "OeO6nrdk657V"
      },
      "execution_count": null,
      "outputs": []
    },
    {
      "cell_type": "markdown",
      "source": [
        "파일 사용하기 (파일 처리)\n",
        "\n",
        "파일에서 문자열을 읽고 쓰는 방법과 파이썬 객체를 파일에 읽고 쓰는 방법"
      ],
      "metadata": {
        "id": "_rRwpGoc654w"
      }
    },
    {
      "cell_type": "markdown",
      "source": [
        "파일에 문자열 쓰기\n",
        "\n",
        "파일에 문자열을 쓸 때는 open함수로 파일을 열어서 파일 객체를 얻은 뒤에 write 메서드를 사용해야한다"
      ],
      "metadata": {
        "id": "jtVr4d4a652F"
      }
    },
    {
      "cell_type": "markdown",
      "source": [
        "- 파일객체 = open(파일이름,파일모드)\n",
        "- 파일객체.write('문자열')\n",
        "- 파일객체.close()"
      ],
      "metadata": {
        "id": "JqU6sNmY65zO"
      }
    },
    {
      "cell_type": "code",
      "source": [
        "file = open('hello.txt','w')\n",
        "file.write('Hello, World!')\n",
        "file.close()"
      ],
      "metadata": {
        "id": "Enp0m8Cs65wb"
      },
      "execution_count": null,
      "outputs": []
    },
    {
      "cell_type": "markdown",
      "source": [
        "파일에서 문자열 읽기"
      ],
      "metadata": {
        "id": "cUmQyv2R65tq"
      }
    },
    {
      "cell_type": "code",
      "source": [
        "file = open('hello.txt','r')\n",
        "s=file.read()\n",
        "print(s)\n",
        "file.close()"
      ],
      "metadata": {
        "id": "3SoD8euz65rA"
      },
      "execution_count": null,
      "outputs": []
    },
    {
      "cell_type": "markdown",
      "source": [
        "자동으로 파일 객체 닫기\n",
        "\n",
        "with as를 사용하여 파일을 사용한 뒤 자동으로 파일 객체를 닫아줍니다.\n",
        "\n",
        "`with open(파일이름,파일모드) as 파일객체:`\n"
      ],
      "metadata": {
        "id": "dE_MgIEn65oi"
      }
    },
    {
      "cell_type": "code",
      "source": [
        "with open('hello.txt','r') as file:\n",
        "  s=file.read()\n",
        "  print(s)"
      ],
      "metadata": {
        "id": "AFCLZogL65mM"
      },
      "execution_count": null,
      "outputs": []
    },
    {
      "cell_type": "markdown",
      "source": [
        "문자열 여러 줄을 파일에 쓰기,읽기"
      ],
      "metadata": {
        "id": "cELQadZu65jk"
      }
    },
    {
      "cell_type": "code",
      "source": [
        "# 반복문으로 문자열 여러 줄을 파일에 쓰기\n",
        "with open('hello.txt','w') as file:\n",
        "  for i in range(3):\n",
        "    file.write('Hello, world! {0}\\n'.format(i))\n"
      ],
      "metadata": {
        "id": "ZO9XaDNV65hA"
      },
      "execution_count": null,
      "outputs": []
    },
    {
      "cell_type": "markdown",
      "source": [
        " 리스트에 들어있는 문자열을 파일에 쓰기"
      ],
      "metadata": {
        "id": "8y7Cb0QY65eX"
      }
    },
    {
      "cell_type": "markdown",
      "source": [
        "- 파일객체.writelines(문자열리스트)"
      ],
      "metadata": {
        "id": "IYqeJl0j65bh"
      }
    },
    {
      "cell_type": "code",
      "source": [
        "# 리스트에 들어있는 문자열을 파일에 쓰기\n",
        "lines=['안녕하세요\\n','파이썬\\n','코딩 도장입니다.\\n']\n",
        "\n",
        "with open('hello.txt','w') as file:\n",
        "  file.writelines(lines)"
      ],
      "metadata": {
        "id": "YfQvPM7o65Yx"
      },
      "execution_count": null,
      "outputs": []
    },
    {
      "cell_type": "markdown",
      "source": [
        "파일 내용을 한 줄씩 읽기\n",
        "\n",
        "- 변수 = 파일객체.readline()\n",
        "\n",
        "readline()으로 파일을 읽을 때는 while 반복문을 활용해야한다.\n",
        "\n",
        "왜냐하면 파일에 문자열이 몇 줄이나 있는지 모르기 때문이다."
      ],
      "metadata": {
        "id": "U7JjN0rr65WC"
      }
    },
    {
      "cell_type": "code",
      "source": [
        "with open('hello.txt','r') as file:\n",
        "  line=None\n",
        "  while line != '':\n",
        "    line = file.readline()\n",
        "    print(line.strip('\\n'))"
      ],
      "metadata": {
        "id": "8qoLcrTO65TK"
      },
      "execution_count": null,
      "outputs": []
    },
    {
      "cell_type": "markdown",
      "source": [
        "for 반복문으로 파일의 내용을 줄 단위로 읽기\n"
      ],
      "metadata": {
        "id": "u08jBukm65QQ"
      }
    },
    {
      "cell_type": "code",
      "source": [
        "with open('hello.txt','r') as file:\n",
        "  for line in file: # for에 파일 객체를 지정하면 파일의 내용을 한줄씩 읽어서 변수에 저장함\n",
        "    print(line.strip('\\n')) # \\n 삭제"
      ],
      "metadata": {
        "id": "w_Mi3Sps65Nc"
      },
      "execution_count": null,
      "outputs": []
    },
    {
      "cell_type": "markdown",
      "source": [
        "파이썬 객체를 파일에 저장하기, 가져오기\n",
        "\n",
        "- pickle 모듈: 파이썬 객체를 파일에 저장하는 모듈\n",
        "\n",
        "파이썬 객체를 파일에 저장하는 과정을 피클링\n",
        "\n",
        "파일에서 객체를 읽어오는 과정을 언피클링"
      ],
      "metadata": {
        "id": "RqH9R-HC65Ks"
      }
    },
    {
      "cell_type": "markdown",
      "source": [
        "파이썬 객체를 파일에 저장하기"
      ],
      "metadata": {
        "id": "JVbNuHjp649c"
      }
    },
    {
      "cell_type": "code",
      "source": [
        "import pickle\n",
        "\n",
        "name='James'\n",
        "age=17\n",
        "address='서울시 서초구 반포동'\n",
        "scores={'korean':90,'english':95,'mathematics':85,'science':82}\n",
        "\n",
        "with open('james.p','wb') as file: # p -> pickle의 p이다. 'wb'는 바이너리 쓰기\n",
        "  pickle.dump(name,file) # 객체(값)를 저장할 때는 pickle.dump로 객체(값)을 조절할 때는 open('james.p','wb') 해야한다.\n",
        "  pickle.dump(age,file)\n",
        "  pickle.dump(address,file)\n",
        "  pickle.dump(scores,file)\n"
      ],
      "metadata": {
        "id": "mdN_6DLL644s"
      },
      "execution_count": null,
      "outputs": []
    },
    {
      "cell_type": "markdown",
      "source": [
        "파일에서 파이썬 객체읽기"
      ],
      "metadata": {
        "id": "TCC5B12T64s5"
      }
    },
    {
      "cell_type": "code",
      "source": [
        "import pickle\n",
        "with open('/content/james.p','rb') as file:\n",
        "  name=pickle.load(file)\n",
        "  age=pickle.load(file)\n",
        "  address=pickle.load(file)\n",
        "  scores=pickle.load(file)\n",
        "  print(name)\n",
        "  print(age)"
      ],
      "metadata": {
        "id": "o5xTj4QsIcuX"
      },
      "execution_count": null,
      "outputs": []
    },
    {
      "cell_type": "code",
      "source": [],
      "metadata": {
        "id": "-KqaXgLMIcrz"
      },
      "execution_count": null,
      "outputs": []
    },
    {
      "cell_type": "code",
      "source": [],
      "metadata": {
        "id": "M_D6t_4UIco3"
      },
      "execution_count": null,
      "outputs": []
    },
    {
      "cell_type": "code",
      "source": [],
      "metadata": {
        "id": "rJFwUz5mIcmq"
      },
      "execution_count": null,
      "outputs": []
    },
    {
      "cell_type": "code",
      "source": [],
      "metadata": {
        "id": "5qFuwmunIckQ"
      },
      "execution_count": null,
      "outputs": []
    },
    {
      "cell_type": "code",
      "source": [],
      "metadata": {
        "id": "DjnLIS3LIchw"
      },
      "execution_count": null,
      "outputs": []
    },
    {
      "cell_type": "code",
      "source": [],
      "metadata": {
        "id": "gLXhGaDTIa0B"
      },
      "execution_count": null,
      "outputs": []
    }
  ]
}