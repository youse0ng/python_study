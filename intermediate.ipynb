{
  "cells": [
    {
      "cell_type": "markdown",
      "metadata": {
        "colab_type": "text",
        "id": "view-in-github"
      },
      "source": [
        "<a href=\"https://colab.research.google.com/github/youse0ng/python_study/blob/main/intermediate.ipynb\" target=\"_parent\"><img src=\"https://colab.research.google.com/assets/colab-badge.svg\" alt=\"Open In Colab\"/></a>"
      ]
    },
    {
      "cell_type": "markdown",
      "metadata": {
        "id": "eaHB5DnL-hj_"
      },
      "source": [
        "List와 튜플 응용하기  \n",
        "\n",
        "리스트에 요소 추가하기\n",
        "\n",
        "1. append: 요소 하나를 리스트의 마지막 인덱스에 추가\n",
        "\n",
        "2. extend: 리스트를 연결하여 확장 즉, extend() 메소드는 iterable 객체를 인자로 넣어주면 리스트의 마지막에 iterable 객체가 언패킹되면서 넣어준다.\n",
        "\n",
        "3. insert: 원하는 인덱스에 포함하고자 하는 x를 추가"
      ]
    },
    {
      "cell_type": "markdown",
      "metadata": {
        "id": "ZK7P3uD0_CLN"
      },
      "source": [
        "리스트에 요소 추가하기"
      ]
    },
    {
      "cell_type": "code",
      "execution_count": null,
      "metadata": {
        "id": "ZbsJtOjoyP6c"
      },
      "outputs": [],
      "source": [
        "# 리스트에 요소 추가하기\n",
        "a=[10,20,30]\n",
        "a.append(3)\n",
        "a\n",
        "\n",
        "# 리스트에 리스트 추가하기\n",
        "a.append([10,30])\n",
        "a # [10,20,30,3,[10,30]]"
      ]
    },
    {
      "cell_type": "markdown",
      "metadata": {
        "id": "uZnDnjRN_D98"
      },
      "source": [
        "리스트 확장하기"
      ]
    },
    {
      "cell_type": "code",
      "execution_count": null,
      "metadata": {
        "id": "vyrw3ytP-Zns"
      },
      "outputs": [],
      "source": [
        "a=[10,20,30]\n",
        "a.extend([10,20])\n",
        "a # [10,20,30,[10,20]] 으로 추가되는 것이 아니라, [10,20] 리스트를 언팩킹해서 [10,20,30,10,20]으로 확장시켜서 넣어준다."
      ]
    },
    {
      "cell_type": "markdown",
      "metadata": {
        "id": "bPAg2SS0_fg-"
      },
      "source": [
        "리스트의 특정 인덱스에 요소 추가하기(insert(index, x))"
      ]
    },
    {
      "cell_type": "code",
      "execution_count": null,
      "metadata": {
        "id": "0nQm7Yh8_m0k"
      },
      "outputs": [],
      "source": [
        "a=[10,20,30]\n",
        "a.insert(2,1) # 인덱스 2번에 요소를 추가\n",
        "a.insert(0,4) # 리스트의 맨처음에 요소를 추가\n",
        "a.insert(len(a),13) # 리스트의 맨 끝에 요소를 추가\n",
        "a"
      ]
    },
    {
      "cell_type": "markdown",
      "metadata": {
        "id": "DOPKrx9rAKrU"
      },
      "source": [
        "리스트의 중간에 리스트 요소를 추가하고 싶을 때\n",
        "\n",
        "1. insert 함수를 사용\n",
        "\n",
        "2. 슬라이싱을 이용하여 사용"
      ]
    },
    {
      "cell_type": "code",
      "execution_count": null,
      "metadata": {
        "id": "ilcBcknuBXqW"
      },
      "outputs": [],
      "source": [
        "# 1.\n",
        "a=[10,20,30]\n",
        "a.insert(1,[20,30,40])\n",
        "a"
      ]
    },
    {
      "cell_type": "code",
      "execution_count": null,
      "metadata": {
        "id": "uNrRVdmwAP6E"
      },
      "outputs": [],
      "source": [
        "# 2.  슬라이싱의 시작 인덱스와 끝 인덱스를 같게 지정하면 해당 인덱스의 요소를 덮어쓰지 않으면서 요소 여러 개를 중간에 추가할 수 있다.\n",
        "\n",
        "a=[10,20,30]\n",
        "a[1:1]=[[10,20,30]]\n",
        "a"
      ]
    },
    {
      "cell_type": "markdown",
      "metadata": {
        "id": "apTbDvIzCVH1"
      },
      "source": [
        "리스트의 요소 삭제하기\n",
        "\n",
        "1. 인덱스로 요소 삭제\n",
        "\n",
        "pop(): 마지막 요소 또는 특정 인덱스의 요소를 삭제\n",
        "del 시퀀스객체[인덱스]\n",
        "\n",
        "\n",
        "2. 특정 값을 넣어서 요소 삭제\n",
        "\n",
        "remove():특정 값을 찾아서 삭제"
      ]
    },
    {
      "cell_type": "code",
      "execution_count": null,
      "metadata": {
        "id": "lASRv_RbCXWM"
      },
      "outputs": [],
      "source": [
        "a=[10,20,30]\n",
        "a.pop() # 마지막 요소 삭제\n",
        "a"
      ]
    },
    {
      "cell_type": "code",
      "execution_count": null,
      "metadata": {
        "id": "Dz01xDvUHJqE"
      },
      "outputs": [],
      "source": [
        "a=[10,20,30]\n",
        "a.pop(1) # 특정 인덱스인 1번 인덱스 삭제\n",
        "a"
      ]
    },
    {
      "cell_type": "code",
      "execution_count": null,
      "metadata": {
        "id": "UzQHgEgBHba0"
      },
      "outputs": [],
      "source": [
        "a=[10,20,30]\n",
        "del a[1]\n",
        "a\n",
        "# pop 대신 del을 사용해도 상관없다."
      ]
    },
    {
      "cell_type": "markdown",
      "metadata": {
        "id": "KhS49kIIHsP7"
      },
      "source": [
        "pop이나 del은 인덱스로 요소를 삭제할 수 있다"
      ]
    },
    {
      "cell_type": "code",
      "execution_count": null,
      "metadata": {
        "id": "Y3psx09rIGN1"
      },
      "outputs": [],
      "source": [
        "a=[10,20,30]\n",
        "a.remove(10)\n",
        "a"
      ]
    },
    {
      "cell_type": "markdown",
      "metadata": {
        "id": "iY2syijyIQzV"
      },
      "source": [
        "리스트에서 특정 값의 인덱스 구하기 index(값)\n",
        "\n",
        "index(값)은 리스트에서 특정 값의 인덱스를 구합니다.\n",
        "\n"
      ]
    },
    {
      "cell_type": "code",
      "execution_count": null,
      "metadata": {
        "id": "N6RAi0ogJG_J"
      },
      "outputs": [],
      "source": [
        "a=[10,20,30,40,50,60,12,44,32]\n",
        "a.index(40)"
      ]
    },
    {
      "cell_type": "markdown",
      "metadata": {
        "id": "k8_ppfwAJnLP"
      },
      "source": [
        "특정 값의 개수 구하기 count(값)\n"
      ]
    },
    {
      "cell_type": "code",
      "execution_count": null,
      "metadata": {
        "id": "sGrjPVoUJsZj"
      },
      "outputs": [],
      "source": [
        "a=[10,20,20,30,10,40,20,30]\n",
        "a.count(10) # 2개\n",
        "a.count(20) # 3개"
      ]
    },
    {
      "cell_type": "markdown",
      "metadata": {
        "id": "CvDSGwcpKI1S"
      },
      "source": [
        "리스트의 순서 뒤집기 reversed() 와 reverse()\n",
        "\n"
      ]
    },
    {
      "cell_type": "code",
      "execution_count": null,
      "metadata": {
        "id": "cJ7QLqAyJ1Fx"
      },
      "outputs": [],
      "source": [
        "a=[10,20,30,40,50,60]\n",
        "a.reverse()\n",
        "a"
      ]
    },
    {
      "cell_type": "markdown",
      "metadata": {
        "id": "6b3dXZ75KSJL"
      },
      "source": [
        "리스트의 요소 정렬하기 sort() 오름차순 정렬, sort(reverse=True) 내림차순 정렬\n"
      ]
    },
    {
      "cell_type": "markdown",
      "metadata": {
        "id": "EC7mJim6Kncf"
      },
      "source": [
        "sort()와 sorted() 차이점은\n",
        "\n",
        "sort는 메서드를 사용한 리스트를 변경하지만 sorted는 정렬된 새 리스트를 생성한다."
      ]
    },
    {
      "cell_type": "markdown",
      "metadata": {
        "id": "mKXDKEQgK4Jc"
      },
      "source": [
        "모든 요소 삭제하기 clear()"
      ]
    },
    {
      "cell_type": "code",
      "execution_count": null,
      "metadata": {
        "id": "I-PA4hrJLgu0"
      },
      "outputs": [],
      "source": [
        "a=[10,20,30,40,50]\n",
        "a.clear()\n",
        "a"
      ]
    },
    {
      "cell_type": "markdown",
      "metadata": {
        "id": "yAwhwKP_LlCs"
      },
      "source": [
        "반복문으로 인덱스와 요소를 함께 출력하기 enumerate()"
      ]
    },
    {
      "cell_type": "code",
      "execution_count": null,
      "metadata": {
        "id": "9UBbhAoaNuOr"
      },
      "outputs": [],
      "source": [
        "a=[10,20,30,40,50]\n",
        "for i, x in enumerate(a):\n",
        "  print(i,x)\n",
        "\n",
        "# 인덱스를 0이 아닌 1부터 시작하고 싶을 때는 2가지 방법이 있다.\n",
        "print()\n",
        "\n",
        "for i,x in enumerate(a):\n",
        "  print(i+1,x)\n",
        "\n"
      ]
    },
    {
      "cell_type": "markdown",
      "metadata": {
        "id": "sgUNfiaQOpSk"
      },
      "source": [
        "리스트 컴프리헨션(List comprehension) 혹은 리스트 표현식\n",
        "\n",
        "- [식 for 변수 in 리스트]\n",
        "\n",
        "- list(식 for 변수 in 리스트)"
      ]
    },
    {
      "cell_type": "code",
      "execution_count": null,
      "metadata": {
        "id": "geGcCA_FOuVm"
      },
      "outputs": [],
      "source": [
        "# 0부터 9까지 숫자를 생성하여 리스트 생성하기\n",
        "a=[x for x in range(0,10)]\n",
        "a"
      ]
    },
    {
      "cell_type": "code",
      "execution_count": null,
      "metadata": {
        "id": "394qmOqXOuTd"
      },
      "outputs": [],
      "source": [
        "b=list(x for x in range(0,10))\n",
        "b"
      ]
    },
    {
      "cell_type": "markdown",
      "metadata": {
        "id": "eJOHrfHqOuRk"
      },
      "source": [
        "리스트 컴프리헨션에서 if문 사용하기\n",
        "\n",
        "- [식 for 변수 in 리스트 if 조건식]\n",
        "\n",
        "- list(식 for 변수 in 리스트 if 조건식)\n"
      ]
    },
    {
      "cell_type": "code",
      "execution_count": null,
      "metadata": {
        "id": "QISaNRO6OuJb"
      },
      "outputs": [],
      "source": [
        "# 나는 1~100까지 짝수인 것만 리스트에 담고싶어\n",
        "\n",
        "a=[x for x in range(1,101) if x % 2 ==0]\n",
        "a"
      ]
    },
    {
      "cell_type": "code",
      "execution_count": null,
      "metadata": {
        "id": "Bkkjx29soPvl"
      },
      "outputs": [],
      "source": [
        "# 구구단을 나타내는 리스트 자료\n",
        "a=[f'{i} * {j} = {i * j}' for i in range(1,10) for j in range(1,10)]\n",
        "a"
      ]
    },
    {
      "cell_type": "code",
      "execution_count": 3,
      "metadata": {
        "id": "i6JAX2Enzm4v"
      },
      "outputs": [
        {
          "name": "stdout",
          "output_type": "stream",
          "text": [
            "종료되었습니다.\n",
            "['km', 'pp', None, None, None, None, None, None, None, None]\n",
            "['12', '12', None, None, None, None, None, None, None, None]\n"
          ]
        }
      ],
      "source": [
        "# 공군 항공기 임무명과 넘버를 입력받고 임무명과 넘버명을 뒤집어서 리스트에 넣어줌\n",
        "# (A: 공격기, B: 폭격기 C: 수송기 E: 전자전기 F: 전투기 H:헬리콥터) - 뒤에 명은 넘버로 구성되어있음\n",
        "a= True\n",
        "mission=[None] * 10\n",
        "number=[None] * 10\n",
        "for i,x in enumerate(mission):\n",
        "  a=input('하시겠습니까?)')\n",
        "  if a=='y':\n",
        "    mission[i],number[i]=(input(\"항공기 코드를 입력하시오: \").split('-'))\n",
        "  elif a=='n':\n",
        "    print('종료되었습니다.')\n",
        "    break\n",
        "print(mission)\n",
        "print(number)"
      ]
    },
    {
      "cell_type": "markdown",
      "metadata": {
        "id": "woDoSQUDEA9T"
      },
      "source": [
        "리스트에 map 사용하기\n",
        "\n",
        "- list(map(함수,리스트))\n",
        "- tuple(map(함수,리스트))\n",
        "\n",
        "map은 원본 리스트를 변경하지 않고 새 리스트를 생성합니다.\n",
        "\n",
        "사실 map은 리스트 뿐만 아니라 모든 반복 가능한 객체를 넣을 수 있다.\n",
        "\n",
        "\n",
        "\n"
      ]
    },
    {
      "cell_type": "code",
      "execution_count": null,
      "metadata": {
        "id": "wO43QQq-EukT"
      },
      "outputs": [],
      "source": [
        "# 리스트 내의 실수형 원소들을 정수형으로 변환\n",
        "a=[1.2,3.2,35.1,7.1]\n",
        "a=list(map(int,a))\n",
        "a"
      ]
    },
    {
      "cell_type": "code",
      "execution_count": null,
      "metadata": {
        "id": "VDe-w1m2FMGk"
      },
      "outputs": [],
      "source": [
        "# 반복 가능한 객체를 넣어서 이용하여 list를 만들어보기\n",
        "a=list(map(str,range(10)))\n",
        "a"
      ]
    },
    {
      "cell_type": "markdown",
      "metadata": {
        "id": "UWnHy-imFMBE"
      },
      "source": [
        "input().split()과 map 함수\n",
        "\n",
        "input().split의 반환 값은 list로 출력되기 때문에, map함수를 사용할 수 있게된다.\n",
        "\n",
        "map함수가 반환하는 map 객체는 이터레이터라서 변수 여러 개에 저장하는 언패킹이 가능하다."
      ]
    },
    {
      "cell_type": "code",
      "execution_count": 5,
      "metadata": {
        "id": "y9mCcaC5Gz10"
      },
      "outputs": [
        {
          "data": {
            "text/plain": [
              "(1, 2)"
            ]
          },
          "execution_count": 5,
          "metadata": {},
          "output_type": "execute_result"
        }
      ],
      "source": [
        "a,b=list(map(int,input().split()))\n",
        "a,b"
      ]
    },
    {
      "cell_type": "code",
      "execution_count": 7,
      "metadata": {
        "id": "KS9wiI5lHQhJ"
      },
      "outputs": [
        {
          "data": {
            "text/plain": [
              "2"
            ]
          },
          "execution_count": 7,
          "metadata": {},
          "output_type": "execute_result"
        }
      ],
      "source": [
        "a=(38,21,53,62,19,53)\n",
        "a.index(53) # 2\n",
        "a.count(53) # 2"
      ]
    },
    {
      "cell_type": "markdown",
      "metadata": {
        "id": "DkIZ6JvTHy8j"
      },
      "source": [
        "튜플 표현식 사용하기\n",
        "tuple(식 for 변수 리스트 if 조건식)\n",
        "\n",
        "ex) tuple(i for i in range(10) if i % 2 == 0)"
      ]
    },
    {
      "cell_type": "code",
      "execution_count": null,
      "metadata": {
        "id": "rugzLWHLIPlU"
      },
      "outputs": [],
      "source": [
        "a=(i for i in range(10) if i % 2 ==0)\n",
        "tuple(a)"
      ]
    },
    {
      "cell_type": "markdown",
      "metadata": {
        "id": "0eKeCaK2JbXU"
      },
      "source": [
        "2차원 리스트 사용하기\n",
        "\n",
        "- 리스트 = [[값,값],[값,값],[값,값]]"
      ]
    },
    {
      "cell_type": "code",
      "execution_count": null,
      "metadata": {
        "id": "Q3gvL-WWJeob"
      },
      "outputs": [],
      "source": [
        "a=[[10,20],[30,40],[50,60]]\n",
        "a"
      ]
    },
    {
      "cell_type": "markdown",
      "metadata": {
        "id": "--6GLgcfJ0nE"
      },
      "source": [
        "사람이 알아보기 쉽게 출력하는 2차원 리스트\n",
        "\n",
        "from pprint import pprint"
      ]
    },
    {
      "cell_type": "code",
      "execution_count": null,
      "metadata": {
        "id": "5DqJpPutKfW3"
      },
      "outputs": [],
      "source": [
        "from pprint import pprint\n",
        "a=[[10,20],[30,40],[50,60]]\n",
        "pprint(a,indent=4,width=20)"
      ]
    },
    {
      "cell_type": "code",
      "execution_count": null,
      "metadata": {
        "id": "897YvixHK69V"
      },
      "outputs": [],
      "source": [
        "# 반복문을 2차원 리스트의 요소를 모두 출력하기\n",
        "a=[[10,20],[30,40],[50,60]]\n",
        "for x,y in a:\n",
        "  print(x,y)"
      ]
    },
    {
      "cell_type": "markdown",
      "metadata": {
        "id": "S-3DKoz5LM90"
      },
      "source": [
        "for 반복문으로 2차원 리스트 만들기"
      ]
    },
    {
      "cell_type": "code",
      "execution_count": null,
      "metadata": {
        "id": "2SlaIimVMzrr"
      },
      "outputs": [],
      "source": [
        "a=[]\n",
        "\n",
        "for i in range(3):\n",
        "  line=[]\n",
        "  for j in range(2):\n",
        "    line.append(0)\n",
        "  a.append(line)\n",
        "\n",
        "print(a)"
      ]
    },
    {
      "cell_type": "markdown",
      "metadata": {
        "id": "0Qo0dMtzNGPz"
      },
      "source": [
        "리스트 표현식으로 2차원 리스트 만들기"
      ]
    },
    {
      "cell_type": "code",
      "execution_count": null,
      "metadata": {
        "id": "2jJHchiZNJEL"
      },
      "outputs": [],
      "source": [
        "a = [[0 for j in range(2)] for i in range(3)]\n",
        "a"
      ]
    },
    {
      "cell_type": "markdown",
      "metadata": {
        "id": "dDWHHQlDFaJl"
      },
      "source": [
        "문자열의 응용하기\n",
        "\n",
        "문자열을 조작하거나 정보를 얻는 다양한 메소드에 대한 공부"
      ]
    },
    {
      "cell_type": "markdown",
      "metadata": {
        "id": "rcfsmAk-Q9h-"
      },
      "source": [
        "문자열 바꾸기\n",
        "\n",
        "replace('바꿀문자열','새문자열')은 문자열 안의 문자열을 다른 문자열로 바꾼다.\n",
        "\n",
        "예시로, 'hello, world'에서 world를 Python으로 바꾼 뒤 결과를 반환하는 것을 보자ㅡ\n"
      ]
    },
    {
      "cell_type": "code",
      "execution_count": null,
      "metadata": {
        "id": "cPNOtW-CRW0_"
      },
      "outputs": [],
      "source": [
        "'hello, world'.replace('world','python')"
      ]
    },
    {
      "cell_type": "code",
      "execution_count": null,
      "metadata": {
        "id": "UVv58HVrGQID"
      },
      "outputs": [],
      "source": [
        "s= 'Hello, world!'\n",
        "s=s.replace('world','Python')\n",
        "s"
      ]
    },
    {
      "cell_type": "markdown",
      "metadata": {
        "id": "KQIon-FEGvHw"
      },
      "source": [
        "문자 바꾸기\n",
        "\n",
        "문자열을 바꿨는데, 문자를 바꾸는 방법도 존재한다.\n",
        "\n",
        "translate는 문자열 안의 문자를 다른 문자로 바꾼다.\n",
        "\n",
        "먼저 str,maketrans('바꿀문자','새문자')로 변환 태이블을 만든다.\n",
        "\n",
        "그 다음에 translate(테이블)을 사용하면 문자를 바꾼뒤 결과를 반환합니다.\n",
        "\n",
        "'apple'에서 'a' 를 1, 'e'를 2, 'i'를 3 'o'를 4 'u'를 5로 바꿉니다."
      ]
    },
    {
      "cell_type": "code",
      "execution_count": null,
      "metadata": {
        "id": "CiS82mFaHflh"
      },
      "outputs": [],
      "source": [
        "table=str.maketrans('aeiou','12345')\n",
        "'apple'.translate(table)"
      ]
    },
    {
      "cell_type": "markdown",
      "metadata": {
        "id": "fDJA6BtfHfiP"
      },
      "source": [
        "문자열 분리하기\n",
        "\n",
        "split()은 공백을 기준으로 문자열을 분리하여 리스트로 변환\n",
        "\n",
        "split('기준문자열') 기준 문자열로 문자열 분리"
      ]
    },
    {
      "cell_type": "code",
      "execution_count": 8,
      "metadata": {
        "id": "Z8eXT9B0Hffn"
      },
      "outputs": [
        {
          "data": {
            "text/plain": [
              "['apple', 'trash', 'pp', 'yasuo', 'laguvh', 'laftogram']"
            ]
          },
          "execution_count": 8,
          "metadata": {},
          "output_type": "execute_result"
        }
      ],
      "source": [
        "'apple trash pp yasuo laguvh laftogram'.split()"
      ]
    },
    {
      "cell_type": "code",
      "execution_count": 9,
      "metadata": {
        "id": "OXzH9LkkHfdu"
      },
      "outputs": [
        {
          "data": {
            "text/plain": [
              "['apap', 'sadpa', 'dmm', 'yaaa', 'toto']"
            ]
          },
          "execution_count": 9,
          "metadata": {},
          "output_type": "execute_result"
        }
      ],
      "source": [
        "'apap,sadpa,dmm,yaaa,toto'.split(',')"
      ]
    },
    {
      "cell_type": "markdown",
      "metadata": {
        "id": "9g477S7aHfal"
      },
      "source": [
        "구분자 문자열과 문자열 리스트 연결하기\n",
        "\n",
        "문자열을 분리해서 리스트로 만들었으니 반대로 다시 연결하는 방법이 존재한다.\n",
        "\n",
        "구분자 문자열.join(리스트)"
      ]
    },
    {
      "cell_type": "code",
      "execution_count": 10,
      "metadata": {
        "id": "SNgvHzZtHfX5"
      },
      "outputs": [
        {
          "data": {
            "text/plain": [
              "'ddayaohoppypypamskal'"
            ]
          },
          "execution_count": 10,
          "metadata": {},
          "output_type": "execute_result"
        }
      ],
      "source": [
        "''.join(['dda', 'yaoho', 'ppypyp', 'amskal'])"
      ]
    },
    {
      "cell_type": "code",
      "execution_count": 11,
      "metadata": {
        "id": "yjrSK46SHfUr"
      },
      "outputs": [
        {
          "data": {
            "text/plain": [
              "'dda yaoho ppypyp amskal'"
            ]
          },
          "execution_count": 11,
          "metadata": {},
          "output_type": "execute_result"
        }
      ],
      "source": [
        "' '.join(['dda', 'yaoho', 'ppypyp', 'amskal'])"
      ]
    },
    {
      "cell_type": "code",
      "execution_count": 12,
      "metadata": {
        "id": "64mkFx87HfRg"
      },
      "outputs": [
        {
          "data": {
            "text/plain": [
              "'dda-yaoho-ppypyp-amskal'"
            ]
          },
          "execution_count": 12,
          "metadata": {},
          "output_type": "execute_result"
        }
      ],
      "source": [
        "'-'.join(['dda', 'yaoho', 'ppypyp', 'amskal'])"
      ]
    },
    {
      "cell_type": "markdown",
      "metadata": {
        "id": "xlgd5cHhHfOJ"
      },
      "source": [
        "소문자를 대문자로 만들기\n",
        "upper()\n",
        "\n",
        "대문자를 소문자로 만들기\n",
        "lower()\n",
        "\n",
        "왼쪽 공백 삭제하기\n",
        "lstrip()\n",
        "\n",
        "오른쪽 공백 삭제하기\n",
        "rstrip()\n",
        "\n",
        "양쪽 공백 삭제하기\n",
        "strip()"
      ]
    },
    {
      "cell_type": "code",
      "execution_count": null,
      "metadata": {
        "id": "CNnzV1hjLX0z"
      },
      "outputs": [],
      "source": [
        "'python'.upper()"
      ]
    },
    {
      "cell_type": "code",
      "execution_count": null,
      "metadata": {
        "id": "CxRr-N8MLXvm"
      },
      "outputs": [],
      "source": [
        "'PYTHON'.lower()"
      ]
    },
    {
      "cell_type": "code",
      "execution_count": null,
      "metadata": {
        "id": "h1Q69pCtLXpw"
      },
      "outputs": [],
      "source": [
        "'    python'.lstrip()"
      ]
    },
    {
      "cell_type": "code",
      "execution_count": null,
      "metadata": {
        "id": "dY91dJGbLXiw"
      },
      "outputs": [],
      "source": [
        "'python         '.rstrip()"
      ]
    },
    {
      "cell_type": "code",
      "execution_count": 13,
      "metadata": {
        "id": "flBxRxnkLXbn"
      },
      "outputs": [
        {
          "data": {
            "text/plain": [
              "'python'"
            ]
          },
          "execution_count": 13,
          "metadata": {},
          "output_type": "execute_result"
        }
      ],
      "source": [
        "'         python       '.strip()"
      ]
    },
    {
      "cell_type": "code",
      "execution_count": 14,
      "metadata": {
        "id": "JhXAuHTULXUb"
      },
      "outputs": [
        {
          "data": {
            "text/plain": [
              "'python    '"
            ]
          },
          "execution_count": 14,
          "metadata": {},
          "output_type": "execute_result"
        }
      ],
      "source": [
        "'     python    '.lstrip()"
      ]
    },
    {
      "cell_type": "markdown",
      "metadata": {
        "id": "ic87JjUNLXQO"
      },
      "source": [
        "왼쪽의 특정문자를 삭제하기\n",
        "lstrip('삭제할 문자들')"
      ]
    },
    {
      "cell_type": "code",
      "execution_count": null,
      "metadata": {
        "id": "98BKtKklLXMA"
      },
      "outputs": [],
      "source": [
        "'m.132a.da  mdsad,'.lstrip('m.132')"
      ]
    },
    {
      "cell_type": "markdown",
      "metadata": {
        "id": "qFG9HovuLXH2"
      },
      "source": [
        "구두점을 간단하게 삭제하기\n",
        "\n",
        "string 모듈의 punctuation에는 모든 구두점이 들어있다.\n",
        "\n",
        "~!@#$%^&*(){}:\">?<.,?\"}/'][; 과 같은 것들이 구두점이고 string.punctuation에 들어있음\n"
      ]
    },
    {
      "cell_type": "code",
      "execution_count": null,
      "metadata": {
        "id": "X_oci1lkLXDu"
      },
      "outputs": [],
      "source": [
        "import string\n",
        "\n",
        "',    python.{}'.strip(string.punctuation)\n",
        "# 구두점이 간단하게 제거됨\n",
        "\n",
        "',{}{>:\"?  python.  []%^&*(@)#}'.strip(string.punctuation+ ' ')\n",
        "# 구두점 삭제와 공백도 삭제하게 만들어줌"
      ]
    },
    {
      "cell_type": "markdown",
      "metadata": {
        "id": "HslSaVamLW-i"
      },
      "source": [
        "문자열을 왼쪽 정렬하기\n",
        "ljust(길이)\n",
        "\n",
        "문자열을 오른쪽 정렬하기\n",
        "rjust(길이)\n",
        "\n",
        "문자열을 가운데 정렬하기\n",
        "center(길이)"
      ]
    },
    {
      "cell_type": "code",
      "execution_count": 15,
      "metadata": {
        "id": "7MwayeuULW6Q"
      },
      "outputs": [
        {
          "data": {
            "text/plain": [
              "'python    '"
            ]
          },
          "execution_count": 15,
          "metadata": {},
          "output_type": "execute_result"
        }
      ],
      "source": [
        "'python'.ljust(10)"
      ]
    },
    {
      "cell_type": "code",
      "execution_count": 16,
      "metadata": {
        "id": "gDEPVwRHLW1d"
      },
      "outputs": [
        {
          "data": {
            "text/plain": [
              "'    python'"
            ]
          },
          "execution_count": 16,
          "metadata": {},
          "output_type": "execute_result"
        }
      ],
      "source": [
        "'python'.rjust(10)"
      ]
    },
    {
      "cell_type": "code",
      "execution_count": 17,
      "metadata": {
        "id": "dFBF4tn6LWt0"
      },
      "outputs": [
        {
          "data": {
            "text/plain": [
              "'  python  '"
            ]
          },
          "execution_count": 17,
          "metadata": {},
          "output_type": "execute_result"
        }
      ],
      "source": [
        "'python'.center(10)"
      ]
    },
    {
      "cell_type": "markdown",
      "metadata": {
        "id": "dWXUVZWkU2ML"
      },
      "source": [
        "문자열 위치 찾기\n",
        "\n",
        "find('찾을 문자열') -> 문자열에서 특정 문자열을 찾아서 인덱스를 반환하고, 문자열이 없으면 -1을 반환합니다.\n",
        "find는 왼쪽에서부터 문자열을 찾는다. 같은 문자열이 여러 개일 경우 처음 찾은 문자열의 인덱스를 반환합니다."
      ]
    },
    {
      "cell_type": "code",
      "execution_count": null,
      "metadata": {
        "id": "RFrtwDPtVK5i"
      },
      "outputs": [],
      "source": [
        "'apple pineapple'.find('pl')"
      ]
    },
    {
      "cell_type": "code",
      "execution_count": null,
      "metadata": {
        "id": "PlYQ-SuLVK1f"
      },
      "outputs": [],
      "source": [
        "'apple pineapple'.find('xy')"
      ]
    },
    {
      "cell_type": "code",
      "execution_count": null,
      "metadata": {
        "id": "UuJ9seFhVKv8"
      },
      "outputs": [],
      "source": [
        "'apple pineapple'.rfind('pl')\n",
        "# 오른쪽에서 부터 찾기\n"
      ]
    },
    {
      "cell_type": "markdown",
      "metadata": {
        "id": "X6qiHuSOVKnp"
      },
      "source": [
        "index('찾을 문자열') 로도 문자열의 위치를 찾을 수 있다.\n",
        "\n",
        "차이점은 index('찾을 문자열')은 해당 문자열이 없으면 -1이 아닌 에러를 발생시킨다."
      ]
    },
    {
      "cell_type": "code",
      "execution_count": null,
      "metadata": {
        "id": "lkPwgCkYVKYt"
      },
      "outputs": [],
      "source": [
        "'apple pineapple'.rindex('pl')"
      ]
    },
    {
      "cell_type": "code",
      "execution_count": null,
      "metadata": {
        "id": "KnaJcMOHVKVG"
      },
      "outputs": [],
      "source": [
        "'apple pineapple'.index('pl')"
      ]
    },
    {
      "cell_type": "code",
      "execution_count": null,
      "metadata": {
        "id": "uHiS3dDrVKR-"
      },
      "outputs": [],
      "source": [
        "'apple pineapple'.count('p')"
      ]
    },
    {
      "cell_type": "code",
      "execution_count": 18,
      "metadata": {
        "id": "0Adl9tsXVKOW"
      },
      "outputs": [
        {
          "name": "stdout",
          "output_type": "stream",
          "text": [
            "C:\\users\\dojang\\AppData\\Local\\Programs\\Python\\Python36-32\\python.exe\n"
          ]
        }
      ],
      "source": [
        "path='C:\\\\users\\\\dojang\\\\AppData\\\\Local\\\\Programs\\\\Python\\\\Python36-32\\\\python.exe'\n",
        "print(path)"
      ]
    },
    {
      "cell_type": "code",
      "execution_count": 19,
      "metadata": {
        "id": "1VJOYxCxVKKu"
      },
      "outputs": [
        {
          "data": {
            "text/plain": [
              "'python.exe'"
            ]
          },
          "execution_count": 19,
          "metadata": {},
          "output_type": "execute_result"
        }
      ],
      "source": [
        "path.split('\\\\')[-1]"
      ]
    },
    {
      "cell_type": "code",
      "execution_count": 20,
      "metadata": {
        "id": "avbwdCI1dMDl"
      },
      "outputs": [
        {
          "data": {
            "text/plain": [
              "'python.exe'"
            ]
          },
          "execution_count": 20,
          "metadata": {},
          "output_type": "execute_result"
        }
      ],
      "source": [
        "path[path.rfind('\\\\')+1:]"
      ]
    },
    {
      "cell_type": "markdown",
      "metadata": {
        "id": "0QpFhrlOiCod"
      },
      "source": [
        "딕셔너리 응용하기"
      ]
    },
    {
      "cell_type": "markdown",
      "metadata": {
        "id": "_pTpgSMsiF9Q"
      },
      "source": [
        "딕셔너리에 키-값 쌍 추가하기\n",
        "\n",
        "- setdefault: 키-값 쌍 추가\n",
        "- update: 키의 값 수정, 키가 없으면 키-값 쌍 추가"
      ]
    },
    {
      "cell_type": "code",
      "execution_count": null,
      "metadata": {
        "id": "s_chsP-siNpM"
      },
      "outputs": [],
      "source": [
        "# setdefault(키)\n",
        "x={'a':10,'b':20,'c':30,'d':40}\n",
        "x.setdefault('e')\n",
        "x"
      ]
    },
    {
      "cell_type": "code",
      "execution_count": null,
      "metadata": {
        "id": "aDQCaGNBiNnA"
      },
      "outputs": [],
      "source": [
        "x={'a':10,'b':20,'c':30,'d':40}\n",
        "x.setdefault('e',100)\n",
        "x"
      ]
    },
    {
      "cell_type": "markdown",
      "metadata": {
        "id": "hJJkgbrnnIal"
      },
      "source": [
        "딕셔너리에서 키의 값 수정하기"
      ]
    },
    {
      "cell_type": "code",
      "execution_count": null,
      "metadata": {
        "id": "A8efTaTsiNlM"
      },
      "outputs": [],
      "source": [
        "x={'a':10,'b':20,'c':30,'d':40}\n",
        "x.update(a=90)\n",
        "x"
      ]
    },
    {
      "cell_type": "markdown",
      "metadata": {
        "id": "W0WexfPPiNjk"
      },
      "source": [
        "만약 딕셔너리에 키가 없으면 키-값 쌍을 추가할 수 있다. update()함수로 키-값 추가와 값 수정을 할 수 있다.\n"
      ]
    },
    {
      "cell_type": "code",
      "execution_count": null,
      "metadata": {
        "id": "MRnNqoySiNhw"
      },
      "outputs": [],
      "source": [
        "x={'a':10,'b':20,'c':30,'d':40} # 키 값 추가\n",
        "x.update(e=500)\n",
        "x"
      ]
    },
    {
      "cell_type": "code",
      "execution_count": null,
      "metadata": {
        "id": "qoFqHlzUiNgF"
      },
      "outputs": [],
      "source": [
        "x.update(a=102) # 값 수정\n",
        "x"
      ]
    },
    {
      "cell_type": "code",
      "execution_count": null,
      "metadata": {
        "id": "7-uhzYwCiNbG"
      },
      "outputs": [],
      "source": [
        "x.update(b=333,carry='Ruler') # 값 수정 및 키-값 추가\n",
        "x"
      ]
    },
    {
      "cell_type": "code",
      "execution_count": null,
      "metadata": {
        "id": "6ViqFKjriNZa"
      },
      "outputs": [],
      "source": [
        "x.update(a=900,f=60)\n",
        "x"
      ]
    },
    {
      "cell_type": "markdown",
      "metadata": {
        "id": "nBwM5-c-36ag"
      },
      "source": [
        "update(키=값)은 키가 문자열일 때만 사용할 수 있다.\n",
        "\n",
        "만약 키가 숫자일 경우 update(딕셔너리)처럼 딕셔너리를 넣어서 값을 수정할 수 있다."
      ]
    },
    {
      "cell_type": "code",
      "execution_count": 22,
      "metadata": {
        "id": "MyzsBDSQiNX2"
      },
      "outputs": [
        {
          "data": {
            "text/plain": [
              "{1: 'ONE', 2: 'two', 3: 'THREE'}"
            ]
          },
          "execution_count": 22,
          "metadata": {},
          "output_type": "execute_result"
        }
      ],
      "source": [
        "y={1:\"one\",2:'two'}\n",
        "y.update({1:'ONE',3:'THREE'})\n",
        "y"
      ]
    },
    {
      "cell_type": "code",
      "execution_count": 23,
      "metadata": {
        "id": "-H0XMLaJiNWN"
      },
      "outputs": [
        {
          "data": {
            "text/plain": [
              "{1: 'ONE', 2: 'one', 3: 'three', 4: 'Four'}"
            ]
          },
          "execution_count": 23,
          "metadata": {},
          "output_type": "execute_result"
        }
      ],
      "source": [
        "y.update([[2,'one'],[3,'three'],[4,'Four']])\n",
        "y"
      ]
    },
    {
      "cell_type": "code",
      "execution_count": 24,
      "metadata": {
        "id": "HZQb7IVriNUr"
      },
      "outputs": [
        {
          "data": {
            "text/plain": [
              "{1: 'one', 2: 'two', 3: 'three', 4: 'Four'}"
            ]
          },
          "execution_count": 24,
          "metadata": {},
          "output_type": "execute_result"
        }
      ],
      "source": [
        "y.update(zip([1,2],['one','two']))\n",
        "y"
      ]
    },
    {
      "cell_type": "markdown",
      "metadata": {
        "id": "PCNOJGaDiNTB"
      },
      "source": [
        "딕셔너리에서 키-값 쌍 삭제하기\n",
        "\n",
        "pop(키)는 딕셔너리에서 특정 키-값 쌍을 삭제한 뒤 삭제한 값을 반환합니다."
      ]
    },
    {
      "cell_type": "code",
      "execution_count": 25,
      "metadata": {
        "id": "jjwf-0rFiNPb"
      },
      "outputs": [
        {
          "data": {
            "text/plain": [
              "{'b': 20, 'c': 30, 'd': 40}"
            ]
          },
          "execution_count": 25,
          "metadata": {},
          "output_type": "execute_result"
        }
      ],
      "source": [
        "x={'a':10,'b':20,'c':30,'d':40}\n",
        "x.pop('a')\n",
        "x"
      ]
    },
    {
      "cell_type": "markdown",
      "metadata": {
        "id": "cPwItaCB5Rdm"
      },
      "source": [
        "del로 특정 키-값 쌍을 삭제할 수 있다."
      ]
    },
    {
      "cell_type": "code",
      "execution_count": null,
      "metadata": {
        "id": "5tWhJU60iNNm"
      },
      "outputs": [],
      "source": [
        "x={'a':10,'b':20,'c':30,'d':40}\n",
        "del x['a']\n",
        "x"
      ]
    },
    {
      "cell_type": "markdown",
      "metadata": {
        "id": "h_hyU-ijiNLo"
      },
      "source": [
        "딕셔너리에서 임의의 키-값 쌍 삭제하기\n",
        "\n",
        "popitem()은 딕셔너리에서 임의의 키-값 쌍을 삭제한 뒤 삭제한 키-값 쌍을 튜플로 반환합니다."
      ]
    },
    {
      "cell_type": "code",
      "execution_count": 33,
      "metadata": {
        "id": "TMKo35DuiNJr"
      },
      "outputs": [
        {
          "data": {
            "text/plain": [
              "{'a': 10, 'b': 20, 'c': 30}"
            ]
          },
          "execution_count": 33,
          "metadata": {},
          "output_type": "execute_result"
        }
      ],
      "source": [
        "x={'a':10,'b':20,'c':30,'d':40}\n",
        "x.popitem() # ('d',40)을 반환\n",
        "x"
      ]
    },
    {
      "cell_type": "code",
      "execution_count": 34,
      "metadata": {},
      "outputs": [
        {
          "name": "stdout",
          "output_type": "stream",
          "text": [
            "10\n"
          ]
        },
        {
          "data": {
            "text/plain": [
              "{'b': 20, 'c': 30}"
            ]
          },
          "execution_count": 34,
          "metadata": {},
          "output_type": "execute_result"
        }
      ],
      "source": [
        "p=x.pop('a')\n",
        "print(p)\n",
        "x"
      ]
    },
    {
      "cell_type": "markdown",
      "metadata": {
        "id": "XAbZOGnJiNH1"
      },
      "source": [
        "딕셔너리에서 키의 값을 가져오기\n",
        "\n",
        "get(키)는 딕셔너리에서 특정 키의 값을 가져옵니다.\n",
        "\n",
        "딕셔너리 x에서 키 'a'의 값을 가져온다.\n",
        "\n",
        "get(키,반환값)처럼 기본값을 지정하면 딕셔너리에 키가 있을 경우 해당 키의 값을 반환하지만, 그렇지 않은 경우에는, 기본값을 반환합니다."
      ]
    },
    {
      "cell_type": "code",
      "execution_count": 35,
      "metadata": {
        "id": "0HMt7RSfiNFx"
      },
      "outputs": [
        {
          "data": {
            "text/plain": [
              "0"
            ]
          },
          "execution_count": 35,
          "metadata": {},
          "output_type": "execute_result"
        }
      ],
      "source": [
        "x={'a':10,'b':20,'c':30,'d':40}\n",
        "x.get('a') # 10출력\n",
        "x.get('z',0) # z 키 값이 없으므로 0을 반환한다."
      ]
    },
    {
      "cell_type": "markdown",
      "metadata": {
        "id": "beU3S4pYiNDU"
      },
      "source": [
        "딕셔너리에서 키-값 쌍을 모두 가져오기\n",
        "\n",
        "items: 키-값 쌍을 모두 가져옴\n",
        "\n",
        "keys: 키를 모두 가져옴\n",
        "\n",
        "values: 값을 모두 가져옴\n"
      ]
    },
    {
      "cell_type": "code",
      "execution_count": 36,
      "metadata": {
        "id": "yxU8AgeviM9E"
      },
      "outputs": [
        {
          "data": {
            "text/plain": [
              "dict_items([('a', 10), ('b', 20), ('c', 30), ('d', 40)])"
            ]
          },
          "execution_count": 36,
          "metadata": {},
          "output_type": "execute_result"
        }
      ],
      "source": [
        "x={'a':10,'b':20,'c':30,'d':40}\n",
        "x.items()"
      ]
    },
    {
      "cell_type": "code",
      "execution_count": 37,
      "metadata": {
        "id": "Dyvs_YS-66hx"
      },
      "outputs": [
        {
          "data": {
            "text/plain": [
              "dict_keys(['a', 'b', 'c', 'd'])"
            ]
          },
          "execution_count": 37,
          "metadata": {},
          "output_type": "execute_result"
        }
      ],
      "source": [
        "x.keys()"
      ]
    },
    {
      "cell_type": "code",
      "execution_count": 38,
      "metadata": {
        "id": "zWorFhL466gA"
      },
      "outputs": [
        {
          "data": {
            "text/plain": [
              "dict_values([10, 20, 30, 40])"
            ]
          },
          "execution_count": 38,
          "metadata": {},
          "output_type": "execute_result"
        }
      ],
      "source": [
        "x.values()"
      ]
    },
    {
      "cell_type": "markdown",
      "metadata": {
        "id": "m8mQs4Ct_FSX"
      },
      "source": [
        "리스트와 튜플로 딕서너리 만들기\n",
        "\n",
        "키가 들어있는 리스트를 준비합니다.\n",
        "\n",
        "dict.fromkeys에 키가 들어있는 리스트를 넣으면 딕셔너리를 생성합니다.\n"
      ]
    },
    {
      "cell_type": "code",
      "execution_count": 39,
      "metadata": {
        "id": "PbEhoydR66dn"
      },
      "outputs": [
        {
          "data": {
            "text/plain": [
              "{'a': None, 'b': None, 'c': None, 'd': None}"
            ]
          },
          "execution_count": 39,
          "metadata": {},
          "output_type": "execute_result"
        }
      ],
      "source": [
        "keys=['a','b','c','d']\n",
        "x=dict.fromkeys(keys)\n",
        "x"
      ]
    },
    {
      "cell_type": "code",
      "execution_count": 40,
      "metadata": {
        "id": "c12eAntn66bL"
      },
      "outputs": [
        {
          "data": {
            "text/plain": [
              "{'a': 100, 'b': 100, 'c': 100, 'd': 100}"
            ]
          },
          "execution_count": 40,
          "metadata": {},
          "output_type": "execute_result"
        }
      ],
      "source": [
        "y=dict.fromkeys(keys,100)\n",
        "y"
      ]
    },
    {
      "cell_type": "code",
      "execution_count": 41,
      "metadata": {
        "id": "wi8Umnww66Yr"
      },
      "outputs": [
        {
          "name": "stdout",
          "output_type": "stream",
          "text": [
            "a b c d "
          ]
        }
      ],
      "source": [
        "x={'a':10,'b':20,'c':30,'d':40}\n",
        "for i in x:\n",
        "  print(i,end=' ')\n",
        "\n",
        "# 값은 출력되지 않고, 키만 출력됩니다."
      ]
    },
    {
      "cell_type": "markdown",
      "metadata": {
        "id": "6bbkPm2A66WU"
      },
      "source": [
        "딕셔너리의 키,값 출력하기\n",
        "\n",
        "for 키,값 in 딕셔너리.items():"
      ]
    },
    {
      "cell_type": "code",
      "execution_count": 42,
      "metadata": {
        "id": "t5y3ggDQ66T1"
      },
      "outputs": [
        {
          "name": "stdout",
          "output_type": "stream",
          "text": [
            "a 10\n",
            "b 20\n",
            "c 30\n",
            "d 40\n"
          ]
        }
      ],
      "source": [
        "x={'a':10,'b':20,'c':30,'d':40}\n",
        "for key, value in x.items():\n",
        "  print(key,value)"
      ]
    },
    {
      "cell_type": "markdown",
      "metadata": {
        "id": "UKAOuYg866RZ"
      },
      "source": [
        "딕셔너리의 키만 출력하기\n",
        "\n",
        "for key in 딕셔너리.keys():"
      ]
    },
    {
      "cell_type": "code",
      "execution_count": 43,
      "metadata": {
        "id": "1vosMyNA66PU"
      },
      "outputs": [
        {
          "name": "stdout",
          "output_type": "stream",
          "text": [
            "a\n",
            "b\n",
            "c\n",
            "d\n"
          ]
        }
      ],
      "source": [
        "x={'a':10,'b':20,'c':30,'d':40}\n",
        "for key in x.keys():\n",
        "  print(key)\n"
      ]
    },
    {
      "cell_type": "markdown",
      "metadata": {
        "id": "xaHkC1QEA18e"
      },
      "source": [
        "딕셔너리의 값만 출력하기\n",
        "\n",
        "for value in 딕셔너리.values()"
      ]
    },
    {
      "cell_type": "code",
      "execution_count": 44,
      "metadata": {
        "id": "Cj5BlRQh66M_"
      },
      "outputs": [
        {
          "name": "stdout",
          "output_type": "stream",
          "text": [
            "10\n",
            "20\n",
            "30\n",
            "40\n"
          ]
        }
      ],
      "source": [
        "x={'a':10,'b':20,'c':30,'d':40}\n",
        "for value in x.values():\n",
        "  print(value)"
      ]
    },
    {
      "cell_type": "markdown",
      "metadata": {
        "id": "Q8hwi4l966Kt"
      },
      "source": [
        "딕셔너리 표현식 사용하기\n",
        "\n",
        "- {키:값 for 키,값 in 딕셔너리}\n",
        "- dict({키:값 for 키,값 in 딕셔너리})"
      ]
    },
    {
      "cell_type": "code",
      "execution_count": 45,
      "metadata": {
        "id": "SJ3lg6s566IR"
      },
      "outputs": [
        {
          "data": {
            "text/plain": [
              "{'a': None, 'b': None, 'c': None, 'd': None}"
            ]
          },
          "execution_count": 45,
          "metadata": {},
          "output_type": "execute_result"
        }
      ],
      "source": [
        "keys=['a','b','c','d']\n",
        "\n",
        "x={key:value for key,value in dict.fromkeys(keys).items()}\n",
        "x"
      ]
    },
    {
      "cell_type": "markdown",
      "metadata": {
        "id": "V5dz2xGX66GD"
      },
      "source": [
        "keys로만 키만 가져온 뒤 특정 값을 넣거나, values로 값을 가져온 뒤 값을 키로 사용할 수 있다."
      ]
    },
    {
      "cell_type": "code",
      "execution_count": 46,
      "metadata": {
        "id": "9gwOzx_5Bvyl"
      },
      "outputs": [
        {
          "data": {
            "text/plain": [
              "{'a': 0, 'b': 0, 'c': 0, 'd': 0}"
            ]
          },
          "execution_count": 46,
          "metadata": {},
          "output_type": "execute_result"
        }
      ],
      "source": [
        "{key:0 for key in dict.fromkeys(keys).keys()} # 키 값만 가져와서 각각 0을 할당함"
      ]
    },
    {
      "cell_type": "code",
      "execution_count": 47,
      "metadata": {
        "id": "XluvaFdmBvw6"
      },
      "outputs": [
        {
          "data": {
            "text/plain": [
              "{10: 0, 20: 0, 30: 0, 40: 0}"
            ]
          },
          "execution_count": 47,
          "metadata": {},
          "output_type": "execute_result"
        }
      ],
      "source": [
        "{value:0 for value in {'a':10,'b':20,'c':30,'d':40}.values()}"
      ]
    },
    {
      "cell_type": "markdown",
      "metadata": {
        "id": "dJGzL4UZBvvY"
      },
      "source": [
        "또는, 키-값 자리를 바꿈"
      ]
    },
    {
      "cell_type": "code",
      "execution_count": null,
      "metadata": {
        "id": "lmazoSCVBvtz"
      },
      "outputs": [],
      "source": [
        "x={'a':10,'b':20,'c':30,'d':40}\n",
        "{value : key for key,value in x.items()}"
      ]
    },
    {
      "cell_type": "markdown",
      "metadata": {
        "id": "7acEqmp0BvrW"
      },
      "source": [
        "딕셔너리 표현식에서 if 조건문 사용하기\n",
        "\n",
        "딕셔너리 표현식은 딕셔너리에서 특정 값을 찾아서 삭제할 때 유용하다.\n",
        "\n",
        "딕셔너리는 특정 키를 삭제하는 pop 메서드만 제공할 뿐, 특정 값을 삭제하는 메소드는 제공하지않는다.\n",
        "\n",
        "그러면 특정값을 찾아서 키-값 쌍을 삭제하려면 어떻게 해야할까요?"
      ]
    },
    {
      "cell_type": "code",
      "execution_count": null,
      "metadata": {
        "id": "OIYlDFWy66DW"
      },
      "outputs": [],
      "source": [
        "x={'a':10,'b':20,'c':30,'d':40}\n",
        "for key,value in x.items():\n",
        "  if value==20:\n",
        "    del x[key]\n",
        "# value가 20인 key-value 쌍 삭제\n",
        "\n",
        "# 이렇게 하면 반복 도중에 딕셔너리의 사이즈가 변했다고 뜹니다."
      ]
    },
    {
      "cell_type": "markdown",
      "metadata": {
        "id": "7i2Z5HGA66Ap"
      },
      "source": [
        "그래서 딕셔너리 표현식을 사용하여 특정 값을 삭제한다."
      ]
    },
    {
      "cell_type": "code",
      "execution_count": null,
      "metadata": {
        "id": "zr9Lawa8659u"
      },
      "outputs": [],
      "source": [
        "# 값 20인 키-값 삭제\n",
        "\n",
        "x={'a':10,'b':20,'c':30,'d':40}\n",
        "x={key:value for key, value in x.items() if value!=20}\n",
        "x"
      ]
    },
    {
      "cell_type": "code",
      "execution_count": null,
      "metadata": {
        "id": "OeO6nrdk657V"
      },
      "outputs": [],
      "source": [
        "x={'a':10,'b':20,'c':30,'d':40}\n",
        "y={'a':10,'b':20,'c':30,'d':40}\n",
        "\n",
        "print(id(x))\n",
        "print(id(y))\n",
        "print(x is y)\n",
        "print(x == y)\n",
        "x=y # 딕셔너리가 2개일것 같지만 딕셔너리는 1개이다.\n",
        "\n",
        "print(id(x))\n",
        "print(id(y))\n",
        "print(x is y)\n",
        "print(x == y)"
      ]
    },
    {
      "cell_type": "markdown",
      "metadata": {
        "id": "_rRwpGoc654w"
      },
      "source": [
        "파일 사용하기 (파일 처리)\n",
        "\n",
        "파일에서 문자열을 읽고 쓰는 방법과 파이썬 객체를 파일에 읽고 쓰는 방법"
      ]
    },
    {
      "cell_type": "markdown",
      "metadata": {
        "id": "jtVr4d4a652F"
      },
      "source": [
        "파일에 문자열 쓰기\n",
        "\n",
        "파일에 문자열을 쓸 때는 open함수로 파일을 열어서 파일 객체를 얻은 뒤에 write 메서드를 사용해야한다"
      ]
    },
    {
      "cell_type": "markdown",
      "metadata": {
        "id": "JqU6sNmY65zO"
      },
      "source": [
        "- 파일객체 = open(파일이름,파일모드)\n",
        "- 파일객체.write('문자열')\n",
        "- 파일객체.close()"
      ]
    },
    {
      "cell_type": "code",
      "execution_count": 49,
      "metadata": {
        "id": "Enp0m8Cs65wb"
      },
      "outputs": [],
      "source": [
        "file = open('hello.txt','w')\n",
        "file.write('Hello, World!')\n",
        "file.close()"
      ]
    },
    {
      "cell_type": "markdown",
      "metadata": {
        "id": "cUmQyv2R65tq"
      },
      "source": [
        "파일에서 문자열 읽기"
      ]
    },
    {
      "cell_type": "code",
      "execution_count": 50,
      "metadata": {
        "id": "3SoD8euz65rA"
      },
      "outputs": [
        {
          "name": "stdout",
          "output_type": "stream",
          "text": [
            "Hello, World!\n"
          ]
        }
      ],
      "source": [
        "file = open('hello.txt','r')\n",
        "s=file.read()\n",
        "print(s)\n",
        "file.close()"
      ]
    },
    {
      "cell_type": "markdown",
      "metadata": {
        "id": "dE_MgIEn65oi"
      },
      "source": [
        "자동으로 파일 객체 닫기\n",
        "\n",
        "with as를 사용하여 파일을 사용한 뒤 자동으로 파일 객체를 닫아줍니다.\n",
        "\n",
        "`with open(파일이름,파일모드) as 파일객체:`\n"
      ]
    },
    {
      "cell_type": "code",
      "execution_count": 51,
      "metadata": {
        "id": "AFCLZogL65mM"
      },
      "outputs": [
        {
          "name": "stdout",
          "output_type": "stream",
          "text": [
            "Hello, World!\n"
          ]
        }
      ],
      "source": [
        "with open('hello.txt','r') as file:\n",
        "  s=file.read()\n",
        "  print(s)"
      ]
    },
    {
      "cell_type": "markdown",
      "metadata": {
        "id": "cELQadZu65jk"
      },
      "source": [
        "문자열 여러 줄을 파일에 쓰기,읽기"
      ]
    },
    {
      "cell_type": "code",
      "execution_count": 52,
      "metadata": {
        "id": "ZO9XaDNV65hA"
      },
      "outputs": [],
      "source": [
        "# 반복문으로 문자열 여러 줄을 파일에 쓰기\n",
        "with open('hello.txt','w') as file:\n",
        "  for i in range(3):\n",
        "    file.write('Hello, world! {0}\\n'.format(i))\n"
      ]
    },
    {
      "cell_type": "markdown",
      "metadata": {
        "id": "8y7Cb0QY65eX"
      },
      "source": [
        " 리스트에 들어있는 문자열을 파일에 쓰기"
      ]
    },
    {
      "cell_type": "markdown",
      "metadata": {
        "id": "IYqeJl0j65bh"
      },
      "source": [
        "- 파일객체.writelines(문자열리스트)"
      ]
    },
    {
      "cell_type": "code",
      "execution_count": 53,
      "metadata": {
        "id": "YfQvPM7o65Yx"
      },
      "outputs": [],
      "source": [
        "# 리스트에 들어있는 문자열을 파일에 쓰기\n",
        "lines=['안녕하세요\\n','파이썬\\n','코딩 도장입니다.\\n']\n",
        "\n",
        "with open('hello.txt','w') as file:\n",
        "  file.writelines(lines)"
      ]
    },
    {
      "cell_type": "markdown",
      "metadata": {},
      "source": [
        "파일의 내용을 한 줄씩 리스트로 가져오기\n",
        "\n",
        "- 변수 = 파일객체.readlines()"
      ]
    },
    {
      "cell_type": "code",
      "execution_count": 62,
      "metadata": {},
      "outputs": [
        {
          "name": "stdout",
          "output_type": "stream",
          "text": [
            "['안녕하세요\\n', '파이썬\\n', '코딩 도장입니다.\\n']\n"
          ]
        }
      ],
      "source": [
        "with open('hello.txt','r') as file:\n",
        "    lines=file.readlines()\n",
        "    print(lines)"
      ]
    },
    {
      "cell_type": "code",
      "execution_count": 67,
      "metadata": {},
      "outputs": [
        {
          "name": "stdout",
          "output_type": "stream",
          "text": [
            "<class 'str'>\n",
            "안녕하세요\n",
            "<class 'str'>\n",
            "파이썬\n",
            "<class 'str'>\n",
            "코딩 도장입니다.\n",
            "<class 'str'>\n",
            "\n"
          ]
        }
      ],
      "source": [
        "with open('hello.txt','r') as file:\n",
        "    line=None\n",
        "    while line != '':\n",
        "        line=file.readline()\n",
        "        print(type(line))\n",
        "        print(line.strip('\\n'))"
      ]
    },
    {
      "cell_type": "markdown",
      "metadata": {
        "id": "U7JjN0rr65WC"
      },
      "source": [
        "파일 내용을 한 줄씩 읽기\n",
        "\n",
        "- 변수 = 파일객체.readline()\n",
        "\n",
        "readline()으로 파일을 읽을 때는 while 반복문을 활용해야한다.\n",
        "\n",
        "왜냐하면 파일에 문자열이 몇 줄이나 있는지 모르기 때문이다."
      ]
    },
    {
      "cell_type": "code",
      "execution_count": 54,
      "metadata": {
        "id": "8qoLcrTO65TK"
      },
      "outputs": [
        {
          "name": "stdout",
          "output_type": "stream",
          "text": [
            "안녕하세요\n",
            "파이썬\n",
            "코딩 도장입니다.\n",
            "\n"
          ]
        }
      ],
      "source": [
        "with open('hello.txt','r') as file:\n",
        "  line=None\n",
        "  while line != '':\n",
        "    line = file.readline()\n",
        "    print(line.strip('\\n'))"
      ]
    },
    {
      "cell_type": "markdown",
      "metadata": {
        "id": "u08jBukm65QQ"
      },
      "source": [
        "for 반복문으로 파일의 내용을 줄 단위로 읽기\n"
      ]
    },
    {
      "cell_type": "code",
      "execution_count": 61,
      "metadata": {
        "id": "w_Mi3Sps65Nc"
      },
      "outputs": [
        {
          "name": "stdout",
          "output_type": "stream",
          "text": [
            "안녕하세요\n",
            "파이썬\n",
            "코딩 도장입니다.\n"
          ]
        }
      ],
      "source": [
        "with open('hello.txt','r') as file:\n",
        "  for line in file: # for에 파일 객체를 지정하면 파일의 내용을 한줄씩 읽어서 변수에 저장함\n",
        "                    # file = ['안녕하세요\\n','파이썬\\n','코딩 도장입니다.\\n']\n",
        "    print(line.strip('\\n')) # \\n 삭제"
      ]
    },
    {
      "cell_type": "markdown",
      "metadata": {
        "id": "RqH9R-HC65Ks"
      },
      "source": [
        "파이썬 객체를 파일에 저장하기, 가져오기\n",
        "\n",
        "- pickle 모듈: 파이썬 객체를 파일에 저장하는 모듈\n",
        "\n",
        "- 파이썬 객체를 파일에 저장하는 과정을 피클링\n",
        "\n",
        "- 파일에서 객체를 읽어오는 과정을 언피클링"
      ]
    },
    {
      "cell_type": "markdown",
      "metadata": {
        "id": "JVbNuHjp649c"
      },
      "source": [
        "파이썬 객체를 파일에 저장하기"
      ]
    },
    {
      "cell_type": "code",
      "execution_count": null,
      "metadata": {
        "id": "mdN_6DLL644s"
      },
      "outputs": [],
      "source": [
        "import pickle\n",
        "\n",
        "name='James'\n",
        "age=17\n",
        "address='서울시 서초구 반포동'\n",
        "scores={'korean':90,'english':95,'mathematics':85,'science':82}\n",
        "\n",
        "with open('james.p','wb') as file: # p -> pickle의 p이다. 'wb'는 바이너리 쓰기\n",
        "  pickle.dump(name,file) # 객체(값)를 저장할 때는 pickle.dump로 객체(값)을 조절할 때는 open('james.p','wb') 해야한다.\n",
        "  pickle.dump(age,file)\n",
        "  pickle.dump(address,file)\n",
        "  pickle.dump(scores,file)\n"
      ]
    },
    {
      "cell_type": "markdown",
      "metadata": {
        "id": "TCC5B12T64s5"
      },
      "source": [
        "파일에서 파이썬 객체읽기"
      ]
    },
    {
      "cell_type": "code",
      "execution_count": null,
      "metadata": {
        "id": "o5xTj4QsIcuX"
      },
      "outputs": [],
      "source": [
        "import pickle\n",
        "with open('/content/james.p','rb') as file:\n",
        "  name=pickle.load(file)\n",
        "  age=pickle.load(file)\n",
        "  address=pickle.load(file)\n",
        "  scores=pickle.load(file)\n",
        "  print(name)\n",
        "  print(age)"
      ]
    },
    {
      "cell_type": "code",
      "execution_count": null,
      "metadata": {
        "id": "-KqaXgLMIcrz"
      },
      "outputs": [],
      "source": []
    },
    {
      "cell_type": "code",
      "execution_count": null,
      "metadata": {
        "id": "M_D6t_4UIco3"
      },
      "outputs": [],
      "source": []
    },
    {
      "cell_type": "code",
      "execution_count": null,
      "metadata": {
        "id": "rJFwUz5mIcmq"
      },
      "outputs": [],
      "source": []
    },
    {
      "cell_type": "code",
      "execution_count": null,
      "metadata": {
        "id": "5qFuwmunIckQ"
      },
      "outputs": [],
      "source": []
    },
    {
      "cell_type": "code",
      "execution_count": null,
      "metadata": {
        "id": "DjnLIS3LIchw"
      },
      "outputs": [],
      "source": []
    },
    {
      "cell_type": "code",
      "execution_count": null,
      "metadata": {
        "id": "gLXhGaDTIa0B"
      },
      "outputs": [],
      "source": []
    }
  ],
  "metadata": {
    "colab": {
      "authorship_tag": "ABX9TyNy8m1i6ZmlmQBmlg4yKDsL",
      "include_colab_link": true,
      "private_outputs": true,
      "provenance": []
    },
    "kernelspec": {
      "display_name": "Python 3",
      "name": "python3"
    },
    "language_info": {
      "codemirror_mode": {
        "name": "ipython",
        "version": 3
      },
      "file_extension": ".py",
      "mimetype": "text/x-python",
      "name": "python",
      "nbconvert_exporter": "python",
      "pygments_lexer": "ipython3",
      "version": "3.9.13"
    }
  },
  "nbformat": 4,
  "nbformat_minor": 0
}
