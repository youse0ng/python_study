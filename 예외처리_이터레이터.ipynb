{
  "nbformat": 4,
  "nbformat_minor": 0,
  "metadata": {
    "colab": {
      "private_outputs": true,
      "provenance": [],
      "authorship_tag": "ABX9TyMlAcbgb0tLvfD6HKVR/WRk",
      "include_colab_link": true
    },
    "kernelspec": {
      "name": "python3",
      "display_name": "Python 3"
    },
    "language_info": {
      "name": "python"
    }
  },
  "cells": [
    {
      "cell_type": "markdown",
      "metadata": {
        "id": "view-in-github",
        "colab_type": "text"
      },
      "source": [
        "<a href=\"https://colab.research.google.com/github/youse0ng/python_study/blob/main/%EC%98%88%EC%99%B8%EC%B2%98%EB%A6%AC_%EC%9D%B4%ED%84%B0%EB%A0%88%EC%9D%B4%ED%84%B0.ipynb\" target=\"_parent\"><img src=\"https://colab.research.google.com/assets/colab-badge.svg\" alt=\"Open In Colab\"/></a>"
      ]
    },
    {
      "cell_type": "markdown",
      "source": [
        "# 예외 처리의 목적\n",
        "\n",
        "예외처리의 큰 목적은 예외가 발생하더라도 스크립트의 중단을 끊지 않고 계속해서 실행하고자 할 때 예외 처리를 한다."
      ],
      "metadata": {
        "id": "31VPpju3hTtF"
      }
    },
    {
      "cell_type": "code",
      "source": [
        "try:\n",
        "  '실행할 코드'\n",
        "except:\n",
        "  '예외가 발생했을 때 처리하는 코드'"
      ],
      "metadata": {
        "id": "EE5pDCIBiZiE"
      },
      "execution_count": null,
      "outputs": []
    },
    {
      "cell_type": "code",
      "source": [
        "try:\n",
        "  '실행코드'\n",
        "except 예외이름 as 변수:\n",
        "  '예외가 발생했을 때 처리하는 코드'"
      ],
      "metadata": {
        "id": "cVxK92OtmpAC"
      },
      "execution_count": null,
      "outputs": []
    },
    {
      "cell_type": "code",
      "source": [
        "y=[10,20,30]\n",
        "\n",
        "try:\n",
        "  i,x=map(int,input().split())\n",
        "  division=y[i]/x\n",
        "except IndexError as e:\n",
        "  print(\"범위를 벗어난 인덱스입니다. \",e)\n",
        "except ZeroDivisionError as e:\n",
        "  print(\"해당 값은 0으로 나눌 수 없습니다. \", e)"
      ],
      "metadata": {
        "id": "VnvLdTYzqDos"
      },
      "execution_count": null,
      "outputs": []
    },
    {
      "cell_type": "markdown",
      "source": [
        "모든 예외의 에러를 처리하고자 한다면, except에 Exception을 예외로 넣어주면 된다.\n"
      ],
      "metadata": {
        "id": "e-h9kK4sqwE9"
      }
    },
    {
      "cell_type": "markdown",
      "source": [
        "# else와 finally 개념\n",
        "\n",
        "* 예외가 발생하지 않았을 때의 코드는 else 에 넣어준다.\n",
        "* 예외와는 상관없이 항상 코드를 실행하려고 한다면 finally 뒤에 항상 실행할 코드를 넣어준다.\n"
      ],
      "metadata": {
        "id": "sMLvvGoAq8DE"
      }
    },
    {
      "cell_type": "code",
      "source": [
        "try:\n",
        "  '실행 코드, 즉 예외가 있을 수도 있을 코드를 실행'\n",
        "except:\n",
        "  '예외가 발생했을 때 처리 코드'\n",
        "else:\n",
        "  '예외가 발생하지 않았을 때 코드'\n",
        "finally:\n",
        "  '예외 발생 여부와는 상관없이 항상 실행할 코드'"
      ],
      "metadata": {
        "id": "UNi82S00rVfE"
      },
      "execution_count": null,
      "outputs": []
    },
    {
      "cell_type": "code",
      "source": [
        "try:\n",
        "  x = int(input('나눌 숫자를 입력: '))\n",
        "  y = 10 / x\n",
        "except ZeroDivisionError as e:\n",
        "  print('0으로 나눌 수 없습니다.',e)\n",
        "else:\n",
        "  print(y,end='')"
      ],
      "metadata": {
        "id": "uD2QFuHQrup4"
      },
      "execution_count": null,
      "outputs": []
    },
    {
      "cell_type": "code",
      "source": [
        "try:\n",
        "  x = int(input('나눌 숫자를 입력: '))\n",
        "  y = 10 / x\n",
        "except ZeroDivisionError as e:\n",
        "  print('0으로 나눌 수 없습니다.',e)\n",
        "else:\n",
        "  print(y,end='')\n",
        "finally:\n",
        "  print(\"입니다. 코드의 실행이 끝났습니다.\")"
      ],
      "metadata": {
        "id": "pwkXaQ1wsTd5"
      },
      "execution_count": null,
      "outputs": []
    },
    {
      "cell_type": "markdown",
      "source": [
        "# 예외 발생시키기\n",
        "\n",
        "* raise 예외('에러메시지')\n",
        "\n",
        "예외를 발생시킬 때 raise를 사용하여 예외를 지정한다."
      ],
      "metadata": {
        "id": "eqnJYPcGsvLW"
      }
    },
    {
      "cell_type": "code",
      "source": [
        "try:\n",
        "  x=int(input(\"3의 배수를 입력하시오.: \"))\n",
        "  if x % 3 != 0:\n",
        "    raise Exception(\"3의 배수가 아닙니다.\")\n",
        "  print(x)\n",
        "except Exception as e:\n",
        "  print(f\"{e} 예외가 발생했습니다.\")"
      ],
      "metadata": {
        "id": "LAylMUTTtAVk"
      },
      "execution_count": null,
      "outputs": []
    },
    {
      "cell_type": "markdown",
      "source": [
        "# assert로 예외 발생시키기\n",
        "\n",
        "* assert 조건식 (, 예외메시지)\n",
        "\n",
        "assert의 조건식이 거짓일 때, AssertionError를 발생시키고, assert의 조건식이 참이면 그냥 넘어간다."
      ],
      "metadata": {
        "id": "jOk82zgd31EG"
      }
    },
    {
      "cell_type": "code",
      "source": [
        "x = int(input(\"x값: \"))\n",
        "assert x <= 80, '80을 초과하는 수입니다.'\n",
        "print(x)"
      ],
      "metadata": {
        "id": "7pwrjDHS4N_d"
      },
      "execution_count": null,
      "outputs": []
    },
    {
      "cell_type": "markdown",
      "source": [
        "# 연습문제: 파일 예외 처리하기\n",
        "maria.txt 파일이 있으면 파일의 내용을 읽어서 출력하고, 파일이 없다면 '파일이 없습니다'를 출력\n",
        "\n",
        "파일이 없을 때 발생하는 예외는 FileNotFoundError이다."
      ],
      "metadata": {
        "id": "Tn8enTwivZhe"
      }
    },
    {
      "cell_type": "code",
      "source": [
        "with open('maria.txt','w') as f:\n",
        "  f.write(\"마리아 파일\")"
      ],
      "metadata": {
        "id": "lcaFGz4zv6Bj"
      },
      "execution_count": null,
      "outputs": []
    },
    {
      "cell_type": "code",
      "source": [
        "try:\n",
        "  file = open('maria.txt','r')\n",
        "except FileNotFoundError as e:\n",
        "  print(\"파일이 없습니다.\")\n",
        "else:\n",
        "  content=file.read()\n",
        "  file.close()\n",
        "  print(content)"
      ],
      "metadata": {
        "id": "rY5H1qhHv5n0"
      },
      "execution_count": null,
      "outputs": []
    },
    {
      "cell_type": "markdown",
      "source": [
        "# 이터레이터\n",
        "\n",
        "이터레이터는 값을 차례대로 꺼낼 수 있는 객체(object)입니다.\n",
        "\n",
        "반복자라고도 함.\n",
        "\n",
        "반복자를 만들기 이전에, iterable(반복 가능한 객체)에 대해 알아보자\n",
        "\n",
        "iterable(반복 가능한 객체)\n",
        "  * 문자열\n",
        "  * 리스트\n",
        "  * 딕셔너리\n",
        "  * 세트"
      ],
      "metadata": {
        "id": "wIo12q75xGwH"
      }
    },
    {
      "cell_type": "markdown",
      "source": [
        "객체가 반복 가능한 객체인지 알아보는 방법은 객체에 `__iter__` 메소드가 들어있는지 확인하면 된다.\n",
        "\n",
        "확인 방법은 dir(객체)로 파악한다."
      ],
      "metadata": {
        "id": "XbBZPXPcxy49"
      }
    },
    {
      "cell_type": "code",
      "source": [
        "dir(list)"
      ],
      "metadata": {
        "id": "t-xaoVEFyN-7"
      },
      "execution_count": null,
      "outputs": []
    },
    {
      "cell_type": "markdown",
      "source": [
        "# `__iter__`와 `__next__`"
      ],
      "metadata": {
        "id": "ft9QK2MRyRks"
      }
    },
    {
      "cell_type": "code",
      "source": [
        "it=[1,2,3].__iter__()\n",
        "it.__next__()"
      ],
      "metadata": {
        "id": "TEyoCoOcybKE"
      },
      "execution_count": null,
      "outputs": []
    },
    {
      "cell_type": "code",
      "source": [
        "it = {1,2,3}.__iter__()\n",
        "it.__next__()"
      ],
      "metadata": {
        "id": "s-oKP9B_y_sM"
      },
      "execution_count": null,
      "outputs": []
    },
    {
      "cell_type": "code",
      "source": [
        "it = 'hello_world'.__iter__()\n",
        "it.__next__()"
      ],
      "metadata": {
        "id": "QnklI8NkzFeW"
      },
      "execution_count": null,
      "outputs": []
    },
    {
      "cell_type": "code",
      "source": [
        "it = {'a':1,'b':2,'c':3}.__iter__()\n",
        "it.__next__()"
      ],
      "metadata": {
        "id": "GBvl-7yRzKnt"
      },
      "execution_count": null,
      "outputs": []
    },
    {
      "cell_type": "markdown",
      "source": [
        "# 중요한 점은 iterable과 iterator는 별개의 객체이므로 둘은 구분되어야 한다.\n",
        "\n",
        "반복 가능한 객체(iterable)는 요소를 한 번에 하나씩 가져올 수 있는 객체이고\n",
        "\n",
        "이터레이터(iterator)는 `__next__()` 메소드를 사용해서 차례대로 값을 꺼낼 수 있는 객체이다."
      ],
      "metadata": {
        "id": "uyLzBFmYzoeE"
      }
    },
    {
      "cell_type": "markdown",
      "source": [
        "# 이터레이터 만들기\n",
        "\n",
        "`__iter__`와 `__next__` 메소드를 구현해서 이터레이터를 만들어야한다.\n",
        "(range)처럼 동작하는 이터레이터를 만들자."
      ],
      "metadata": {
        "id": "sQiPsXWJ9EDl"
      }
    },
    {
      "cell_type": "code",
      "source": [
        "class 이터레이터이름:\n",
        "  def __init__(self):\n",
        "    pass\n",
        "  def __next__(self):\n",
        "    pass"
      ],
      "metadata": {
        "id": "N4fSQCZB9QA1"
      },
      "execution_count": null,
      "outputs": []
    },
    {
      "cell_type": "code",
      "source": [
        "class Counter:\n",
        "  def __init__(self,stop):\n",
        "    self.stop=stop\n",
        "    self.current=0\n",
        "\n",
        "  def __iter__(self):\n",
        "    return self\n",
        "\n",
        "  def __next__(self):\n",
        "    if self.current < self.stop:\n",
        "      r = self.current\n",
        "      self.current += 1\n",
        "      return r\n",
        "    else:\n",
        "      raise StopIteration\n",
        "\n",
        "for i in Counter(3):\n",
        "  print(i)"
      ],
      "metadata": {
        "id": "2MCjBnpu9P5t"
      },
      "execution_count": null,
      "outputs": []
    },
    {
      "cell_type": "markdown",
      "source": [
        "# 인덱스로 접근할 수 있는 이터레이터 (`__getitem__`)\n",
        "\n",
        "인덱스를 매개변수로 받음"
      ],
      "metadata": {
        "id": "6eFDh4omB8dU"
      }
    },
    {
      "cell_type": "code",
      "source": [
        "class Counter:\n",
        "  def __init__(self,stop):\n",
        "    self.stop=stop\n",
        "\n",
        "  def __getitem__(self,index): # 인덱스를 받음\n",
        "    if index < self.stop: # 인덱스가 반복을 끝낼 숫자보다 작을 때\n",
        "      return index # 인덱스를 반환\n",
        "    else: #인덱스가 반복을 끝낼 숫자보다 크거나 같을 때\n",
        "      raise IndexError # 인덱스 범위 밖은 예외 발생\n",
        "\n",
        "print(Counter(3)[0],Counter(3)[1],Counter(3)[2])"
      ],
      "metadata": {
        "id": "3yAoeUu3BhVV"
      },
      "execution_count": null,
      "outputs": []
    },
    {
      "cell_type": "markdown",
      "source": [
        "# 연습 문제: 배수 이터레이터 만들기\n",
        "\n",
        "특정 수의 배수를 만드는 이터레이터\n",
        "\n",
        "배수는 0부터 지정된 숫자보다 작을 때까지 만듦"
      ],
      "metadata": {
        "id": "SimRhjfIDYKc"
      }
    },
    {
      "cell_type": "code",
      "source": [
        "class MultipleIterator:\n",
        "  def __init__(self,stop,multiple):\n",
        "    self.stop = stop\n",
        "    self.multiple = multiple\n",
        "    self.current = 1\n",
        "\n",
        "  def __iter__(self):\n",
        "    return self\n",
        "\n",
        "  def __next__(self):\n",
        "    if self.current * self.multiple < self.stop: # if 조건문(self.current * self.multiple) < self.stop: -> 3 * 1  <  20: True\n",
        "      r = self.current * self.multiple\n",
        "      self.current += 1\n",
        "      return r\n",
        "    else:\n",
        "      raise StopIteration"
      ],
      "metadata": {
        "id": "N7TRZkkBDHdj"
      },
      "execution_count": null,
      "outputs": []
    },
    {
      "cell_type": "code",
      "source": [
        "for i in MultipleIterator(20,3):\n",
        "  print(i)"
      ],
      "metadata": {
        "id": "NEsMrOWGJYcA"
      },
      "execution_count": null,
      "outputs": []
    },
    {
      "cell_type": "code",
      "source": [
        "for j in MultipleIterator(30,5):\n",
        "  print(j)"
      ],
      "metadata": {
        "id": "uSYkG5beJeym"
      },
      "execution_count": null,
      "outputs": []
    },
    {
      "cell_type": "code",
      "source": [
        "for k in MultipleIterator(35,4):\n",
        "  print(k)"
      ],
      "metadata": {
        "id": "wWIh_x3TJ9O2"
      },
      "execution_count": null,
      "outputs": []
    },
    {
      "cell_type": "markdown",
      "source": [
        "# 심사문제: 시간 이터레이터 만들기\n",
        "\n",
        "표준 입력으로 정수 세 개가 입력된다.\n",
        "\n",
        "(첫 번째 정수는 시작하는 초, 두 번째 정수는 반복을 끝낼 초, 세 번째 정수는 인덱스이며 입력되는 초의 범위는 [0,100000], 입력되는 인덱스의 범위 [0,10])"
      ],
      "metadata": {
        "id": "0LEpM_PPKJAD"
      }
    },
    {
      "cell_type": "code",
      "source": [
        "class TimeIterator:\n",
        "  def __init__(self,start,stop):\n",
        "    self.start=start\n",
        "    self.stop=stop\n",
        "\n",
        "  def __getitem__(self,index):\n",
        "    if index < self.stop - self.start: # 인덱스가 범위 내에 있을 때 (0 4)\n",
        "      second = (self.start + index) % 60 # 입력할 때 0 4 1 중 1이 index로 들어오는 것이 아니다. selp.stop - self.start의 범위가 index로 들어오는것같다.\n",
        "      minute = (self.start + index) // 60 % 60\n",
        "      hour = (self.start + index) // 60 // 60 % 24\n",
        "      return '{0:02d}:{1:02d}:{2:02d}'.format(hour,minute,second)\n",
        "    else:\n",
        "      raise IndexError\n",
        "start, stop, index = map(int,input().split())\n",
        "\n",
        "for i in TimeIterator(start,stop):\n",
        "  print(i)\n",
        "\n",
        "print('\\n',TimeIterator(start,stop)[index],sep='')"
      ],
      "metadata": {
        "id": "6XI5vRREKknL"
      },
      "execution_count": null,
      "outputs": []
    },
    {
      "cell_type": "code",
      "source": [
        "(88234//60) % 60"
      ],
      "metadata": {
        "id": "fNPNbWKOM1X5"
      },
      "execution_count": null,
      "outputs": []
    }
  ]
}