{
  "nbformat": 4,
  "nbformat_minor": 0,
  "metadata": {
    "colab": {
      "private_outputs": true,
      "provenance": [],
      "toc_visible": true,
      "authorship_tag": "ABX9TyO8WjxSwz/jrU6NmbpBLDkh",
      "include_colab_link": true
    },
    "kernelspec": {
      "name": "python3",
      "display_name": "Python 3"
    },
    "language_info": {
      "name": "python"
    }
  },
  "cells": [
    {
      "cell_type": "markdown",
      "metadata": {
        "id": "view-in-github",
        "colab_type": "text"
      },
      "source": [
        "<a href=\"https://colab.research.google.com/github/youse0ng/python_study/blob/main/%EC%B6%9C%EB%A0%A5_%EB%B6%88%EA%B3%BC_%EB%B9%84%EA%B5%90_%EB%85%BC%EB%A6%AC%EC%97%B0%EC%82%B0%EC%9E%90_%EB%AC%B8%EC%9E%90%EC%97%B4%EC%82%AC%EC%9A%A9_%EB%AC%B8%EC%A0%9C%ED%92%80%EA%B8%B0.ipynb\" target=\"_parent\"><img src=\"https://colab.research.google.com/assets/colab-badge.svg\" alt=\"Open In Colab\"/></a>"
      ]
    },
    {
      "cell_type": "markdown",
      "source": [
        "Hello\n",
        "\n",
        "Python\n",
        "\n",
        "처럼 출력하는 방법 중 print(\"Hello\",\"Python\",end='\\n')이 틀린이유\n",
        "\n",
        "end='\\n'은 그 다음에 출력할 코드에 영향을 주는 것이지 해당 코드에는 영향을 주지않는다.\n",
        "그래서 출력이 Hello Python과 같이 나온다"
      ],
      "metadata": {
        "id": "-PQhYQyCB5Wu"
      }
    },
    {
      "cell_type": "markdown",
      "source": [
        "# 출력 (연습문제와 심사 문제)"
      ],
      "metadata": {
        "id": "KmasKt1DDQYi"
      }
    },
    {
      "cell_type": "markdown",
      "source": [
        "## 날짜와 시간 출력하기\n",
        "\n",
        "2000/10/27 11:43:59 ㅣ 출력되게 만들기"
      ],
      "metadata": {
        "id": "XZIwoMO0DXZD"
      }
    },
    {
      "cell_type": "code",
      "source": [
        "year=2000\n",
        "month=10\n",
        "day=27\n",
        "hour=11\n",
        "minute=43\n",
        "second=59\n",
        "\n",
        "print(year,month,day,sep='/',end=' ')\n",
        "print(hour,minute,second,sep=':')"
      ],
      "metadata": {
        "id": "pG_PgJWeDZ-B"
      },
      "execution_count": null,
      "outputs": []
    },
    {
      "cell_type": "markdown",
      "source": [
        "## 심사문제: 날짜와 시간 출력하기\n",
        "\n",
        "표준 입력으로 년,월,일,시,분,초 가 입력된다.\n",
        "\n",
        "입력된 날짜와 시간을 년-월-일T시:분:초 형식으로 출력되게 만들어라"
      ],
      "metadata": {
        "id": "OIwpnVtoD04t"
      }
    },
    {
      "cell_type": "markdown",
      "source": [
        "ex) 표준입력: 1999 12 31 10 37 21\n",
        "\n",
        "표준 출력: 1999-12-31T10:37:21"
      ],
      "metadata": {
        "id": "sPQ6UlKDD4wl"
      }
    },
    {
      "cell_type": "code",
      "source": [
        "year,month,day,hour,minute,second=input().split()\n",
        "print(year,month,day,sep='-',end='T')\n",
        "print(hour,minute,second,sep=':')"
      ],
      "metadata": {
        "id": "L0pVVSo2EPoF"
      },
      "execution_count": null,
      "outputs": []
    },
    {
      "cell_type": "markdown",
      "source": [
        "# 불과 비교, 논리연산자 (연습문제와 심사문제)"
      ],
      "metadata": {
        "id": "A5pLEjayFOre"
      }
    },
    {
      "cell_type": "markdown",
      "source": [
        "비교 연산자(>,<,>=,<=,==,!=)는 두 값의 관계를 판단하는 것이고\n",
        "\n",
        "논리 연산자(and, or ,not)는 두 값의 논리값을 판단하는 것이다.\n",
        "\n",
        "이때, 논리값은 True, False이다."
      ],
      "metadata": {
        "id": "rKmOVa1zFUtM"
      }
    },
    {
      "cell_type": "code",
      "source": [
        "2*3 is 3+3\n",
        "\n",
        "# 둘이 6이라는 int 형을 참조해서 True이다"
      ],
      "metadata": {
        "id": "QelvgF9CGyXe"
      },
      "execution_count": null,
      "outputs": []
    },
    {
      "cell_type": "markdown",
      "source": [
        "## 연습문제: 합격 여부 출력하기\n",
        "\n",
        "국어, 영어, 수학, 과학 점수가 있을 때 한 과목이라도 50점 미만이면 불합격이라고 정했습니다.\n",
        "\n",
        "합격아면 True, 불합격이면 False 출력되게 만드시오."
      ],
      "metadata": {
        "id": "FhyYGZmwH9nM"
      }
    },
    {
      "cell_type": "code",
      "source": [
        "korean=92\n",
        "english=47\n",
        "mathematics=86\n",
        "science=81\n",
        "\n",
        "print(korean >=50 and english >=50 and mathematics>=50 and science >= 50)"
      ],
      "metadata": {
        "id": "XHl29cUHIuWd"
      },
      "execution_count": null,
      "outputs": []
    },
    {
      "cell_type": "markdown",
      "source": [
        "## 심사문제: 합격 여부 출력하기\n",
        "\n",
        "표준 입력으로 국어, 영어, 수학, 과학 점수가 입력된다.\n",
        "\n",
        "국어 90점 이상, 영어는 80점 초과, 수학은 85점 초과, 과학은 80점 이상일 때 합격이라고 정했다.\n",
        "\n",
        "합격이면 True, 불합격이면 False가 출력"
      ],
      "metadata": {
        "id": "YkYhfzIQJVhE"
      }
    },
    {
      "cell_type": "code",
      "source": [
        "korean,english,mathematics,science=map(int, input().split())\n",
        "\n",
        "print(korean>=90 and english >80 and mathematics>85 and science >= 80)"
      ],
      "metadata": {
        "id": "FQtTSXjAJn_c"
      },
      "execution_count": null,
      "outputs": []
    },
    {
      "cell_type": "markdown",
      "source": [
        "# 문자열 사용 (연습문제와 심사문제)"
      ],
      "metadata": {
        "id": "fPIftJUeK5z0"
      }
    },
    {
      "cell_type": "markdown",
      "source": [
        "## 연습문제: 여러 줄로 된 문자열 사용하기"
      ],
      "metadata": {
        "id": "7_QpOqAsMNrU"
      }
    },
    {
      "cell_type": "code",
      "source": [
        "s=\"\"\" Python is a programming language that lets you work quickly\n",
        "and\n",
        "integrate systems more effectively.\n",
        "\"\"\"\n",
        "print(s)"
      ],
      "metadata": {
        "id": "tdmuPQVbMSQb"
      },
      "execution_count": null,
      "outputs": []
    },
    {
      "cell_type": "markdown",
      "source": [
        "## 심사문제: 여러 줄로 된 문자열 사용하기"
      ],
      "metadata": {
        "id": "y1qzQAgwMsvv"
      }
    },
    {
      "cell_type": "code",
      "source": [
        "s=\"\"\"'Python' is a \\\"programming language\\\"\n",
        "that lets you work quickly\n",
        "and\n",
        "integrate systems more effectively\n",
        "\"\"\"\n",
        "print(s)"
      ],
      "metadata": {
        "id": "E0EYaF10MwfM"
      },
      "execution_count": null,
      "outputs": []
    }
  ]
}