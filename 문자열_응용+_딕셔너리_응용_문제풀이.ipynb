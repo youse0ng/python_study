{
  "nbformat": 4,
  "nbformat_minor": 0,
  "metadata": {
    "colab": {
      "private_outputs": true,
      "provenance": [],
      "authorship_tag": "ABX9TyM0Q+vPSGjHFc2g+P1uyYj4",
      "include_colab_link": true
    },
    "kernelspec": {
      "name": "python3",
      "display_name": "Python 3"
    },
    "language_info": {
      "name": "python"
    }
  },
  "cells": [
    {
      "cell_type": "markdown",
      "metadata": {
        "id": "view-in-github",
        "colab_type": "text"
      },
      "source": [
        "<a href=\"https://colab.research.google.com/github/youse0ng/python_study/blob/main/%EB%AC%B8%EC%9E%90%EC%97%B4_%EC%9D%91%EC%9A%A9%2B_%EB%94%95%EC%85%94%EB%84%88%EB%A6%AC_%EC%9D%91%EC%9A%A9_%EB%AC%B8%EC%A0%9C%ED%92%80%EC%9D%B4.ipynb\" target=\"_parent\"><img src=\"https://colab.research.google.com/assets/colab-badge.svg\" alt=\"Open In Colab\"/></a>"
      ]
    },
    {
      "cell_type": "markdown",
      "source": [
        "서식 지정자\n",
        "\n",
        "* %s: 문자열\n",
        "  문자열 안에 %s를 넣고 그 뒤에 %를 붙인 뒤 'james'를 지정해주면 %s 부분이 'james'로 바뀐다.\n",
        "\n",
        "* %d: 숫자\n",
        "\n",
        "* %f: 서식 지정자로 소수점 표현하기\n",
        "  fixed point, 소수점 이하 자릿수를 지정하고 싶다면 f 앞에 .(점)과 자릿수를 지정\n",
        "\n",
        "서식 지정자로 문자열 안에 값 여러개 넣기\n",
        "* '%d %s' %(숫자,문자열):값을 괄호로 묶어야지 에러가 나지않음\n"
      ],
      "metadata": {
        "id": "F_UAewOH7ege"
      }
    },
    {
      "cell_type": "code",
      "source": [
        "'I am %s' % 'james'\n"
      ],
      "metadata": {
        "id": "AvEjTfn78z6f"
      },
      "execution_count": null,
      "outputs": []
    },
    {
      "cell_type": "code",
      "source": [
        "'해당 번호의 주인은 %s 입니다.' %'Ryu'"
      ],
      "metadata": {
        "id": "tT0a8GQs9TBO"
      },
      "execution_count": null,
      "outputs": []
    },
    {
      "cell_type": "code",
      "source": [
        "name='Ryeong'\n",
        "\n",
        "'그녀의 이름은 %s' %name"
      ],
      "metadata": {
        "id": "P5oAouwA9fWW"
      },
      "execution_count": null,
      "outputs": []
    },
    {
      "cell_type": "code",
      "source": [
        "'그녀의 이름은 chae, 나이는 %d 입니다.' %20"
      ],
      "metadata": {
        "id": "l5IK24kU9pCd"
      },
      "execution_count": null,
      "outputs": []
    },
    {
      "cell_type": "code",
      "source": [
        "'I am %d years old' %20"
      ],
      "metadata": {
        "id": "BET1H7e2-KNO"
      },
      "execution_count": null,
      "outputs": []
    },
    {
      "cell_type": "code",
      "source": [
        "'%f' % 2.23"
      ],
      "metadata": {
        "id": "B3cP9Fo_-Zgu"
      },
      "execution_count": null,
      "outputs": []
    },
    {
      "cell_type": "code",
      "source": [
        "'%.2f' % 2.23421"
      ],
      "metadata": {
        "id": "6gdpQ9ta-xo2"
      },
      "execution_count": null,
      "outputs": []
    },
    {
      "cell_type": "code",
      "source": [
        "\"나의 이름은 %s , 나이는 %d 입니다.\" %('유성',25)"
      ],
      "metadata": {
        "id": "5B9A2w8a-3T9"
      },
      "execution_count": null,
      "outputs": []
    },
    {
      "cell_type": "markdown",
      "source": [
        "# 연습문제: 파일 경로에서 파일명만 가져오기"
      ],
      "metadata": {
        "id": "M3dpoF3x_3e1"
      }
    },
    {
      "cell_type": "code",
      "source": [
        "path = 'C:\\\\Users\\\\dojang\\\\AppData\\\\Local\\\\Programs\\\\Python\\\\Python36-32\\\\python.exe'\n",
        "filename=path.split('\\\\')\n",
        "print(filename[-1])"
      ],
      "metadata": {
        "id": "tD1esOxlBU1e"
      },
      "execution_count": null,
      "outputs": []
    },
    {
      "cell_type": "markdown",
      "source": [
        "# 심사문제: 특정 단어 개수 세기\n",
        "\n",
        "'the'의 개수를 출력하는 프로그램,\n",
        "\n",
        "단, 모든 문자가 소문자로 만들고, 'the'를 찾으면 되며, 'them','their','there'등은 포함하지 않아야한다."
      ],
      "metadata": {
        "id": "iD5XxcA7C25N"
      }
    },
    {
      "cell_type": "code",
      "source": [
        "import string\n",
        "x=input().lower()\n",
        "x=x.split()\n",
        "count=0\n",
        "for i in x:\n",
        "  if 'the' == i.strip(string.punctuation):\n",
        "    count+=1\n",
        "print(count)"
      ],
      "metadata": {
        "id": "Eo8I_G1ZDGCF"
      },
      "execution_count": null,
      "outputs": []
    },
    {
      "cell_type": "markdown",
      "source": [
        "# 심사문제: 높은 가격순으로 출력하기\n",
        "\n",
        "물품 가격 여러 개가 문자열 한 줄로 입력되고, 각 가격은 ;(세미콜론)으로 구분되어있다.\n",
        "\n",
        "입력된 가격을 가격순으로 출력하는 프로그램을 만들어라"
      ],
      "metadata": {
        "id": "aAzpz6oSGOql"
      }
    },
    {
      "cell_type": "code",
      "source": [
        "price=list(map(int,input().split(';')))\n",
        "price.sort(reverse=True)\n",
        "for i in price:\n",
        "  print(format(i,','))"
      ],
      "metadata": {
        "id": "sGHYF_RRGnJ1"
      },
      "execution_count": null,
      "outputs": []
    },
    {
      "cell_type": "markdown",
      "source": [
        "# 딕셔너리 개념 다시 읽고 정리"
      ],
      "metadata": {
        "id": "lI_p2__oJ4N-"
      }
    },
    {
      "cell_type": "markdown",
      "source": [
        "* setdefault: 키-값 쌍 추가\n",
        "  \n",
        "  setdefault(키),\n",
        "  \n",
        "  setdefault(키,값)\n",
        "\n",
        "* update: 키의 값 수정, 키가 없으면 키-값 쌍 추가\n",
        "  \n",
        "  update(키=값)\n",
        "  \n",
        "  update(딕셔너리:{'키':값})\n",
        "  \n",
        "  update(리스트:[[키,값],[키,값]]) # 무조건 2차원\n",
        "\n",
        "  update(반복가능한객체):\n",
        "  * update(zip([키1,키2],[값1,값2])\n",
        "  "
      ],
      "metadata": {
        "id": "-U9RidKaNHkb"
      }
    },
    {
      "cell_type": "code",
      "source": [
        "x={'a':10,'b':20,'c':30,'d':40}\n",
        "x.setdefault('e')\n",
        "x"
      ],
      "metadata": {
        "id": "9FpvjSNxNVr0"
      },
      "execution_count": null,
      "outputs": []
    },
    {
      "cell_type": "code",
      "source": [
        "x={'a':10,'b':20,'c':30,'d':40}\n",
        "x.setdefault('e',100)\n",
        "x"
      ],
      "metadata": {
        "id": "d87IVinpNexr"
      },
      "execution_count": null,
      "outputs": []
    },
    {
      "cell_type": "code",
      "source": [
        "x={'a':10,'b':20,'c':30,'d':40}\n",
        "x.update(d=1)\n",
        "x"
      ],
      "metadata": {
        "id": "ov2VUMNAOAQD"
      },
      "execution_count": null,
      "outputs": []
    },
    {
      "cell_type": "code",
      "source": [
        "x.update(e=200)\n",
        "x"
      ],
      "metadata": {
        "id": "MtpjtFYQOfw8"
      },
      "execution_count": null,
      "outputs": []
    },
    {
      "cell_type": "code",
      "source": [
        "x.update(f=200,q=100)\n",
        "x"
      ],
      "metadata": {
        "id": "PlbCIHpGO7H7"
      },
      "execution_count": null,
      "outputs": []
    },
    {
      "cell_type": "code",
      "source": [
        "x.update({1:'One',2:'Two'})\n",
        "x"
      ],
      "metadata": {
        "id": "kw5PMEFMO7ET"
      },
      "execution_count": null,
      "outputs": []
    },
    {
      "cell_type": "code",
      "source": [
        "x.update({'a':1})\n",
        "x"
      ],
      "metadata": {
        "id": "wruczYzZPLfc"
      },
      "execution_count": null,
      "outputs": []
    },
    {
      "cell_type": "code",
      "source": [
        "x.update([['제트','800만원']])\n",
        "x"
      ],
      "metadata": {
        "id": "AmcbgW4dPspr"
      },
      "execution_count": null,
      "outputs": []
    },
    {
      "cell_type": "markdown",
      "source": [
        "딕셔너리 표현식\n",
        "\n",
        "* {키:값 for 키,값 in 딕셔너리}"
      ],
      "metadata": {
        "id": "DJZVFYGhQFnl"
      }
    },
    {
      "cell_type": "code",
      "source": [
        "keys=['a','b','c','d']\n",
        "lists=['One','Two','Three','Four']\n",
        "x={key:value for key,value in dict.fromkeys(keys).items()}\n",
        "y={idx+1:value for idx, value in enumerate(lists)}\n",
        "x,y"
      ],
      "metadata": {
        "id": "yZN0n9aBRD2T"
      },
      "execution_count": null,
      "outputs": []
    },
    {
      "cell_type": "markdown",
      "source": [
        "딕셔너리는 특징 키를 삭제하는 pop 메서드만 제공할 뿐 특정 값을 삭제하는 메소드는 없다.\n",
        "\n",
        "for 반복문으로 특정 값을 삭제한다고 하면 for문 도중 크기가 바뀌며 에러가 난다.\n",
        "\n",
        "그래서 딕셔너리 표현식으로 우리는 특정 값을 삭제해야한다.\n",
        "\n",
        "* {키:값 for 키,값 in 딕셔너리 if 조건식}\n"
      ],
      "metadata": {
        "id": "Mt08bY5_SSLL"
      }
    },
    {
      "cell_type": "code",
      "source": [
        "x={'a':10,'b':20,'c':30,'d':40}\n",
        "x={key:value for key,value in x.items() if value != 20}\n",
        "x"
      ],
      "metadata": {
        "id": "FsEd8SlpSl2D"
      },
      "execution_count": null,
      "outputs": []
    },
    {
      "cell_type": "code",
      "source": [
        "x={'a':10,'b':20,'c':30,'d':40}\n",
        "x={key:value for key,value in x.items() if key!='a'}\n",
        "x['b']"
      ],
      "metadata": {
        "id": "i5qLpAGcTGNc"
      },
      "execution_count": null,
      "outputs": []
    },
    {
      "cell_type": "code",
      "source": [
        "for key in x: # 키값만 출력\n",
        "  print(key)"
      ],
      "metadata": {
        "id": "i9SARhQ1U4cq"
      },
      "execution_count": null,
      "outputs": []
    },
    {
      "cell_type": "markdown",
      "source": [
        "# 연습문제: 평균 점수 구하기"
      ],
      "metadata": {
        "id": "4q7bIt0FVCPT"
      }
    },
    {
      "cell_type": "code",
      "source": [
        "maria = {'korean':94, 'english':91, 'mathematic':89, 'science':83}\n",
        "average=sum(maria.values())/len(maria)\n",
        "print(average)"
      ],
      "metadata": {
        "id": "fRpRN0QcVJoC"
      },
      "execution_count": null,
      "outputs": []
    },
    {
      "cell_type": "markdown",
      "source": [
        "# 심사문제: 딕셔너리에서 특정 값 삭제하기\n",
        "\n",
        "첫 줄은 키, 두 번째 줄은 값으로 하여 딕셔너리를 생성\n",
        "\n",
        "키가 'delta'인 키-값 쌍과 값이 30인 카-값 쌍을 삭제하도록 만들어라"
      ],
      "metadata": {
        "id": "0DaFo2ISWGXD"
      }
    },
    {
      "cell_type": "code",
      "source": [
        "keys=input().split()\n",
        "values=list(map(int,input().split()))\n",
        "x=dict(zip(keys,values))\n",
        "print(x)"
      ],
      "metadata": {
        "id": "FimAOhE_WdOi"
      },
      "execution_count": null,
      "outputs": []
    },
    {
      "cell_type": "code",
      "source": [
        "x={key:value for key,value in x.items() if key != 'delta' and value!=30}\n",
        "x"
      ],
      "metadata": {
        "id": "anUj1m2wXJTb"
      },
      "execution_count": null,
      "outputs": []
    },
    {
      "cell_type": "markdown",
      "source": [
        "처음엔 or 로 했었다 그이유는\n",
        "\n",
        "delta를 키로 가진 것도 삭제 또는 30을 값으로 가진 것을 삭제해야하니까 or로 생각했는데, 생각대로 작동하지 않았다.\n",
        "and로 바꾸니까 원하는 대로 되었는데, 그 이유는 뭘까..\n"
      ],
      "metadata": {
        "id": "dn6JL4wBZNDr"
      }
    },
    {
      "cell_type": "markdown",
      "source": [
        "delta를 가진 키를 삭제 (그리고) 30을 값으로 가진 값 삭제\n",
        "\n",
        "delta를 가진 키를 삭제 (또는) 30을 값으로 가진 값 삭제\n",
        "\n",
        "* and 일때\n",
        "\n",
        "alpha,10 | True and True -> True\n",
        "\n",
        "bravo,20 | True and True -> True\n",
        "\n",
        "charlie,30 | True and False -> False\n",
        "\n",
        "delta,40 | False and True -> False\n",
        "\n",
        "* or 일때,\n",
        "\n",
        "alpha,10 | True or True -> True\n",
        "\n",
        "bravo,20 | True or True -> True\n",
        "\n",
        "charlie,30 | True or False -> True\n",
        "\n",
        "delta,40 | False or True -> True\n",
        "\n",
        "다 통과된다.\n",
        "\n",
        "and로 해야되는 걸 알았다...\n",
        "\n",
        "\n"
      ],
      "metadata": {
        "id": "682Z_WzaZlWa"
      }
    },
    {
      "cell_type": "code",
      "source": [],
      "metadata": {
        "id": "hXeix_-nbD8C"
      },
      "execution_count": null,
      "outputs": []
    }
  ]
}