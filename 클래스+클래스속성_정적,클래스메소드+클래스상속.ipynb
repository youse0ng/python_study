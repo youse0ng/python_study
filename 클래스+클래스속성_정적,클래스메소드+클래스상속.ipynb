{
  "nbformat": 4,
  "nbformat_minor": 0,
  "metadata": {
    "colab": {
      "private_outputs": true,
      "provenance": [],
      "authorship_tag": "ABX9TyNJxzGJcuXlby6gYvpVPdL0",
      "include_colab_link": true
    },
    "kernelspec": {
      "name": "python3",
      "display_name": "Python 3"
    },
    "language_info": {
      "name": "python"
    }
  },
  "cells": [
    {
      "cell_type": "markdown",
      "metadata": {
        "id": "view-in-github",
        "colab_type": "text"
      },
      "source": [
        "<a href=\"https://colab.research.google.com/github/youse0ng/python_study/blob/main/%ED%81%B4%EB%9E%98%EC%8A%A4%2B%ED%81%B4%EB%9E%98%EC%8A%A4%EC%86%8D%EC%84%B1_%EC%A0%95%EC%A0%81%2C%ED%81%B4%EB%9E%98%EC%8A%A4%EB%A9%94%EC%86%8C%EB%93%9C%2B%ED%81%B4%EB%9E%98%EC%8A%A4%EC%83%81%EC%86%8D.ipynb\" target=\"_parent\"><img src=\"https://colab.research.google.com/assets/colab-badge.svg\" alt=\"Open In Colab\"/></a>"
      ]
    },
    {
      "cell_type": "markdown",
      "source": [
        "# 연습문제: 게임 캐릭터 클래스 만들기\n",
        "\n",
        "클래스로 게임 캐릭터의 능력치와 베기가 출력되게 만들어라"
      ],
      "metadata": {
        "id": "Qmsx6tkYIHgH"
      }
    },
    {
      "cell_type": "code",
      "source": [
        "class Knight:\n",
        "  def __init__(self,health,mana,armor):\n",
        "    self.health=health\n",
        "    self.mana=mana\n",
        "    self.armor=armor\n",
        "\n",
        "  def slash(self):\n",
        "    print('베기!')\n",
        "\n",
        "class Knight1:\n",
        "  def __init__(self,*kwargs):\n",
        "    self.health=kwargs['health']\n",
        "    self.mana=kwargs['mana']\n",
        "    self.armor=kwargs['armor']\n",
        "\n",
        "  def slash(self):\n",
        "    print('베기!')"
      ],
      "metadata": {
        "id": "JwoeeUlkM5AC"
      },
      "execution_count": null,
      "outputs": []
    },
    {
      "cell_type": "code",
      "source": [
        "dodo=Knight(health=501,mana=310,armor=89)\n",
        "dodo.health\n",
        "dodo.slash()"
      ],
      "metadata": {
        "id": "wKkNTlwUNmSJ"
      },
      "execution_count": null,
      "outputs": []
    },
    {
      "cell_type": "markdown",
      "source": [
        "# 심사 문제: 게임 캐릭터 클래스 만들기\n",
        "\n",
        "표준 입력: 게임 캐릭터 능력치(체력,마나,AP)가 주어짐\n",
        "\n",
        "Annie 클래스를 작성하여 tibbers 스킬의 피해량이 출력되게하라\n",
        "\n",
        "티버의 피해량: AP * 0.65 + 400"
      ],
      "metadata": {
        "id": "EJ674izwN9hr"
      }
    },
    {
      "cell_type": "code",
      "source": [
        "class Annie:\n",
        "  def __init__(self,health,mana,AP):\n",
        "    self.health=health\n",
        "    self.mana=mana\n",
        "    self.AP=AP\n",
        "\n",
        "  def tibbers(self):\n",
        "    print(f'피해량: {self.AP * 0.65 + 400}')\n",
        "health,mana,AP=map(float,input().split())\n",
        "x = Annie(health=health,mana=mana,AP=AP)\n",
        "x.tibbers()"
      ],
      "metadata": {
        "id": "aaToxH1xOOWr"
      },
      "execution_count": null,
      "outputs": []
    },
    {
      "cell_type": "markdown",
      "source": [
        "# 클래스 속성 특징\n",
        "* 클래스 속성: 모든 인스턴스가 공유, 인스턴스 전체가 사용해야 하는 값을 저장할 때 사용\n",
        "* 인스턴스 속성: 인스턴스별로 독립, 각 인스턴스가 값을 따로 저장해야할 때\n"
      ],
      "metadata": {
        "id": "mc691WbJQbVa"
      }
    },
    {
      "cell_type": "code",
      "source": [
        "class Bag:\n",
        "  bag=[]\n",
        "\n",
        "  def put_item(self, item):\n",
        "    Bag.bag.append(item)\n",
        "\n",
        "maria=Bag()\n",
        "james=Bag()\n",
        "\n",
        "maria.put_item('Wallet')\n",
        "james.put_item(\"Pencils\")\n",
        "\n",
        "print(maria.bag)\n",
        "print(james.bag)"
      ],
      "metadata": {
        "id": "Jtp_l_8KQto5"
      },
      "execution_count": null,
      "outputs": []
    },
    {
      "cell_type": "markdown",
      "source": [
        "# 정적 메소드\n",
        "인스턴스를 통하지 않고 클래스에서 바로 호출할 수 있는 정적 메소드와 클래스 메소드\n",
        "\n",
        "* @staticmethod를 메소드 위에 붙임 (이때, 메소드의 매개변수에 self를 지정하지 않는다.)"
      ],
      "metadata": {
        "id": "9FdBQrBaSWXK"
      }
    },
    {
      "cell_type": "markdown",
      "source": [
        "인스턴스에 클래스를 할당하지 않아도, 클래스에서 바로 메소드를 호출하면 된다."
      ],
      "metadata": {
        "id": "FEXdQkQ9TrBB"
      }
    },
    {
      "cell_type": "code",
      "source": [
        "class Calc:\n",
        "  @staticmethod\n",
        "  def add(a,b):\n",
        "    print(a+b)\n",
        "  @staticmethod\n",
        "  def mul(a,b):\n",
        "    print(a*b)\n",
        "\n",
        "Calc.add(10,20)\n",
        "Calc.mul(10,20)"
      ],
      "metadata": {
        "id": "EmDjZwuVS8aJ"
      },
      "execution_count": null,
      "outputs": []
    },
    {
      "cell_type": "markdown",
      "source": [
        "# 클래스 메소드\n",
        "\n",
        "* @classmethod 메소드 위에 붙인다. (이때, 메소드의 첫번째 매개 변수에 cls를 지정해야한다.)\n"
      ],
      "metadata": {
        "id": "gWczPGRxT25l"
      }
    },
    {
      "cell_type": "code",
      "source": [
        "class Person:\n",
        "  count=0 # 클래스 속성\n",
        "  def __init__(self): # 클래스를 할당할 때, 호출되는 메소드 __init__\n",
        "    Person.count+=1 # 인스턴스가 만들어질 때, 클래스 속성 count에 1을 더함\n",
        "\n",
        "  @classmethod\n",
        "  def print_count(cls,name): # 클래스 바깥에서 인스턴스 호출없이 Person.print_count('이름')으로 클래스 메소드를 접근할 수 있다\n",
        "    print('{0}명 생성되었습니다.'.format(cls.count)) # 클래스 속성을 cls.count로 접근\n",
        "    print(f'클래스 명: {cls}') # Person\n",
        "    print(f'당신의 이름은 {name}')\n",
        "\n",
        "  @classmethod\n",
        "  def create(cls):\n",
        "    p = cls()\n",
        "    return p\n",
        "\n",
        "james=Person()\n",
        "maria=Person()\n",
        "\n",
        "Person.print_count('황유성')\n",
        "print(maria.count) # 인스턴스 속성인 count는 클래스 속성이므로 공유하고 있는 모습을 보인다.\n",
        "print(james.count)"
      ],
      "metadata": {
        "id": "GZ3RPzgRUqp3"
      },
      "execution_count": null,
      "outputs": []
    },
    {
      "cell_type": "markdown",
      "source": [
        "# 연습문제: 날짜 클래스 만들기\n",
        "\n",
        "Date 클래스를 완성하시오. is_data_valid 메소드는 문자열이 올바른 날짜인지 검사한다.\n",
        "날짜에서 월은 12월까지 일은 31일까지 있어야한다."
      ],
      "metadata": {
        "id": "4nZ0tYzdYwSB"
      }
    },
    {
      "cell_type": "code",
      "source": [
        "class Date:\n",
        "\n",
        "  @staticmethod\n",
        "  def is_data_valid(date:str) -> bool:\n",
        "    date_list=date.split('-')\n",
        "    if 1<=int(date_list[1])<=12 and 1<=int(date_list[2])<=31:\n",
        "      return True\n",
        "    else:\n",
        "      return False\n",
        "\n",
        "if Date.is_data_valid('2000-1-31'):\n",
        "  print('올바른 날짜 형식입니다.')\n",
        "else:\n",
        "  print('잘못된 날짜 형식입니다.')"
      ],
      "metadata": {
        "id": "-qsa05G1ZAoP"
      },
      "execution_count": null,
      "outputs": []
    },
    {
      "cell_type": "markdown",
      "source": [
        "# 심사 문제: 시간 클래스 만들기\n",
        "\n",
        "표준 입력으로 시:분:초 형식의 시간이 입력\n",
        "\n",
        "TIme 클래스를 완성하여 시,분,초가 출력되게 만들어라.\n",
        "\n",
        "from_string은 문자열로 인스턴스를 만드는 메소드이고\n",
        "\n",
        "is_time_valid는 문자열이 올바른 시간인지 검사하는 메소드이다.\n",
        "\n",
        "시간은 24시까지, 분은 59분까지, 초는 60초까지 있어야한다.\n"
      ],
      "metadata": {
        "id": "dIj9riUxZrkg"
      }
    },
    {
      "cell_type": "code",
      "source": [
        "class Time:\n",
        "  def __init__(self,hour,minute,second):\n",
        "    self.hour=hour\n",
        "    self.minute=minute\n",
        "    self.second=second\n",
        "\n",
        "  @staticmethod\n",
        "  def is_time_valid(strings:str) -> bool:\n",
        "    '''형식은 23:35:59와 같이 들어옴.'''\n",
        "    hour,minute,second=map(int,strings.split(':'))\n",
        "    if 1<=hour<=24 and 1<=minute<=59 and 1<=second<=60:\n",
        "      return True\n",
        "    else:\n",
        "      return False\n",
        "\n",
        "  @classmethod # 클래스 메소드를 만듦\n",
        "  def from_string(cls,strings:str) -> str:\n",
        "    hour,minute,second=map(int,strings.split(':'))\n",
        "    return cls(hour,minute,second) # 클래스 메소드로 cls() -> Time에 접근, cls(hour,minute,secon)-> Time(hour,minute,second)\n",
        "    # 즉, 인스턴스 속성인 self.hour= hour, self.minute=minute, self.second=second를 초기화한다.\n",
        "time_string=input()\n",
        "\n",
        "if Time.is_time_valid(time_string):\n",
        "  t = Time.from_string(time_string)\n",
        "  print(t.hour,t.minute,t.second)\n",
        "else:\n",
        "  print('잘못된 시간 형식입니다.')"
      ],
      "metadata": {
        "id": "rFjFE0Fja9dB"
      },
      "execution_count": null,
      "outputs": []
    },
    {
      "cell_type": "markdown",
      "source": [
        "# 클래스 상속"
      ],
      "metadata": {
        "id": "oo6da-m1ioP4"
      }
    },
    {
      "cell_type": "code",
      "source": [
        "class Person:\n",
        "  def __init__(self):\n",
        "    print(\"Person __init__\")\n",
        "    self.hello= '안녕하세요'\n",
        "\n",
        "  def greeting(self):\n",
        "    print(self.hello)\n",
        "\n",
        "  def greeting2(self):\n",
        "    print('안녕 메소드는 상속하는가?')\n",
        "\n",
        "class Student(Person):\n",
        "  def __init__(self):\n",
        "    print(\"Student __init__\")\n",
        "    self.school='파이썬 코딩 도장'\n",
        "\n",
        "james=Student() # Person을 상속한 Student는 Person의 __init__을 호출하진 않는 것 같다. 그 이유는 Person의 __init__메소드내에 Print문이 호출되지 않았기 때문이다.\n",
        "#__init__은 상속하지 않은거같다.\n",
        "print(james.school)\n",
        "print(james.greeting2()) # 메소드는 상속한다. __init__만 상속안함.\n",
        "print(james.greeting()) # Student객체가 hello 속성이 없다고 한다. 그 이유는 __init__의 속성 self.hello가 없기 때문"
      ],
      "metadata": {
        "id": "poZEQ-qIsHrF"
      },
      "execution_count": null,
      "outputs": []
    },
    {
      "cell_type": "markdown",
      "source": [
        "이에 대한 해결을 위해서 super()로 기반 클래스의 `__init__`메소드를 호출할 수 있다.\n",
        "\n",
        "super()는 기반클래스를 가르키는 것 같다.\n",
        "\n",
        "* super().메소드()"
      ],
      "metadata": {
        "id": "U3U5VWGKwLtm"
      }
    },
    {
      "cell_type": "code",
      "source": [
        "class Person:\n",
        "  def __init__(self):\n",
        "    print('Person __init__')\n",
        "    self.hello = '안녕하세요. 기반 클래스의 __init__메소드의 속성 self.hello입니다.'\n",
        "\n",
        "class Student(Person): # Person상속\n",
        "  def __init__(self):\n",
        "    print(\"Student __init__\")\n",
        "    super().__init__() # super()로 기반 클래스의 __init__ 메소드 호출\n",
        "    self.school = '파이썬 코딩 도장'\n",
        "\n",
        "james = Student() # Person __init__과 Student __init__이 출력되는 것은 Person의 __init__ 상속한것\n",
        "print(james.school)\n",
        "print(james.hello) # Person의 __init__ 메소드의 속성의 self.hello가 출력되었습니다. 즉 super().__init__으로 Person의 __init__메소드를 호출성공"
      ],
      "metadata": {
        "id": "W5ZsTcGZxUyF"
      },
      "execution_count": null,
      "outputs": []
    },
    {
      "cell_type": "markdown",
      "source": [
        "# 반면에 파생 클래스에 `__init__` 메소드가 없다면 기반 클래스의 `__init__`이 자동으로 호출되므로 기반클래스의 속성을 사용할 수 있다."
      ],
      "metadata": {
        "id": "sFIOeVy6zKcW"
      }
    },
    {
      "cell_type": "code",
      "source": [
        "class Person:\n",
        "  def __init__(self):\n",
        "    print(\"Person __init__\")\n",
        "    self.hello = '안녕 난 기반클래스'\n",
        "\n",
        "class Student(Person):\n",
        "  pass\n",
        "\n",
        "james=Student()\n",
        "print(james.hello) # 파생클래스에 def __init__이 없다면 기반클래스의 __init__이 자동으로 호출된다."
      ],
      "metadata": {
        "id": "O438V5iQziFM"
      },
      "execution_count": null,
      "outputs": []
    },
    {
      "cell_type": "markdown",
      "source": [
        "# 메소드 오버라이딩"
      ],
      "metadata": {
        "id": "bmm2iKxoz9S0"
      }
    },
    {
      "cell_type": "code",
      "source": [
        "class Person:\n",
        "  def greeting(self):\n",
        "    print('안녕 나는 기반클래스')\n",
        "\n",
        "class Student(Person):\n",
        "  def greeting(self):\n",
        "    super().greeting() # 기반 클래스의 greeting 호출\n",
        "    print('저는 파생 클래스의 Student의 greeting 입니다.')\n",
        "\n",
        "james = Student()\n",
        "james.greeting()\n",
        "# 기반 클래스의 메소드를 호출해 중복을 줄임. 메소드 오버라이딩"
      ],
      "metadata": {
        "id": "XeoLXXYc2f3C"
      },
      "execution_count": null,
      "outputs": []
    },
    {
      "cell_type": "markdown",
      "source": [
        "# 연습문제: 리스트에 기능 추가하기\n",
        "\n",
        "리스트에 replace 메소드를 추가한 AdvancedList 클래스를 작성하시오\n",
        "\n",
        "list를 상속받고 replace 메소드는 리스트에서 특정 값으로 된 요소를 찾아서 다른 값으로 바꾸도록 만드세요."
      ],
      "metadata": {
        "id": "hhCEo8tx2fxi"
      }
    },
    {
      "cell_type": "code",
      "source": [
        "class AdvancedList(list): # list를 상속받아서 append, index, reversed 이러한 메소드에 접근할 수 있다.\n",
        "  def replace(self, old, new):\n",
        "    while old in self: # 여기서의 셀프는 누구인가..? AdvancedList() 이겠지?  아래 AdvancedList는 [1,2,3,4,5]를 상속받았으니 self는 AdvancedList([1,2,3,4,5]) 즉, x이다.\n",
        "      self[self.index(old)] = new\n",
        "# 우리가 a=list([1,2,3,4,5])로 리스트 객체를 초기화 하듯이 AdvancedList도 동일한 것이다.\n",
        "x=AdvancedList([1,2,3,4,5])"
      ],
      "metadata": {
        "id": "jTBsNj6Qd5Jb"
      },
      "execution_count": null,
      "outputs": []
    },
    {
      "cell_type": "markdown",
      "source": [
        "# 심사문제: 다중 상속 사용\n",
        "\n",
        "동물 Animal 클래스와 날개 클래스 Wing를 상속받아 새 클래스 Bird를 작성하시오.\n",
        "\n",
        "'먹다','파닥거리다','날다',True,True가 각 줄에 출력되게 만드시오."
      ],
      "metadata": {
        "id": "NTms2CUpdBJV"
      }
    },
    {
      "cell_type": "code",
      "source": [
        "class Animal:\n",
        "  def eat(self):\n",
        "    print('먹다')\n",
        "\n",
        "class Wing:\n",
        "  def flap(self):\n",
        "    print(\"파닥거리다.\")\n",
        "\n",
        "class Bird(Animal,Wing):\n",
        "  def fly(self):\n",
        "    print(\"날다\")\n",
        "\n",
        "b=Bird()\n",
        "b.eat()\n",
        "b.flap()\n",
        "b.fly()\n",
        "print(issubclass(Bird,Animal))\n",
        "print(issubclass(Bird,Wing))"
      ],
      "metadata": {
        "id": "ibym0IhXdEIN"
      },
      "execution_count": null,
      "outputs": []
    }
  ]
}